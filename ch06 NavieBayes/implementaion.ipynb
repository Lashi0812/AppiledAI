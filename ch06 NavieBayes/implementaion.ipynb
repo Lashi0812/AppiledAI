{
 "cells": [
  {
   "cell_type": "code",
   "execution_count": null,
   "outputs": [],
   "source": [
    "import sklearn.base\n",
    "from sklearn.datasets import load_iris\n",
    "\n",
    "iris = load_iris()\n",
    "iris.data[:5]"
   ],
   "metadata": {
    "collapsed": false,
    "pycharm": {
     "name": "#%%\n"
    }
   }
  },
  {
   "cell_type": "code",
   "execution_count": 8,
   "outputs": [],
   "source": [
    "from sklearn.naive_bayes import GaussianNB\n",
    "\n",
    "gnb = GaussianNB()\n",
    "y_pred = gnb.fit(iris.data, iris.target).predict(iris.data)"
   ],
   "metadata": {
    "collapsed": false,
    "pycharm": {
     "name": "#%%\n"
    }
   }
  },
  {
   "cell_type": "code",
   "execution_count": 10,
   "outputs": [
    {
     "name": "stdout",
     "output_type": "stream",
     "text": [
      "Total testing num 150 and accuracy 0.96 \n"
     ]
    }
   ],
   "source": [
    "correct = (iris.target == y_pred).sum()\n",
    "print(f\"Total testing num {iris.data.shape[0]} and accuracy {float(correct) / iris.data.shape[0]} \")"
   ],
   "metadata": {
    "collapsed": false,
    "pycharm": {
     "name": "#%%\n"
    }
   }
  },
  {
   "cell_type": "code",
   "execution_count": 13,
   "outputs": [
    {
     "data": {
      "text/plain": "0.96"
     },
     "execution_count": 13,
     "metadata": {},
     "output_type": "execute_result"
    }
   ],
   "source": [
    "gnb.score(iris.data, iris.target)"
   ],
   "metadata": {
    "collapsed": false,
    "pycharm": {
     "name": "#%%\n"
    }
   }
  },
  {
   "cell_type": "markdown",
   "source": [
    "# San Francisco Crime Classification Prediction"
   ],
   "metadata": {
    "collapsed": false,
    "pycharm": {
     "name": "#%% md\n"
    }
   }
  },
  {
   "cell_type": "code",
   "execution_count": null,
   "outputs": [],
   "source": [
    "from kaggle.api.kaggle_api_extended import KaggleApi\n",
    "\n",
    "api = KaggleApi()\n",
    "api.authenticate()"
   ],
   "metadata": {
    "collapsed": false,
    "pycharm": {
     "name": "#%%\n"
    }
   }
  },
  {
   "cell_type": "code",
   "execution_count": 45,
   "outputs": [],
   "source": [
    "api.competition_download_files(\"sf-crime\", path=\"./data\")"
   ],
   "metadata": {
    "collapsed": false,
    "pycharm": {
     "name": "#%%\n"
    }
   }
  },
  {
   "cell_type": "markdown",
   "source": [
    "# Loading Data"
   ],
   "metadata": {
    "collapsed": false,
    "pycharm": {
     "name": "#%% md\n"
    }
   }
  },
  {
   "cell_type": "code",
   "execution_count": 1,
   "outputs": [],
   "source": [
    "from zipfile import ZipFile\n",
    "import pandas as pd\n",
    "import numpy as np\n"
   ],
   "metadata": {
    "collapsed": false,
    "pycharm": {
     "name": "#%%\n"
    }
   }
  },
  {
   "cell_type": "code",
   "execution_count": 2,
   "outputs": [
    {
     "data": {
      "text/plain": "['sampleSubmission.csv.zip', 'test.csv.zip', 'train.csv.zip']"
     },
     "execution_count": 2,
     "metadata": {},
     "output_type": "execute_result"
    }
   ],
   "source": [
    "zip_file = ZipFile(\"data/sf-crime.zip\")\n",
    "zip_file.namelist()"
   ],
   "metadata": {
    "collapsed": false,
    "pycharm": {
     "name": "#%%\n"
    }
   }
  },
  {
   "cell_type": "code",
   "execution_count": 3,
   "outputs": [
    {
     "data": {
      "text/plain": "['train.csv']"
     },
     "execution_count": 3,
     "metadata": {},
     "output_type": "execute_result"
    }
   ],
   "source": [
    "train_file = ZipFile(zip_file.open(\"train.csv.zip\"))\n",
    "train_file.namelist()"
   ],
   "metadata": {
    "collapsed": false,
    "pycharm": {
     "name": "#%%\n"
    }
   }
  },
  {
   "cell_type": "code",
   "execution_count": 4,
   "outputs": [
    {
     "data": {
      "text/plain": "['test.csv']"
     },
     "execution_count": 4,
     "metadata": {},
     "output_type": "execute_result"
    }
   ],
   "source": [
    "test_file = ZipFile(zip_file.open(\"test.csv.zip\"))\n",
    "test_file.namelist()"
   ],
   "metadata": {
    "collapsed": false,
    "pycharm": {
     "name": "#%%\n"
    }
   }
  },
  {
   "cell_type": "code",
   "execution_count": 5,
   "outputs": [],
   "source": [
    "train = pd.read_csv(train_file.open(\"train.csv\"), parse_dates=[\"Dates\"])\n",
    "test = pd.read_csv(test_file.open(\"test.csv\"), parse_dates=[\"Dates\"])"
   ],
   "metadata": {
    "collapsed": false,
    "pycharm": {
     "name": "#%%\n"
    }
   }
  },
  {
   "cell_type": "code",
   "execution_count": 6,
   "outputs": [
    {
     "data": {
      "text/plain": "                Dates        Category                      Descript  \\\n0 2015-05-13 23:53:00        WARRANTS                WARRANT ARREST   \n1 2015-05-13 23:53:00  OTHER OFFENSES      TRAFFIC VIOLATION ARREST   \n2 2015-05-13 23:33:00  OTHER OFFENSES      TRAFFIC VIOLATION ARREST   \n3 2015-05-13 23:30:00   LARCENY/THEFT  GRAND THEFT FROM LOCKED AUTO   \n4 2015-05-13 23:30:00   LARCENY/THEFT  GRAND THEFT FROM LOCKED AUTO   \n\n   DayOfWeek PdDistrict      Resolution                    Address  \\\n0  Wednesday   NORTHERN  ARREST, BOOKED         OAK ST / LAGUNA ST   \n1  Wednesday   NORTHERN  ARREST, BOOKED         OAK ST / LAGUNA ST   \n2  Wednesday   NORTHERN  ARREST, BOOKED  VANNESS AV / GREENWICH ST   \n3  Wednesday   NORTHERN            NONE   1500 Block of LOMBARD ST   \n4  Wednesday       PARK            NONE  100 Block of BRODERICK ST   \n\n            X          Y  \n0 -122.425892  37.774599  \n1 -122.425892  37.774599  \n2 -122.424363  37.800414  \n3 -122.426995  37.800873  \n4 -122.438738  37.771541  ",
      "text/html": "<div>\n<style scoped>\n    .dataframe tbody tr th:only-of-type {\n        vertical-align: middle;\n    }\n\n    .dataframe tbody tr th {\n        vertical-align: top;\n    }\n\n    .dataframe thead th {\n        text-align: right;\n    }\n</style>\n<table border=\"1\" class=\"dataframe\">\n  <thead>\n    <tr style=\"text-align: right;\">\n      <th></th>\n      <th>Dates</th>\n      <th>Category</th>\n      <th>Descript</th>\n      <th>DayOfWeek</th>\n      <th>PdDistrict</th>\n      <th>Resolution</th>\n      <th>Address</th>\n      <th>X</th>\n      <th>Y</th>\n    </tr>\n  </thead>\n  <tbody>\n    <tr>\n      <th>0</th>\n      <td>2015-05-13 23:53:00</td>\n      <td>WARRANTS</td>\n      <td>WARRANT ARREST</td>\n      <td>Wednesday</td>\n      <td>NORTHERN</td>\n      <td>ARREST, BOOKED</td>\n      <td>OAK ST / LAGUNA ST</td>\n      <td>-122.425892</td>\n      <td>37.774599</td>\n    </tr>\n    <tr>\n      <th>1</th>\n      <td>2015-05-13 23:53:00</td>\n      <td>OTHER OFFENSES</td>\n      <td>TRAFFIC VIOLATION ARREST</td>\n      <td>Wednesday</td>\n      <td>NORTHERN</td>\n      <td>ARREST, BOOKED</td>\n      <td>OAK ST / LAGUNA ST</td>\n      <td>-122.425892</td>\n      <td>37.774599</td>\n    </tr>\n    <tr>\n      <th>2</th>\n      <td>2015-05-13 23:33:00</td>\n      <td>OTHER OFFENSES</td>\n      <td>TRAFFIC VIOLATION ARREST</td>\n      <td>Wednesday</td>\n      <td>NORTHERN</td>\n      <td>ARREST, BOOKED</td>\n      <td>VANNESS AV / GREENWICH ST</td>\n      <td>-122.424363</td>\n      <td>37.800414</td>\n    </tr>\n    <tr>\n      <th>3</th>\n      <td>2015-05-13 23:30:00</td>\n      <td>LARCENY/THEFT</td>\n      <td>GRAND THEFT FROM LOCKED AUTO</td>\n      <td>Wednesday</td>\n      <td>NORTHERN</td>\n      <td>NONE</td>\n      <td>1500 Block of LOMBARD ST</td>\n      <td>-122.426995</td>\n      <td>37.800873</td>\n    </tr>\n    <tr>\n      <th>4</th>\n      <td>2015-05-13 23:30:00</td>\n      <td>LARCENY/THEFT</td>\n      <td>GRAND THEFT FROM LOCKED AUTO</td>\n      <td>Wednesday</td>\n      <td>PARK</td>\n      <td>NONE</td>\n      <td>100 Block of BRODERICK ST</td>\n      <td>-122.438738</td>\n      <td>37.771541</td>\n    </tr>\n  </tbody>\n</table>\n</div>"
     },
     "execution_count": 6,
     "metadata": {},
     "output_type": "execute_result"
    }
   ],
   "source": [
    "train.head()"
   ],
   "metadata": {
    "collapsed": false,
    "pycharm": {
     "name": "#%%\n"
    }
   }
  },
  {
   "cell_type": "code",
   "execution_count": 7,
   "outputs": [
    {
     "data": {
      "text/plain": "((878049, 9), (884262, 7))"
     },
     "execution_count": 7,
     "metadata": {},
     "output_type": "execute_result"
    }
   ],
   "source": [
    "train.shape, test.shape"
   ],
   "metadata": {
    "collapsed": false,
    "pycharm": {
     "name": "#%%\n"
    }
   }
  },
  {
   "cell_type": "code",
   "execution_count": 8,
   "outputs": [
    {
     "data": {
      "text/plain": "Index(['Id', 'Dates', 'DayOfWeek', 'PdDistrict', 'Address', 'X', 'Y'], dtype='object')"
     },
     "execution_count": 8,
     "metadata": {},
     "output_type": "execute_result"
    }
   ],
   "source": [
    "test.columns"
   ],
   "metadata": {
    "collapsed": false,
    "pycharm": {
     "name": "#%%\n"
    }
   }
  },
  {
   "cell_type": "code",
   "execution_count": 9,
   "outputs": [
    {
     "name": "stdout",
     "output_type": "stream",
     "text": [
      "<class 'pandas.core.frame.DataFrame'>\n",
      "RangeIndex: 878049 entries, 0 to 878048\n",
      "Data columns (total 9 columns):\n",
      " #   Column      Non-Null Count   Dtype         \n",
      "---  ------      --------------   -----         \n",
      " 0   Dates       878049 non-null  datetime64[ns]\n",
      " 1   Category    878049 non-null  object        \n",
      " 2   Descript    878049 non-null  object        \n",
      " 3   DayOfWeek   878049 non-null  object        \n",
      " 4   PdDistrict  878049 non-null  object        \n",
      " 5   Resolution  878049 non-null  object        \n",
      " 6   Address     878049 non-null  object        \n",
      " 7   X           878049 non-null  float64       \n",
      " 8   Y           878049 non-null  float64       \n",
      "dtypes: datetime64[ns](1), float64(2), object(6)\n",
      "memory usage: 60.3+ MB\n"
     ]
    }
   ],
   "source": [
    "train.info()"
   ],
   "metadata": {
    "collapsed": false,
    "pycharm": {
     "name": "#%%\n"
    }
   }
  },
  {
   "cell_type": "code",
   "execution_count": 10,
   "outputs": [
    {
     "data": {
      "text/plain": "        ARSON  ASSAULT  BAD CHECKS  BRIBERY  BURGLARY  DISORDERLY CONDUCT  \\\n0           0        0           0        0         0                   0   \n1           0        0           0        0         0                   0   \n2           0        0           0        0         0                   0   \n3           0        0           0        0         0                   0   \n4           0        0           0        0         0                   0   \n...       ...      ...         ...      ...       ...                 ...   \n878044      0        0           0        0         0                   0   \n878045      0        0           0        0         0                   0   \n878046      0        0           0        0         0                   0   \n878047      0        0           0        0         0                   0   \n878048      0        0           0        0         0                   0   \n\n        DRIVING UNDER THE INFLUENCE  DRUG/NARCOTIC  DRUNKENNESS  EMBEZZLEMENT  \\\n0                                 0              0            0             0   \n1                                 0              0            0             0   \n2                                 0              0            0             0   \n3                                 0              0            0             0   \n4                                 0              0            0             0   \n...                             ...            ...          ...           ...   \n878044                            0              0            0             0   \n878045                            0              0            0             0   \n878046                            0              0            0             0   \n878047                            0              0            0             0   \n878048                            0              0            0             0   \n\n        ...  SEX OFFENSES NON FORCIBLE  STOLEN PROPERTY  SUICIDE  \\\n0       ...                          0                0        0   \n1       ...                          0                0        0   \n2       ...                          0                0        0   \n3       ...                          0                0        0   \n4       ...                          0                0        0   \n...     ...                        ...              ...      ...   \n878044  ...                          0                0        0   \n878045  ...                          0                0        0   \n878046  ...                          0                0        0   \n878047  ...                          0                0        0   \n878048  ...                          0                0        0   \n\n        SUSPICIOUS OCC  TREA  TRESPASS  VANDALISM  VEHICLE THEFT  WARRANTS  \\\n0                    0     0         0          0              0         1   \n1                    0     0         0          0              0         0   \n2                    0     0         0          0              0         0   \n3                    0     0         0          0              0         0   \n4                    0     0         0          0              0         0   \n...                ...   ...       ...        ...            ...       ...   \n878044               0     0         0          0              0         0   \n878045               0     0         0          0              0         0   \n878046               0     0         0          0              0         0   \n878047               0     0         0          1              0         0   \n878048               0     0         0          0              0         0   \n\n        WEAPON LAWS  \n0                 0  \n1                 0  \n2                 0  \n3                 0  \n4                 0  \n...             ...  \n878044            0  \n878045            0  \n878046            0  \n878047            0  \n878048            0  \n\n[878049 rows x 39 columns]",
      "text/html": "<div>\n<style scoped>\n    .dataframe tbody tr th:only-of-type {\n        vertical-align: middle;\n    }\n\n    .dataframe tbody tr th {\n        vertical-align: top;\n    }\n\n    .dataframe thead th {\n        text-align: right;\n    }\n</style>\n<table border=\"1\" class=\"dataframe\">\n  <thead>\n    <tr style=\"text-align: right;\">\n      <th></th>\n      <th>ARSON</th>\n      <th>ASSAULT</th>\n      <th>BAD CHECKS</th>\n      <th>BRIBERY</th>\n      <th>BURGLARY</th>\n      <th>DISORDERLY CONDUCT</th>\n      <th>DRIVING UNDER THE INFLUENCE</th>\n      <th>DRUG/NARCOTIC</th>\n      <th>DRUNKENNESS</th>\n      <th>EMBEZZLEMENT</th>\n      <th>...</th>\n      <th>SEX OFFENSES NON FORCIBLE</th>\n      <th>STOLEN PROPERTY</th>\n      <th>SUICIDE</th>\n      <th>SUSPICIOUS OCC</th>\n      <th>TREA</th>\n      <th>TRESPASS</th>\n      <th>VANDALISM</th>\n      <th>VEHICLE THEFT</th>\n      <th>WARRANTS</th>\n      <th>WEAPON LAWS</th>\n    </tr>\n  </thead>\n  <tbody>\n    <tr>\n      <th>0</th>\n      <td>0</td>\n      <td>0</td>\n      <td>0</td>\n      <td>0</td>\n      <td>0</td>\n      <td>0</td>\n      <td>0</td>\n      <td>0</td>\n      <td>0</td>\n      <td>0</td>\n      <td>...</td>\n      <td>0</td>\n      <td>0</td>\n      <td>0</td>\n      <td>0</td>\n      <td>0</td>\n      <td>0</td>\n      <td>0</td>\n      <td>0</td>\n      <td>1</td>\n      <td>0</td>\n    </tr>\n    <tr>\n      <th>1</th>\n      <td>0</td>\n      <td>0</td>\n      <td>0</td>\n      <td>0</td>\n      <td>0</td>\n      <td>0</td>\n      <td>0</td>\n      <td>0</td>\n      <td>0</td>\n      <td>0</td>\n      <td>...</td>\n      <td>0</td>\n      <td>0</td>\n      <td>0</td>\n      <td>0</td>\n      <td>0</td>\n      <td>0</td>\n      <td>0</td>\n      <td>0</td>\n      <td>0</td>\n      <td>0</td>\n    </tr>\n    <tr>\n      <th>2</th>\n      <td>0</td>\n      <td>0</td>\n      <td>0</td>\n      <td>0</td>\n      <td>0</td>\n      <td>0</td>\n      <td>0</td>\n      <td>0</td>\n      <td>0</td>\n      <td>0</td>\n      <td>...</td>\n      <td>0</td>\n      <td>0</td>\n      <td>0</td>\n      <td>0</td>\n      <td>0</td>\n      <td>0</td>\n      <td>0</td>\n      <td>0</td>\n      <td>0</td>\n      <td>0</td>\n    </tr>\n    <tr>\n      <th>3</th>\n      <td>0</td>\n      <td>0</td>\n      <td>0</td>\n      <td>0</td>\n      <td>0</td>\n      <td>0</td>\n      <td>0</td>\n      <td>0</td>\n      <td>0</td>\n      <td>0</td>\n      <td>...</td>\n      <td>0</td>\n      <td>0</td>\n      <td>0</td>\n      <td>0</td>\n      <td>0</td>\n      <td>0</td>\n      <td>0</td>\n      <td>0</td>\n      <td>0</td>\n      <td>0</td>\n    </tr>\n    <tr>\n      <th>4</th>\n      <td>0</td>\n      <td>0</td>\n      <td>0</td>\n      <td>0</td>\n      <td>0</td>\n      <td>0</td>\n      <td>0</td>\n      <td>0</td>\n      <td>0</td>\n      <td>0</td>\n      <td>...</td>\n      <td>0</td>\n      <td>0</td>\n      <td>0</td>\n      <td>0</td>\n      <td>0</td>\n      <td>0</td>\n      <td>0</td>\n      <td>0</td>\n      <td>0</td>\n      <td>0</td>\n    </tr>\n    <tr>\n      <th>...</th>\n      <td>...</td>\n      <td>...</td>\n      <td>...</td>\n      <td>...</td>\n      <td>...</td>\n      <td>...</td>\n      <td>...</td>\n      <td>...</td>\n      <td>...</td>\n      <td>...</td>\n      <td>...</td>\n      <td>...</td>\n      <td>...</td>\n      <td>...</td>\n      <td>...</td>\n      <td>...</td>\n      <td>...</td>\n      <td>...</td>\n      <td>...</td>\n      <td>...</td>\n      <td>...</td>\n    </tr>\n    <tr>\n      <th>878044</th>\n      <td>0</td>\n      <td>0</td>\n      <td>0</td>\n      <td>0</td>\n      <td>0</td>\n      <td>0</td>\n      <td>0</td>\n      <td>0</td>\n      <td>0</td>\n      <td>0</td>\n      <td>...</td>\n      <td>0</td>\n      <td>0</td>\n      <td>0</td>\n      <td>0</td>\n      <td>0</td>\n      <td>0</td>\n      <td>0</td>\n      <td>0</td>\n      <td>0</td>\n      <td>0</td>\n    </tr>\n    <tr>\n      <th>878045</th>\n      <td>0</td>\n      <td>0</td>\n      <td>0</td>\n      <td>0</td>\n      <td>0</td>\n      <td>0</td>\n      <td>0</td>\n      <td>0</td>\n      <td>0</td>\n      <td>0</td>\n      <td>...</td>\n      <td>0</td>\n      <td>0</td>\n      <td>0</td>\n      <td>0</td>\n      <td>0</td>\n      <td>0</td>\n      <td>0</td>\n      <td>0</td>\n      <td>0</td>\n      <td>0</td>\n    </tr>\n    <tr>\n      <th>878046</th>\n      <td>0</td>\n      <td>0</td>\n      <td>0</td>\n      <td>0</td>\n      <td>0</td>\n      <td>0</td>\n      <td>0</td>\n      <td>0</td>\n      <td>0</td>\n      <td>0</td>\n      <td>...</td>\n      <td>0</td>\n      <td>0</td>\n      <td>0</td>\n      <td>0</td>\n      <td>0</td>\n      <td>0</td>\n      <td>0</td>\n      <td>0</td>\n      <td>0</td>\n      <td>0</td>\n    </tr>\n    <tr>\n      <th>878047</th>\n      <td>0</td>\n      <td>0</td>\n      <td>0</td>\n      <td>0</td>\n      <td>0</td>\n      <td>0</td>\n      <td>0</td>\n      <td>0</td>\n      <td>0</td>\n      <td>0</td>\n      <td>...</td>\n      <td>0</td>\n      <td>0</td>\n      <td>0</td>\n      <td>0</td>\n      <td>0</td>\n      <td>0</td>\n      <td>1</td>\n      <td>0</td>\n      <td>0</td>\n      <td>0</td>\n    </tr>\n    <tr>\n      <th>878048</th>\n      <td>0</td>\n      <td>0</td>\n      <td>0</td>\n      <td>0</td>\n      <td>0</td>\n      <td>0</td>\n      <td>0</td>\n      <td>0</td>\n      <td>0</td>\n      <td>0</td>\n      <td>...</td>\n      <td>0</td>\n      <td>0</td>\n      <td>0</td>\n      <td>0</td>\n      <td>0</td>\n      <td>0</td>\n      <td>0</td>\n      <td>0</td>\n      <td>0</td>\n      <td>0</td>\n    </tr>\n  </tbody>\n</table>\n<p>878049 rows × 39 columns</p>\n</div>"
     },
     "execution_count": 10,
     "metadata": {},
     "output_type": "execute_result"
    }
   ],
   "source": [
    "pd.get_dummies(train[\"Category\"])"
   ],
   "metadata": {
    "collapsed": false,
    "pycharm": {
     "name": "#%%\n"
    }
   }
  },
  {
   "cell_type": "code",
   "execution_count": 11,
   "outputs": [
    {
     "data": {
      "text/plain": "39"
     },
     "execution_count": 11,
     "metadata": {},
     "output_type": "execute_result"
    }
   ],
   "source": [
    "train[\"Category\"].nunique()"
   ],
   "metadata": {
    "collapsed": false,
    "pycharm": {
     "name": "#%%\n"
    }
   }
  },
  {
   "cell_type": "code",
   "execution_count": 12,
   "outputs": [],
   "source": [
    "from sklearn.preprocessing import OneHotEncoder, FunctionTransformer"
   ],
   "metadata": {
    "collapsed": false,
    "pycharm": {
     "name": "#%%\n"
    }
   }
  },
  {
   "cell_type": "code",
   "execution_count": 13,
   "outputs": [
    {
     "data": {
      "text/plain": "array([[0., 0., 0., ..., 0., 1., 0.],\n       [0., 0., 0., ..., 0., 0., 0.],\n       [0., 0., 0., ..., 0., 0., 0.],\n       ...,\n       [0., 0., 0., ..., 0., 0., 0.],\n       [0., 0., 0., ..., 0., 0., 0.],\n       [0., 0., 0., ..., 0., 0., 0.]])"
     },
     "execution_count": 13,
     "metadata": {},
     "output_type": "execute_result"
    }
   ],
   "source": [
    "ohe = OneHotEncoder()\n",
    "ohe.fit_transform(train[[\"Category\"]]).toarray()"
   ],
   "metadata": {
    "collapsed": false,
    "pycharm": {
     "name": "#%%\n"
    }
   }
  },
  {
   "cell_type": "code",
   "execution_count": 14,
   "outputs": [],
   "source": [
    "transformer = FunctionTransformer(func=pd.DataFrame.apply,\n",
    "                                  kw_args={\"func\": pd.DataFrame.astype,\n",
    "                                           \"dtype\": \"category\"})"
   ],
   "metadata": {
    "collapsed": false,
    "pycharm": {
     "name": "#%%\n"
    }
   }
  },
  {
   "cell_type": "code",
   "execution_count": 15,
   "outputs": [
    {
     "data": {
      "text/plain": "                     Dates                Category  \\\n0      2015-05-13 23:53:00                WARRANTS   \n1      2015-05-13 23:53:00          OTHER OFFENSES   \n2      2015-05-13 23:33:00          OTHER OFFENSES   \n3      2015-05-13 23:30:00           LARCENY/THEFT   \n4      2015-05-13 23:30:00           LARCENY/THEFT   \n...                    ...                     ...   \n878044 2003-01-06 00:15:00                 ROBBERY   \n878045 2003-01-06 00:01:00           LARCENY/THEFT   \n878046 2003-01-06 00:01:00           LARCENY/THEFT   \n878047 2003-01-06 00:01:00               VANDALISM   \n878048 2003-01-06 00:01:00  FORGERY/COUNTERFEITING   \n\n                                         Descript  DayOfWeek PdDistrict  \\\n0                                  WARRANT ARREST  Wednesday   NORTHERN   \n1                        TRAFFIC VIOLATION ARREST  Wednesday   NORTHERN   \n2                        TRAFFIC VIOLATION ARREST  Wednesday   NORTHERN   \n3                    GRAND THEFT FROM LOCKED AUTO  Wednesday   NORTHERN   \n4                    GRAND THEFT FROM LOCKED AUTO  Wednesday       PARK   \n...                                           ...        ...        ...   \n878044           ROBBERY ON THE STREET WITH A GUN     Monday    TARAVAL   \n878045               GRAND THEFT FROM LOCKED AUTO     Monday  INGLESIDE   \n878046               GRAND THEFT FROM LOCKED AUTO     Monday   SOUTHERN   \n878047  MALICIOUS MISCHIEF, VANDALISM OF VEHICLES     Monday   SOUTHERN   \n878048                   CHECKS, FORGERY (FELONY)     Monday    BAYVIEW   \n\n            Resolution                     Address           X          Y  \n0       ARREST, BOOKED          OAK ST / LAGUNA ST -122.425892  37.774599  \n1       ARREST, BOOKED          OAK ST / LAGUNA ST -122.425892  37.774599  \n2       ARREST, BOOKED   VANNESS AV / GREENWICH ST -122.424363  37.800414  \n3                 NONE    1500 Block of LOMBARD ST -122.426995  37.800873  \n4                 NONE   100 Block of BRODERICK ST -122.438738  37.771541  \n...                ...                         ...         ...        ...  \n878044            NONE  FARALLONES ST / CAPITOL AV -122.459033  37.714056  \n878045            NONE        600 Block of EDNA ST -122.447364  37.731948  \n878046            NONE          5TH ST / FOLSOM ST -122.403390  37.780266  \n878047            NONE        TOWNSEND ST / 2ND ST -122.390531  37.780607  \n878048            NONE    1800 Block of NEWCOMB AV -122.394926  37.738212  \n\n[878049 rows x 9 columns]",
      "text/html": "<div>\n<style scoped>\n    .dataframe tbody tr th:only-of-type {\n        vertical-align: middle;\n    }\n\n    .dataframe tbody tr th {\n        vertical-align: top;\n    }\n\n    .dataframe thead th {\n        text-align: right;\n    }\n</style>\n<table border=\"1\" class=\"dataframe\">\n  <thead>\n    <tr style=\"text-align: right;\">\n      <th></th>\n      <th>Dates</th>\n      <th>Category</th>\n      <th>Descript</th>\n      <th>DayOfWeek</th>\n      <th>PdDistrict</th>\n      <th>Resolution</th>\n      <th>Address</th>\n      <th>X</th>\n      <th>Y</th>\n    </tr>\n  </thead>\n  <tbody>\n    <tr>\n      <th>0</th>\n      <td>2015-05-13 23:53:00</td>\n      <td>WARRANTS</td>\n      <td>WARRANT ARREST</td>\n      <td>Wednesday</td>\n      <td>NORTHERN</td>\n      <td>ARREST, BOOKED</td>\n      <td>OAK ST / LAGUNA ST</td>\n      <td>-122.425892</td>\n      <td>37.774599</td>\n    </tr>\n    <tr>\n      <th>1</th>\n      <td>2015-05-13 23:53:00</td>\n      <td>OTHER OFFENSES</td>\n      <td>TRAFFIC VIOLATION ARREST</td>\n      <td>Wednesday</td>\n      <td>NORTHERN</td>\n      <td>ARREST, BOOKED</td>\n      <td>OAK ST / LAGUNA ST</td>\n      <td>-122.425892</td>\n      <td>37.774599</td>\n    </tr>\n    <tr>\n      <th>2</th>\n      <td>2015-05-13 23:33:00</td>\n      <td>OTHER OFFENSES</td>\n      <td>TRAFFIC VIOLATION ARREST</td>\n      <td>Wednesday</td>\n      <td>NORTHERN</td>\n      <td>ARREST, BOOKED</td>\n      <td>VANNESS AV / GREENWICH ST</td>\n      <td>-122.424363</td>\n      <td>37.800414</td>\n    </tr>\n    <tr>\n      <th>3</th>\n      <td>2015-05-13 23:30:00</td>\n      <td>LARCENY/THEFT</td>\n      <td>GRAND THEFT FROM LOCKED AUTO</td>\n      <td>Wednesday</td>\n      <td>NORTHERN</td>\n      <td>NONE</td>\n      <td>1500 Block of LOMBARD ST</td>\n      <td>-122.426995</td>\n      <td>37.800873</td>\n    </tr>\n    <tr>\n      <th>4</th>\n      <td>2015-05-13 23:30:00</td>\n      <td>LARCENY/THEFT</td>\n      <td>GRAND THEFT FROM LOCKED AUTO</td>\n      <td>Wednesday</td>\n      <td>PARK</td>\n      <td>NONE</td>\n      <td>100 Block of BRODERICK ST</td>\n      <td>-122.438738</td>\n      <td>37.771541</td>\n    </tr>\n    <tr>\n      <th>...</th>\n      <td>...</td>\n      <td>...</td>\n      <td>...</td>\n      <td>...</td>\n      <td>...</td>\n      <td>...</td>\n      <td>...</td>\n      <td>...</td>\n      <td>...</td>\n    </tr>\n    <tr>\n      <th>878044</th>\n      <td>2003-01-06 00:15:00</td>\n      <td>ROBBERY</td>\n      <td>ROBBERY ON THE STREET WITH A GUN</td>\n      <td>Monday</td>\n      <td>TARAVAL</td>\n      <td>NONE</td>\n      <td>FARALLONES ST / CAPITOL AV</td>\n      <td>-122.459033</td>\n      <td>37.714056</td>\n    </tr>\n    <tr>\n      <th>878045</th>\n      <td>2003-01-06 00:01:00</td>\n      <td>LARCENY/THEFT</td>\n      <td>GRAND THEFT FROM LOCKED AUTO</td>\n      <td>Monday</td>\n      <td>INGLESIDE</td>\n      <td>NONE</td>\n      <td>600 Block of EDNA ST</td>\n      <td>-122.447364</td>\n      <td>37.731948</td>\n    </tr>\n    <tr>\n      <th>878046</th>\n      <td>2003-01-06 00:01:00</td>\n      <td>LARCENY/THEFT</td>\n      <td>GRAND THEFT FROM LOCKED AUTO</td>\n      <td>Monday</td>\n      <td>SOUTHERN</td>\n      <td>NONE</td>\n      <td>5TH ST / FOLSOM ST</td>\n      <td>-122.403390</td>\n      <td>37.780266</td>\n    </tr>\n    <tr>\n      <th>878047</th>\n      <td>2003-01-06 00:01:00</td>\n      <td>VANDALISM</td>\n      <td>MALICIOUS MISCHIEF, VANDALISM OF VEHICLES</td>\n      <td>Monday</td>\n      <td>SOUTHERN</td>\n      <td>NONE</td>\n      <td>TOWNSEND ST / 2ND ST</td>\n      <td>-122.390531</td>\n      <td>37.780607</td>\n    </tr>\n    <tr>\n      <th>878048</th>\n      <td>2003-01-06 00:01:00</td>\n      <td>FORGERY/COUNTERFEITING</td>\n      <td>CHECKS, FORGERY (FELONY)</td>\n      <td>Monday</td>\n      <td>BAYVIEW</td>\n      <td>NONE</td>\n      <td>1800 Block of NEWCOMB AV</td>\n      <td>-122.394926</td>\n      <td>37.738212</td>\n    </tr>\n  </tbody>\n</table>\n<p>878049 rows × 9 columns</p>\n</div>"
     },
     "execution_count": 15,
     "metadata": {},
     "output_type": "execute_result"
    }
   ],
   "source": [
    "transformer.transform(train)"
   ],
   "metadata": {
    "collapsed": false,
    "pycharm": {
     "name": "#%%\n"
    }
   }
  },
  {
   "cell_type": "code",
   "execution_count": 16,
   "outputs": [
    {
     "name": "stdout",
     "output_type": "stream",
     "text": [
      "Dates         datetime64[ns]\n",
      "Category              object\n",
      "Descript              object\n",
      "DayOfWeek             object\n",
      "PdDistrict            object\n",
      "Resolution            object\n",
      "Address               object\n",
      "X                    float64\n",
      "Y                    float64\n",
      "dtype: object\n"
     ]
    }
   ],
   "source": [
    "print(train.dtypes)"
   ],
   "metadata": {
    "collapsed": false,
    "pycharm": {
     "name": "#%%\n"
    }
   }
  },
  {
   "cell_type": "code",
   "execution_count": 110,
   "outputs": [],
   "source": [
    "from sklearn.pipeline import Pipeline,make_pipeline\n",
    "from sklearn.compose import make_column_transformer, make_column_selector\n",
    "from sklearn.naive_bayes import BernoulliNB\n",
    "from sklearn.metrics import log_loss\n",
    "from sklearn.model_selection import train_test_split"
   ],
   "metadata": {
    "collapsed": false,
    "pycharm": {
     "name": "#%%\n"
    }
   }
  },
  {
   "cell_type": "code",
   "execution_count": 89,
   "outputs": [],
   "source": [
    "hour_transformer = FunctionTransformer(func=pd.DataFrame.assign,\n",
    "                                       kw_args={\"hour\":lambda x:x.Dates.dt.hour,\n",
    "                                                \"month\":lambda x:x.Dates.dt.month,\n",
    "                                                \"year\":lambda x:x.Dates.dt.year})"
   ],
   "metadata": {
    "collapsed": false,
    "pycharm": {
     "name": "#%%\n"
    }
   }
  },
  {
   "cell_type": "code",
   "execution_count": 90,
   "outputs": [
    {
     "data": {
      "text/plain": "                     Dates                Category  \\\n0      2015-05-13 23:53:00                WARRANTS   \n1      2015-05-13 23:53:00          OTHER OFFENSES   \n2      2015-05-13 23:33:00          OTHER OFFENSES   \n3      2015-05-13 23:30:00           LARCENY/THEFT   \n4      2015-05-13 23:30:00           LARCENY/THEFT   \n...                    ...                     ...   \n878044 2003-01-06 00:15:00                 ROBBERY   \n878045 2003-01-06 00:01:00           LARCENY/THEFT   \n878046 2003-01-06 00:01:00           LARCENY/THEFT   \n878047 2003-01-06 00:01:00               VANDALISM   \n878048 2003-01-06 00:01:00  FORGERY/COUNTERFEITING   \n\n                                         Descript  DayOfWeek PdDistrict  \\\n0                                  WARRANT ARREST  Wednesday   NORTHERN   \n1                        TRAFFIC VIOLATION ARREST  Wednesday   NORTHERN   \n2                        TRAFFIC VIOLATION ARREST  Wednesday   NORTHERN   \n3                    GRAND THEFT FROM LOCKED AUTO  Wednesday   NORTHERN   \n4                    GRAND THEFT FROM LOCKED AUTO  Wednesday       PARK   \n...                                           ...        ...        ...   \n878044           ROBBERY ON THE STREET WITH A GUN     Monday    TARAVAL   \n878045               GRAND THEFT FROM LOCKED AUTO     Monday  INGLESIDE   \n878046               GRAND THEFT FROM LOCKED AUTO     Monday   SOUTHERN   \n878047  MALICIOUS MISCHIEF, VANDALISM OF VEHICLES     Monday   SOUTHERN   \n878048                   CHECKS, FORGERY (FELONY)     Monday    BAYVIEW   \n\n            Resolution                     Address           X          Y  \\\n0       ARREST, BOOKED          OAK ST / LAGUNA ST -122.425892  37.774599   \n1       ARREST, BOOKED          OAK ST / LAGUNA ST -122.425892  37.774599   \n2       ARREST, BOOKED   VANNESS AV / GREENWICH ST -122.424363  37.800414   \n3                 NONE    1500 Block of LOMBARD ST -122.426995  37.800873   \n4                 NONE   100 Block of BRODERICK ST -122.438738  37.771541   \n...                ...                         ...         ...        ...   \n878044            NONE  FARALLONES ST / CAPITOL AV -122.459033  37.714056   \n878045            NONE        600 Block of EDNA ST -122.447364  37.731948   \n878046            NONE          5TH ST / FOLSOM ST -122.403390  37.780266   \n878047            NONE        TOWNSEND ST / 2ND ST -122.390531  37.780607   \n878048            NONE    1800 Block of NEWCOMB AV -122.394926  37.738212   \n\n        hour  month  year  \n0         23      5  2015  \n1         23      5  2015  \n2         23      5  2015  \n3         23      5  2015  \n4         23      5  2015  \n...      ...    ...   ...  \n878044     0      1  2003  \n878045     0      1  2003  \n878046     0      1  2003  \n878047     0      1  2003  \n878048     0      1  2003  \n\n[878049 rows x 12 columns]",
      "text/html": "<div>\n<style scoped>\n    .dataframe tbody tr th:only-of-type {\n        vertical-align: middle;\n    }\n\n    .dataframe tbody tr th {\n        vertical-align: top;\n    }\n\n    .dataframe thead th {\n        text-align: right;\n    }\n</style>\n<table border=\"1\" class=\"dataframe\">\n  <thead>\n    <tr style=\"text-align: right;\">\n      <th></th>\n      <th>Dates</th>\n      <th>Category</th>\n      <th>Descript</th>\n      <th>DayOfWeek</th>\n      <th>PdDistrict</th>\n      <th>Resolution</th>\n      <th>Address</th>\n      <th>X</th>\n      <th>Y</th>\n      <th>hour</th>\n      <th>month</th>\n      <th>year</th>\n    </tr>\n  </thead>\n  <tbody>\n    <tr>\n      <th>0</th>\n      <td>2015-05-13 23:53:00</td>\n      <td>WARRANTS</td>\n      <td>WARRANT ARREST</td>\n      <td>Wednesday</td>\n      <td>NORTHERN</td>\n      <td>ARREST, BOOKED</td>\n      <td>OAK ST / LAGUNA ST</td>\n      <td>-122.425892</td>\n      <td>37.774599</td>\n      <td>23</td>\n      <td>5</td>\n      <td>2015</td>\n    </tr>\n    <tr>\n      <th>1</th>\n      <td>2015-05-13 23:53:00</td>\n      <td>OTHER OFFENSES</td>\n      <td>TRAFFIC VIOLATION ARREST</td>\n      <td>Wednesday</td>\n      <td>NORTHERN</td>\n      <td>ARREST, BOOKED</td>\n      <td>OAK ST / LAGUNA ST</td>\n      <td>-122.425892</td>\n      <td>37.774599</td>\n      <td>23</td>\n      <td>5</td>\n      <td>2015</td>\n    </tr>\n    <tr>\n      <th>2</th>\n      <td>2015-05-13 23:33:00</td>\n      <td>OTHER OFFENSES</td>\n      <td>TRAFFIC VIOLATION ARREST</td>\n      <td>Wednesday</td>\n      <td>NORTHERN</td>\n      <td>ARREST, BOOKED</td>\n      <td>VANNESS AV / GREENWICH ST</td>\n      <td>-122.424363</td>\n      <td>37.800414</td>\n      <td>23</td>\n      <td>5</td>\n      <td>2015</td>\n    </tr>\n    <tr>\n      <th>3</th>\n      <td>2015-05-13 23:30:00</td>\n      <td>LARCENY/THEFT</td>\n      <td>GRAND THEFT FROM LOCKED AUTO</td>\n      <td>Wednesday</td>\n      <td>NORTHERN</td>\n      <td>NONE</td>\n      <td>1500 Block of LOMBARD ST</td>\n      <td>-122.426995</td>\n      <td>37.800873</td>\n      <td>23</td>\n      <td>5</td>\n      <td>2015</td>\n    </tr>\n    <tr>\n      <th>4</th>\n      <td>2015-05-13 23:30:00</td>\n      <td>LARCENY/THEFT</td>\n      <td>GRAND THEFT FROM LOCKED AUTO</td>\n      <td>Wednesday</td>\n      <td>PARK</td>\n      <td>NONE</td>\n      <td>100 Block of BRODERICK ST</td>\n      <td>-122.438738</td>\n      <td>37.771541</td>\n      <td>23</td>\n      <td>5</td>\n      <td>2015</td>\n    </tr>\n    <tr>\n      <th>...</th>\n      <td>...</td>\n      <td>...</td>\n      <td>...</td>\n      <td>...</td>\n      <td>...</td>\n      <td>...</td>\n      <td>...</td>\n      <td>...</td>\n      <td>...</td>\n      <td>...</td>\n      <td>...</td>\n      <td>...</td>\n    </tr>\n    <tr>\n      <th>878044</th>\n      <td>2003-01-06 00:15:00</td>\n      <td>ROBBERY</td>\n      <td>ROBBERY ON THE STREET WITH A GUN</td>\n      <td>Monday</td>\n      <td>TARAVAL</td>\n      <td>NONE</td>\n      <td>FARALLONES ST / CAPITOL AV</td>\n      <td>-122.459033</td>\n      <td>37.714056</td>\n      <td>0</td>\n      <td>1</td>\n      <td>2003</td>\n    </tr>\n    <tr>\n      <th>878045</th>\n      <td>2003-01-06 00:01:00</td>\n      <td>LARCENY/THEFT</td>\n      <td>GRAND THEFT FROM LOCKED AUTO</td>\n      <td>Monday</td>\n      <td>INGLESIDE</td>\n      <td>NONE</td>\n      <td>600 Block of EDNA ST</td>\n      <td>-122.447364</td>\n      <td>37.731948</td>\n      <td>0</td>\n      <td>1</td>\n      <td>2003</td>\n    </tr>\n    <tr>\n      <th>878046</th>\n      <td>2003-01-06 00:01:00</td>\n      <td>LARCENY/THEFT</td>\n      <td>GRAND THEFT FROM LOCKED AUTO</td>\n      <td>Monday</td>\n      <td>SOUTHERN</td>\n      <td>NONE</td>\n      <td>5TH ST / FOLSOM ST</td>\n      <td>-122.403390</td>\n      <td>37.780266</td>\n      <td>0</td>\n      <td>1</td>\n      <td>2003</td>\n    </tr>\n    <tr>\n      <th>878047</th>\n      <td>2003-01-06 00:01:00</td>\n      <td>VANDALISM</td>\n      <td>MALICIOUS MISCHIEF, VANDALISM OF VEHICLES</td>\n      <td>Monday</td>\n      <td>SOUTHERN</td>\n      <td>NONE</td>\n      <td>TOWNSEND ST / 2ND ST</td>\n      <td>-122.390531</td>\n      <td>37.780607</td>\n      <td>0</td>\n      <td>1</td>\n      <td>2003</td>\n    </tr>\n    <tr>\n      <th>878048</th>\n      <td>2003-01-06 00:01:00</td>\n      <td>FORGERY/COUNTERFEITING</td>\n      <td>CHECKS, FORGERY (FELONY)</td>\n      <td>Monday</td>\n      <td>BAYVIEW</td>\n      <td>NONE</td>\n      <td>1800 Block of NEWCOMB AV</td>\n      <td>-122.394926</td>\n      <td>37.738212</td>\n      <td>0</td>\n      <td>1</td>\n      <td>2003</td>\n    </tr>\n  </tbody>\n</table>\n<p>878049 rows × 12 columns</p>\n</div>"
     },
     "execution_count": 90,
     "metadata": {},
     "output_type": "execute_result"
    }
   ],
   "source": [
    "hour_transformer.fit_transform(train)"
   ],
   "metadata": {
    "collapsed": false,
    "pycharm": {
     "name": "#%%\n"
    }
   }
  },
  {
   "cell_type": "code",
   "execution_count": 98,
   "outputs": [
    {
     "data": {
      "text/plain": "{'DayOfWeek': 'category',\n 'PdDistrict': 'category',\n 'Resolution': 'category',\n 'hour': 'category',\n 'month': 'category',\n 'year': 'category'}"
     },
     "execution_count": 98,
     "metadata": {},
     "output_type": "execute_result"
    }
   ],
   "source": [
    "cat_type = ['DayOfWeek', 'PdDistrict', 'Resolution','hour','month','year']\n",
    "convert_col_type = dict(zip(cat_type, [\"category\"] * len(cat_type)))\n",
    "convert_col_type"
   ],
   "metadata": {
    "collapsed": false,
    "pycharm": {
     "name": "#%%\n"
    }
   }
  },
  {
   "cell_type": "code",
   "execution_count": null,
   "outputs": [],
   "source": [
    "type_transformer = FunctionTransformer(func=pd.DataFrame.astype,\n",
    "                                  kw_args={\"dtype\": convert_col_type})\n",
    "print(type_transformer.transform(train).dtypes)"
   ],
   "metadata": {
    "collapsed": false,
    "pycharm": {
     "name": "#%%\n"
    }
   }
  },
  {
   "cell_type": "code",
   "execution_count": 82,
   "outputs": [],
   "source": [
    "ct = make_column_transformer(\n",
    "    (OneHotEncoder(drop=\"first\"), make_column_selector(dtype_include=\"category\")),remainder=\"drop\",verbose=4)"
   ],
   "metadata": {
    "collapsed": false,
    "pycharm": {
     "name": "#%%\n"
    }
   }
  },
  {
   "cell_type": "code",
   "execution_count": 127,
   "outputs": [
    {
     "data": {
      "text/plain": "Pipeline(steps=[('functiontransformer-1',\n                 FunctionTransformer(func=<function DataFrame.assign at 0x000001CE458656C0>,\n                                     kw_args={'hour': <function <lambda> at 0x000001CEB7F15440>,\n                                              'month': <function <lambda> at 0x000001CEB7F14F40>,\n                                              'year': <function <lambda> at 0x000001CEB7F15300>})),\n                ('functiontransformer-2',\n                 FunctionTransformer(func=<function NDFrame.astype at 0x000001CE4...\n                                     kw_args={'dtype': {'DayOfWeek': 'category',\n                                                        'PdDistrict': 'category',\n                                                        'Resolution': 'category',\n                                                        'hour': 'category',\n                                                        'month': 'category',\n                                                        'year': 'category'}})),\n                ('columntransformer',\n                 ColumnTransformer(transformers=[('onehotencoder',\n                                                  OneHotEncoder(drop='first'),\n                                                  <sklearn.compose._column_transformer.make_column_selector object at 0x000001CE478F7010>)],\n                                   verbose=4)),\n                ('bernoullinb', BernoulliNB())],\n         verbose=3)",
      "text/html": "<style>#sk-container-id-13 {color: black;background-color: white;}#sk-container-id-13 pre{padding: 0;}#sk-container-id-13 div.sk-toggleable {background-color: white;}#sk-container-id-13 label.sk-toggleable__label {cursor: pointer;display: block;width: 100%;margin-bottom: 0;padding: 0.3em;box-sizing: border-box;text-align: center;}#sk-container-id-13 label.sk-toggleable__label-arrow:before {content: \"▸\";float: left;margin-right: 0.25em;color: #696969;}#sk-container-id-13 label.sk-toggleable__label-arrow:hover:before {color: black;}#sk-container-id-13 div.sk-estimator:hover label.sk-toggleable__label-arrow:before {color: black;}#sk-container-id-13 div.sk-toggleable__content {max-height: 0;max-width: 0;overflow: hidden;text-align: left;background-color: #f0f8ff;}#sk-container-id-13 div.sk-toggleable__content pre {margin: 0.2em;color: black;border-radius: 0.25em;background-color: #f0f8ff;}#sk-container-id-13 input.sk-toggleable__control:checked~div.sk-toggleable__content {max-height: 200px;max-width: 100%;overflow: auto;}#sk-container-id-13 input.sk-toggleable__control:checked~label.sk-toggleable__label-arrow:before {content: \"▾\";}#sk-container-id-13 div.sk-estimator input.sk-toggleable__control:checked~label.sk-toggleable__label {background-color: #d4ebff;}#sk-container-id-13 div.sk-label input.sk-toggleable__control:checked~label.sk-toggleable__label {background-color: #d4ebff;}#sk-container-id-13 input.sk-hidden--visually {border: 0;clip: rect(1px 1px 1px 1px);clip: rect(1px, 1px, 1px, 1px);height: 1px;margin: -1px;overflow: hidden;padding: 0;position: absolute;width: 1px;}#sk-container-id-13 div.sk-estimator {font-family: monospace;background-color: #f0f8ff;border: 1px dotted black;border-radius: 0.25em;box-sizing: border-box;margin-bottom: 0.5em;}#sk-container-id-13 div.sk-estimator:hover {background-color: #d4ebff;}#sk-container-id-13 div.sk-parallel-item::after {content: \"\";width: 100%;border-bottom: 1px solid gray;flex-grow: 1;}#sk-container-id-13 div.sk-label:hover label.sk-toggleable__label {background-color: #d4ebff;}#sk-container-id-13 div.sk-serial::before {content: \"\";position: absolute;border-left: 1px solid gray;box-sizing: border-box;top: 0;bottom: 0;left: 50%;z-index: 0;}#sk-container-id-13 div.sk-serial {display: flex;flex-direction: column;align-items: center;background-color: white;padding-right: 0.2em;padding-left: 0.2em;position: relative;}#sk-container-id-13 div.sk-item {position: relative;z-index: 1;}#sk-container-id-13 div.sk-parallel {display: flex;align-items: stretch;justify-content: center;background-color: white;position: relative;}#sk-container-id-13 div.sk-item::before, #sk-container-id-13 div.sk-parallel-item::before {content: \"\";position: absolute;border-left: 1px solid gray;box-sizing: border-box;top: 0;bottom: 0;left: 50%;z-index: -1;}#sk-container-id-13 div.sk-parallel-item {display: flex;flex-direction: column;z-index: 1;position: relative;background-color: white;}#sk-container-id-13 div.sk-parallel-item:first-child::after {align-self: flex-end;width: 50%;}#sk-container-id-13 div.sk-parallel-item:last-child::after {align-self: flex-start;width: 50%;}#sk-container-id-13 div.sk-parallel-item:only-child::after {width: 0;}#sk-container-id-13 div.sk-dashed-wrapped {border: 1px dashed gray;margin: 0 0.4em 0.5em 0.4em;box-sizing: border-box;padding-bottom: 0.4em;background-color: white;}#sk-container-id-13 div.sk-label label {font-family: monospace;font-weight: bold;display: inline-block;line-height: 1.2em;}#sk-container-id-13 div.sk-label-container {text-align: center;}#sk-container-id-13 div.sk-container {/* jupyter's `normalize.less` sets `[hidden] { display: none; }` but bootstrap.min.css set `[hidden] { display: none !important; }` so we also need the `!important` here to be able to override the default hidden behavior on the sphinx rendered scikit-learn.org. See: https://github.com/scikit-learn/scikit-learn/issues/21755 */display: inline-block !important;position: relative;}#sk-container-id-13 div.sk-text-repr-fallback {display: none;}</style><div id=\"sk-container-id-13\" class=\"sk-top-container\"><div class=\"sk-text-repr-fallback\"><pre>Pipeline(steps=[(&#x27;functiontransformer-1&#x27;,\n                 FunctionTransformer(func=&lt;function DataFrame.assign at 0x000001CE458656C0&gt;,\n                                     kw_args={&#x27;hour&#x27;: &lt;function &lt;lambda&gt; at 0x000001CEB7F15440&gt;,\n                                              &#x27;month&#x27;: &lt;function &lt;lambda&gt; at 0x000001CEB7F14F40&gt;,\n                                              &#x27;year&#x27;: &lt;function &lt;lambda&gt; at 0x000001CEB7F15300&gt;})),\n                (&#x27;functiontransformer-2&#x27;,\n                 FunctionTransformer(func=&lt;function NDFrame.astype at 0x000001CE4...\n                                     kw_args={&#x27;dtype&#x27;: {&#x27;DayOfWeek&#x27;: &#x27;category&#x27;,\n                                                        &#x27;PdDistrict&#x27;: &#x27;category&#x27;,\n                                                        &#x27;Resolution&#x27;: &#x27;category&#x27;,\n                                                        &#x27;hour&#x27;: &#x27;category&#x27;,\n                                                        &#x27;month&#x27;: &#x27;category&#x27;,\n                                                        &#x27;year&#x27;: &#x27;category&#x27;}})),\n                (&#x27;columntransformer&#x27;,\n                 ColumnTransformer(transformers=[(&#x27;onehotencoder&#x27;,\n                                                  OneHotEncoder(drop=&#x27;first&#x27;),\n                                                  &lt;sklearn.compose._column_transformer.make_column_selector object at 0x000001CE478F7010&gt;)],\n                                   verbose=4)),\n                (&#x27;bernoullinb&#x27;, BernoulliNB())],\n         verbose=3)</pre><b>In a Jupyter environment, please rerun this cell to show the HTML representation or trust the notebook. <br />On GitHub, the HTML representation is unable to render, please try loading this page with nbviewer.org.</b></div><div class=\"sk-container\" hidden><div class=\"sk-item sk-dashed-wrapped\"><div class=\"sk-label-container\"><div class=\"sk-label sk-toggleable\"><input class=\"sk-toggleable__control sk-hidden--visually\" id=\"sk-estimator-id-70\" type=\"checkbox\" ><label for=\"sk-estimator-id-70\" class=\"sk-toggleable__label sk-toggleable__label-arrow\">Pipeline</label><div class=\"sk-toggleable__content\"><pre>Pipeline(steps=[(&#x27;functiontransformer-1&#x27;,\n                 FunctionTransformer(func=&lt;function DataFrame.assign at 0x000001CE458656C0&gt;,\n                                     kw_args={&#x27;hour&#x27;: &lt;function &lt;lambda&gt; at 0x000001CEB7F15440&gt;,\n                                              &#x27;month&#x27;: &lt;function &lt;lambda&gt; at 0x000001CEB7F14F40&gt;,\n                                              &#x27;year&#x27;: &lt;function &lt;lambda&gt; at 0x000001CEB7F15300&gt;})),\n                (&#x27;functiontransformer-2&#x27;,\n                 FunctionTransformer(func=&lt;function NDFrame.astype at 0x000001CE4...\n                                     kw_args={&#x27;dtype&#x27;: {&#x27;DayOfWeek&#x27;: &#x27;category&#x27;,\n                                                        &#x27;PdDistrict&#x27;: &#x27;category&#x27;,\n                                                        &#x27;Resolution&#x27;: &#x27;category&#x27;,\n                                                        &#x27;hour&#x27;: &#x27;category&#x27;,\n                                                        &#x27;month&#x27;: &#x27;category&#x27;,\n                                                        &#x27;year&#x27;: &#x27;category&#x27;}})),\n                (&#x27;columntransformer&#x27;,\n                 ColumnTransformer(transformers=[(&#x27;onehotencoder&#x27;,\n                                                  OneHotEncoder(drop=&#x27;first&#x27;),\n                                                  &lt;sklearn.compose._column_transformer.make_column_selector object at 0x000001CE478F7010&gt;)],\n                                   verbose=4)),\n                (&#x27;bernoullinb&#x27;, BernoulliNB())],\n         verbose=3)</pre></div></div></div><div class=\"sk-serial\"><div class=\"sk-item\"><div class=\"sk-estimator sk-toggleable\"><input class=\"sk-toggleable__control sk-hidden--visually\" id=\"sk-estimator-id-71\" type=\"checkbox\" ><label for=\"sk-estimator-id-71\" class=\"sk-toggleable__label sk-toggleable__label-arrow\">FunctionTransformer</label><div class=\"sk-toggleable__content\"><pre>FunctionTransformer(func=&lt;function DataFrame.assign at 0x000001CE458656C0&gt;,\n                    kw_args={&#x27;hour&#x27;: &lt;function &lt;lambda&gt; at 0x000001CEB7F15440&gt;,\n                             &#x27;month&#x27;: &lt;function &lt;lambda&gt; at 0x000001CEB7F14F40&gt;,\n                             &#x27;year&#x27;: &lt;function &lt;lambda&gt; at 0x000001CEB7F15300&gt;})</pre></div></div></div><div class=\"sk-item\"><div class=\"sk-estimator sk-toggleable\"><input class=\"sk-toggleable__control sk-hidden--visually\" id=\"sk-estimator-id-72\" type=\"checkbox\" ><label for=\"sk-estimator-id-72\" class=\"sk-toggleable__label sk-toggleable__label-arrow\">FunctionTransformer</label><div class=\"sk-toggleable__content\"><pre>FunctionTransformer(func=&lt;function NDFrame.astype at 0x000001CE45760C20&gt;,\n                    kw_args={&#x27;dtype&#x27;: {&#x27;DayOfWeek&#x27;: &#x27;category&#x27;,\n                                       &#x27;PdDistrict&#x27;: &#x27;category&#x27;,\n                                       &#x27;Resolution&#x27;: &#x27;category&#x27;,\n                                       &#x27;hour&#x27;: &#x27;category&#x27;, &#x27;month&#x27;: &#x27;category&#x27;,\n                                       &#x27;year&#x27;: &#x27;category&#x27;}})</pre></div></div></div><div class=\"sk-item sk-dashed-wrapped\"><div class=\"sk-label-container\"><div class=\"sk-label sk-toggleable\"><input class=\"sk-toggleable__control sk-hidden--visually\" id=\"sk-estimator-id-73\" type=\"checkbox\" ><label for=\"sk-estimator-id-73\" class=\"sk-toggleable__label sk-toggleable__label-arrow\">columntransformer: ColumnTransformer</label><div class=\"sk-toggleable__content\"><pre>ColumnTransformer(transformers=[(&#x27;onehotencoder&#x27;, OneHotEncoder(drop=&#x27;first&#x27;),\n                                 &lt;sklearn.compose._column_transformer.make_column_selector object at 0x000001CE478F7010&gt;)],\n                  verbose=4)</pre></div></div></div><div class=\"sk-parallel\"><div class=\"sk-parallel-item\"><div class=\"sk-item\"><div class=\"sk-label-container\"><div class=\"sk-label sk-toggleable\"><input class=\"sk-toggleable__control sk-hidden--visually\" id=\"sk-estimator-id-74\" type=\"checkbox\" ><label for=\"sk-estimator-id-74\" class=\"sk-toggleable__label sk-toggleable__label-arrow\">onehotencoder</label><div class=\"sk-toggleable__content\"><pre>&lt;sklearn.compose._column_transformer.make_column_selector object at 0x000001CE478F7010&gt;</pre></div></div></div><div class=\"sk-serial\"><div class=\"sk-item\"><div class=\"sk-estimator sk-toggleable\"><input class=\"sk-toggleable__control sk-hidden--visually\" id=\"sk-estimator-id-75\" type=\"checkbox\" ><label for=\"sk-estimator-id-75\" class=\"sk-toggleable__label sk-toggleable__label-arrow\">OneHotEncoder</label><div class=\"sk-toggleable__content\"><pre>OneHotEncoder(drop=&#x27;first&#x27;)</pre></div></div></div></div></div></div></div></div><div class=\"sk-item\"><div class=\"sk-estimator sk-toggleable\"><input class=\"sk-toggleable__control sk-hidden--visually\" id=\"sk-estimator-id-76\" type=\"checkbox\" ><label for=\"sk-estimator-id-76\" class=\"sk-toggleable__label sk-toggleable__label-arrow\">BernoulliNB</label><div class=\"sk-toggleable__content\"><pre>BernoulliNB()</pre></div></div></div></div></div></div></div>"
     },
     "execution_count": 127,
     "metadata": {},
     "output_type": "execute_result"
    }
   ],
   "source": [
    "pipe = make_pipeline(hour_transformer,type_transformer,ct,BernoulliNB(),verbose=3)\n",
    "pipe"
   ],
   "metadata": {
    "collapsed": false,
    "pycharm": {
     "name": "#%%\n"
    }
   }
  },
  {
   "cell_type": "code",
   "execution_count": 128,
   "outputs": [],
   "source": [
    "X = train.drop(\"Category\",axis=\"columns\")\n",
    "y = train[\"Category\"]\n",
    "X_train,X_val,y_train,y_val = train_test_split(X,y,train_size=0.6)"
   ],
   "metadata": {
    "collapsed": false,
    "pycharm": {
     "name": "#%%\n"
    }
   }
  },
  {
   "cell_type": "code",
   "execution_count": 129,
   "outputs": [
    {
     "name": "stdout",
     "output_type": "stream",
     "text": [
      "[Pipeline]  (step 1 of 4) Processing functiontransformer-1, total=   0.1s\n",
      "[Pipeline]  (step 2 of 4) Processing functiontransformer-2, total=   0.1s\n",
      "[ColumnTransformer] . (1 of 1) Processing onehotencoder, total=   0.7s\n",
      "[Pipeline] . (step 3 of 4) Processing columntransformer, total=   0.7s\n",
      "[Pipeline] ....... (step 4 of 4) Processing bernoullinb, total=   2.2s\n"
     ]
    },
    {
     "data": {
      "text/plain": "Pipeline(steps=[('functiontransformer-1',\n                 FunctionTransformer(func=<function DataFrame.assign at 0x000001CE458656C0>,\n                                     kw_args={'hour': <function <lambda> at 0x000001CEB7F15440>,\n                                              'month': <function <lambda> at 0x000001CEB7F14F40>,\n                                              'year': <function <lambda> at 0x000001CEB7F15300>})),\n                ('functiontransformer-2',\n                 FunctionTransformer(func=<function NDFrame.astype at 0x000001CE4...\n                                     kw_args={'dtype': {'DayOfWeek': 'category',\n                                                        'PdDistrict': 'category',\n                                                        'Resolution': 'category',\n                                                        'hour': 'category',\n                                                        'month': 'category',\n                                                        'year': 'category'}})),\n                ('columntransformer',\n                 ColumnTransformer(transformers=[('onehotencoder',\n                                                  OneHotEncoder(drop='first'),\n                                                  <sklearn.compose._column_transformer.make_column_selector object at 0x000001CE478F7010>)],\n                                   verbose=4)),\n                ('bernoullinb', BernoulliNB())],\n         verbose=3)",
      "text/html": "<style>#sk-container-id-14 {color: black;background-color: white;}#sk-container-id-14 pre{padding: 0;}#sk-container-id-14 div.sk-toggleable {background-color: white;}#sk-container-id-14 label.sk-toggleable__label {cursor: pointer;display: block;width: 100%;margin-bottom: 0;padding: 0.3em;box-sizing: border-box;text-align: center;}#sk-container-id-14 label.sk-toggleable__label-arrow:before {content: \"▸\";float: left;margin-right: 0.25em;color: #696969;}#sk-container-id-14 label.sk-toggleable__label-arrow:hover:before {color: black;}#sk-container-id-14 div.sk-estimator:hover label.sk-toggleable__label-arrow:before {color: black;}#sk-container-id-14 div.sk-toggleable__content {max-height: 0;max-width: 0;overflow: hidden;text-align: left;background-color: #f0f8ff;}#sk-container-id-14 div.sk-toggleable__content pre {margin: 0.2em;color: black;border-radius: 0.25em;background-color: #f0f8ff;}#sk-container-id-14 input.sk-toggleable__control:checked~div.sk-toggleable__content {max-height: 200px;max-width: 100%;overflow: auto;}#sk-container-id-14 input.sk-toggleable__control:checked~label.sk-toggleable__label-arrow:before {content: \"▾\";}#sk-container-id-14 div.sk-estimator input.sk-toggleable__control:checked~label.sk-toggleable__label {background-color: #d4ebff;}#sk-container-id-14 div.sk-label input.sk-toggleable__control:checked~label.sk-toggleable__label {background-color: #d4ebff;}#sk-container-id-14 input.sk-hidden--visually {border: 0;clip: rect(1px 1px 1px 1px);clip: rect(1px, 1px, 1px, 1px);height: 1px;margin: -1px;overflow: hidden;padding: 0;position: absolute;width: 1px;}#sk-container-id-14 div.sk-estimator {font-family: monospace;background-color: #f0f8ff;border: 1px dotted black;border-radius: 0.25em;box-sizing: border-box;margin-bottom: 0.5em;}#sk-container-id-14 div.sk-estimator:hover {background-color: #d4ebff;}#sk-container-id-14 div.sk-parallel-item::after {content: \"\";width: 100%;border-bottom: 1px solid gray;flex-grow: 1;}#sk-container-id-14 div.sk-label:hover label.sk-toggleable__label {background-color: #d4ebff;}#sk-container-id-14 div.sk-serial::before {content: \"\";position: absolute;border-left: 1px solid gray;box-sizing: border-box;top: 0;bottom: 0;left: 50%;z-index: 0;}#sk-container-id-14 div.sk-serial {display: flex;flex-direction: column;align-items: center;background-color: white;padding-right: 0.2em;padding-left: 0.2em;position: relative;}#sk-container-id-14 div.sk-item {position: relative;z-index: 1;}#sk-container-id-14 div.sk-parallel {display: flex;align-items: stretch;justify-content: center;background-color: white;position: relative;}#sk-container-id-14 div.sk-item::before, #sk-container-id-14 div.sk-parallel-item::before {content: \"\";position: absolute;border-left: 1px solid gray;box-sizing: border-box;top: 0;bottom: 0;left: 50%;z-index: -1;}#sk-container-id-14 div.sk-parallel-item {display: flex;flex-direction: column;z-index: 1;position: relative;background-color: white;}#sk-container-id-14 div.sk-parallel-item:first-child::after {align-self: flex-end;width: 50%;}#sk-container-id-14 div.sk-parallel-item:last-child::after {align-self: flex-start;width: 50%;}#sk-container-id-14 div.sk-parallel-item:only-child::after {width: 0;}#sk-container-id-14 div.sk-dashed-wrapped {border: 1px dashed gray;margin: 0 0.4em 0.5em 0.4em;box-sizing: border-box;padding-bottom: 0.4em;background-color: white;}#sk-container-id-14 div.sk-label label {font-family: monospace;font-weight: bold;display: inline-block;line-height: 1.2em;}#sk-container-id-14 div.sk-label-container {text-align: center;}#sk-container-id-14 div.sk-container {/* jupyter's `normalize.less` sets `[hidden] { display: none; }` but bootstrap.min.css set `[hidden] { display: none !important; }` so we also need the `!important` here to be able to override the default hidden behavior on the sphinx rendered scikit-learn.org. See: https://github.com/scikit-learn/scikit-learn/issues/21755 */display: inline-block !important;position: relative;}#sk-container-id-14 div.sk-text-repr-fallback {display: none;}</style><div id=\"sk-container-id-14\" class=\"sk-top-container\"><div class=\"sk-text-repr-fallback\"><pre>Pipeline(steps=[(&#x27;functiontransformer-1&#x27;,\n                 FunctionTransformer(func=&lt;function DataFrame.assign at 0x000001CE458656C0&gt;,\n                                     kw_args={&#x27;hour&#x27;: &lt;function &lt;lambda&gt; at 0x000001CEB7F15440&gt;,\n                                              &#x27;month&#x27;: &lt;function &lt;lambda&gt; at 0x000001CEB7F14F40&gt;,\n                                              &#x27;year&#x27;: &lt;function &lt;lambda&gt; at 0x000001CEB7F15300&gt;})),\n                (&#x27;functiontransformer-2&#x27;,\n                 FunctionTransformer(func=&lt;function NDFrame.astype at 0x000001CE4...\n                                     kw_args={&#x27;dtype&#x27;: {&#x27;DayOfWeek&#x27;: &#x27;category&#x27;,\n                                                        &#x27;PdDistrict&#x27;: &#x27;category&#x27;,\n                                                        &#x27;Resolution&#x27;: &#x27;category&#x27;,\n                                                        &#x27;hour&#x27;: &#x27;category&#x27;,\n                                                        &#x27;month&#x27;: &#x27;category&#x27;,\n                                                        &#x27;year&#x27;: &#x27;category&#x27;}})),\n                (&#x27;columntransformer&#x27;,\n                 ColumnTransformer(transformers=[(&#x27;onehotencoder&#x27;,\n                                                  OneHotEncoder(drop=&#x27;first&#x27;),\n                                                  &lt;sklearn.compose._column_transformer.make_column_selector object at 0x000001CE478F7010&gt;)],\n                                   verbose=4)),\n                (&#x27;bernoullinb&#x27;, BernoulliNB())],\n         verbose=3)</pre><b>In a Jupyter environment, please rerun this cell to show the HTML representation or trust the notebook. <br />On GitHub, the HTML representation is unable to render, please try loading this page with nbviewer.org.</b></div><div class=\"sk-container\" hidden><div class=\"sk-item sk-dashed-wrapped\"><div class=\"sk-label-container\"><div class=\"sk-label sk-toggleable\"><input class=\"sk-toggleable__control sk-hidden--visually\" id=\"sk-estimator-id-77\" type=\"checkbox\" ><label for=\"sk-estimator-id-77\" class=\"sk-toggleable__label sk-toggleable__label-arrow\">Pipeline</label><div class=\"sk-toggleable__content\"><pre>Pipeline(steps=[(&#x27;functiontransformer-1&#x27;,\n                 FunctionTransformer(func=&lt;function DataFrame.assign at 0x000001CE458656C0&gt;,\n                                     kw_args={&#x27;hour&#x27;: &lt;function &lt;lambda&gt; at 0x000001CEB7F15440&gt;,\n                                              &#x27;month&#x27;: &lt;function &lt;lambda&gt; at 0x000001CEB7F14F40&gt;,\n                                              &#x27;year&#x27;: &lt;function &lt;lambda&gt; at 0x000001CEB7F15300&gt;})),\n                (&#x27;functiontransformer-2&#x27;,\n                 FunctionTransformer(func=&lt;function NDFrame.astype at 0x000001CE4...\n                                     kw_args={&#x27;dtype&#x27;: {&#x27;DayOfWeek&#x27;: &#x27;category&#x27;,\n                                                        &#x27;PdDistrict&#x27;: &#x27;category&#x27;,\n                                                        &#x27;Resolution&#x27;: &#x27;category&#x27;,\n                                                        &#x27;hour&#x27;: &#x27;category&#x27;,\n                                                        &#x27;month&#x27;: &#x27;category&#x27;,\n                                                        &#x27;year&#x27;: &#x27;category&#x27;}})),\n                (&#x27;columntransformer&#x27;,\n                 ColumnTransformer(transformers=[(&#x27;onehotencoder&#x27;,\n                                                  OneHotEncoder(drop=&#x27;first&#x27;),\n                                                  &lt;sklearn.compose._column_transformer.make_column_selector object at 0x000001CE478F7010&gt;)],\n                                   verbose=4)),\n                (&#x27;bernoullinb&#x27;, BernoulliNB())],\n         verbose=3)</pre></div></div></div><div class=\"sk-serial\"><div class=\"sk-item\"><div class=\"sk-estimator sk-toggleable\"><input class=\"sk-toggleable__control sk-hidden--visually\" id=\"sk-estimator-id-78\" type=\"checkbox\" ><label for=\"sk-estimator-id-78\" class=\"sk-toggleable__label sk-toggleable__label-arrow\">FunctionTransformer</label><div class=\"sk-toggleable__content\"><pre>FunctionTransformer(func=&lt;function DataFrame.assign at 0x000001CE458656C0&gt;,\n                    kw_args={&#x27;hour&#x27;: &lt;function &lt;lambda&gt; at 0x000001CEB7F15440&gt;,\n                             &#x27;month&#x27;: &lt;function &lt;lambda&gt; at 0x000001CEB7F14F40&gt;,\n                             &#x27;year&#x27;: &lt;function &lt;lambda&gt; at 0x000001CEB7F15300&gt;})</pre></div></div></div><div class=\"sk-item\"><div class=\"sk-estimator sk-toggleable\"><input class=\"sk-toggleable__control sk-hidden--visually\" id=\"sk-estimator-id-79\" type=\"checkbox\" ><label for=\"sk-estimator-id-79\" class=\"sk-toggleable__label sk-toggleable__label-arrow\">FunctionTransformer</label><div class=\"sk-toggleable__content\"><pre>FunctionTransformer(func=&lt;function NDFrame.astype at 0x000001CE45760C20&gt;,\n                    kw_args={&#x27;dtype&#x27;: {&#x27;DayOfWeek&#x27;: &#x27;category&#x27;,\n                                       &#x27;PdDistrict&#x27;: &#x27;category&#x27;,\n                                       &#x27;Resolution&#x27;: &#x27;category&#x27;,\n                                       &#x27;hour&#x27;: &#x27;category&#x27;, &#x27;month&#x27;: &#x27;category&#x27;,\n                                       &#x27;year&#x27;: &#x27;category&#x27;}})</pre></div></div></div><div class=\"sk-item sk-dashed-wrapped\"><div class=\"sk-label-container\"><div class=\"sk-label sk-toggleable\"><input class=\"sk-toggleable__control sk-hidden--visually\" id=\"sk-estimator-id-80\" type=\"checkbox\" ><label for=\"sk-estimator-id-80\" class=\"sk-toggleable__label sk-toggleable__label-arrow\">columntransformer: ColumnTransformer</label><div class=\"sk-toggleable__content\"><pre>ColumnTransformer(transformers=[(&#x27;onehotencoder&#x27;, OneHotEncoder(drop=&#x27;first&#x27;),\n                                 &lt;sklearn.compose._column_transformer.make_column_selector object at 0x000001CE478F7010&gt;)],\n                  verbose=4)</pre></div></div></div><div class=\"sk-parallel\"><div class=\"sk-parallel-item\"><div class=\"sk-item\"><div class=\"sk-label-container\"><div class=\"sk-label sk-toggleable\"><input class=\"sk-toggleable__control sk-hidden--visually\" id=\"sk-estimator-id-81\" type=\"checkbox\" ><label for=\"sk-estimator-id-81\" class=\"sk-toggleable__label sk-toggleable__label-arrow\">onehotencoder</label><div class=\"sk-toggleable__content\"><pre>&lt;sklearn.compose._column_transformer.make_column_selector object at 0x000001CE478F7010&gt;</pre></div></div></div><div class=\"sk-serial\"><div class=\"sk-item\"><div class=\"sk-estimator sk-toggleable\"><input class=\"sk-toggleable__control sk-hidden--visually\" id=\"sk-estimator-id-82\" type=\"checkbox\" ><label for=\"sk-estimator-id-82\" class=\"sk-toggleable__label sk-toggleable__label-arrow\">OneHotEncoder</label><div class=\"sk-toggleable__content\"><pre>OneHotEncoder(drop=&#x27;first&#x27;)</pre></div></div></div></div></div></div></div></div><div class=\"sk-item\"><div class=\"sk-estimator sk-toggleable\"><input class=\"sk-toggleable__control sk-hidden--visually\" id=\"sk-estimator-id-83\" type=\"checkbox\" ><label for=\"sk-estimator-id-83\" class=\"sk-toggleable__label sk-toggleable__label-arrow\">BernoulliNB</label><div class=\"sk-toggleable__content\"><pre>BernoulliNB()</pre></div></div></div></div></div></div></div>"
     },
     "execution_count": 129,
     "metadata": {},
     "output_type": "execute_result"
    }
   ],
   "source": [
    "pipe.fit(X_train,y_train)"
   ],
   "metadata": {
    "collapsed": false,
    "pycharm": {
     "name": "#%%\n"
    }
   }
  },
  {
   "cell_type": "code",
   "execution_count": 130,
   "outputs": [],
   "source": [
    "y_pred = pipe.predict_proba(X_val)"
   ],
   "metadata": {
    "collapsed": false,
    "pycharm": {
     "name": "#%%\n"
    }
   }
  },
  {
   "cell_type": "code",
   "execution_count": 131,
   "outputs": [
    {
     "data": {
      "text/plain": "2.2313411591221386"
     },
     "execution_count": 131,
     "metadata": {},
     "output_type": "execute_result"
    }
   ],
   "source": [
    "log_loss(y_val,y_pred)"
   ],
   "metadata": {
    "collapsed": false,
    "pycharm": {
     "name": "#%%\n"
    }
   }
  },
  {
   "cell_type": "code",
   "execution_count": 132,
   "outputs": [
    {
     "data": {
      "text/plain": "0.33493821536358975"
     },
     "execution_count": 132,
     "metadata": {},
     "output_type": "execute_result"
    }
   ],
   "source": [
    "pipe.score(X_val,y_val)"
   ],
   "metadata": {
    "collapsed": false,
    "pycharm": {
     "name": "#%%\n"
    }
   }
  },
  {
   "cell_type": "code",
   "execution_count": null,
   "outputs": [],
   "source": [],
   "metadata": {
    "collapsed": false,
    "pycharm": {
     "name": "#%%\n"
    }
   }
  }
 ],
 "metadata": {
  "kernelspec": {
   "display_name": "Python 3",
   "language": "python",
   "name": "python3"
  },
  "language_info": {
   "codemirror_mode": {
    "name": "ipython",
    "version": 2
   },
   "file_extension": ".py",
   "mimetype": "text/x-python",
   "name": "python",
   "nbconvert_exporter": "python",
   "pygments_lexer": "ipython2",
   "version": "2.7.6"
  }
 },
 "nbformat": 4,
 "nbformat_minor": 0
}