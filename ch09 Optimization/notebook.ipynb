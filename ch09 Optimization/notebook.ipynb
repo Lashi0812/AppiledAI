{
 "cells": [
  {
   "cell_type": "markdown",
   "metadata": {
    "pycharm": {
     "name": "#%% md\n"
    }
   },
   "source": [
    "# Q1 Can you explain what gradient descent is and how it works?\n",
    "1. Gradient descent is an optimization algorithm used to find the minimum of a function. It works by starting at a random point on the function and iteratively moving in the direction of steepest descent, or the direction that reduces the value of the function the most. At each step, the algorithm updates its current position by taking a step in the direction of the negative gradient of the function at the current position. This process is repeated until the algorithm reaches a local or global minimum of the function.\n",
    "2. The gradient of a function is a vector that points in the direction of the steepest increase in the value of the function. Therefore, the negative gradient points in the direction of the steepest decrease in the value of the function. The size of the step taken in this direction is determined by the learning rate, which is a hyperparameter of the algorithm. By taking small steps in the direction of the negative gradient, the gradient descent algorithm is able to gradually reduce the value of the function and find its minimum.\n",
    "3. The learning rate is a hyperparameter of the algorithm that determines the size of the steps taken in the direction of the negative gradient. A large learning rate may cause the algorithm to overshoot the minimum, while a small learning rate may slow down the convergence of the algorithm.\n",
    "4. The convergence of gradient descent depends on the shape of the cost function, which may have local minima or saddle points. A local minimum is a point where the value of the function is lower than the values of the function in the surrounding points, while a saddle point is a point where the function has different slopes in different directions.\n",
    "5. Stochastic gradient descent is a variation of gradient descent that uses a random sample of the training data, rather than the entire dataset, to compute the gradient at each step. This can make the algorithm faster and more efficient, but also more noisy and less stable.\n",
    "6. Gradient descent is a widely used optimization algorithm in the field of machine learning, where it is used to train various types of models, such as linear regression, logistic regression, or neural networks. It is also used in other fields, such as optimization of control systems or structural engineering."
   ]
  },
  {
   "cell_type": "code",
   "execution_count": 3,
   "metadata": {
    "collapsed": true,
    "pycharm": {
     "name": "#%%\n"
    }
   },
   "outputs": [
    {
     "name": "stdout",
     "output_type": "stream",
     "text": [
      "Minimum found at x = -2.000\n",
      "Minimum cost = 1.000\n"
     ]
    }
   ],
   "source": [
    "import numpy as np\n",
    "\n",
    "\n",
    "# define the cost function\n",
    "def cost_function(x):\n",
    "    return x ** 2 + 4 * x + 5\n",
    "\n",
    "\n",
    "# compute the gradient of the cost function\n",
    "def gradient(x):\n",
    "    return 2 * x + 4\n",
    "\n",
    "\n",
    "# set the initial position and the learning rate\n",
    "x = 0\n",
    "learning_rate = 0.1\n",
    "\n",
    "# repeat the gradient descent update until convergence\n",
    "while True:\n",
    "    # compute the gradient and the cost at the current position\n",
    "    grad = gradient(x)\n",
    "    cost = cost_function(x)\n",
    "\n",
    "    # check for convergence\n",
    "    if np.abs(grad) < 1e-3:\n",
    "        break\n",
    "\n",
    "    # update the position using the gradient and the learning rate\n",
    "    x -= learning_rate * grad\n",
    "\n",
    "# print the final position and the minimum cost\n",
    "print(f\"Minimum found at x = {x:.3f}\")\n",
    "print(f\"Minimum cost = {cost_function(x):.3f}\")\n"
   ]
  },
  {
   "cell_type": "markdown",
   "metadata": {
    "pycharm": {
     "name": "#%% md\n"
    }
   },
   "source": [
    "# Q2 How does the learning rate hyperparameter affect the performance of gradient descent?\n",
    "\n",
    "1. The learning rate is a hyperparameter of the gradient descent algorithm that determines the size of the steps taken in the direction of the negative gradient. A large learning rate may cause the algorithm to overshoot the minimum and diverge, while a small learning rate may slow down the convergence of the algorithm. Therefore, the learning rate should be set carefully to ensure the convergence of the algorithm.\n",
    "2. If the learning rate is too large, the algorithm may oscillate around the minimum or even diverge, as it will take large steps that may overshoot the minimum. This can make the algorithm unstable and prevent it from converging. On the other hand, if the learning rate is too small, the algorithm may converge slowly, as it will take small steps that may not reduce the value of the function quickly enough. This can make the algorithm inefficient and require a large number of iterations to find the minimum.\n",
    "3. To avoid these problems, it is recommended to use an adaptive learning rate that decreases over time. This can help the algorithm to take larger steps at the beginning, when it is far from the minimum, and smaller steps as it approaches the minimum, ensuring convergence and stability.\n"
   ]
  },
  {
   "cell_type": "code",
   "execution_count": 13,
   "metadata": {
    "pycharm": {
     "name": "#%%\n"
    }
   },
   "outputs": [
    {
     "name": "stdout",
     "output_type": "stream",
     "text": [
      "iteration 0 the cost is 5 and gradient is 4 \n",
      "iteration 1 the cost is 5.0 and gradient is -4.0 \n",
      "iteration 2 the cost is 5.0 and gradient is 4.0 \n",
      "iteration 3 the cost is 5.0 and gradient is -4.0 \n",
      "iteration 4 the cost is 5.0 and gradient is 4.0 \n",
      "iteration 5 the cost is 5.0 and gradient is -4.0 \n",
      "iteration 6 the cost is 5.0 and gradient is 4.0 \n",
      "iteration 7 the cost is 5.0 and gradient is -4.0 \n",
      "iteration 8 the cost is 5.0 and gradient is 4.0 \n",
      "iteration 9 the cost is 5.0 and gradient is -4.0 \n",
      "iteration 10 the cost is 5.0 and gradient is 4.0 \n"
     ]
    }
   ],
   "source": [
    "import numpy as np\n",
    "import matplotlib.pyplot as plt\n",
    "\n",
    "\n",
    "# define the cost function\n",
    "def cost_function(x):\n",
    "    return x ** 2 + 4 * x + 5\n",
    "\n",
    "\n",
    "# compute the gradient of the cost function\n",
    "def gradient(x):\n",
    "    return 2 * x + 4\n",
    "\n",
    "\n",
    "# set the initial position and the learning rate\n",
    "x = i = 0\n",
    "learning_rate = 1.0\n",
    "max_iter = 10\n",
    "\n",
    "# create a list to store the cost at each iteration\n",
    "costs = []\n",
    "\n",
    "# repeat the gradient descent update until convergence\n",
    "while True:\n",
    "    # compute the gradient and the cost at the current position\n",
    "    grad = gradient(x)\n",
    "    cost = cost_function(x)\n",
    "\n",
    "    # store the cost in the list\n",
    "    costs.append(cost)\n",
    "\n",
    "    # check for convergence\n",
    "    if np.abs(grad) < 1e-3 or i > max_iter:\n",
    "        break\n",
    "    print(f\"iteration {i} the cost is {cost} and gradient is {grad} \")\n",
    "    # update the position using the gradient and the learning rate\n",
    "    x -= learning_rate * grad\n",
    "    i += 1\n",
    "\n"
   ]
  },
  {
   "cell_type": "markdown",
   "metadata": {
    "pycharm": {
     "name": "#%% md\n"
    }
   },
   "source": [
    "As you can see, the cost decreases quickly at the beginning, but then starts to oscillate around the minimum, indicating that the learning rate is too large and the algorithm is unstable. This can prevent the algorithm from converging to the minimum."
   ]
  },
  {
   "cell_type": "code",
   "execution_count": 20,
   "metadata": {
    "pycharm": {
     "name": "#%%\n"
    }
   },
   "outputs": [
    {
     "name": "stdout",
     "output_type": "stream",
     "text": [
      "iteration 0 the cost is 5.0000 and gradient is 4.0000 \n",
      "iteration 1 the cost is 4.8416 and gradient is -3.9200 \n",
      "iteration 2 the cost is 4.5419 and gradient is 3.7640 \n",
      "iteration 3 the cost is 4.1336 and gradient is -3.5404 \n",
      "iteration 4 the cost is 3.6592 and gradient is 3.2614 \n",
      "iteration 5 the cost is 3.1634 and gradient is -2.9417 \n",
      "iteration 6 the cost is 2.6866 and gradient is 2.5974 \n",
      "iteration 7 the cost is 2.2594 and gradient is -2.2445 \n",
      "iteration 8 the cost is 1.9003 and gradient is 1.8977 \n",
      "iteration 9 the cost is 1.6158 and gradient is -1.5695 \n",
      "iteration 10 the cost is 1.4028 and gradient is 1.2693 \n",
      "iteration 11 the cost is 1.2518 and gradient is -1.0036 \n",
      "iteration 12 the cost is 1.1504 and gradient is 0.7756 \n",
      "iteration 13 the cost is 1.0857 and gradient is -0.5856 \n",
      "iteration 14 the cost is 1.0466 and gradient is 0.4319 \n",
      "iteration 15 the cost is 1.0242 and gradient is -0.3110 \n",
      "iteration 16 the cost is 1.0119 and gradient is 0.2186 \n",
      "iteration 17 the cost is 1.0056 and gradient is -0.1499 \n",
      "iteration 18 the cost is 1.0025 and gradient is 0.1003 \n",
      "iteration 19 the cost is 1.0011 and gradient is -0.0654 \n",
      "iteration 20 the cost is 1.0004 and gradient is 0.0416 \n",
      "iteration 21 the cost is 1.0002 and gradient is -0.0258 \n",
      "iteration 22 the cost is 1.0001 and gradient is 0.0155 \n",
      "iteration 23 the cost is 1.0000 and gradient is -0.0091 \n",
      "iteration 24 the cost is 1.0000 and gradient is 0.0052 \n",
      "iteration 25 the cost is 1.0000 and gradient is -0.0029 \n",
      "iteration 26 the cost is 1.0000 and gradient is 0.0016 \n"
     ]
    },
    {
     "data": {
      "image/png": "[encoded data removed]",
      "text/plain": [
       "<Figure size 640x480 with 1 Axes>"
      ]
     },
     "metadata": {},
     "output_type": "display_data"
    }
   ],
   "source": [
    "import numpy as np\n",
    "import matplotlib.pyplot as plt\n",
    "\n",
    "\n",
    "# define the cost function\n",
    "def cost_function(x):\n",
    "    return x ** 2 + 4 * x + 5\n",
    "\n",
    "\n",
    "# compute the gradient of the cost function\n",
    "def gradient(x):\n",
    "    return 2 * x + 4\n",
    "\n",
    "\n",
    "# set the initial position and the learning rate\n",
    "x = i = 0\n",
    "learning_rate = 1.0\n",
    "max_iter = 100\n",
    "\n",
    "# create a list to store the cost at each iteration\n",
    "costs = []\n",
    "\n",
    "# repeat the gradient descent update until convergence\n",
    "while True:\n",
    "    # compute the gradient and the cost at the current position\n",
    "    grad = gradient(x)\n",
    "    cost = cost_function(x)\n",
    "\n",
    "    # store the cost in the list\n",
    "    costs.append(cost)\n",
    "\n",
    "    # decrease the learning rate over time\n",
    "    learning_rate *= 0.99\n",
    "\n",
    "    # check for convergence\n",
    "    if np.abs(grad) < 1e-3 or i > max_iter:\n",
    "        break\n",
    "    print(f\"iteration {i} the cost is {cost:.4f} and gradient is {grad:.4f} \")\n",
    "    # update the position using the gradient and the learning rate\n",
    "    x -= learning_rate * grad\n",
    "    i += 1\n",
    "\n",
    "# plot the cost at each iteration\n",
    "plt.plot(costs)\n",
    "plt.xlabel(\"Iteration\")\n",
    "plt.ylabel(\"Cost\")\n",
    "plt.show()"
   ]
  },
  {
   "cell_type": "markdown",
   "metadata": {
    "pycharm": {
     "name": "#%% md\n"
    }
   },
   "source": [
    "As you can see, the cost decreases smoothly and consistently, indicating that the adaptive learning rate helps the algorithm to converge to the minimum in a stable and efficient manner"
   ]
  },
  {
   "cell_type": "markdown",
   "metadata": {
    "pycharm": {
     "name": "#%% md\n"
    }
   },
   "source": [
    "# Q3 Can you provide an example of how gradient descent is used in the training of a machine learning model?\n",
    "\n",
    "1. gradient descent is commonly used in the training of machine learning models, such as linear regression, logistic regression, or neural networks. Here is an example of how gradient descent can be used to train a linear regression model in Python"
   ]
  },
  {
   "cell_type": "code",
   "execution_count": 21,
   "metadata": {
    "pycharm": {
     "name": "#%%\n"
    }
   },
   "outputs": [
    {
     "name": "stdout",
     "output_type": "stream",
     "text": [
      "Intercept: 1.222\n",
      "Slope: 1.937\n"
     ]
    }
   ],
   "source": [
    "import numpy as np\n",
    "from sklearn.linear_model import LinearRegression\n",
    "\n",
    "# generate some synthetic data\n",
    "np.random.seed(0)\n",
    "X = np.random.rand(100, 1)\n",
    "y = 2 * X + 1 + np.random.randn(100, 1)\n",
    "\n",
    "# create a linear regression model and fit it using gradient descent\n",
    "model = LinearRegression(fit_intercept=True)\n",
    "model.fit(X, y)\n",
    "\n",
    "# print the model coefficients\n",
    "print(f\"Intercept: {model.intercept_[0]:.3f}\")\n",
    "print(f\"Slope: {model.coef_[0][0]:.3f}\")\n"
   ]
  },
  {
   "cell_type": "code",
   "execution_count": 44,
   "metadata": {
    "pycharm": {
     "name": "#%%\n"
    }
   },
   "outputs": [
    {
     "name": "stdout",
     "output_type": "stream",
     "text": [
      "iteration 0 the cost is 1.0000001686649442 and gradient is [[-3.52157528]] \n",
      "iteration 20 the cost is 1.0000001686649442 and gradient is [[-0.22375505]] \n",
      "iteration 40 the cost is 1.0000001686649442 and gradient is [[-0.07915877]] \n",
      "iteration 60 the cost is 1.0000001686649442 and gradient is [[-0.05951851]] \n",
      "iteration 80 the cost is 1.0000001686649442 and gradient is [[-0.04749786]] \n",
      "iteration 100 the cost is 1.0000001686649442 and gradient is [[-0.03801759]] \n",
      "iteration 120 the cost is 1.0000001686649442 and gradient is [[-0.03043387]] \n",
      "iteration 140 the cost is 1.0000001686649442 and gradient is [[-0.02436311]] \n",
      "iteration 160 the cost is 1.0000001686649442 and gradient is [[-0.01950332]] \n",
      "iteration 180 the cost is 1.0000001686649442 and gradient is [[-0.01561293]] \n",
      "iteration 200 the cost is 1.0000001686649442 and gradient is [[-0.01249856]] \n",
      "Intercept: 1.282\n",
      "Slope: 1.825\n"
     ]
    }
   ],
   "source": [
    "import numpy as np\n",
    "\n",
    "# generate some synthetic data\n",
    "np.random.seed(0)\n",
    "X = np.random.rand(100, 1)\n",
    "y = 2 * X + 1 + np.random.randn(100, 1)\n",
    "\n",
    "# set the initial coefficients and the learning rate\n",
    "w = np.random.randn(2, 1)\n",
    "learning_rate = 0.1\n",
    "i = 0\n",
    "max_iter = 200\n",
    "# repeat the gradient descent update until convergence\n",
    "while True:\n",
    "    # compute the predictions and the errors\n",
    "    y_pred = np.dot(X, w[1:]) + w[0]\n",
    "    errors = y_pred - y\n",
    "\n",
    "    # compute the mean squared error\n",
    "    mse = np.mean(errors ** 2)\n",
    "\n",
    "    # check for convergence\n",
    "    if mse < 1e-3 or i > max_iter:\n",
    "        break\n",
    "\n",
    "    # compute the gradient of the error with respect to the coefficients\n",
    "    grad = 2 * np.dot(errors.T, X) / X.shape[0]\n",
    "    if i % 20 == 0:\n",
    "        print(f\"iteration {i} the cost is {cost} and gradient is {grad} \")\n",
    "    # update the coefficients using the gradient and the learning rate\n",
    "    w[1:] -= learning_rate * grad\n",
    "    w[0] -= learning_rate * errors.sum() / X.shape[0]\n",
    "    i += 1\n",
    "\n",
    "# print the final coefficients\n",
    "print(f\"Intercept: {w[0][0]:.3f}\")\n",
    "print(f\"Slope: {w[1][0]:.3f}\")\n"
   ]
  },
  {
   "cell_type": "markdown",
   "metadata": {
    "pycharm": {
     "name": "#%% md\n"
    }
   },
   "source": [
    "# Q8 How do you determine when the gradient descent algorithm has converged to a minimum?\n",
    "1. There are several ways to determine when the gradient descent algorithm has converged to a minimum. One common approach is to monitor the value of the objective function at each iteration of the algorithm, and to stop the algorithm when the change in the objective function becomes small or negligible. For example, you could stop the algorithm when the absolute change in the objective function is less than a certain threshold, such as 0.001 or 0.0001. This approach is based on the assumption that the objective function will decrease monotonically as the algorithm progresses, and that it will eventually reach a minimum and stop changing significantly.\n",
    "2. Another approach is to monitor the magnitude of the gradient of the objective function at each iteration, and to stop the algorithm when the gradient becomes small or zero. This approach is based on the fact that at a minimum of the objective function, the gradient will be zero, and that the magnitude of the gradient will decrease as the algorithm approaches a minimum. To implement this approach, you could calculate the magnitude of the gradient at each iteration, and stop the algorithm when the magnitude is less than a certain threshold, such as 0.001 or 0.0001.\n",
    "3. Finally, you could use a combination of these two approaches, by monitoring both the change in the objective function and the magnitude of the gradient, and stopping the algorithm when either of these conditions is met. This can provide a more robust stopping criterion for the algorithm, as it takes into account both the value of the objective function and the gradient at each iteration.\n"
   ]
  },
  {
   "cell_type": "code",
   "execution_count": 52,
   "metadata": {
    "pycharm": {
     "name": "#%%\n"
    }
   },
   "outputs": [
    {
     "name": "stdout",
     "output_type": "stream",
     "text": [
      "-0.9766782196107501\n"
     ]
    }
   ],
   "source": [
    "# define the objective function\n",
    "def objective(x):\n",
    "    return x ** 2 + 2 * x + 1\n",
    "\n",
    "\n",
    "# define the gradient of the objective function\n",
    "def gradient(x):\n",
    "    return 2 * x + 2\n",
    "\n",
    "\n",
    "# set the initial value for the model parameter\n",
    "x = 5\n",
    "\n",
    "# set the learning rate\n",
    "alpha = 1\n",
    "\n",
    "# set the convergence threshold for the objective function\n",
    "eps = 0.001\n",
    "\n",
    "# iterate until convergence\n",
    "while True:\n",
    "    # calculate the gradient at the current value of x\n",
    "    grad = gradient(x)\n",
    "\n",
    "    alpha *= 0.99\n",
    "\n",
    "    # update the model parameter using gradient descent\n",
    "    x = x - alpha * grad\n",
    "\n",
    "    # calculate the objective function at the new value of x\n",
    "    obj = objective(x)\n",
    "\n",
    "    # check if the objective function has converged\n",
    "    if abs(obj - objective(x + alpha * grad)) < eps:\n",
    "        break\n",
    "\n",
    "# print the final value of the model parameter\n",
    "print(x)\n"
   ]
  },
  {
   "cell_type": "code",
   "execution_count": 53,
   "metadata": {
    "pycharm": {
     "name": "#%%\n"
    }
   },
   "outputs": [
    {
     "name": "stdout",
     "output_type": "stream",
     "text": [
      "-1.0003102808178828\n"
     ]
    }
   ],
   "source": [
    "# define the objective function\n",
    "def objective(x):\n",
    "    return x ** 2 + 2 * x + 1\n",
    "\n",
    "\n",
    "# define the gradient of the objective function\n",
    "def gradient(x):\n",
    "    return 2 * x + 2\n",
    "\n",
    "\n",
    "# set the initial value for the model parameter\n",
    "x = 5\n",
    "\n",
    "# set the learning rate\n",
    "alpha = 1\n",
    "\n",
    "# set the convergence threshold for the gradient\n",
    "eps = 0.001\n",
    "\n",
    "# iterate until convergence\n",
    "while True:\n",
    "    # calculate the gradient at the current value of x\n",
    "    grad = gradient(x)\n",
    "    alpha *= 0.99\n",
    "    # check if the gradient has converged\n",
    "    if np.linalg.norm(grad) < eps:\n",
    "        break\n",
    "\n",
    "    # update the model parameter using gradient descent\n",
    "    x = x - alpha * grad\n",
    "\n",
    "# print the final value of the model parameter\n",
    "print(x)\n"
   ]
  },
  {
   "cell_type": "markdown",
   "metadata": {
    "pycharm": {
     "name": "#%% md\n"
    }
   },
   "source": [
    "# Q9 Can you discuss some strategies for accelerating the convergence of gradient descent?\n",
    "1. Using a larger learning rate: The learning rate determines how fast the algorithm updates the model parameters, and it is a crucial hyperparameter in gradient descent. Increasing the learning rate can accelerate the convergence of the algorithm, but it can also make the algorithm more unstable and prone to divergence. To strike a balance between convergence speed and stability, you can use a larger learning rate initially, and then decrease it over time, as the algorithm approaches the minimum. This approach can accelerate the convergence of the algorithm without sacrificing stability.\n",
    "2. Using a momentum term: Another way to accelerate the convergence of gradient descent is to use a momentum term, which adds a fraction of the previous update to the current update. This term can help the algorithm escape from local minima and avoid oscillations, by providing a small amount of \"inertia\" to the updates. To implement this strategy, you can add a momentum term to the update rule, which is a weighted sum of the current gradient and the previous update. This term can be adjusted using a momentum hyperparameter, which determines the weight of the previous update.\n",
    "3. Using a line search: A line search is an optimization technique that is used to find the optimal step size for the gradient descent algorithm. Rather than using a fixed learning rate, a line search algorithm computes the step size that maximizes the decrease in the objective function at each iteration. This can improve the convergence of the algorithm, by ensuring that the step size is always optimal, rather than using a fixed learning rate that may not be optimal for all iterations. To implement a line search, you can use a one-dimensional optimization algorithm, such as Brent's method or the golden-section search, to find the optimal step size at each iteration.\n",
    "4. Using a warm start: A warm start is a strategy that uses the solution from a previous optimization problem as the starting point for a new optimization problem. This can accelerate the convergence of the algorithm, by providing a better starting point that is closer to the global minimum. To implement a warm start, you can save the solution from the previous optimization problem, and use it as the starting point for the new optimization problem. This approach can be useful when solving a sequence of similar optimization problems, or when the initial value of the model parameters is not close to the global minimum.\n"
   ]
  },
  {
   "cell_type": "code",
   "execution_count": 57,
   "metadata": {
    "pycharm": {
     "name": "#%%\n"
    }
   },
   "outputs": [
    {
     "name": "stdout",
     "output_type": "stream",
     "text": [
      "2.9022909227250784\n"
     ]
    }
   ],
   "source": [
    "# define the objective function\n",
    "def objective(x):\n",
    "    return x ** 2 + 2 * x + 1\n",
    "\n",
    "\n",
    "# define the gradient of the objective function\n",
    "def gradient(x):\n",
    "    return 2 * x + 2\n",
    "\n",
    "\n",
    "# set the initial value for the model parameter\n",
    "x = 5\n",
    "\n",
    "# set the initial learning rate\n",
    "alpha = 0.1\n",
    "\n",
    "# set the convergence threshold for the objective function\n",
    "eps = 0.001\n",
    "\n",
    "# iterate until convergence\n",
    "while True:\n",
    "    # calculate the gradient at the current value of x\n",
    "    grad = gradient(x)\n",
    "\n",
    "    # update the model parameter using gradient descent\n",
    "    x = x - alpha * grad\n",
    "\n",
    "    # calculate the objective function at the new value of x\n",
    "    obj = objective(x)\n",
    "\n",
    "    # check if the objective function has converged\n",
    "    if abs(obj - objective(x + alpha * grad)) < eps:\n",
    "        break\n",
    "\n",
    "    # decrease the learning rate over time\n",
    "    alpha = alpha / 2\n",
    "\n",
    "# print the final value of the model parameter\n",
    "print(x)\n"
   ]
  },
  {
   "cell_type": "code",
   "execution_count": 58,
   "metadata": {
    "pycharm": {
     "name": "#%%\n"
    }
   },
   "outputs": [
    {
     "name": "stdout",
     "output_type": "stream",
     "text": [
      "-0.9898531895508867\n"
     ]
    }
   ],
   "source": [
    "# define the objective function\n",
    "def objective(x):\n",
    "    return x ** 2 + 2 * x + 1\n",
    "\n",
    "\n",
    "# define the gradient of the objective function\n",
    "def gradient(x):\n",
    "    return 2 * x + 2\n",
    "\n",
    "\n",
    "# set the initial value for the model parameter\n",
    "x = 5\n",
    "\n",
    "# set the learning rate\n",
    "alpha = 0.1\n",
    "\n",
    "# set the momentum hyperparameter\n",
    "beta = 0.9\n",
    "\n",
    "# initialize the momentum term\n",
    "momentum = 0\n",
    "\n",
    "# set the convergence threshold for the objective function\n",
    "eps = 0.001\n",
    "\n",
    "# iterate until convergence\n",
    "while True:\n",
    "    # calculate the gradient at the current value of x\n",
    "    grad = gradient(x)\n",
    "\n",
    "    # update the momentum term\n",
    "    momentum = beta * momentum + grad\n",
    "\n",
    "    # update the model parameter using gradient descent with momentum\n",
    "    x = x - alpha * momentum\n",
    "\n",
    "    # calculate the objective function at the new value of x\n",
    "    obj = objective(x)\n",
    "\n",
    "    # check if the objective function has converged\n",
    "    if abs(obj - objective(x + alpha * grad)) < eps:\n",
    "        break\n",
    "\n",
    "# print the final value of the model parameter\n",
    "print(x)\n"
   ]
  },
  {
   "cell_type": "code",
   "execution_count": 62,
   "metadata": {
    "pycharm": {
     "name": "#%%\n"
    }
   },
   "outputs": [
    {
     "name": "stdout",
     "output_type": "stream",
     "text": [
      "-7\n"
     ]
    }
   ],
   "source": [
    "# define the objective function\n",
    "def objective(x):\n",
    "    return x**2 + 2*x + 1\n",
    "\n",
    "# define the gradient of the objective function\n",
    "def gradient(x):\n",
    "    return 2*x + 2\n",
    "\n",
    "# define the line search algorithm\n",
    "def line_search(x, alpha, beta):\n",
    "    # initialize the step size\n",
    "    t = 1\n",
    "\n",
    "    # iterate until convergence\n",
    "    while True:\n",
    "        # calculate the gradient at the current value of x\n",
    "        grad = gradient(x)\n",
    "\n",
    "        # compute the new value of x using the step size\n",
    "        x_new = x - t * grad\n",
    "\n",
    "        # calculate the objective function at the new value of x\n",
    "        obj_new = objective(x_new)\n",
    "\n",
    "        # calculate the objective function at the current value of x\n",
    "        obj = objective(x)\n",
    "\n",
    "        # compute the change in the objective function\n",
    "        delta = obj - obj_new\n",
    "\n",
    "        # check if the step size is optimal\n",
    "        if 0 <= delta <= alpha * t * np.linalg.norm(grad)**2:\n",
    "            break\n",
    "\n",
    "        # decrease the step size\n",
    "        t = beta * t\n",
    "\n",
    "    # return the optimal step size\n",
    "    return t\n",
    "\n",
    "# set the initial value for the model parameter\n",
    "x = 5\n",
    "\n",
    "# set the convergence threshold for the objective function\n",
    "eps = 0.001\n",
    "\n",
    "# iterate until convergence\n",
    "while True:\n",
    "    # calculate the gradient at the current value of x\n",
    "    grad = gradient(x)\n",
    "\n",
    "    # use the line search algorithm to find the optimal step size\n",
    "    t = line_search(x, 0.1, 0.5)\n",
    "\n",
    "    # update the model parameter using gradient descent with a line search\n",
    "    x = x - t * grad\n",
    "\n",
    "    # calculate the objective function at the new value of x\n",
    "    obj = objective(x)\n",
    "\n",
    "    # check if the objective function has converged\n",
    "    if abs(obj - objective(x + t * grad)) < eps:\n",
    "        break\n",
    "\n",
    "# print the final value of the model parameter\n",
    "print(x)\n"
   ]
  },
  {
   "cell_type": "markdown",
   "metadata": {
    "pycharm": {
     "name": "#%% md\n"
    }
   },
   "source": [
    "A line search algorithm helps to speed up the operation of gradient descent by finding the optimal step size for the gradient descent update at each iteration. By using the optimal step size, the algorithm can make larger and more efficient updates, which can accelerate the convergence of the algorithm.\n",
    "\n",
    "In general, the step size in gradient descent determines how much the model parameters are updated at each iteration, and it plays a crucial role in the convergence of the algorithm. If the step size is too small, the algorithm will converge slowly, because the updates will be too small to make significant progress. On the other hand, if the step size is too large, the algorithm may diverge, because the updates will be too large and the objective function may increase instead of decrease. To avoid these problems, it is important to use the optimal step size for each iteration, and this is what a line search algorithm does.\n",
    "\n",
    "A line search algorithm computes the step size that maximizes the decrease in the objective function at each iteration. This is done by evaluating the objective function at different step sizes, and selecting the step size that provides the largest decrease in the objective function. By using this optimal step size, the gradient descent algorithm can make larger and more efficient updates, which can accelerate the convergence of the algorithm. Additionally, a line search algorithm can help the algorithm avoid divergence, because it ensures that the step size is always sufficient to decrease the objective function. This is why a line search algorithm can help to speed up the operation of gradient descent."
   ]
  },
  {
   "cell_type": "code",
   "execution_count": null,
   "outputs": [],
   "source": [
    "import matplotlib.pyplot as plt\n",
    "import numpy as np\n",
    "\n",
    "# define the objective function\n",
    "def objective(w, lambda_):\n",
    "    return w**2 + 2*w + 1 + lambda_ * abs(w)\n",
    "\n",
    "# set the regularization hyperparameter\n",
    "lambda_ = 0.5\n",
    "\n",
    "# generate a range of values for the model parameter\n",
    "w = np.linspace(-5, 5, 100)\n",
    "\n",
    "# calculate the objective function for each value of w\n",
    "obj = objective(w, lambda_)\n",
    "\n",
    "# plot the objective function\n",
    "plt.plot(w, obj)\n",
    "plt.xlabel('w')\n",
    "plt.ylabel('f(w)')\n",
    "plt.show()\n"
   ],
   "metadata": {
    "collapsed": false,
    "pycharm": {
     "name": "#%%\n"
    }
   }
  },
  {
   "cell_type": "code",
   "execution_count": null,
   "outputs": [],
   "source": [
    "import matplotlib.pyplot as plt\n",
    "from matplotlib.widgets import Slider\n",
    "import numpy as np\n",
    "\n",
    "# define the objective function\n",
    "def objective(w, lambda_):\n",
    "    return w**2 + 2*w + 1 + lambda_ * abs(w)\n",
    "\n",
    "# set the regularization hyperparameter\n",
    "lambda_ = 0.5\n",
    "\n",
    "# generate a range of values for the model parameter\n",
    "w = np.linspace(-5, 5, 100)\n",
    "\n",
    "# calculate the objective function for each value of w\n",
    "obj = objective(w, lambda_)\n",
    "\n",
    "# create a figure\n",
    "fig, ax = plt.subplots()\n",
    "\n",
    "# plot the objective function\n",
    "ax.plot(w, obj)\n",
    "ax.set_xlabel('w')\n",
    "ax.set_ylabel('f(w)')\n",
    "\n",
    "# create a slider for the regularization hyperparameter\n",
    "slider_lambda = plt.axes([0.25, 0.1, 0.65, 0.03])\n",
    "slider = Slider(slider_lambda, 'lambda', 0.0, 1.0, valinit=lambda_)\n",
    "\n",
    "# update the objective function when the regularization hyperparameter is changed\n",
    "def update(val):\n",
    "    lambda_ = slider.val\n",
    "    obj = objective(w, lambda_)\n",
    "    ax.clear()\n",
    "    ax.plot(w, obj)\n",
    "    ax.set_xlabel('w')\n",
    "    ax.set_ylabel('f(w)')\n",
    "    fig.canvas.draw_idle()\n",
    "\n",
    "# connect the slider to the update function\n",
    "slider.on_changed(update)\n",
    "\n",
    "# show the figure\n",
    "plt.show()\n"
   ],
   "metadata": {
    "collapsed": false,
    "pycharm": {
     "name": "#%%\n"
    }
   }
  },
  {
   "cell_type": "code",
   "execution_count": null,
   "outputs": [],
   "source": [
    "import matplotlib.pyplot as plt\n",
    "from matplotlib import cm\n",
    "from matplotlib.ticker import LinearLocator\n",
    "from mpl_toolkits.mplot3d import Axes3D\n",
    "import numpy as np\n",
    "\n",
    "# define the objective function\n",
    "def objective(w, lambda_):\n",
    "    return w[0]**2 + w[1]**2 + 2*w[0] + 2*w[1] + 1 + lambda_ * (abs(w[0]) + abs(w[1]))\n",
    "\n",
    "# set the regularization hyperparameter\n",
    "lambda_ = 0.5\n",
    "\n",
    "# generate a grid of values for the model parameters\n",
    "w0, w1 = np.meshgrid(np.linspace(-5, 5, 50), np.linspace(-5, 5, 50))\n",
    "\n",
    "# calculate the objective function for each pair of (w0, w1) values\n",
    "obj = objective(np.array([w0, w1]), lambda_)\n",
    "\n",
    "# create a figure\n",
    "fig = plt.figure()\n",
    "\n",
    "# create an Axes3D instance and add it to the figure\n",
    "ax = fig.add_subplot(111, projection='3d')\n",
    "\n",
    "# plot the objective function\n",
    "surf = ax.plot_surface(w0, w1, obj, cmap=cm.coolwarm, linewidth=0, antialiased=False)\n",
    "\n",
    "# customize the plot\n",
    "ax.set_zlim(0, 100)\n",
    "ax.zaxis.set_major_locator(LinearLocator(10))\n",
    "ax.set_xlabel('w0')\n",
    "ax.set_ylabel('w1')\n",
    "ax.set_zlabel('f(w0, w1)')\n",
    "\n",
    "# add a color bar\n",
    "fig.colorbar(surf, shrink=0.5, aspect=5)\n",
    "\n",
    "# show the figure\n",
    "plt.show()\n"
   ],
   "metadata": {
    "collapsed": false,
    "pycharm": {
     "name": "#%%\n"
    }
   }
  },
  {
   "cell_type": "code",
   "execution_count": null,
   "metadata": {},
   "outputs": [],
   "source": []
  }
 ],
 "metadata": {
  "kernelspec": {
   "display_name": "Python 3 (ipykernel)",
   "language": "python",
   "name": "python3"
  },
  "language_info": {
   "codemirror_mode": {
    "name": "ipython",
    "version": 3
   },
   "file_extension": ".py",
   "mimetype": "text/x-python",
   "name": "python",
   "nbconvert_exporter": "python",
   "pygments_lexer": "ipython3",
   "version": "3.11.0"
  },
  "toc": {
   "base_numbering": 1,
   "nav_menu": {},
   "number_sections": true,
   "sideBar": true,
   "skip_h1_title": false,
   "title_cell": "Table of Contents",
   "title_sidebar": "Contents",
   "toc_cell": false,
   "toc_position": {},
   "toc_section_display": true,
   "toc_window_display": false
  },
  "varInspector": {
   "cols": {
    "lenName": 16,
    "lenType": 16,
    "lenVar": 40
   },
   "kernels_config": {
    "python": {
     "delete_cmd_postfix": "",
     "delete_cmd_prefix": "del ",
     "library": "var_list.py",
     "varRefreshCmd": "print(var_dic_list())"
    },
    "r": {
     "delete_cmd_postfix": ") ",
     "delete_cmd_prefix": "rm(",
     "library": "var_list.r",
     "varRefreshCmd": "cat(var_dic_list()) "
    }
   },
   "types_to_exclude": [
    "module",
    "function",
    "builtin_function_or_method",
    "instance",
    "_Feature"
   ],
   "window_display": false
  }
 },
 "nbformat": 4,
 "nbformat_minor": 1
}