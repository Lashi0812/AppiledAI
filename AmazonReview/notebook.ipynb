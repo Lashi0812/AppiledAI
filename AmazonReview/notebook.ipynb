{
 "cells": [
  {
   "cell_type": "markdown",
   "source": [
    "# Amazon Fine Food Reviews Analysis\n",
    "\n",
    "\n",
    "[Data Source](https://www.kaggle.com/snap/amazon-fine-food-reviews)\n",
    "\n",
    "\n",
    "\n",
    "\n",
    "The Amazon Fine Food Reviews dataset consists of reviews of fine foods from Amazon.<br>\n",
    "\n",
    "Number of reviews: 568,454\n",
    "Number of users: 256,059\n",
    "Number of products: 74,258\n",
    "Timespan: Oct 1999 - Oct 2012\n",
    "Number of Attributes/Columns in data: 10\n",
    "\n",
    "Attribute Information:\n",
    "\n",
    "1. Id\n",
    "2. ProductId - unique identifier for the product\n",
    "3. UserId - unqiue identifier for the user\n",
    "4. ProfileName\n",
    "5. HelpfulnessNumerator - number of users who found the review helpful\n",
    "6. HelpfulnessDenominator - number of users who indicated whether they found the review helpful or not\n",
    "7. Score - rating between 1 and 5\n",
    "8. Time - timestamp for the review\n",
    "9. Summary - brief summary of the review\n",
    "10. Text - text of the review\n",
    "\n",
    "\n",
    "#### Objective:\n",
    "Given a review, determine whether the review is positive (Rating of 4 or 5) or negative (rating of 1 or 2).\n",
    "\n",
    "<br>\n",
    "[Q] How to determine if a review is positive or negative?<br>\n",
    "<br>\n",
    "[Ans] We could use the Score/Rating. A rating of 4 or 5 could be cosnidered a positive review. A review of 1 or 2 could be considered negative. A review of 3 is nuetral and ignored. This is an approximate and proxy way of determining the polarity (positivity/negativity) of a review.\n",
    "\n",
    "\n"
   ],
   "metadata": {
    "collapsed": false,
    "pycharm": {
     "name": "#%% md\n"
    }
   }
  },
  {
   "cell_type": "markdown",
   "source": [
    "# Download Data"
   ],
   "metadata": {
    "collapsed": false,
    "pycharm": {
     "name": "#%% md\n"
    }
   }
  },
  {
   "cell_type": "code",
   "execution_count": 1,
   "outputs": [],
   "source": [
    "from kaggle.api.kaggle_api_extended import KaggleApi\n",
    "api = KaggleApi()\n",
    "api.authenticate()\n",
    "api.dataset_download_files(\"snap/amazon-fine-food-reviews\",path=\"data/\")"
   ],
   "metadata": {
    "collapsed": false,
    "pycharm": {
     "name": "#%%\n"
    }
   }
  },
  {
   "cell_type": "markdown",
   "source": [
    "# Load Data"
   ],
   "metadata": {
    "collapsed": false,
    "pycharm": {
     "name": "#%% md\n"
    }
   }
  },
  {
   "cell_type": "code",
   "execution_count": 2,
   "outputs": [
    {
     "data": {
      "text/plain": "['Reviews.csv', 'database.sqlite', 'hashes.txt']"
     },
     "execution_count": 2,
     "metadata": {},
     "output_type": "execute_result"
    }
   ],
   "source": [
    "from zipfile import ZipFile\n",
    "\n",
    "zip_file = ZipFile(\"data/amazon-fine-food-reviews.zip\")\n",
    "zip_file.namelist()"
   ],
   "metadata": {
    "collapsed": false,
    "pycharm": {
     "name": "#%%\n"
    }
   }
  },
  {
   "cell_type": "code",
   "execution_count": 3,
   "outputs": [
    {
     "data": {
      "text/plain": "'data\\\\database.sqlite'"
     },
     "execution_count": 3,
     "metadata": {},
     "output_type": "execute_result"
    }
   ],
   "source": [
    "zip_file.extract(\"database.sqlite\",path=\"data/\")"
   ],
   "metadata": {
    "collapsed": false,
    "pycharm": {
     "name": "#%%\n"
    }
   }
  },
  {
   "cell_type": "code",
   "execution_count": 3,
   "outputs": [
    {
     "data": {
      "text/plain": "      name\n0  Reviews",
      "text/html": "<div>\n<style scoped>\n    .dataframe tbody tr th:only-of-type {\n        vertical-align: middle;\n    }\n\n    .dataframe tbody tr th {\n        vertical-align: top;\n    }\n\n    .dataframe thead th {\n        text-align: right;\n    }\n</style>\n<table border=\"1\" class=\"dataframe\">\n  <thead>\n    <tr style=\"text-align: right;\">\n      <th></th>\n      <th>name</th>\n    </tr>\n  </thead>\n  <tbody>\n    <tr>\n      <th>0</th>\n      <td>Reviews</td>\n    </tr>\n  </tbody>\n</table>\n</div>"
     },
     "execution_count": 3,
     "metadata": {},
     "output_type": "execute_result"
    }
   ],
   "source": [
    "import pandas as pd\n",
    "import sqlite3\n",
    "\n",
    "con = sqlite3.connect(\"data/database.sqlite\")\n",
    "pd.read_sql_query(\"select name from sqlite_master where type ='table'\",con)"
   ],
   "metadata": {
    "collapsed": false,
    "pycharm": {
     "name": "#%%\n"
    }
   }
  },
  {
   "cell_type": "code",
   "execution_count": 4,
   "outputs": [
    {
     "data": {
      "text/plain": "[(0, 'Id', 'INTEGER', 0, None, 1),\n (1, 'ProductId', 'TEXT', 0, None, 0),\n (2, 'UserId', 'TEXT', 0, None, 0),\n (3, 'ProfileName', 'TEXT', 0, None, 0),\n (4, 'HelpfulnessNumerator', 'INTEGER', 0, None, 0),\n (5, 'HelpfulnessDenominator', 'INTEGER', 0, None, 0),\n (6, 'Score', 'INTEGER', 0, None, 0),\n (7, 'Time', 'INTEGER', 0, None, 0),\n (8, 'Summary', 'TEXT', 0, None, 0),\n (9, 'Text', 'TEXT', 0, None, 0)]"
     },
     "execution_count": 4,
     "metadata": {},
     "output_type": "execute_result"
    }
   ],
   "source": [
    "con.execute(\"pragma table_info(Reviews)\").fetchall()"
   ],
   "metadata": {
    "collapsed": false,
    "pycharm": {
     "name": "#%%\n"
    }
   }
  },
  {
   "cell_type": "code",
   "execution_count": 5,
   "outputs": [
    {
     "data": {
      "text/plain": "(5000, 10)"
     },
     "execution_count": 5,
     "metadata": {},
     "output_type": "execute_result"
    }
   ],
   "source": [
    "filtered_data = pd.read_sql_query(\"select * from Reviews where Score != 3 limit 5000\" ,con)\n",
    "filtered_data.shape"
   ],
   "metadata": {
    "collapsed": false,
    "pycharm": {
     "name": "#%%\n"
    }
   }
  },
  {
   "cell_type": "code",
   "execution_count": 6,
   "outputs": [
    {
     "data": {
      "text/plain": "0    5\n1    1\n2    4\n3    2\n4    5\nName: Score, dtype: int64"
     },
     "execution_count": 6,
     "metadata": {},
     "output_type": "execute_result"
    }
   ],
   "source": [
    "filtered_data[\"Score\"].head()"
   ],
   "metadata": {
    "collapsed": false,
    "pycharm": {
     "name": "#%%\n"
    }
   }
  },
  {
   "cell_type": "code",
   "execution_count": 7,
   "outputs": [
    {
     "data": {
      "text/plain": "        Id   ProductId          UserId                      ProfileName  \\\n0        1  B001E4KFG0  A3SGXH7AUHU8GW                       delmartian   \n1        2  B00813GRG4  A1D87F6ZCVE5NK                           dll pa   \n2        3  B000LQOCH0   ABXLMWJIXXAIN  Natalia Corres \"Natalia Corres\"   \n3        4  B000UA0QIQ  A395BORC6FGVXV                             Karl   \n4        5  B006K2ZZ7K  A1UQRSCLF8GW1T    Michael D. Bigham \"M. Wassir\"   \n...    ...         ...             ...                              ...   \n4995  5423  B00622CYVS  A17ASMX6QMO6XY                       E. Harvill   \n4996  5424  B00622CYVS  A32DHN8U74GCAR        Granola Girl \"michele j.\"   \n4997  5425  B00622CYVS  A2YHXAZLCLDT8D          Mark Smith \"Food lover\"   \n4998  5426  B00622CYVS  A2NYT3UXUTBY23                          C&GHoll   \n4999  5427  B00622CYVS  A3EPC08TVAPA0N                          Krissia   \n\n      HelpfulnessNumerator  HelpfulnessDenominator  Score        Time  \\\n0                        1                       1      1  1303862400   \n1                        0                       0      0  1346976000   \n2                        1                       1      1  1219017600   \n3                        3                       3      0  1307923200   \n4                        0                       0      1  1350777600   \n...                    ...                     ...    ...         ...   \n4995                     0                       1      0  1277424000   \n4996                     0                       1      1  1240790400   \n4997                     0                       1      1  1236988800   \n4998                     1                       3      0  1249603200   \n4999                     0                       3      0  1340582400   \n\n                                 Summary  \\\n0                  Good Quality Dog Food   \n1                      Not as Advertised   \n2                  \"Delight\" says it all   \n3                         Cough Medicine   \n4                            Great taffy   \n...                                  ...   \n4995                     Not so tasty...   \n4996                       Food Delivery   \n4997  Dinner time is Earths Best TIme !!   \n4998                  Wrong item shipped   \n4999                      Waste of time.   \n\n                                                   Text  \n0     I have bought several of the Vitality canned d...  \n1     Product arrived labeled as Jumbo Salted Peanut...  \n2     This is a confection that has been around a fe...  \n3     If you are looking for the secret ingredient i...  \n4     Great taffy at a great price.  There was a wid...  \n...                                                 ...  \n4995  My baby didn't seem into these dinners, so I t...  \n4996  This is great!  Organic baby food options - de...  \n4997  My little guy loves to try new foods..so this ...  \n4998  We ordered the Earth's best 2nd dinner variety...  \n4999  My baby loves this food.  At whole foods they ...  \n\n[5000 rows x 10 columns]",
      "text/html": "<div>\n<style scoped>\n    .dataframe tbody tr th:only-of-type {\n        vertical-align: middle;\n    }\n\n    .dataframe tbody tr th {\n        vertical-align: top;\n    }\n\n    .dataframe thead th {\n        text-align: right;\n    }\n</style>\n<table border=\"1\" class=\"dataframe\">\n  <thead>\n    <tr style=\"text-align: right;\">\n      <th></th>\n      <th>Id</th>\n      <th>ProductId</th>\n      <th>UserId</th>\n      <th>ProfileName</th>\n      <th>HelpfulnessNumerator</th>\n      <th>HelpfulnessDenominator</th>\n      <th>Score</th>\n      <th>Time</th>\n      <th>Summary</th>\n      <th>Text</th>\n    </tr>\n  </thead>\n  <tbody>\n    <tr>\n      <th>0</th>\n      <td>1</td>\n      <td>B001E4KFG0</td>\n      <td>A3SGXH7AUHU8GW</td>\n      <td>delmartian</td>\n      <td>1</td>\n      <td>1</td>\n      <td>1</td>\n      <td>1303862400</td>\n      <td>Good Quality Dog Food</td>\n      <td>I have bought several of the Vitality canned d...</td>\n    </tr>\n    <tr>\n      <th>1</th>\n      <td>2</td>\n      <td>B00813GRG4</td>\n      <td>A1D87F6ZCVE5NK</td>\n      <td>dll pa</td>\n      <td>0</td>\n      <td>0</td>\n      <td>0</td>\n      <td>1346976000</td>\n      <td>Not as Advertised</td>\n      <td>Product arrived labeled as Jumbo Salted Peanut...</td>\n    </tr>\n    <tr>\n      <th>2</th>\n      <td>3</td>\n      <td>B000LQOCH0</td>\n      <td>ABXLMWJIXXAIN</td>\n      <td>Natalia Corres \"Natalia Corres\"</td>\n      <td>1</td>\n      <td>1</td>\n      <td>1</td>\n      <td>1219017600</td>\n      <td>\"Delight\" says it all</td>\n      <td>This is a confection that has been around a fe...</td>\n    </tr>\n    <tr>\n      <th>3</th>\n      <td>4</td>\n      <td>B000UA0QIQ</td>\n      <td>A395BORC6FGVXV</td>\n      <td>Karl</td>\n      <td>3</td>\n      <td>3</td>\n      <td>0</td>\n      <td>1307923200</td>\n      <td>Cough Medicine</td>\n      <td>If you are looking for the secret ingredient i...</td>\n    </tr>\n    <tr>\n      <th>4</th>\n      <td>5</td>\n      <td>B006K2ZZ7K</td>\n      <td>A1UQRSCLF8GW1T</td>\n      <td>Michael D. Bigham \"M. Wassir\"</td>\n      <td>0</td>\n      <td>0</td>\n      <td>1</td>\n      <td>1350777600</td>\n      <td>Great taffy</td>\n      <td>Great taffy at a great price.  There was a wid...</td>\n    </tr>\n    <tr>\n      <th>...</th>\n      <td>...</td>\n      <td>...</td>\n      <td>...</td>\n      <td>...</td>\n      <td>...</td>\n      <td>...</td>\n      <td>...</td>\n      <td>...</td>\n      <td>...</td>\n      <td>...</td>\n    </tr>\n    <tr>\n      <th>4995</th>\n      <td>5423</td>\n      <td>B00622CYVS</td>\n      <td>A17ASMX6QMO6XY</td>\n      <td>E. Harvill</td>\n      <td>0</td>\n      <td>1</td>\n      <td>0</td>\n      <td>1277424000</td>\n      <td>Not so tasty...</td>\n      <td>My baby didn't seem into these dinners, so I t...</td>\n    </tr>\n    <tr>\n      <th>4996</th>\n      <td>5424</td>\n      <td>B00622CYVS</td>\n      <td>A32DHN8U74GCAR</td>\n      <td>Granola Girl \"michele j.\"</td>\n      <td>0</td>\n      <td>1</td>\n      <td>1</td>\n      <td>1240790400</td>\n      <td>Food Delivery</td>\n      <td>This is great!  Organic baby food options - de...</td>\n    </tr>\n    <tr>\n      <th>4997</th>\n      <td>5425</td>\n      <td>B00622CYVS</td>\n      <td>A2YHXAZLCLDT8D</td>\n      <td>Mark Smith \"Food lover\"</td>\n      <td>0</td>\n      <td>1</td>\n      <td>1</td>\n      <td>1236988800</td>\n      <td>Dinner time is Earths Best TIme !!</td>\n      <td>My little guy loves to try new foods..so this ...</td>\n    </tr>\n    <tr>\n      <th>4998</th>\n      <td>5426</td>\n      <td>B00622CYVS</td>\n      <td>A2NYT3UXUTBY23</td>\n      <td>C&amp;GHoll</td>\n      <td>1</td>\n      <td>3</td>\n      <td>0</td>\n      <td>1249603200</td>\n      <td>Wrong item shipped</td>\n      <td>We ordered the Earth's best 2nd dinner variety...</td>\n    </tr>\n    <tr>\n      <th>4999</th>\n      <td>5427</td>\n      <td>B00622CYVS</td>\n      <td>A3EPC08TVAPA0N</td>\n      <td>Krissia</td>\n      <td>0</td>\n      <td>3</td>\n      <td>0</td>\n      <td>1340582400</td>\n      <td>Waste of time.</td>\n      <td>My baby loves this food.  At whole foods they ...</td>\n    </tr>\n  </tbody>\n</table>\n<p>5000 rows × 10 columns</p>\n</div>"
     },
     "execution_count": 7,
     "metadata": {},
     "output_type": "execute_result"
    }
   ],
   "source": [
    "def partition(x):\n",
    "    if x < 3:\n",
    "        return 0\n",
    "    return 1\n",
    "\n",
    "filtered_data[\"Score\"] = filtered_data[\"Score\"].map(partition)\n",
    "filtered_data"
   ],
   "metadata": {
    "collapsed": false,
    "pycharm": {
     "name": "#%%\n"
    }
   }
  },
  {
   "cell_type": "markdown",
   "source": [
    "# EDA"
   ],
   "metadata": {
    "collapsed": false,
    "pycharm": {
     "name": "#%% md\n"
    }
   }
  },
  {
   "cell_type": "code",
   "execution_count": 8,
   "outputs": [],
   "source": [
    "display = pd.read_sql_query(\"\"\"select * from reviews where score != 3 and userid ='AR5J8UI46CURR' order by productid\"\"\",con)"
   ],
   "metadata": {
    "collapsed": false,
    "pycharm": {
     "name": "#%%\n"
    }
   }
  },
  {
   "cell_type": "code",
   "execution_count": 9,
   "outputs": [
    {
     "data": {
      "text/plain": "(5, 10)"
     },
     "execution_count": 9,
     "metadata": {},
     "output_type": "execute_result"
    }
   ],
   "source": [
    "display.shape"
   ],
   "metadata": {
    "collapsed": false,
    "pycharm": {
     "name": "#%%\n"
    }
   }
  },
  {
   "cell_type": "code",
   "execution_count": 10,
   "outputs": [
    {
     "data": {
      "text/plain": "       Id   ProductId         UserId      ProfileName  HelpfulnessNumerator  \\\n0   78445  B000HDL1RQ  AR5J8UI46CURR  Geetha Krishnan                     2   \n1  138317  B000HDOPYC  AR5J8UI46CURR  Geetha Krishnan                     2   \n2  138277  B000HDOPYM  AR5J8UI46CURR  Geetha Krishnan                     2   \n3   73791  B000HDOPZG  AR5J8UI46CURR  Geetha Krishnan                     2   \n4  155049  B000PAQ75C  AR5J8UI46CURR  Geetha Krishnan                     2   \n\n   HelpfulnessDenominator  Score        Time  \\\n0                       2      5  1199577600   \n1                       2      5  1199577600   \n2                       2      5  1199577600   \n3                       2      5  1199577600   \n4                       2      5  1199577600   \n\n                             Summary  \\\n0  LOACKER QUADRATINI VANILLA WAFERS   \n1  LOACKER QUADRATINI VANILLA WAFERS   \n2  LOACKER QUADRATINI VANILLA WAFERS   \n3  LOACKER QUADRATINI VANILLA WAFERS   \n4  LOACKER QUADRATINI VANILLA WAFERS   \n\n                                                Text  \n0  DELICIOUS WAFERS. I FIND THAT EUROPEAN WAFERS ...  \n1  DELICIOUS WAFERS. I FIND THAT EUROPEAN WAFERS ...  \n2  DELICIOUS WAFERS. I FIND THAT EUROPEAN WAFERS ...  \n3  DELICIOUS WAFERS. I FIND THAT EUROPEAN WAFERS ...  \n4  DELICIOUS WAFERS. I FIND THAT EUROPEAN WAFERS ...  ",
      "text/html": "<div>\n<style scoped>\n    .dataframe tbody tr th:only-of-type {\n        vertical-align: middle;\n    }\n\n    .dataframe tbody tr th {\n        vertical-align: top;\n    }\n\n    .dataframe thead th {\n        text-align: right;\n    }\n</style>\n<table border=\"1\" class=\"dataframe\">\n  <thead>\n    <tr style=\"text-align: right;\">\n      <th></th>\n      <th>Id</th>\n      <th>ProductId</th>\n      <th>UserId</th>\n      <th>ProfileName</th>\n      <th>HelpfulnessNumerator</th>\n      <th>HelpfulnessDenominator</th>\n      <th>Score</th>\n      <th>Time</th>\n      <th>Summary</th>\n      <th>Text</th>\n    </tr>\n  </thead>\n  <tbody>\n    <tr>\n      <th>0</th>\n      <td>78445</td>\n      <td>B000HDL1RQ</td>\n      <td>AR5J8UI46CURR</td>\n      <td>Geetha Krishnan</td>\n      <td>2</td>\n      <td>2</td>\n      <td>5</td>\n      <td>1199577600</td>\n      <td>LOACKER QUADRATINI VANILLA WAFERS</td>\n      <td>DELICIOUS WAFERS. I FIND THAT EUROPEAN WAFERS ...</td>\n    </tr>\n    <tr>\n      <th>1</th>\n      <td>138317</td>\n      <td>B000HDOPYC</td>\n      <td>AR5J8UI46CURR</td>\n      <td>Geetha Krishnan</td>\n      <td>2</td>\n      <td>2</td>\n      <td>5</td>\n      <td>1199577600</td>\n      <td>LOACKER QUADRATINI VANILLA WAFERS</td>\n      <td>DELICIOUS WAFERS. I FIND THAT EUROPEAN WAFERS ...</td>\n    </tr>\n    <tr>\n      <th>2</th>\n      <td>138277</td>\n      <td>B000HDOPYM</td>\n      <td>AR5J8UI46CURR</td>\n      <td>Geetha Krishnan</td>\n      <td>2</td>\n      <td>2</td>\n      <td>5</td>\n      <td>1199577600</td>\n      <td>LOACKER QUADRATINI VANILLA WAFERS</td>\n      <td>DELICIOUS WAFERS. I FIND THAT EUROPEAN WAFERS ...</td>\n    </tr>\n    <tr>\n      <th>3</th>\n      <td>73791</td>\n      <td>B000HDOPZG</td>\n      <td>AR5J8UI46CURR</td>\n      <td>Geetha Krishnan</td>\n      <td>2</td>\n      <td>2</td>\n      <td>5</td>\n      <td>1199577600</td>\n      <td>LOACKER QUADRATINI VANILLA WAFERS</td>\n      <td>DELICIOUS WAFERS. I FIND THAT EUROPEAN WAFERS ...</td>\n    </tr>\n    <tr>\n      <th>4</th>\n      <td>155049</td>\n      <td>B000PAQ75C</td>\n      <td>AR5J8UI46CURR</td>\n      <td>Geetha Krishnan</td>\n      <td>2</td>\n      <td>2</td>\n      <td>5</td>\n      <td>1199577600</td>\n      <td>LOACKER QUADRATINI VANILLA WAFERS</td>\n      <td>DELICIOUS WAFERS. I FIND THAT EUROPEAN WAFERS ...</td>\n    </tr>\n  </tbody>\n</table>\n</div>"
     },
     "execution_count": 10,
     "metadata": {},
     "output_type": "execute_result"
    }
   ],
   "source": [
    "display"
   ],
   "metadata": {
    "collapsed": false,
    "pycharm": {
     "name": "#%%\n"
    }
   }
  },
  {
   "cell_type": "code",
   "execution_count": 11,
   "outputs": [
    {
     "data": {
      "text/plain": "(4986, 10)"
     },
     "execution_count": 11,
     "metadata": {},
     "output_type": "execute_result"
    }
   ],
   "source": [
    "# let remove the duplicate value\n",
    "final_data = filtered_data.drop_duplicates(subset=[\"UserId\",\"ProfileName\",\"Time\",\"Text\"],keep=\"first\",)\n",
    "final_data.shape"
   ],
   "metadata": {
    "collapsed": false,
    "pycharm": {
     "name": "#%%\n"
    }
   }
  },
  {
   "cell_type": "code",
   "execution_count": 13,
   "outputs": [
    {
     "data": {
      "text/plain": "99.72"
     },
     "execution_count": 13,
     "metadata": {},
     "output_type": "execute_result"
    }
   ],
   "source": [
    "(len(final_data)/len(filtered_data))*100"
   ],
   "metadata": {
    "collapsed": false,
    "pycharm": {
     "name": "#%%\n"
    }
   }
  },
  {
   "cell_type": "code",
   "execution_count": 14,
   "outputs": [
    {
     "data": {
      "text/plain": "(4986, 10)"
     },
     "execution_count": 14,
     "metadata": {},
     "output_type": "execute_result"
    }
   ],
   "source": [
    "final_data = final_data[final_data[\"HelpfulnessNumerator\"]<=final_data[\"HelpfulnessDenominator\"]]\n",
    "final_data.shape"
   ],
   "metadata": {
    "collapsed": false,
    "pycharm": {
     "name": "#%%\n"
    }
   }
  },
  {
   "cell_type": "code",
   "execution_count": 18,
   "outputs": [
    {
     "name": "stdout",
     "output_type": "stream",
     "text": [
      "1    4178\n",
      "0     808\n",
      "Name: Score, dtype: int64\n"
     ]
    }
   ],
   "source": [
    "print(final_data[\"Score\"].value_counts())"
   ],
   "metadata": {
    "collapsed": false,
    "pycharm": {
     "name": "#%%\n"
    }
   }
  },
  {
   "cell_type": "code",
   "execution_count": 17,
   "outputs": [
    {
     "name": "stdout",
     "output_type": "stream",
     "text": [
      "0       1\n",
      "1       0\n",
      "2       1\n",
      "3       0\n",
      "4       1\n",
      "       ..\n",
      "4995    0\n",
      "4996    1\n",
      "4997    1\n",
      "4998    0\n",
      "4999    0\n",
      "Name: Score, Length: 4986, dtype: int64\n"
     ]
    }
   ],
   "source": [
    "print(final_data[\"Score\"])"
   ],
   "metadata": {
    "collapsed": false,
    "pycharm": {
     "name": "#%%\n"
    }
   }
  },
  {
   "cell_type": "markdown",
   "source": [
    "# Text Preprocessing"
   ],
   "metadata": {
    "collapsed": false,
    "pycharm": {
     "name": "#%% md\n"
    }
   }
  },
  {
   "cell_type": "code",
   "execution_count": 19,
   "outputs": [
    {
     "name": "stdout",
     "output_type": "stream",
     "text": [
      "I have bought several of the Vitality canned dog food products and have found them all to be of good quality. The product looks more like a stew than a processed meat and it smells better. My Labrador is finicky and she appreciates this product better than  most.\n",
      "==================================================\n",
      "This is not jerky, this is processed, hard like a rock, very greasy and stale smelling stripe of something that you can't break into anything smaller than 2 inches long and that certainly is not the size of a training treat! The dogs- 45lb dogs that will eat anything- were not impressed, it was hard to chew, and it sounded like they were crunching rocks, most of them spat it out after a few chews, left it there, this would be the first time they would not eat something in their entire lives, these dogs will work for lettuce. Where is a zero star button?\n",
      "==================================================\n",
      "Aboulutely love Popchips!I first tried these healthy chips at a marathon i did in California. I like this variety pack because i got to try alot of the flavors ive never had.\n",
      "==================================================\n",
      "My Pug absolutely adores these treats and will do anything for one.  I can get anything away from her and get her to go anywhere.  They are a big help for me and a wonderful treat for her.\n",
      "==================================================\n"
     ]
    }
   ],
   "source": [
    "# printing some random reviews\n",
    "sent_0 = final_data['Text'].values[0]\n",
    "print(sent_0)\n",
    "print(\"=\"*50)\n",
    "\n",
    "sent_1000 = final_data['Text'].values[1000]\n",
    "print(sent_1000)\n",
    "print(\"=\"*50)\n",
    "\n",
    "sent_1500 = final_data['Text'].values[1500]\n",
    "print(sent_1500)\n",
    "print(\"=\"*50)\n",
    "\n",
    "sent_4900 = final_data['Text'].values[4900]\n",
    "print(sent_4900)\n",
    "print(\"=\"*50)"
   ],
   "metadata": {
    "collapsed": false,
    "pycharm": {
     "name": "#%%\n"
    }
   }
  },
  {
   "cell_type": "code",
   "execution_count": 21,
   "outputs": [
    {
     "data": {
      "text/plain": "'I have bought several of the Vitality canned dog food products and have found them all to be of good quality. The product looks more like a stew than a processed meat and it smells better. My Labrador is finicky and she appreciates this product better than  most.'"
     },
     "execution_count": 21,
     "metadata": {},
     "output_type": "execute_result"
    }
   ],
   "source": [
    "# remove the http\n",
    "import re\n",
    "re.sub(r\"http\\S+\",\"\",sent_0)"
   ],
   "metadata": {
    "collapsed": false,
    "pycharm": {
     "name": "#%%\n"
    }
   }
  },
  {
   "cell_type": "code",
   "execution_count": 22,
   "outputs": [],
   "source": [
    "# https://stackoverflow.com/a/47091490/4084039\n",
    "import re\n",
    "\n",
    "def decontracted(phrase):\n",
    "    # specific\n",
    "    phrase = re.sub(r\"won't\", \"will not\", phrase)\n",
    "    phrase = re.sub(r\"can\\'t\", \"can not\", phrase)\n",
    "\n",
    "    # general\n",
    "    phrase = re.sub(r\"n\\'t\", \" not\", phrase)\n",
    "    phrase = re.sub(r\"\\'re\", \" are\", phrase)\n",
    "    phrase = re.sub(r\"\\'s\", \" is\", phrase)\n",
    "    phrase = re.sub(r\"\\'d\", \" would\", phrase)\n",
    "    phrase = re.sub(r\"\\'ll\", \" will\", phrase)\n",
    "    phrase = re.sub(r\"\\'t\", \" not\", phrase)\n",
    "    phrase = re.sub(r\"\\'ve\", \" have\", phrase)\n",
    "    phrase = re.sub(r\"\\'m\", \" am\", phrase)\n",
    "    return phrase"
   ],
   "metadata": {
    "collapsed": false,
    "pycharm": {
     "name": "#%%\n"
    }
   }
  },
  {
   "cell_type": "code",
   "execution_count": 23,
   "outputs": [
    {
     "name": "stdout",
     "output_type": "stream",
     "text": [
      "I have bought several of the Vitality canned dog food products and have found them all to be of good quality. The product looks more like a stew than a processed meat and it smells better. My Labrador is finicky and she appreciates this product better than  most.\n"
     ]
    }
   ],
   "source": [
    "#remove words with numbers python: https://stackoverflow.com/a/18082370/4084039\n",
    "sent_0 = re.sub(\"\\S*\\d\\S*\", \"\", sent_0).strip()\n",
    "print(sent_0)"
   ],
   "metadata": {
    "collapsed": false,
    "pycharm": {
     "name": "#%%\n"
    }
   }
  },
  {
   "cell_type": "code",
   "execution_count": 24,
   "outputs": [
    {
     "name": "stdout",
     "output_type": "stream",
     "text": [
      "Aboulutely love Popchips I first tried these healthy chips at a marathon i did in California I like this variety pack because i got to try alot of the flavors ive never had \n"
     ]
    }
   ],
   "source": [
    "#remove spacial character: https://stackoverflow.com/a/5843547/4084039\n",
    "sent_1500 = re.sub('[^A-Za-z0-9]+', ' ', sent_1500)\n",
    "print(sent_1500)"
   ],
   "metadata": {
    "collapsed": false,
    "pycharm": {
     "name": "#%%\n"
    }
   }
  },
  {
   "cell_type": "code",
   "execution_count": 25,
   "outputs": [],
   "source": [
    "stopwords= {'br', 'the', 'i', 'me', 'my', 'myself', 'we', 'our', 'ours', 'ourselves', 'you', \"you're\", \"you've\",\n",
    "            \"you'll\", \"you'd\", 'your', 'yours', 'yourself', 'yourselves', 'he', 'him', 'his', 'himself', 'she', \"she's\",\n",
    "            'her', 'hers', 'herself', 'it', \"it's\", 'its', 'itself', 'they', 'them', 'their', 'theirs', 'themselves',\n",
    "            'what', 'which', 'who', 'whom', 'this', 'that', \"that'll\", 'these', 'those', 'am', 'is', 'are', 'was',\n",
    "            'were', 'be', 'been', 'being', 'have', 'has', 'had', 'having', 'do', 'does', 'did', 'doing', 'a', 'an',\n",
    "            'the', 'and', 'but', 'if', 'or', 'because', 'as', 'until', 'while', 'of', 'at', 'by', 'for', 'with',\n",
    "            'about', 'against', 'between', 'into', 'through', 'during', 'before', 'after', 'above', 'below', 'to',\n",
    "            'from', 'up', 'down', 'in', 'out', 'on', 'off', 'over', 'under', 'again', 'further', 'then', 'once', 'here',\n",
    "            'there', 'when', 'where', 'why', 'how', 'all', 'any', 'both', 'each', 'few', 'more', 'most', 'other',\n",
    "            'some', 'such', 'only', 'own', 'same', 'so', 'than', 'too', 'very', 's', 't', 'can', 'will', 'just', 'don',\n",
    "            \"don't\", 'should', \"should've\", 'now', 'd', 'll', 'm', 'o', 're', 've', 'y', 'ain', 'aren', \"aren't\",\n",
    "            'couldn', \"couldn't\", 'didn', \"didn't\", 'doesn', \"doesn't\", 'hadn', \"hadn't\", 'hasn', \"hasn't\", 'haven',\n",
    "            \"haven't\", 'isn', \"isn't\", 'ma', 'mightn', \"mightn't\", 'mustn', \"mustn't\", 'needn', \"needn't\", 'shan',\n",
    "            \"shan't\", 'shouldn', \"shouldn't\", 'wasn', \"wasn't\", 'weren', \"weren't\", 'won', \"won't\", 'wouldn',\n",
    "            \"wouldn't\"}"
   ],
   "metadata": {
    "collapsed": false,
    "pycharm": {
     "name": "#%%\n"
    }
   }
  },
  {
   "cell_type": "code",
   "execution_count": 34,
   "outputs": [
    {
     "name": "stderr",
     "output_type": "stream",
     "text": [
      "  0%|          | 0/4986 [00:00<?, ?it/s]C:\\Users\\Lenovo\\anaconda3\\lib\\site-packages\\bs4\\__init__.py:435: MarkupResemblesLocatorWarning: The input looks more like a filename than markup. You may want to open this file and pass the filehandle into Beautiful Soup.\n",
      "  warnings.warn(\n",
      "100%|██████████| 4986/4986 [00:02<00:00, 2270.37it/s]\n"
     ]
    }
   ],
   "source": [
    "from tqdm import tqdm\n",
    "from bs4 import BeautifulSoup\n",
    "\n",
    "\n",
    "preprocessed_reviews = []\n",
    "\n",
    "\n",
    "for sentence in tqdm(final_data[\"Text\"].values):\n",
    "    sentence = re.sub(r\"http\\S+\",\"\",sentence)\n",
    "    sentence = BeautifulSoup(sentence,\"lxml\").get_text()\n",
    "    sentence = decontracted(sentence)\n",
    "    sentence = re.sub(\"\\S*\\d\\S*\",\"\",sentence).strip()\n",
    "    sentence= re.sub(\"[^A-Za-z]+\",\" \",sentence)\n",
    "    sentence = \" \".join([e.lower() for e in sentence.split() if e.lower() not in stopwords])\n",
    "    preprocessed_reviews.append(sentence.strip())"
   ],
   "metadata": {
    "collapsed": false,
    "pycharm": {
     "name": "#%%\n"
    }
   }
  },
  {
   "cell_type": "markdown",
   "source": [
    "# Bag of Words"
   ],
   "metadata": {
    "collapsed": false,
    "pycharm": {
     "name": "#%% md\n"
    }
   }
  },
  {
   "cell_type": "code",
   "execution_count": 36,
   "outputs": [
    {
     "name": "stdout",
     "output_type": "stream",
     "text": [
      "(4986, 12997)\n",
      "<class 'scipy.sparse.csr.csr_matrix'>\n"
     ]
    }
   ],
   "source": [
    "from sklearn.feature_extraction.text import CountVectorizer\n",
    "\n",
    "count_vect = CountVectorizer()\n",
    "count_vect.fit(preprocessed_reviews)\n",
    "\n",
    "final_counts = count_vect.transform(preprocessed_reviews)\n",
    "print(final_counts.shape)\n",
    "print(type(final_counts))"
   ],
   "metadata": {
    "collapsed": false,
    "pycharm": {
     "name": "#%%\n"
    }
   }
  },
  {
   "cell_type": "code",
   "execution_count": 37,
   "outputs": [
    {
     "name": "stdout",
     "output_type": "stream",
     "text": [
      "['aa' 'aahhhs' 'aback' ... 'zucchini' 'zupas' 'zuppa']\n"
     ]
    }
   ],
   "source": [
    "print(count_vect.get_feature_names_out())"
   ],
   "metadata": {
    "collapsed": false,
    "pycharm": {
     "name": "#%%\n"
    }
   }
  },
  {
   "cell_type": "markdown",
   "source": [
    "# bi-grams and n- grams"
   ],
   "metadata": {
    "collapsed": false,
    "pycharm": {
     "name": "#%% md\n"
    }
   }
  },
  {
   "cell_type": "code",
   "execution_count": 38,
   "outputs": [
    {
     "data": {
      "text/plain": "(4986, 137837)"
     },
     "execution_count": 38,
     "metadata": {},
     "output_type": "execute_result"
    }
   ],
   "source": [
    "count_vect = CountVectorizer(ngram_range=(1,2))\n",
    "final_bigrams = count_vect.fit_transform(preprocessed_reviews)\n",
    "final_bigrams.shape"
   ],
   "metadata": {
    "collapsed": false,
    "pycharm": {
     "name": "#%%\n"
    }
   }
  },
  {
   "cell_type": "code",
   "execution_count": 40,
   "outputs": [
    {
     "name": "stdout",
     "output_type": "stream",
     "text": [
      "['aa' 'aa sumatra' 'aahhhs' ... 'zupas pathetic' 'zuppa' 'zuppa engelesia']\n"
     ]
    }
   ],
   "source": [
    "print(count_vect.get_feature_names_out())"
   ],
   "metadata": {
    "collapsed": false,
    "pycharm": {
     "name": "#%%\n"
    }
   }
  },
  {
   "cell_type": "markdown",
   "source": [
    "# TF-IDF"
   ],
   "metadata": {
    "collapsed": false,
    "pycharm": {
     "name": "#%% md\n"
    }
   }
  },
  {
   "cell_type": "code",
   "execution_count": 41,
   "outputs": [
    {
     "data": {
      "text/plain": "(4986, 137837)"
     },
     "execution_count": 41,
     "metadata": {},
     "output_type": "execute_result"
    }
   ],
   "source": [
    "from sklearn.feature_extraction.text import TfidfVectorizer\n",
    "tf_idf_vect = TfidfVectorizer(ngram_range=(1,2))\n",
    "final_tf_idf = tf_idf_vect.fit_transform(preprocessed_reviews)\n",
    "\n",
    "final_tf_idf.shape"
   ],
   "metadata": {
    "collapsed": false,
    "pycharm": {
     "name": "#%%\n"
    }
   }
  },
  {
   "cell_type": "code",
   "execution_count": 46,
   "outputs": [
    {
     "name": "stdout",
     "output_type": "stream",
     "text": [
      "[0.18512007 0.18512007 0.18512007 0.18512007 0.18512007 0.18512007\n",
      " 0.10770806 0.18512007 0.18512007 0.18512007 0.18512007 0.18512007\n",
      " 0.18512007 0.18512007 0.18512007 0.18512007 0.18512007 0.13901079\n",
      " 0.18512007 0.16589149 0.13386683 0.15602835 0.08619514 0.03415098\n",
      " 0.15355665 0.12566441 0.0854555  0.08827067 0.25520578 0.13211705\n",
      " 0.35322257 0.15602835 0.09672757 0.11223086]\n"
     ]
    }
   ],
   "source": [
    "print(final_tf_idf[1].data)"
   ],
   "metadata": {
    "collapsed": false,
    "pycharm": {
     "name": "#%%\n"
    }
   }
  },
  {
   "cell_type": "code",
   "execution_count": 49,
   "outputs": [
    {
     "name": "stdout",
     "output_type": "stream",
     "text": [
      "[ 95211 101171  61471 130863  38597 117897  81903 128605 109910 110495\n",
      "    676  89048  89069 104096  62867  64600   5921  94975 101170  61468\n",
      " 130854  38589 117847  80803 128601 109882 110348    558  89047 104083\n",
      "  62865  64598   5878  94949]\n"
     ]
    }
   ],
   "source": [
    "print(final_tf_idf[1].indices)"
   ],
   "metadata": {
    "collapsed": false,
    "pycharm": {
     "name": "#%%\n"
    }
   }
  },
  {
   "cell_type": "code",
   "execution_count": 52,
   "outputs": [
    {
     "name": "stdout",
     "output_type": "stream",
     "text": [
      "  (0, 95211)\t0.18512006600681238\n",
      "  (0, 101171)\t0.18512006600681238\n",
      "  (0, 61471)\t0.18512006600681238\n",
      "  (0, 130863)\t0.18512006600681238\n",
      "  (0, 38597)\t0.18512006600681238\n",
      "  (0, 117897)\t0.18512006600681238\n",
      "  (0, 81903)\t0.1077080556285421\n",
      "  (0, 128605)\t0.18512006600681238\n",
      "  (0, 109910)\t0.18512006600681238\n",
      "  (0, 110495)\t0.18512006600681238\n",
      "  (0, 676)\t0.18512006600681238\n",
      "  (0, 89048)\t0.18512006600681238\n",
      "  (0, 89069)\t0.18512006600681238\n",
      "  (0, 104096)\t0.18512006600681238\n",
      "  (0, 62867)\t0.18512006600681238\n",
      "  (0, 64600)\t0.18512006600681238\n",
      "  (0, 5921)\t0.18512006600681238\n",
      "  (0, 94975)\t0.13901078705098982\n",
      "  (0, 101170)\t0.18512006600681238\n",
      "  (0, 61468)\t0.16589148764645154\n",
      "  (0, 130854)\t0.13386683412402858\n",
      "  (0, 38589)\t0.15602834999785767\n",
      "  (0, 117847)\t0.08619514175990735\n",
      "  (0, 80803)\t0.03415098092479426\n",
      "  (0, 128601)\t0.15355664505546718\n",
      "  (0, 109882)\t0.1256644119194074\n",
      "  (0, 110348)\t0.08545549736806055\n",
      "  (0, 558)\t0.08827066721492412\n",
      "  (0, 89047)\t0.2552057759081932\n",
      "  (0, 104083)\t0.13211705128161333\n",
      "  (0, 62865)\t0.3532225690667569\n",
      "  (0, 64598)\t0.15602834999785767\n",
      "  (0, 5878)\t0.09672756921271768\n",
      "  (0, 94949)\t0.11223086491629822\n"
     ]
    }
   ],
   "source": [
    "print(final_tf_idf[1])"
   ],
   "metadata": {
    "collapsed": false,
    "pycharm": {
     "name": "#%%\n"
    }
   }
  },
  {
   "cell_type": "markdown",
   "source": [
    "# Word 2 Vec"
   ],
   "metadata": {
    "collapsed": false,
    "pycharm": {
     "name": "#%% md\n"
    }
   }
  },
  {
   "cell_type": "code",
   "execution_count": 58,
   "outputs": [
    {
     "data": {
      "text/plain": "[['bought',\n  'several',\n  'vitality',\n  'canned',\n  'dog',\n  'food',\n  'products',\n  'found',\n  'good',\n  'quality',\n  'product',\n  'looks',\n  'like',\n  'stew',\n  'processed',\n  'meat',\n  'smells',\n  'better',\n  'labrador',\n  'finicky',\n  'appreciates',\n  'product',\n  'better'],\n ['product',\n  'arrived',\n  'labeled',\n  'jumbo',\n  'salted',\n  'peanuts',\n  'peanuts',\n  'actually',\n  'small',\n  'sized',\n  'unsalted',\n  'not',\n  'sure',\n  'error',\n  'vendor',\n  'intended',\n  'represent',\n  'product',\n  'jumbo']]"
     },
     "execution_count": 58,
     "metadata": {},
     "output_type": "execute_result"
    }
   ],
   "source": [
    "list_of_word = [sentence.split() for sentence in preprocessed_reviews]\n",
    "list_of_word[:2]"
   ],
   "metadata": {
    "collapsed": false,
    "pycharm": {
     "name": "#%%\n"
    }
   }
  },
  {
   "cell_type": "code",
   "execution_count": 60,
   "outputs": [
    {
     "data": {
      "text/plain": "[('excellent', 0.9902483820915222),\n ('alternative', 0.9895371198654175),\n ('tasty', 0.9892227053642273),\n ('regular', 0.989077627658844),\n ('snack', 0.9886667132377625),\n ('chewy', 0.9885573983192444),\n ('licorice', 0.9884496331214905),\n ('though', 0.9884100556373596),\n ('either', 0.9883403778076172),\n ('amazing', 0.9883047938346863)]"
     },
     "execution_count": 60,
     "metadata": {},
     "output_type": "execute_result"
    }
   ],
   "source": [
    "from gensim.models import Word2Vec\n",
    "\n",
    "w2v_model = Word2Vec(list_of_word,min_count=2,workers=4,vector_size=50)\n",
    "w2v_model.wv.most_similar(\"great\")"
   ],
   "metadata": {
    "collapsed": false,
    "pycharm": {
     "name": "#%%\n"
    }
   }
  },
  {
   "cell_type": "code",
   "execution_count": 61,
   "outputs": [
    {
     "data": {
      "text/plain": "[('bitter', 0.9948434829711914),\n ('strong', 0.9935378432273865),\n ('taste', 0.9934603571891785),\n ('sweet', 0.9915247559547424),\n ('flavor', 0.9908263683319092),\n ('tastes', 0.9895326495170593),\n ('rich', 0.9842400550842285),\n ('dark', 0.981838583946228),\n ('really', 0.9803654551506042),\n ('smooth', 0.9781405925750732)]"
     },
     "execution_count": 61,
     "metadata": {},
     "output_type": "execute_result"
    }
   ],
   "source": [
    "w2v_model.wv.most_similar(\"like\")"
   ],
   "metadata": {
    "collapsed": false,
    "pycharm": {
     "name": "#%%\n"
    }
   }
  },
  {
   "cell_type": "code",
   "execution_count": 64,
   "outputs": [
    {
     "data": {
      "text/plain": "{'not': 0,\n 'like': 1,\n 'good': 2,\n 'great': 3,\n 'taste': 4,\n 'one': 5,\n 'product': 6,\n 'would': 7,\n 'flavor': 8,\n 'love': 9,\n 'coffee': 10,\n 'food': 11,\n 'chips': 12,\n 'tea': 13,\n 'no': 14,\n 'really': 15,\n 'get': 16,\n 'best': 17,\n 'much': 18,\n 'amazon': 19,\n 'use': 20,\n 'time': 21,\n 'buy': 22,\n 'also': 23,\n 'tried': 24,\n 'little': 25,\n 'find': 26,\n 'make': 27,\n 'price': 28,\n 'better': 29,\n 'bag': 30,\n 'try': 31,\n 'even': 32,\n 'mix': 33,\n 'well': 34,\n 'chocolate': 35,\n 'hot': 36,\n 'eat': 37,\n 'free': 38,\n 'water': 39,\n 'dog': 40,\n 'first': 41,\n 'made': 42,\n 'could': 43,\n 'found': 44,\n 'used': 45,\n 'bought': 46,\n 'box': 47,\n 'sugar': 48,\n 'cup': 49,\n 'flavors': 50,\n 'sweet': 51,\n 'recommend': 52,\n 'brand': 53,\n 'delicious': 54,\n 'since': 55,\n 'store': 56,\n 'order': 57,\n 'way': 58,\n 'many': 59,\n 'go': 60,\n 'think': 61,\n 'two': 62,\n 'favorite': 63,\n 'still': 64,\n 'know': 65,\n 'gluten': 66,\n 'salt': 67,\n 'nice': 68,\n 'tastes': 69,\n 'add': 70,\n 'got': 71,\n 'makes': 72,\n 'drink': 73,\n 'bit': 74,\n 'without': 75,\n 'ever': 76,\n 'quality': 77,\n 'say': 78,\n 'every': 79,\n 'bags': 80,\n 'products': 81,\n 'easy': 82,\n 'give': 83,\n 'never': 84,\n 'right': 85,\n 'years': 86,\n 'regular': 87,\n 'organic': 88,\n 'ordered': 89,\n 'want': 90,\n 'ingredients': 91,\n 'day': 92,\n 'always': 93,\n 'snack': 94,\n 'lot': 95,\n 'something': 96,\n 'different': 97,\n 'healthy': 98,\n 'enough': 99,\n 'old': 100,\n 'loves': 101,\n 'using': 102,\n 'perfect': 103,\n 'small': 104,\n 'tasty': 105,\n 'potato': 106,\n 'pack': 107,\n 'eating': 108,\n 'less': 109,\n 'stuff': 110,\n 'brands': 111,\n 'shipping': 112,\n 'pancakes': 113,\n 'cookies': 114,\n 'whole': 115,\n 'local': 116,\n 'hard': 117,\n 'size': 118,\n 'bad': 119,\n 'far': 120,\n 'excellent': 121,\n 'enjoy': 122,\n 'thing': 123,\n 'sure': 124,\n 'fresh': 125,\n 'family': 126,\n 'high': 127,\n 'cocoa': 128,\n 'milk': 129,\n 'definitely': 130,\n 'foods': 131,\n 'though': 132,\n 'put': 133,\n 'keep': 134,\n 'long': 135,\n 'back': 136,\n 'happy': 137,\n 'need': 138,\n 'however': 139,\n 'highly': 140,\n 'purchase': 141,\n 'k': 142,\n 'green': 143,\n 'pretty': 144,\n 'looking': 145,\n 'thought': 146,\n 'per': 147,\n 'buying': 148,\n 'dogs': 149,\n 'cups': 150,\n 'anything': 151,\n 'strong': 152,\n 'sauce': 153,\n 'year': 154,\n 'oil': 155,\n 'natural': 156,\n 'low': 157,\n 'actually': 158,\n 'tasted': 159,\n 'new': 160,\n 'big': 161,\n 'wonderful': 162,\n 'fat': 163,\n 'calories': 164,\n 'almost': 165,\n 'going': 166,\n 'see': 167,\n 'take': 168,\n 'diet': 169,\n 'came': 170,\n 'people': 171,\n 'chicken': 172,\n 'case': 173,\n 'real': 174,\n 'stores': 175,\n 'grocery': 176,\n 'reviews': 177,\n 'coconut': 178,\n 'purchased': 179,\n 'work': 180,\n 'feel': 181,\n 'away': 182,\n 'rice': 183,\n 'another': 184,\n 'expensive': 185,\n 'full': 186,\n 'husband': 187,\n 'may': 188,\n 'kettle': 189,\n 'loved': 190,\n 'worth': 191,\n 'dark': 192,\n 'usually': 193,\n 'texture': 194,\n 'last': 195,\n 'variety': 196,\n 'half': 197,\n 'chip': 198,\n 'things': 199,\n 'amount': 200,\n 'package': 201,\n 'company': 202,\n 'home': 203,\n 'around': 204,\n 'quite': 205,\n 'ones': 206,\n 'problem': 207,\n 'light': 208,\n 'said': 209,\n 'white': 210,\n 'item': 211,\n 'bisquick': 212,\n 'several': 213,\n 'us': 214,\n 'cream': 215,\n 'tasting': 216,\n 'three': 217,\n 'making': 218,\n 'baby': 219,\n 'money': 220,\n 'treat': 221,\n 'cake': 222,\n 'instead': 223,\n 'added': 224,\n 'trying': 225,\n 'months': 226,\n 'come': 227,\n 'vinegar': 228,\n 'able': 229,\n 'probably': 230,\n 'kids': 231,\n 'bitter': 232,\n 'everyone': 233,\n 'received': 234,\n 'corn': 235,\n 'deal': 236,\n 'arrived': 237,\n 'especially': 238,\n 'ago': 239,\n 'getting': 240,\n 'available': 241,\n 'oz': 242,\n 'butter': 243,\n 'decided': 244,\n 'popcorn': 245,\n 'days': 246,\n 'wish': 247,\n 'recipe': 248,\n 'others': 249,\n 'nothing': 250,\n 'seems': 251,\n 'comes': 252,\n 'son': 253,\n 'times': 254,\n 'health': 255,\n 'ordering': 256,\n 'kind': 257,\n 'spicy': 258,\n 'dry': 259,\n 'newman': 260,\n 'look': 261,\n 'smooth': 262,\n 'cat': 263,\n 'might': 264,\n 'fruit': 265,\n 'plus': 266,\n 'everything': 267,\n 'couple': 268,\n 'cheaper': 269,\n 'bread': 270,\n 'drinking': 271,\n 'absolutely': 272,\n 'open': 273,\n 'top': 274,\n 'powder': 275,\n 'review': 276,\n 'works': 277,\n 'liked': 278,\n 'blend': 279,\n 'bottle': 280,\n 'save': 281,\n 'either': 282,\n 'amazing': 283,\n 'least': 284,\n 'fact': 285,\n 'disappointed': 286,\n 'flour': 287,\n 'maybe': 288,\n 'large': 289,\n 'packaging': 290,\n 'decaf': 291,\n 'weight': 292,\n 'black': 293,\n 'calorie': 294,\n 'gave': 295,\n 'went': 296,\n 'fine': 297,\n 'gift': 298,\n 'rich': 299,\n 'friends': 300,\n 'thank': 301,\n 'stars': 302,\n 'wanted': 303,\n 'read': 304,\n 'believe': 305,\n 'anyone': 306,\n 'waffles': 307,\n 'started': 308,\n 'candy': 309,\n 'although': 310,\n 'juice': 311,\n 'extra': 312,\n 'glad': 313,\n 'flavored': 314,\n 'salty': 315,\n 'rather': 316,\n 'daughter': 317,\n 'keurig': 318,\n 'cats': 319,\n 'must': 320,\n 'boxes': 321,\n 'smell': 322,\n 'fast': 323,\n 'yet': 324,\n 'baked': 325,\n 'gf': 326,\n 'else': 327,\n 'market': 328,\n 'likes': 329,\n 'pancake': 330,\n 'crunchy': 331,\n 'let': 332,\n 'snacks': 333,\n 'etc': 334,\n 'morning': 335,\n 'quick': 336,\n 'alternative': 337,\n 'wheat': 338,\n 'energy': 339,\n 'pepper': 340,\n 'cost': 341,\n 'licorice': 342,\n 'says': 343,\n 'biscuits': 344,\n 'took': 345,\n 'serving': 346,\n 'soft': 347,\n 'plain': 348,\n 'mouth': 349,\n 'cheese': 350,\n 'cookie': 351,\n 'super': 352,\n 'single': 353,\n 'recommended': 354,\n 'seem': 355,\n 'house': 356,\n 'healthier': 357,\n 'next': 358,\n 'month': 359,\n 'problems': 360,\n 'treats': 361,\n 'syrup': 362,\n 'week': 363,\n 'formula': 364,\n 'meal': 365,\n 'side': 366,\n 'plastic': 367,\n 'honey': 368,\n 'recently': 369,\n 'baking': 370,\n 'original': 371,\n 'online': 372,\n 'soup': 373,\n 'prefer': 374,\n 'thanks': 375,\n 'meat': 376,\n 'breakfast': 377,\n 'beans': 378,\n 'gum': 379,\n 'pop': 380,\n 'yummy': 381,\n 'popchips': 382,\n 'aftertaste': 383,\n 'crackers': 384,\n 'longer': 385,\n 'minutes': 386,\n 'fan': 387,\n 'second': 388,\n 'soy': 389,\n 'type': 390,\n 'version': 391,\n 'looked': 392,\n 'brown': 393,\n 'reason': 394,\n 'shipped': 395,\n 'artificial': 396,\n 'protein': 397,\n 'difference': 398,\n 'pasta': 399,\n 'pineapple': 400,\n 'recipes': 401,\n 'weeks': 402,\n 'tell': 403,\n 'teas': 404,\n 'packaged': 405,\n 'awesome': 406,\n 'often': 407,\n 'easily': 408,\n 'ingredient': 409,\n 'service': 410,\n 'surprised': 411,\n 'crunch': 412,\n 'course': 413,\n 'goes': 414,\n 'hand': 415,\n 'opened': 416,\n 'cut': 417,\n 'subscribe': 418,\n 'choice': 419,\n 'pleased': 420,\n 'value': 421,\n 'cans': 422,\n 'slightly': 423,\n 'thin': 424,\n 'red': 425,\n 'quickly': 426,\n 'flavorful': 427,\n 'sodium': 428,\n 'feed': 429,\n 'part': 430,\n 'cooking': 431,\n 'bottles': 432,\n 'canned': 433,\n 'ate': 434,\n 'someone': 435,\n 'peanut': 436,\n 'cannot': 437,\n 'sour': 438,\n 'enjoyed': 439,\n 'along': 440,\n 'cheap': 441,\n 'care': 442,\n 'vanilla': 443,\n 'items': 444,\n 'mixes': 445,\n 'dinner': 446,\n 'ground': 447,\n 'delivery': 448,\n 'wrong': 449,\n 'smaller': 450,\n 'larger': 451,\n 'christmas': 452,\n 'spice': 453,\n 'please': 454,\n 'needed': 455,\n 'heat': 456,\n 'unfortunately': 457,\n 'cold': 458,\n 'nuts': 459,\n 'soon': 460,\n 'place': 461,\n 'line': 462,\n 'overall': 463,\n 'idea': 464,\n 'bbq': 465,\n 'color': 466,\n 'oreo': 467,\n 'eaten': 468,\n 'label': 469,\n 'cook': 470,\n 'saw': 471,\n 'compared': 472,\n 'run': 473,\n 'life': 474,\n 'bottom': 475,\n 'past': 476,\n 'ginger': 477,\n 'due': 478,\n 'feeding': 479,\n 'stick': 480,\n 'mic': 481,\n 'instant': 482,\n 'clean': 483,\n 'list': 484,\n 'sometimes': 485,\n 'pieces': 486,\n 'mixed': 487,\n 'fantastic': 488,\n 'finally': 489,\n 'live': 490,\n 'ice': 491,\n 'waffle': 492,\n 'exactly': 493,\n 'special': 494,\n 'tomatoes': 495,\n 'non': 496,\n 'guess': 497,\n 'sold': 498,\n 'drinks': 499,\n 'hope': 500,\n 'potatoes': 501,\n 'experience': 502,\n 'wife': 503,\n 'done': 504,\n 'earth': 505,\n 'yes': 506,\n 'name': 507,\n 'icicle': 508,\n 'noticed': 509,\n 'blue': 510,\n 'end': 511,\n 'bars': 512,\n 'egg': 513,\n 'roast': 514,\n 'purchasing': 515,\n 'cereal': 516,\n 'cinnamon': 517,\n 'difficult': 518,\n 'fish': 519,\n 'inside': 520,\n 'thick': 521,\n 'ok': 522,\n 'help': 523,\n 'pet': 524,\n 'bar': 525,\n 'garlic': 526,\n 'grass': 527,\n 'stevia': 528,\n 'picky': 529,\n 'issues': 530,\n 'container': 531,\n 'results': 532,\n 'iced': 533,\n 'sweetener': 534,\n 'left': 535,\n 'raw': 536,\n 'sea': 537,\n 'given': 538,\n 'together': 539,\n 'oatmeal': 540,\n 'customer': 541,\n 'carry': 542,\n 'aroma': 543,\n 'expect': 544,\n 'gives': 545,\n 'discovered': 546,\n 'packs': 547,\n 'gets': 548,\n 'helps': 549,\n 'apple': 550,\n 'coffees': 551,\n 'seeds': 552,\n 'expected': 553,\n 'stomach': 554,\n 'com': 555,\n 'close': 556,\n 'crisp': 557,\n 'normal': 558,\n 'packet': 559,\n 'mine': 560,\n 'none': 561,\n 'priced': 562,\n 'lots': 563,\n 'stock': 564,\n 'bulk': 565,\n 'change': 566,\n 'pay': 567,\n 'olive': 568,\n 'beef': 569,\n 'contains': 570,\n 'remember': 571,\n 'fiber': 572,\n 'grain': 573,\n 'already': 574,\n 'looks': 575,\n 'cooked': 576,\n 'adding': 577,\n 'takes': 578,\n 'waste': 579,\n 'truly': 580,\n 'contain': 581,\n 'later': 582,\n 'sale': 583,\n 'similar': 584,\n 'brew': 585,\n 'salad': 586,\n 'body': 587,\n 'friend': 588,\n 'pie': 589,\n 'rest': 590,\n 'cheddar': 591,\n 'told': 592,\n 'needs': 593,\n 'convenient': 594,\n 'pound': 595,\n 'website': 596,\n 'broken': 597,\n 'varieties': 598,\n 'wow': 599,\n 'gone': 600,\n 'mind': 601,\n 'reasonable': 602,\n 'higher': 603,\n 'unless': 604,\n 'packets': 605,\n 'content': 606,\n 'four': 607,\n 'crispy': 608,\n 'tiny': 609,\n 'air': 610,\n 'giving': 611,\n 'packed': 612,\n 'sell': 613,\n 'set': 614,\n 'mild': 615,\n 'called': 616,\n 'hit': 617,\n 'machine': 618,\n 'bowl': 619,\n 'melitta': 620,\n 'huge': 621,\n 'night': 622,\n 'sent': 623,\n 'point': 624,\n 'today': 625,\n 'serve': 626,\n 'continue': 627,\n 'delivered': 628,\n 'lemon': 629,\n 'eats': 630,\n 'grove': 631,\n 'stale': 632,\n 'starbucks': 633,\n 'square': 634,\n 'finding': 635,\n 'stop': 636,\n 'peppermint': 637,\n 'maker': 638,\n 'note': 639,\n 'option': 640,\n 'six': 641,\n 'within': 642,\n 'start': 643,\n 'opinion': 644,\n 'anymore': 645,\n 'true': 646,\n 'locally': 647,\n 'mostly': 648,\n 'oh': 649,\n 'french': 650,\n 'summer': 651,\n 'totally': 652,\n 'bean': 653,\n 'pot': 654,\n 'simply': 655,\n 'hooked': 656,\n 'switched': 657,\n 'date': 658,\n 'onion': 659,\n 'immediately': 660,\n 'issue': 661,\n 'mint': 662,\n 'entire': 663,\n 'completely': 664,\n 'lunch': 665,\n 'weak': 666,\n 'seasoning': 667,\n 'beat': 668,\n 'eggs': 669,\n 'stay': 670,\n 'five': 671,\n 'based': 672,\n 'caffeine': 673,\n 'vet': 674,\n 'substitute': 675,\n 'world': 676,\n 'packages': 677,\n 'worked': 678,\n 'mini': 679,\n 'wait': 680,\n 'bold': 681,\n 'favorites': 682,\n 'short': 683,\n 'fluffy': 684,\n 'seller': 685,\n 'refreshing': 686,\n 'wine': 687,\n 'plan': 688,\n 'reading': 689,\n 'extremely': 690,\n 'muffins': 691,\n 'leaves': 692,\n 'balance': 693,\n 'awful': 694,\n 'sweetness': 695,\n 'bite': 696,\n 'yum': 697,\n 'cakes': 698,\n 'fun': 699,\n 'greasy': 700,\n 'thai': 701,\n 'batch': 702,\n 'heavy': 703,\n 'certainly': 704,\n 'otherwise': 705,\n 'combination': 706,\n 'impressed': 707,\n 'return': 708,\n 'convenience': 709,\n 'control': 710,\n 'celiac': 711,\n 'gourmet': 712,\n 'whatever': 713,\n 'miss': 714,\n 'fried': 715,\n 'filling': 716,\n 'stopped': 717,\n 'changed': 718,\n 'leave': 719,\n 'jar': 720,\n 'hint': 721,\n 'keeps': 722,\n 'lime': 723,\n 'hours': 724,\n 'loose': 725,\n 'turned': 726,\n 'twice': 727,\n 'seemed': 728,\n 'perfectly': 729,\n 'skin': 730,\n 'seen': 731,\n 'area': 732,\n 'unique': 733,\n 'forward': 734,\n 'easier': 735,\n 'simple': 736,\n 'ounce': 737,\n 'party': 738,\n 'addition': 739,\n 'glass': 740,\n 'nicely': 741,\n 'excited': 742,\n 'individual': 743,\n 'hate': 744,\n 'kick': 745,\n 'become': 746,\n 'usual': 747,\n 'star': 748,\n 'children': 749,\n 'microwave': 750,\n 'clear': 751,\n 'consistency': 752,\n 'vegetable': 753,\n 'cherry': 754,\n 'heard': 755,\n 'chocolates': 756,\n 'chowder': 757,\n 'dried': 758,\n 'allergies': 759,\n 'throw': 760,\n 'weird': 761,\n 'suggest': 762,\n 'reviewer': 763,\n 'setting': 764,\n 'acid': 765,\n 'usb': 766,\n 'pods': 767,\n 'nearly': 768,\n 'dish': 769,\n 'carb': 770,\n 'e': 771,\n 'lower': 772,\n 'terrible': 773,\n 'particular': 774,\n 'kitchen': 775,\n 'bland': 776,\n 'farms': 777,\n 'shipment': 778,\n 'crisps': 779,\n 'creamy': 780,\n 'nutrition': 781,\n 'shop': 782,\n 'decent': 783,\n 'notice': 784,\n 'chance': 785,\n 'person': 786,\n 'noodles': 787,\n 'sort': 788,\n 'bigger': 789,\n 'allergy': 790,\n 'vegetables': 791,\n 'unlike': 792,\n 'sticks': 793,\n 'number': 794,\n 'sound': 795,\n 'anywhere': 796,\n 'certified': 797,\n 'sandwich': 798,\n 'except': 799,\n 'chewy': 800,\n 'uses': 801,\n 'condition': 802,\n 'soda': 803,\n 'standard': 804,\n 'consider': 805,\n 'ounces': 806,\n 'piece': 807,\n 'perhaps': 808,\n 'means': 809,\n 'salsa': 810,\n 'peanuts': 811,\n 'smells': 812,\n 'strawberry': 813,\n 'pure': 814,\n 'coat': 815,\n 'anyway': 816,\n 'cause': 817,\n 'including': 818,\n 'paid': 819,\n 'satisfied': 820,\n 'agree': 821,\n 'source': 822,\n 'mom': 823,\n 'description': 824,\n 'break': 825,\n 'nasty': 826,\n 'prices': 827,\n 'pizza': 828,\n 'horrible': 829,\n 'felt': 830,\n 'allergic': 831,\n 'pleasant': 832,\n 'roasted': 833,\n 'ask': 834,\n 'watery': 835,\n 'fair': 836,\n 'somewhat': 837,\n 'veggies': 838,\n 'kit': 839,\n 'sauces': 840,\n 'c': 841,\n 'grind': 842,\n 'ready': 843,\n 'liquid': 844,\n 'jelly': 845,\n 'site': 846,\n 'wrapped': 847,\n 'finish': 848,\n 'normally': 849,\n 'mill': 850,\n 'expecting': 851,\n 'future': 852,\n 'subscription': 853,\n 'teeth': 854,\n 'homemade': 855,\n 'door': 856,\n 'moist': 857,\n 'satisfying': 858,\n 'prime': 859,\n 'sensitive': 860,\n 'trans': 861,\n 'feels': 862,\n 'figured': 863,\n 'mountain': 864,\n 'office': 865,\n 'process': 866,\n 'check': 867,\n 'pick': 868,\n 'considering': 869,\n 'clam': 870,\n 'pounds': 871,\n 'medium': 872,\n 'msg': 873,\n 'shot': 874,\n 'share': 875,\n 'mean': 876,\n 'running': 877,\n 'prepare': 878,\n 'gas': 879,\n 'personally': 880,\n 'basically': 881,\n 'meals': 882,\n 'crazy': 883,\n 'actual': 884,\n 'cracker': 885,\n 'knew': 886,\n 'important': 887,\n 'pricey': 888,\n 'daily': 889,\n 'drinker': 890,\n 'wants': 891,\n 'stuck': 892,\n 'w': 893,\n 'picked': 894,\n 'n': 895,\n 'china': 896,\n 'main': 897,\n 'spices': 898,\n 'nut': 899,\n 'disease': 900,\n 'form': 901,\n 'bodied': 902,\n 'mother': 903,\n 'turn': 904,\n 'thinking': 905,\n 'overly': 906,\n 'okay': 907,\n 'kinds': 908,\n 'mustard': 909,\n 'windows': 910,\n 'hoping': 911,\n 'cafe': 912,\n 'call': 913,\n 'quantity': 914,\n 'restaurant': 915,\n 'deep': 916,\n 'types': 917,\n 'oven': 918,\n 'seed': 919,\n 'tuna': 920,\n 'bring': 921,\n 'avoid': 922,\n 'fairly': 923,\n 'feeling': 924,\n 'rate': 925,\n 'bits': 926,\n 'level': 927,\n 'sardines': 928,\n 'ca': 929,\n 'grams': 930,\n 'ship': 931,\n 'listed': 932,\n 'instructions': 933,\n 'mess': 934,\n 'count': 935,\n 'plenty': 936,\n 'pamela': 937,\n 'trip': 938,\n 'sized': 939,\n 'warm': 940,\n 'cents': 941,\n 'dessert': 942,\n 'school': 943,\n 'puppy': 944,\n 'outside': 945,\n 'felidae': 946,\n 'shape': 947,\n 'stash': 948,\n 'guy': 949,\n 'brought': 950,\n 'style': 951,\n 'tend': 952,\n 'dont': 953,\n 'served': 954,\n 'pod': 955,\n 'servings': 956,\n 'addicted': 957,\n 'portion': 958,\n 'brewing': 959,\n 'matter': 960,\n 'digestive': 961,\n 'rose': 962,\n 'extract': 963,\n 'taking': 964,\n 'chew': 965,\n 'craving': 966,\n 'dip': 967,\n 'worst': 968,\n 'coming': 969,\n 'filled': 970,\n 'hold': 971,\n 'plug': 972,\n 'cool': 973,\n 'swiss': 974,\n 'american': 975,\n 'tart': 976,\n 'beverage': 977,\n 'vitamin': 978,\n 'pomegranate': 979,\n 'supposed': 980,\n 'stand': 981,\n 'power': 982,\n 'eater': 983,\n 'bunch': 984,\n 'admit': 985,\n 'test': 986,\n 'double': 987,\n 'fit': 988,\n 'b': 989,\n 'average': 990,\n 'jars': 991,\n 'chemical': 992,\n 'flavoring': 993,\n 'upon': 994,\n 'trouble': 995,\n 'nutritional': 996,\n 'lasts': 997,\n 'almond': 998,\n 'bitterness': 999,\n ...}"
     },
     "execution_count": 64,
     "metadata": {},
     "output_type": "execute_result"
    }
   ],
   "source": [
    "w2v_model.wv.key_to_index"
   ],
   "metadata": {
    "collapsed": false,
    "pycharm": {
     "name": "#%%\n"
    }
   }
  },
  {
   "cell_type": "code",
   "execution_count": null,
   "outputs": [],
   "source": [],
   "metadata": {
    "collapsed": false,
    "pycharm": {
     "name": "#%%\n"
    }
   }
  }
 ],
 "metadata": {
  "kernelspec": {
   "display_name": "Python 3",
   "language": "python",
   "name": "python3"
  },
  "language_info": {
   "codemirror_mode": {
    "name": "ipython",
    "version": 2
   },
   "file_extension": ".py",
   "mimetype": "text/x-python",
   "name": "python",
   "nbconvert_exporter": "python",
   "pygments_lexer": "ipython2",
   "version": "2.7.6"
  }
 },
 "nbformat": 4,
 "nbformat_minor": 0
}