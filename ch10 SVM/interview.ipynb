{
 "cells": [
  {
   "cell_type": "markdown",
   "source": [
    "# Q5 How do support vector machines handle multi-class classification problems?\n",
    "1. Support vector machines (SVMs) can be used to solve multi-class classification problems, where the goal is to classify data points into multiple classes. There are several different approaches to handling multi-class classification problems with SVMs, including the one-vs-rest, one-vs-one, and error-correcting output codes (ECOC) methods.\n",
    "2. The one-vs-rest method involves training multiple binary SVM classifiers, where each classifier is responsible for discriminating between one class and all the other classes. For example, if there are four classes, the one-vs-rest method would train four SVM classifiers, where the first classifier is responsible for discriminating between class 1 and classes 2, 3, and 4, the second classifier is responsible for discriminating between class 2 and classes 1, 3, and 4, and so on.\n",
    "3. The one-vs-one method involves training a binary SVM classifier for every pair of classes. For example, if there are four classes, the one-vs-one method would train six SVM classifiers, where the first classifier is responsible for discriminating between classes 1 and 2, the second classifier is responsible for discriminating between classes 1 and 3, and so on.\n",
    "4. The error-correcting output codes (ECOC) method involves training multiple binary SVM classifiers and combining their outputs using a coding scheme. The coding scheme is used to map the outputs of the binary classifiers to the different classes, allowing the SVM model to make predictions for multiple classes.\n",
    "5. Overall, there are several approaches to handling multi-class classification problems with SVMs, and the appropriate approach will depend on the specific characteristics of the data and the problem that you are trying to solve.\n"
   ],
   "metadata": {
    "collapsed": false,
    "pycharm": {
     "name": "#%% md\n"
    }
   }
  },
  {
   "cell_type": "markdown",
   "source": [
    "## One vs Rest\n",
    "\n",
    "Note : in sklearn SVC implement the one vs one strategy"
   ],
   "metadata": {
    "collapsed": false,
    "pycharm": {
     "name": "#%% md\n"
    }
   }
  },
  {
   "cell_type": "code",
   "execution_count": 42,
   "outputs": [
    {
     "name": "stdout",
     "output_type": "stream",
     "text": [
      "[0 1 1 2]\n",
      "[0 1 1 2]\n"
     ]
    }
   ],
   "source": [
    "from sklearn.svm import SVC\n",
    "\n",
    "# Sample training data\n",
    "# The first column is the feature, and the second column is the class (0, 1, or 2)\n",
    "X_train = [[0.1, 0], [0.3, 0], [0.5, 1], [0.7, 1], [0.9, 2]]\n",
    "y_train = [0, 0, 1, 1, 2]\n",
    "\n",
    "# Sample test data\n",
    "X_test = [[0.2, 0], [0.4, 1], [0.6, 1], [0.8, 2]]\n",
    "\n",
    "# Create the SVM model\n",
    "model = SVC(kernel=\"linear\", C=1)\n",
    "\n",
    "# Train the model on the training data\n",
    "# The classes are encoded as 0, 1, 2, ...\n",
    "model.fit(X_train, y_train)\n",
    "\n",
    "# Make predictions on the test data\n",
    "predictions = model.predict(X_test)\n",
    "print(predictions)"
   ],
   "metadata": {
    "collapsed": false,
    "pycharm": {
     "name": "#%%\n"
    }
   }
  },
  {
   "cell_type": "markdown",
   "source": [
    "This implementation of the one-vs-rest method trains a separate SVM classifier for each class, where each classifier is responsible for discriminating between one class and all the other classes. The predictions are made by combining the outputs of the individual classifiers using a voting scheme. This allows the SVM model to make predictions for multiple classes\n",
    "\n",
    "In the one-vs-rest method for multi-class classification using support vector machines (SVMs), a separate SVM classifier is trained for each class, where each classifier is responsible for discriminating between one class and all the other classes. Therefore, if there are n classes, there will be n trained classifiers in total"
   ],
   "metadata": {
    "collapsed": false,
    "pycharm": {
     "name": "#%% md\n"
    }
   }
  },
  {
   "cell_type": "code",
   "execution_count": 43,
   "outputs": [],
   "source": [
    "# import the OneVsRestClassifier class\n",
    "from sklearn.multiclass import OneVsRestClassifier\n",
    "from sklearn.linear_model import LogisticRegression\n",
    "from sklearn.svm import SVC\n",
    "from sklearn.datasets import load_iris\n",
    "\n",
    "X, y = load_iris(return_X_y=True)\n"
   ],
   "metadata": {
    "collapsed": false,
    "pycharm": {
     "name": "#%%\n"
    }
   }
  },
  {
   "cell_type": "code",
   "execution_count": 44,
   "outputs": [
    {
     "data": {
      "text/plain": "0.9533333333333334"
     },
     "execution_count": 3,
     "metadata": {},
     "output_type": "execute_result"
    },
    {
     "data": {
      "text/plain": "0.9533333333333334"
     },
     "execution_count": 44,
     "metadata": {},
     "output_type": "execute_result"
    }
   ],
   "source": [
    "# create the one vs. rest classifier\n",
    "one_vs_rest_classifier_svc = OneVsRestClassifier(estimator=SVC(kernel=\"rbf\", C=1))\n",
    "one_vs_rest_classifier_svc.fit(X, y)\n",
    "one_vs_rest_classifier_svc.score(X, y)"
   ],
   "metadata": {
    "collapsed": false,
    "pycharm": {
     "name": "#%%\n"
    }
   }
  },
  {
   "cell_type": "code",
   "execution_count": 45,
   "outputs": [
    {
     "data": {
      "text/plain": "[SVC(C=1), SVC(C=1), SVC(C=1)]"
     },
     "execution_count": 4,
     "metadata": {},
     "output_type": "execute_result"
    },
    {
     "data": {
      "text/plain": "[SVC(C=1), SVC(C=1), SVC(C=1)]"
     },
     "execution_count": 45,
     "metadata": {},
     "output_type": "execute_result"
    }
   ],
   "source": [
    "one_vs_rest_classifier_svc.estimators_"
   ],
   "metadata": {
    "collapsed": false,
    "pycharm": {
     "name": "#%%\n"
    }
   }
  },
  {
   "cell_type": "code",
   "execution_count": 46,
   "outputs": [
    {
     "name": "stdout",
     "output_type": "stream",
     "text": [
      "[0 1 2]\n",
      "[0 1 2]\n"
     ]
    }
   ],
   "source": [
    "print(one_vs_rest_classifier_svc.classes_)"
   ],
   "metadata": {
    "collapsed": false,
    "pycharm": {
     "name": "#%%\n"
    }
   }
  },
  {
   "cell_type": "code",
   "execution_count": 47,
   "outputs": [
    {
     "data": {
      "text/plain": "LabelBinarizer(sparse_output=True)",
      "text/html": "<style>#sk-container-id-1 {color: black;background-color: white;}#sk-container-id-1 pre{padding: 0;}#sk-container-id-1 div.sk-toggleable {background-color: white;}#sk-container-id-1 label.sk-toggleable__label {cursor: pointer;display: block;width: 100%;margin-bottom: 0;padding: 0.3em;box-sizing: border-box;text-align: center;}#sk-container-id-1 label.sk-toggleable__label-arrow:before {content: \"▸\";float: left;margin-right: 0.25em;color: #696969;}#sk-container-id-1 label.sk-toggleable__label-arrow:hover:before {color: black;}#sk-container-id-1 div.sk-estimator:hover label.sk-toggleable__label-arrow:before {color: black;}#sk-container-id-1 div.sk-toggleable__content {max-height: 0;max-width: 0;overflow: hidden;text-align: left;background-color: #f0f8ff;}#sk-container-id-1 div.sk-toggleable__content pre {margin: 0.2em;color: black;border-radius: 0.25em;background-color: #f0f8ff;}#sk-container-id-1 input.sk-toggleable__control:checked~div.sk-toggleable__content {max-height: 200px;max-width: 100%;overflow: auto;}#sk-container-id-1 input.sk-toggleable__control:checked~label.sk-toggleable__label-arrow:before {content: \"▾\";}#sk-container-id-1 div.sk-estimator input.sk-toggleable__control:checked~label.sk-toggleable__label {background-color: #d4ebff;}#sk-container-id-1 div.sk-label input.sk-toggleable__control:checked~label.sk-toggleable__label {background-color: #d4ebff;}#sk-container-id-1 input.sk-hidden--visually {border: 0;clip: rect(1px 1px 1px 1px);clip: rect(1px, 1px, 1px, 1px);height: 1px;margin: -1px;overflow: hidden;padding: 0;position: absolute;width: 1px;}#sk-container-id-1 div.sk-estimator {font-family: monospace;background-color: #f0f8ff;border: 1px dotted black;border-radius: 0.25em;box-sizing: border-box;margin-bottom: 0.5em;}#sk-container-id-1 div.sk-estimator:hover {background-color: #d4ebff;}#sk-container-id-1 div.sk-parallel-item::after {content: \"\";width: 100%;border-bottom: 1px solid gray;flex-grow: 1;}#sk-container-id-1 div.sk-label:hover label.sk-toggleable__label {background-color: #d4ebff;}#sk-container-id-1 div.sk-serial::before {content: \"\";position: absolute;border-left: 1px solid gray;box-sizing: border-box;top: 0;bottom: 0;left: 50%;z-index: 0;}#sk-container-id-1 div.sk-serial {display: flex;flex-direction: column;align-items: center;background-color: white;padding-right: 0.2em;padding-left: 0.2em;position: relative;}#sk-container-id-1 div.sk-item {position: relative;z-index: 1;}#sk-container-id-1 div.sk-parallel {display: flex;align-items: stretch;justify-content: center;background-color: white;position: relative;}#sk-container-id-1 div.sk-item::before, #sk-container-id-1 div.sk-parallel-item::before {content: \"\";position: absolute;border-left: 1px solid gray;box-sizing: border-box;top: 0;bottom: 0;left: 50%;z-index: -1;}#sk-container-id-1 div.sk-parallel-item {display: flex;flex-direction: column;z-index: 1;position: relative;background-color: white;}#sk-container-id-1 div.sk-parallel-item:first-child::after {align-self: flex-end;width: 50%;}#sk-container-id-1 div.sk-parallel-item:last-child::after {align-self: flex-start;width: 50%;}#sk-container-id-1 div.sk-parallel-item:only-child::after {width: 0;}#sk-container-id-1 div.sk-dashed-wrapped {border: 1px dashed gray;margin: 0 0.4em 0.5em 0.4em;box-sizing: border-box;padding-bottom: 0.4em;background-color: white;}#sk-container-id-1 div.sk-label label {font-family: monospace;font-weight: bold;display: inline-block;line-height: 1.2em;}#sk-container-id-1 div.sk-label-container {text-align: center;}#sk-container-id-1 div.sk-container {/* jupyter's `normalize.less` sets `[hidden] { display: none; }` but bootstrap.min.css set `[hidden] { display: none !important; }` so we also need the `!important` here to be able to override the default hidden behavior on the sphinx rendered scikit-learn.org. See: https://github.com/scikit-learn/scikit-learn/issues/21755 */display: inline-block !important;position: relative;}#sk-container-id-1 div.sk-text-repr-fallback {display: none;}</style><div id=\"sk-container-id-1\" class=\"sk-top-container\"><div class=\"sk-text-repr-fallback\"><pre>LabelBinarizer(sparse_output=True)</pre><b>In a Jupyter environment, please rerun this cell to show the HTML representation or trust the notebook. <br />On GitHub, the HTML representation is unable to render, please try loading this page with nbviewer.org.</b></div><div class=\"sk-container\" hidden><div class=\"sk-item\"><div class=\"sk-estimator sk-toggleable\"><input class=\"sk-toggleable__control sk-hidden--visually\" id=\"sk-estimator-id-1\" type=\"checkbox\" checked><label for=\"sk-estimator-id-1\" class=\"sk-toggleable__label sk-toggleable__label-arrow\">LabelBinarizer</label><div class=\"sk-toggleable__content\"><pre>LabelBinarizer(sparse_output=True)</pre></div></div></div></div></div>"
     },
     "execution_count": 6,
     "metadata": {},
     "output_type": "execute_result"
    },
    {
     "data": {
      "text/plain": "LabelBinarizer(sparse_output=True)",
      "text/html": "<style>#sk-container-id-3 {color: black;background-color: white;}#sk-container-id-3 pre{padding: 0;}#sk-container-id-3 div.sk-toggleable {background-color: white;}#sk-container-id-3 label.sk-toggleable__label {cursor: pointer;display: block;width: 100%;margin-bottom: 0;padding: 0.3em;box-sizing: border-box;text-align: center;}#sk-container-id-3 label.sk-toggleable__label-arrow:before {content: \"▸\";float: left;margin-right: 0.25em;color: #696969;}#sk-container-id-3 label.sk-toggleable__label-arrow:hover:before {color: black;}#sk-container-id-3 div.sk-estimator:hover label.sk-toggleable__label-arrow:before {color: black;}#sk-container-id-3 div.sk-toggleable__content {max-height: 0;max-width: 0;overflow: hidden;text-align: left;background-color: #f0f8ff;}#sk-container-id-3 div.sk-toggleable__content pre {margin: 0.2em;color: black;border-radius: 0.25em;background-color: #f0f8ff;}#sk-container-id-3 input.sk-toggleable__control:checked~div.sk-toggleable__content {max-height: 200px;max-width: 100%;overflow: auto;}#sk-container-id-3 input.sk-toggleable__control:checked~label.sk-toggleable__label-arrow:before {content: \"▾\";}#sk-container-id-3 div.sk-estimator input.sk-toggleable__control:checked~label.sk-toggleable__label {background-color: #d4ebff;}#sk-container-id-3 div.sk-label input.sk-toggleable__control:checked~label.sk-toggleable__label {background-color: #d4ebff;}#sk-container-id-3 input.sk-hidden--visually {border: 0;clip: rect(1px 1px 1px 1px);clip: rect(1px, 1px, 1px, 1px);height: 1px;margin: -1px;overflow: hidden;padding: 0;position: absolute;width: 1px;}#sk-container-id-3 div.sk-estimator {font-family: monospace;background-color: #f0f8ff;border: 1px dotted black;border-radius: 0.25em;box-sizing: border-box;margin-bottom: 0.5em;}#sk-container-id-3 div.sk-estimator:hover {background-color: #d4ebff;}#sk-container-id-3 div.sk-parallel-item::after {content: \"\";width: 100%;border-bottom: 1px solid gray;flex-grow: 1;}#sk-container-id-3 div.sk-label:hover label.sk-toggleable__label {background-color: #d4ebff;}#sk-container-id-3 div.sk-serial::before {content: \"\";position: absolute;border-left: 1px solid gray;box-sizing: border-box;top: 0;bottom: 0;left: 50%;z-index: 0;}#sk-container-id-3 div.sk-serial {display: flex;flex-direction: column;align-items: center;background-color: white;padding-right: 0.2em;padding-left: 0.2em;position: relative;}#sk-container-id-3 div.sk-item {position: relative;z-index: 1;}#sk-container-id-3 div.sk-parallel {display: flex;align-items: stretch;justify-content: center;background-color: white;position: relative;}#sk-container-id-3 div.sk-item::before, #sk-container-id-3 div.sk-parallel-item::before {content: \"\";position: absolute;border-left: 1px solid gray;box-sizing: border-box;top: 0;bottom: 0;left: 50%;z-index: -1;}#sk-container-id-3 div.sk-parallel-item {display: flex;flex-direction: column;z-index: 1;position: relative;background-color: white;}#sk-container-id-3 div.sk-parallel-item:first-child::after {align-self: flex-end;width: 50%;}#sk-container-id-3 div.sk-parallel-item:last-child::after {align-self: flex-start;width: 50%;}#sk-container-id-3 div.sk-parallel-item:only-child::after {width: 0;}#sk-container-id-3 div.sk-dashed-wrapped {border: 1px dashed gray;margin: 0 0.4em 0.5em 0.4em;box-sizing: border-box;padding-bottom: 0.4em;background-color: white;}#sk-container-id-3 div.sk-label label {font-family: monospace;font-weight: bold;display: inline-block;line-height: 1.2em;}#sk-container-id-3 div.sk-label-container {text-align: center;}#sk-container-id-3 div.sk-container {/* jupyter's `normalize.less` sets `[hidden] { display: none; }` but bootstrap.min.css set `[hidden] { display: none !important; }` so we also need the `!important` here to be able to override the default hidden behavior on the sphinx rendered scikit-learn.org. See: https://github.com/scikit-learn/scikit-learn/issues/21755 */display: inline-block !important;position: relative;}#sk-container-id-3 div.sk-text-repr-fallback {display: none;}</style><div id=\"sk-container-id-3\" class=\"sk-top-container\"><div class=\"sk-text-repr-fallback\"><pre>LabelBinarizer(sparse_output=True)</pre><b>In a Jupyter environment, please rerun this cell to show the HTML representation or trust the notebook. <br />On GitHub, the HTML representation is unable to render, please try loading this page with nbviewer.org.</b></div><div class=\"sk-container\" hidden><div class=\"sk-item\"><div class=\"sk-estimator sk-toggleable\"><input class=\"sk-toggleable__control sk-hidden--visually\" id=\"sk-estimator-id-5\" type=\"checkbox\" checked><label for=\"sk-estimator-id-5\" class=\"sk-toggleable__label sk-toggleable__label-arrow\">LabelBinarizer</label><div class=\"sk-toggleable__content\"><pre>LabelBinarizer(sparse_output=True)</pre></div></div></div></div></div>"
     },
     "execution_count": 47,
     "metadata": {},
     "output_type": "execute_result"
    }
   ],
   "source": [
    "one_vs_rest_classifier_svc.label_binarizer_"
   ],
   "metadata": {
    "collapsed": false,
    "pycharm": {
     "name": "#%%\n"
    }
   }
  },
  {
   "cell_type": "code",
   "execution_count": 48,
   "outputs": [
    {
     "data": {
      "text/plain": "False"
     },
     "execution_count": 7,
     "metadata": {},
     "output_type": "execute_result"
    },
    {
     "data": {
      "text/plain": "False"
     },
     "execution_count": 48,
     "metadata": {},
     "output_type": "execute_result"
    }
   ],
   "source": [
    "one_vs_rest_classifier_svc.multilabel_"
   ],
   "metadata": {
    "collapsed": false,
    "pycharm": {
     "name": "#%%\n"
    }
   }
  },
  {
   "cell_type": "code",
   "execution_count": 49,
   "outputs": [
    {
     "data": {
      "text/plain": "4"
     },
     "execution_count": 8,
     "metadata": {},
     "output_type": "execute_result"
    },
    {
     "data": {
      "text/plain": "4"
     },
     "execution_count": 49,
     "metadata": {},
     "output_type": "execute_result"
    }
   ],
   "source": [
    "one_vs_rest_classifier_svc.n_features_in_"
   ],
   "metadata": {
    "collapsed": false,
    "pycharm": {
     "name": "#%%\n"
    }
   }
  },
  {
   "cell_type": "code",
   "execution_count": 50,
   "outputs": [
    {
     "data": {
      "text/plain": "0.9533333333333334"
     },
     "execution_count": 9,
     "metadata": {},
     "output_type": "execute_result"
    },
    {
     "data": {
      "text/plain": "0.9533333333333334"
     },
     "execution_count": 50,
     "metadata": {},
     "output_type": "execute_result"
    }
   ],
   "source": [
    "one_vs_rest_classifier_lr = OneVsRestClassifier(estimator=LogisticRegression(penalty=\"l2\"))\n",
    "one_vs_rest_classifier_lr.fit(X, y)\n",
    "one_vs_rest_classifier_lr.score(X, y)"
   ],
   "metadata": {
    "collapsed": false,
    "pycharm": {
     "name": "#%%\n"
    }
   }
  },
  {
   "cell_type": "code",
   "execution_count": 51,
   "outputs": [
    {
     "data": {
      "text/plain": "0.9533333333333334"
     },
     "execution_count": 10,
     "metadata": {},
     "output_type": "execute_result"
    },
    {
     "data": {
      "text/plain": "0.9533333333333334"
     },
     "execution_count": 51,
     "metadata": {},
     "output_type": "execute_result"
    }
   ],
   "source": [
    "lr = LogisticRegression(penalty=\"l2\", multi_class=\"ovr\")\n",
    "lr.fit(X, y)\n",
    "lr.score(X, y)"
   ],
   "metadata": {
    "collapsed": false,
    "pycharm": {
     "name": "#%%\n"
    }
   }
  },
  {
   "cell_type": "markdown",
   "source": [
    "## One vs One"
   ],
   "metadata": {
    "collapsed": false,
    "pycharm": {
     "name": "#%% md\n"
    }
   }
  },
  {
   "cell_type": "code",
   "execution_count": 52,
   "outputs": [],
   "source": [
    "from sklearn.svm import SVC\n",
    "import numpy as np\n",
    "\n",
    "# Sample training data\n",
    "# The first column is the feature, and the second column is the class (0, 1, or 2)\n",
    "X_train = np.array([[0.1, 0], [0.3, 0], [0.5, 1], [0.7, 1], [0.9, 2]])\n",
    "y_train = np.array([0, 0, 1, 1, 2])\n",
    "\n",
    "# Sample test data\n",
    "X_test = np.array([[0.2, 0], [0.4, 1], [0.6, 1], [0.8, 2]])\n",
    "\n",
    "# Create a dictionary to store the trained classifiers\n",
    "classifiers = {}\n",
    "\n",
    "# Get the number of classes\n",
    "n_classes = len(set(y_train))\n",
    "\n",
    "# Loop over the pairs of classes\n",
    "for i in range(n_classes):\n",
    "    for j in range(i + 1, n_classes):\n",
    "        # Create the SVM model\n",
    "        model = SVC(kernel=\"linear\", C=1)\n",
    "\n",
    "        # Create a mask to select the data points belonging to the two classes\n",
    "        mask = (y_train == i) | (y_train == j)\n",
    "        X_train_subset = X_train[mask]\n",
    "        y_train_subset = y_train[mask]\n",
    "\n",
    "        # Train the model on the subset of the training data\n",
    "        model.fit(X_train_subset, y_train_subset)\n",
    "\n",
    "        # Store the trained classifier in the dictionary\n",
    "        classifiers[(i, j)] = model\n",
    "\n",
    "# Make predictions on the test data\n",
    "predictions = []\n",
    "\n",
    "# Loop over the test data points\n",
    "for x in X_test:\n",
    "    # Create a dictionary to store the votes for each class\n",
    "    votes = {}\n",
    "\n",
    "    # Loop over the trained classifiers\n",
    "    for (i, j), model in classifiers.items():\n",
    "        # Use the classifier to make a prediction\n",
    "        y_pred = model.predict([x])[0]\n",
    "\n",
    "        # Increment the vote count for the predicted class\n",
    "        if y_pred == i:\n",
    "            votes[i] = votes.get(i, 0) + 1\n",
    "        else:\n",
    "            votes[j] = votes.get(j, 0) + 1\n",
    "\n",
    "    # Determine the class with the most votes\n",
    "    y_pred = max(votes.keys(), key=votes.get)\n",
    "\n",
    "    # Append the predicted class to the list of predictions\n",
    "    predictions.append(y_pred)\n"
   ],
   "metadata": {
    "collapsed": false,
    "pycharm": {
     "name": "#%%\n"
    }
   }
  },
  {
   "cell_type": "code",
   "execution_count": 53,
   "outputs": [
    {
     "name": "stdout",
     "output_type": "stream",
     "text": [
      "[0, 1, 1, 2]\n",
      "[0, 1, 1, 2]\n"
     ]
    }
   ],
   "source": [
    "print(predictions)"
   ],
   "metadata": {
    "collapsed": false,
    "pycharm": {
     "name": "#%%\n"
    }
   }
  },
  {
   "cell_type": "code",
   "execution_count": 54,
   "outputs": [
    {
     "data": {
      "text/plain": "{(0, 1): SVC(C=1, kernel='linear'),\n (0, 2): SVC(C=1, kernel='linear'),\n (1, 2): SVC(C=1, kernel='linear')}"
     },
     "execution_count": 13,
     "metadata": {},
     "output_type": "execute_result"
    },
    {
     "data": {
      "text/plain": "{(0, 1): SVC(C=1, kernel='linear'),\n (0, 2): SVC(C=1, kernel='linear'),\n (1, 2): SVC(C=1, kernel='linear')}"
     },
     "execution_count": 54,
     "metadata": {},
     "output_type": "execute_result"
    }
   ],
   "source": [
    "classifiers"
   ],
   "metadata": {
    "collapsed": false,
    "pycharm": {
     "name": "#%%\n"
    }
   }
  },
  {
   "cell_type": "markdown",
   "source": [
    "The number of classifiers that are trained in the one-vs-one method for multi-class classification using support vector machines (SVMs) is equal to the number of pairs of classes. For example, if there are n classes, the one-vs-one method would train n * (n - 1) / 2 classifiers."
   ],
   "metadata": {
    "collapsed": false,
    "pycharm": {
     "name": "#%% md\n"
    }
   }
  },
  {
   "cell_type": "code",
   "execution_count": 55,
   "outputs": [
    {
     "data": {
      "text/plain": "OneVsOneClassifier(estimator=SVC(C=1, kernel='linear'))",
      "text/html": "<style>#sk-container-id-2 {color: black;background-color: white;}#sk-container-id-2 pre{padding: 0;}#sk-container-id-2 div.sk-toggleable {background-color: white;}#sk-container-id-2 label.sk-toggleable__label {cursor: pointer;display: block;width: 100%;margin-bottom: 0;padding: 0.3em;box-sizing: border-box;text-align: center;}#sk-container-id-2 label.sk-toggleable__label-arrow:before {content: \"▸\";float: left;margin-right: 0.25em;color: #696969;}#sk-container-id-2 label.sk-toggleable__label-arrow:hover:before {color: black;}#sk-container-id-2 div.sk-estimator:hover label.sk-toggleable__label-arrow:before {color: black;}#sk-container-id-2 div.sk-toggleable__content {max-height: 0;max-width: 0;overflow: hidden;text-align: left;background-color: #f0f8ff;}#sk-container-id-2 div.sk-toggleable__content pre {margin: 0.2em;color: black;border-radius: 0.25em;background-color: #f0f8ff;}#sk-container-id-2 input.sk-toggleable__control:checked~div.sk-toggleable__content {max-height: 200px;max-width: 100%;overflow: auto;}#sk-container-id-2 input.sk-toggleable__control:checked~label.sk-toggleable__label-arrow:before {content: \"▾\";}#sk-container-id-2 div.sk-estimator input.sk-toggleable__control:checked~label.sk-toggleable__label {background-color: #d4ebff;}#sk-container-id-2 div.sk-label input.sk-toggleable__control:checked~label.sk-toggleable__label {background-color: #d4ebff;}#sk-container-id-2 input.sk-hidden--visually {border: 0;clip: rect(1px 1px 1px 1px);clip: rect(1px, 1px, 1px, 1px);height: 1px;margin: -1px;overflow: hidden;padding: 0;position: absolute;width: 1px;}#sk-container-id-2 div.sk-estimator {font-family: monospace;background-color: #f0f8ff;border: 1px dotted black;border-radius: 0.25em;box-sizing: border-box;margin-bottom: 0.5em;}#sk-container-id-2 div.sk-estimator:hover {background-color: #d4ebff;}#sk-container-id-2 div.sk-parallel-item::after {content: \"\";width: 100%;border-bottom: 1px solid gray;flex-grow: 1;}#sk-container-id-2 div.sk-label:hover label.sk-toggleable__label {background-color: #d4ebff;}#sk-container-id-2 div.sk-serial::before {content: \"\";position: absolute;border-left: 1px solid gray;box-sizing: border-box;top: 0;bottom: 0;left: 50%;z-index: 0;}#sk-container-id-2 div.sk-serial {display: flex;flex-direction: column;align-items: center;background-color: white;padding-right: 0.2em;padding-left: 0.2em;position: relative;}#sk-container-id-2 div.sk-item {position: relative;z-index: 1;}#sk-container-id-2 div.sk-parallel {display: flex;align-items: stretch;justify-content: center;background-color: white;position: relative;}#sk-container-id-2 div.sk-item::before, #sk-container-id-2 div.sk-parallel-item::before {content: \"\";position: absolute;border-left: 1px solid gray;box-sizing: border-box;top: 0;bottom: 0;left: 50%;z-index: -1;}#sk-container-id-2 div.sk-parallel-item {display: flex;flex-direction: column;z-index: 1;position: relative;background-color: white;}#sk-container-id-2 div.sk-parallel-item:first-child::after {align-self: flex-end;width: 50%;}#sk-container-id-2 div.sk-parallel-item:last-child::after {align-self: flex-start;width: 50%;}#sk-container-id-2 div.sk-parallel-item:only-child::after {width: 0;}#sk-container-id-2 div.sk-dashed-wrapped {border: 1px dashed gray;margin: 0 0.4em 0.5em 0.4em;box-sizing: border-box;padding-bottom: 0.4em;background-color: white;}#sk-container-id-2 div.sk-label label {font-family: monospace;font-weight: bold;display: inline-block;line-height: 1.2em;}#sk-container-id-2 div.sk-label-container {text-align: center;}#sk-container-id-2 div.sk-container {/* jupyter's `normalize.less` sets `[hidden] { display: none; }` but bootstrap.min.css set `[hidden] { display: none !important; }` so we also need the `!important` here to be able to override the default hidden behavior on the sphinx rendered scikit-learn.org. See: https://github.com/scikit-learn/scikit-learn/issues/21755 */display: inline-block !important;position: relative;}#sk-container-id-2 div.sk-text-repr-fallback {display: none;}</style><div id=\"sk-container-id-2\" class=\"sk-top-container\"><div class=\"sk-text-repr-fallback\"><pre>OneVsOneClassifier(estimator=SVC(C=1, kernel=&#x27;linear&#x27;))</pre><b>In a Jupyter environment, please rerun this cell to show the HTML representation or trust the notebook. <br />On GitHub, the HTML representation is unable to render, please try loading this page with nbviewer.org.</b></div><div class=\"sk-container\" hidden><div class=\"sk-item sk-dashed-wrapped\"><div class=\"sk-label-container\"><div class=\"sk-label sk-toggleable\"><input class=\"sk-toggleable__control sk-hidden--visually\" id=\"sk-estimator-id-2\" type=\"checkbox\" ><label for=\"sk-estimator-id-2\" class=\"sk-toggleable__label sk-toggleable__label-arrow\">OneVsOneClassifier</label><div class=\"sk-toggleable__content\"><pre>OneVsOneClassifier(estimator=SVC(C=1, kernel=&#x27;linear&#x27;))</pre></div></div></div><div class=\"sk-parallel\"><div class=\"sk-parallel-item\"><div class=\"sk-item\"><div class=\"sk-label-container\"><div class=\"sk-label sk-toggleable\"><input class=\"sk-toggleable__control sk-hidden--visually\" id=\"sk-estimator-id-3\" type=\"checkbox\" ><label for=\"sk-estimator-id-3\" class=\"sk-toggleable__label sk-toggleable__label-arrow\">estimator: SVC</label><div class=\"sk-toggleable__content\"><pre>SVC(C=1, kernel=&#x27;linear&#x27;)</pre></div></div></div><div class=\"sk-serial\"><div class=\"sk-item\"><div class=\"sk-estimator sk-toggleable\"><input class=\"sk-toggleable__control sk-hidden--visually\" id=\"sk-estimator-id-4\" type=\"checkbox\" ><label for=\"sk-estimator-id-4\" class=\"sk-toggleable__label sk-toggleable__label-arrow\">SVC</label><div class=\"sk-toggleable__content\"><pre>SVC(C=1, kernel=&#x27;linear&#x27;)</pre></div></div></div></div></div></div></div></div></div></div>"
     },
     "execution_count": 14,
     "metadata": {},
     "output_type": "execute_result"
    },
    {
     "data": {
      "text/plain": "OneVsOneClassifier(estimator=SVC(C=1, kernel='linear'))",
      "text/html": "<style>#sk-container-id-4 {color: black;background-color: white;}#sk-container-id-4 pre{padding: 0;}#sk-container-id-4 div.sk-toggleable {background-color: white;}#sk-container-id-4 label.sk-toggleable__label {cursor: pointer;display: block;width: 100%;margin-bottom: 0;padding: 0.3em;box-sizing: border-box;text-align: center;}#sk-container-id-4 label.sk-toggleable__label-arrow:before {content: \"▸\";float: left;margin-right: 0.25em;color: #696969;}#sk-container-id-4 label.sk-toggleable__label-arrow:hover:before {color: black;}#sk-container-id-4 div.sk-estimator:hover label.sk-toggleable__label-arrow:before {color: black;}#sk-container-id-4 div.sk-toggleable__content {max-height: 0;max-width: 0;overflow: hidden;text-align: left;background-color: #f0f8ff;}#sk-container-id-4 div.sk-toggleable__content pre {margin: 0.2em;color: black;border-radius: 0.25em;background-color: #f0f8ff;}#sk-container-id-4 input.sk-toggleable__control:checked~div.sk-toggleable__content {max-height: 200px;max-width: 100%;overflow: auto;}#sk-container-id-4 input.sk-toggleable__control:checked~label.sk-toggleable__label-arrow:before {content: \"▾\";}#sk-container-id-4 div.sk-estimator input.sk-toggleable__control:checked~label.sk-toggleable__label {background-color: #d4ebff;}#sk-container-id-4 div.sk-label input.sk-toggleable__control:checked~label.sk-toggleable__label {background-color: #d4ebff;}#sk-container-id-4 input.sk-hidden--visually {border: 0;clip: rect(1px 1px 1px 1px);clip: rect(1px, 1px, 1px, 1px);height: 1px;margin: -1px;overflow: hidden;padding: 0;position: absolute;width: 1px;}#sk-container-id-4 div.sk-estimator {font-family: monospace;background-color: #f0f8ff;border: 1px dotted black;border-radius: 0.25em;box-sizing: border-box;margin-bottom: 0.5em;}#sk-container-id-4 div.sk-estimator:hover {background-color: #d4ebff;}#sk-container-id-4 div.sk-parallel-item::after {content: \"\";width: 100%;border-bottom: 1px solid gray;flex-grow: 1;}#sk-container-id-4 div.sk-label:hover label.sk-toggleable__label {background-color: #d4ebff;}#sk-container-id-4 div.sk-serial::before {content: \"\";position: absolute;border-left: 1px solid gray;box-sizing: border-box;top: 0;bottom: 0;left: 50%;z-index: 0;}#sk-container-id-4 div.sk-serial {display: flex;flex-direction: column;align-items: center;background-color: white;padding-right: 0.2em;padding-left: 0.2em;position: relative;}#sk-container-id-4 div.sk-item {position: relative;z-index: 1;}#sk-container-id-4 div.sk-parallel {display: flex;align-items: stretch;justify-content: center;background-color: white;position: relative;}#sk-container-id-4 div.sk-item::before, #sk-container-id-4 div.sk-parallel-item::before {content: \"\";position: absolute;border-left: 1px solid gray;box-sizing: border-box;top: 0;bottom: 0;left: 50%;z-index: -1;}#sk-container-id-4 div.sk-parallel-item {display: flex;flex-direction: column;z-index: 1;position: relative;background-color: white;}#sk-container-id-4 div.sk-parallel-item:first-child::after {align-self: flex-end;width: 50%;}#sk-container-id-4 div.sk-parallel-item:last-child::after {align-self: flex-start;width: 50%;}#sk-container-id-4 div.sk-parallel-item:only-child::after {width: 0;}#sk-container-id-4 div.sk-dashed-wrapped {border: 1px dashed gray;margin: 0 0.4em 0.5em 0.4em;box-sizing: border-box;padding-bottom: 0.4em;background-color: white;}#sk-container-id-4 div.sk-label label {font-family: monospace;font-weight: bold;display: inline-block;line-height: 1.2em;}#sk-container-id-4 div.sk-label-container {text-align: center;}#sk-container-id-4 div.sk-container {/* jupyter's `normalize.less` sets `[hidden] { display: none; }` but bootstrap.min.css set `[hidden] { display: none !important; }` so we also need the `!important` here to be able to override the default hidden behavior on the sphinx rendered scikit-learn.org. See: https://github.com/scikit-learn/scikit-learn/issues/21755 */display: inline-block !important;position: relative;}#sk-container-id-4 div.sk-text-repr-fallback {display: none;}</style><div id=\"sk-container-id-4\" class=\"sk-top-container\"><div class=\"sk-text-repr-fallback\"><pre>OneVsOneClassifier(estimator=SVC(C=1, kernel=&#x27;linear&#x27;))</pre><b>In a Jupyter environment, please rerun this cell to show the HTML representation or trust the notebook. <br />On GitHub, the HTML representation is unable to render, please try loading this page with nbviewer.org.</b></div><div class=\"sk-container\" hidden><div class=\"sk-item sk-dashed-wrapped\"><div class=\"sk-label-container\"><div class=\"sk-label sk-toggleable\"><input class=\"sk-toggleable__control sk-hidden--visually\" id=\"sk-estimator-id-6\" type=\"checkbox\" ><label for=\"sk-estimator-id-6\" class=\"sk-toggleable__label sk-toggleable__label-arrow\">OneVsOneClassifier</label><div class=\"sk-toggleable__content\"><pre>OneVsOneClassifier(estimator=SVC(C=1, kernel=&#x27;linear&#x27;))</pre></div></div></div><div class=\"sk-parallel\"><div class=\"sk-parallel-item\"><div class=\"sk-item\"><div class=\"sk-label-container\"><div class=\"sk-label sk-toggleable\"><input class=\"sk-toggleable__control sk-hidden--visually\" id=\"sk-estimator-id-7\" type=\"checkbox\" ><label for=\"sk-estimator-id-7\" class=\"sk-toggleable__label sk-toggleable__label-arrow\">estimator: SVC</label><div class=\"sk-toggleable__content\"><pre>SVC(C=1, kernel=&#x27;linear&#x27;)</pre></div></div></div><div class=\"sk-serial\"><div class=\"sk-item\"><div class=\"sk-estimator sk-toggleable\"><input class=\"sk-toggleable__control sk-hidden--visually\" id=\"sk-estimator-id-8\" type=\"checkbox\" ><label for=\"sk-estimator-id-8\" class=\"sk-toggleable__label sk-toggleable__label-arrow\">SVC</label><div class=\"sk-toggleable__content\"><pre>SVC(C=1, kernel=&#x27;linear&#x27;)</pre></div></div></div></div></div></div></div></div></div></div>"
     },
     "execution_count": 55,
     "metadata": {},
     "output_type": "execute_result"
    }
   ],
   "source": [
    "from sklearn.multiclass import OneVsOneClassifier\n",
    "\n",
    "one_vs_one_classifier = OneVsOneClassifier(estimator=SVC(kernel=\"linear\", C=1))\n",
    "one_vs_one_classifier.fit(X_train, y_train)"
   ],
   "metadata": {
    "collapsed": false,
    "pycharm": {
     "name": "#%%\n"
    }
   }
  },
  {
   "cell_type": "code",
   "execution_count": 56,
   "outputs": [
    {
     "name": "stdout",
     "output_type": "stream",
     "text": [
      "[0 1 1 2]\n",
      "[0 1 1 2]\n"
     ]
    }
   ],
   "source": [
    "print(one_vs_one_classifier.predict(X_test))"
   ],
   "metadata": {
    "collapsed": false,
    "pycharm": {
     "name": "#%%\n"
    }
   }
  },
  {
   "cell_type": "code",
   "execution_count": 57,
   "outputs": [
    {
     "data": {
      "text/plain": "((SVC(C=1, kernel='linear'),\n  SVC(C=1, kernel='linear'),\n  SVC(C=1, kernel='linear')),\n None)"
     },
     "execution_count": 16,
     "metadata": {},
     "output_type": "execute_result"
    },
    {
     "data": {
      "text/plain": "((SVC(C=1, kernel='linear'),\n  SVC(C=1, kernel='linear'),\n  SVC(C=1, kernel='linear')),\n None)"
     },
     "execution_count": 57,
     "metadata": {},
     "output_type": "execute_result"
    }
   ],
   "source": [
    "one_vs_one_classifier.estimators_, one_vs_one_classifier.pairwise_indices_"
   ],
   "metadata": {
    "collapsed": false,
    "pycharm": {
     "name": "#%%\n"
    }
   }
  },
  {
   "cell_type": "code",
   "execution_count": 58,
   "outputs": [
    {
     "data": {
      "text/plain": "array([2])"
     },
     "execution_count": 17,
     "metadata": {},
     "output_type": "execute_result"
    },
    {
     "data": {
      "text/plain": "array([2])"
     },
     "execution_count": 58,
     "metadata": {},
     "output_type": "execute_result"
    }
   ],
   "source": [
    "from sklearn.multiclass import OutputCodeClassifier\n",
    "from sklearn.ensemble import RandomForestClassifier\n",
    "from sklearn.datasets import make_classification\n",
    "\n",
    "# X, y = make_classification(n_samples=100, n_features=4,\n",
    "#                            n_informative=2, n_redundant=0,\n",
    "#                            random_state=0, shuffle=False)\n",
    "X, y = load_iris(return_X_y=True)\n",
    "clf = OutputCodeClassifier(\n",
    "    estimator=SVC(random_state=0),\n",
    "    random_state=0, code_size=2).fit(X, y)\n",
    "X_test = [[6.3, 2.7, 4.9, 1.8]]\n",
    "clf.predict(X_test)"
   ],
   "metadata": {
    "collapsed": false,
    "pycharm": {
     "name": "#%%\n"
    }
   }
  },
  {
   "cell_type": "code",
   "execution_count": 59,
   "outputs": [
    {
     "data": {
      "text/plain": "array([[ 1.,  1.,  1.,  1., -1.,  1.],\n       [-1.,  1.,  1., -1.,  1.,  1.],\n       [ 1.,  1., -1., -1., -1.,  1.]])"
     },
     "execution_count": 18,
     "metadata": {},
     "output_type": "execute_result"
    },
    {
     "data": {
      "text/plain": "array([[ 1.,  1.,  1.,  1., -1.,  1.],\n       [-1.,  1.,  1., -1.,  1.,  1.],\n       [ 1.,  1., -1., -1., -1.,  1.]])"
     },
     "execution_count": 59,
     "metadata": {},
     "output_type": "execute_result"
    }
   ],
   "source": [
    "clf.code_book_"
   ],
   "metadata": {
    "collapsed": false,
    "pycharm": {
     "name": "#%%\n"
    }
   }
  },
  {
   "cell_type": "code",
   "execution_count": 60,
   "outputs": [
    {
     "data": {
      "text/plain": "[SVC(random_state=0),\n _ConstantPredictor(),\n SVC(random_state=0),\n SVC(random_state=0),\n SVC(random_state=0),\n _ConstantPredictor()]"
     },
     "execution_count": 19,
     "metadata": {},
     "output_type": "execute_result"
    },
    {
     "data": {
      "text/plain": "[SVC(random_state=0),\n _ConstantPredictor(),\n SVC(random_state=0),\n SVC(random_state=0),\n SVC(random_state=0),\n _ConstantPredictor()]"
     },
     "execution_count": 60,
     "metadata": {},
     "output_type": "execute_result"
    }
   ],
   "source": [
    "estimators = clf.estimators_\n",
    "estimators"
   ],
   "metadata": {
    "collapsed": false,
    "pycharm": {
     "name": "#%%\n"
    }
   }
  },
  {
   "cell_type": "code",
   "execution_count": 61,
   "outputs": [
    {
     "data": {
      "text/plain": "array([0, 1, 2])"
     },
     "execution_count": 20,
     "metadata": {},
     "output_type": "execute_result"
    },
    {
     "data": {
      "text/plain": "array([0, 1, 2])"
     },
     "execution_count": 61,
     "metadata": {},
     "output_type": "execute_result"
    }
   ],
   "source": [
    "clf.classes_"
   ],
   "metadata": {
    "collapsed": false,
    "pycharm": {
     "name": "#%%\n"
    }
   }
  },
  {
   "cell_type": "code",
   "execution_count": 62,
   "outputs": [],
   "source": [
    "from sklearn.multiclass import _predict_binary\n",
    "from sklearn.metrics import euclidean_distances\n",
    "\n",
    "Y = np.array([_predict_binary(e, X_test) for e in estimators]).T\n",
    "pred = euclidean_distances(Y, clf.code_book_).argmin(axis=1)"
   ],
   "metadata": {
    "collapsed": false,
    "pycharm": {
     "name": "#%%\n"
    }
   }
  },
  {
   "cell_type": "code",
   "execution_count": 63,
   "outputs": [
    {
     "data": {
      "text/plain": "array([2], dtype=int64)"
     },
     "execution_count": 22,
     "metadata": {},
     "output_type": "execute_result"
    },
    {
     "data": {
      "text/plain": "array([2], dtype=int64)"
     },
     "execution_count": 63,
     "metadata": {},
     "output_type": "execute_result"
    }
   ],
   "source": [
    "pred"
   ],
   "metadata": {
    "collapsed": false,
    "pycharm": {
     "name": "#%%\n"
    }
   }
  },
  {
   "cell_type": "code",
   "execution_count": 64,
   "outputs": [
    {
     "data": {
      "text/plain": "array([[-0.0038881 ,  1.        , -0.16183014, -1.61411258,  0.00422566,\n         1.        ]])"
     },
     "execution_count": 23,
     "metadata": {},
     "output_type": "execute_result"
    },
    {
     "data": {
      "text/plain": "array([[-0.0038881 ,  1.        , -0.16183014, -1.61411258,  0.00422566,\n         1.        ]])"
     },
     "execution_count": 64,
     "metadata": {},
     "output_type": "execute_result"
    }
   ],
   "source": [
    "Y"
   ],
   "metadata": {
    "collapsed": false,
    "pycharm": {
     "name": "#%%\n"
    }
   }
  },
  {
   "cell_type": "markdown",
   "source": [
    "# Q8 Can you explain the concept of margin and support vectors in a support vector machine?\n",
    "1. In a support vector machine (SVM), the margin is the distance between the decision boundary or hyperplane and the closest data points from different classes. The margin is a measure of the separation between the classes in the data, and can be used to evaluate the performance of the SVM model.\n",
    "2. The support vectors are the data points that are closest to the decision boundary, and are used to determine the optimal hyperplane. These data points are the most critical for determining the correct classification of the data, and are used to calculate the margin.\n",
    "3. The SVM algorithm aims to maximize the margin by finding the hyperplane that is as far away as possible from the support vectors, while still correctly classifying the data. This maximized margin provides a clear separation between the classes in the data, and helps to improve the generalization performance of the model.\n",
    "4. In cases where the data is not linearly separable, the SVM algorithm uses a kernel function to map the data into a higher-dimensional space where it becomes linearly separable. The support vectors in the higher-dimensional space are used to determine the optimal hyperplane, and the margin is calculated in the transformed space. This allows SVM to handle non-linear data and find the best possible decision boundary.\n"
   ],
   "metadata": {
    "collapsed": false,
    "pycharm": {
     "name": "#%% md\n"
    }
   }
  },
  {
   "cell_type": "code",
   "execution_count": 65,
   "outputs": [],
   "source": [
    "# generate synthetic data\n",
    "from sklearn.datasets import make_classification\n",
    "from sklearn.model_selection import train_test_split\n",
    "from sklearn.inspection import DecisionBoundaryDisplay\n",
    "from sklearn.svm import SVC\n",
    "import matplotlib.pyplot as plt\n",
    "import mplcyberpunk\n",
    "plt.style.use(\"cyberpunk\")\n",
    "\n",
    "\n",
    "# X_train, y_train = make_classification(n_samples=60, n_features=2, n_classes=2,\n",
    "#                            n_informative=2,\n",
    "#                            n_redundant=0,random_state=42,class_sep=1)\n",
    "\n",
    "# x1 = np.linspace(start=-3,stop=3,num=10)\n",
    "# X_train = np.r_[np.array(list(zip(x1,[1]*len(x1)))),\n",
    "#                 np.array(list(zip(x1,[-1]*len(x1))))]\n",
    "# y_train = X_train[:,1]\n",
    "\n",
    "\n",
    "\n",
    "# # split data into training and testing sets\n",
    "# X_train, X_test, y_train, y_test = train_test_split(X, y, test_size=0, random_state=42)\n"
   ],
   "metadata": {
    "collapsed": false,
    "pycharm": {
     "name": "#%%\n"
    }
   }
  },
  {
   "cell_type": "code",
   "execution_count": 89,
   "outputs": [
    {
     "data": {
      "text/plain": "<Figure size 640x480 with 1 Axes>",
      "image/png": "[encoded data removed]"
     },
     "metadata": {},
     "output_type": "display_data"
    }
   ],
   "source": [
    "x1 = np.linspace(start=-3,stop=3,num=10)\n",
    "X_train = np.r_[np.array(list(zip(x1,[1]*len(x1)))),\n",
    "                np.array(list(zip(x1,[-1]*len(x1))))]\n",
    "y_train = X_train[:,1]\n",
    "\n",
    "clf = SVC(kernel =\"rbf\",C=0.1)\n",
    "\n",
    "# fit model on training data\n",
    "clf.fit(X_train, y_train)\n",
    "\n",
    "# access support vectors\n",
    "support_vectors = clf.support_vectors_\n",
    "\n",
    "disp = DecisionBoundaryDisplay.from_estimator(clf,X_train,response_method=\"predict\",alpha=0.5)\n",
    "\n",
    "# plot data points and support vectors\n",
    "disp.ax_.scatter(X_train[:, 0], X_train[:, 1], c=y_train,label=\"points\")\n",
    "disp.ax_.scatter(support_vectors[:, 0], support_vectors[:, 1], s=100, c='g', marker='x',label=\"support vector\")\n",
    "plt.legend()\n",
    "plt.show()"
   ],
   "metadata": {
    "collapsed": false,
    "pycharm": {
     "name": "#%%\n"
    }
   }
  },
  {
   "cell_type": "markdown",
   "source": [
    "the number of support vectors when using the RBF kernel can be higher compared to other kernel functions, such as the linear or polynomial kernels. This is because the RBF kernel maps the data points closer to the origin in the higher-dimensional space, resulting in a higher density of data points near the origin. This leads to more data points being selected as support vectors, as they are the closest to the decision boundary.\n",
    "\n",
    "The number of support vectors when using the RBF kernel can be influenced by the gamma value, which controls the width of the Gaussian function. A higher gamma value results in a narrower Gaussian function, which maps the data points closer to the origin in the higher-dimensional space. This results in a higher number of support vectors, as the data points are more densely packed near the origin.\n",
    "\n",
    "On the other hand, a lower gamma value results in a wider Gaussian function, which maps the data points farther from the origin in the higher-dimensional space. This results in a lower number of support vectors, as the data points are more evenly distributed in the higher-dimensional space.\n",
    "\n",
    "Therefore, the choice of gamma value can affect the performance and generalization ability of the SVM model"
   ],
   "metadata": {
    "collapsed": false,
    "pycharm": {
     "name": "#%% md\n"
    }
   }
  },
  {
   "cell_type": "code",
   "execution_count": 88,
   "outputs": [
    {
     "data": {
      "text/plain": "<Figure size 640x480 with 1 Axes>",
      "image/png": "[encoded data removed]"
     },
     "metadata": {},
     "output_type": "display_data"
    }
   ],
   "source": [
    "x1 = np.linspace(start=-3,stop=3,num=10)\n",
    "X_train = np.r_[np.array(list(zip(x1,[1]*len(x1)))),\n",
    "                np.array(list(zip(x1,[-1]*len(x1))))]\n",
    "y_train = X_train[:,1]\n",
    "\n",
    "\n",
    "clf = SVC(kernel=\"linear\",C=0.1)\n",
    "clf.fit(X_train,y_train)\n",
    "\n",
    "# plot the decision boundary\n",
    "disp = DecisionBoundaryDisplay.from_estimator(estimator=clf,X=X_train,response_method=\"predict\",alpha=0.5)\n",
    "disp.ax_.scatter(X_train[:,0],X_train[:,1],c=y_train,label=\"points\")\n",
    "\n",
    "# plot the support vector\n",
    "disp.ax_.scatter(clf.support_vectors_[:,0],clf.support_vectors_[:,1],marker =\"x\",c=\"g\",s=100,label=\"support vector\")\n",
    "plt.legend()\n",
    "plt.show()"
   ],
   "metadata": {
    "collapsed": false,
    "pycharm": {
     "name": "#%%\n"
    }
   }
  },
  {
   "cell_type": "code",
   "execution_count": 87,
   "outputs": [
    {
     "data": {
      "text/plain": "<Figure size 640x480 with 1 Axes>",
      "image/png": "[encoded data removed]"
     },
     "metadata": {},
     "output_type": "display_data"
    }
   ],
   "source": [
    "x1 = np.linspace(start=-3,stop=3,num=10)\n",
    "x2 = np.linspace(start=5,stop=9,num=10)\n",
    "X_train = np.r_[np.array(list(zip(x1,[1]*len(x1)))),\n",
    "                np.array(list(zip(x2,[-1]*len(x1))))]\n",
    "y_train = X_train[:,1]\n",
    "clf = SVC(kernel =\"rbf\",C=100,gamma=0.1)\n",
    "\n",
    "# fit model on training data\n",
    "clf.fit(X_train, y_train)\n",
    "\n",
    "# access support vectors\n",
    "support_vectors = clf.support_vectors_\n",
    "\n",
    "disp = DecisionBoundaryDisplay.from_estimator(clf,X_train,response_method=\"predict\",alpha=0.5)\n",
    "\n",
    "# plot data points and support vectors\n",
    "disp.ax_.scatter(X_train[:, 0], X_train[:, 1], c=y_train,label=\"points\")\n",
    "disp.ax_.scatter(support_vectors[:, 0], support_vectors[:, 1], s=100, c='g', marker='x',label=\"support vector\")\n",
    "plt.legend()\n",
    "plt.show()"
   ],
   "metadata": {
    "collapsed": false,
    "pycharm": {
     "name": "#%%\n"
    }
   }
  },
  {
   "cell_type": "code",
   "execution_count": 68,
   "outputs": [],
   "source": [],
   "metadata": {
    "collapsed": false,
    "pycharm": {
     "name": "#%%\n"
    }
   }
  },
  {
   "cell_type": "code",
   "execution_count": 86,
   "outputs": [],
   "source": [
    "from sklearn.datasets import make_blobs\n",
    "X_train, y_train = make_blobs(n_samples=100, centers=2, random_state=0)\n",
    "\n",
    "outlier = np.array([[10, 10], [15, 15], [20, 20]])\n",
    "\n",
    "# add a few outliers to the dataset\n",
    "X = np.concatenate((X_train, outlier), axis=0)\n",
    "y = np.concatenate((y_train, np.array([0, 0, 0])), axis=0)\n",
    "\n",
    "clf = SVC()\n",
    "\n",
    "# fit model on training data\n",
    "clf.fit(X_train, y_train)\n",
    "\n",
    "# access support vectors\n",
    "support_vectors = clf.support_vectors_\n",
    "\n",
    "disp = DecisionBoundaryDisplay.from_estimator(clf,X_train,response_method=\"predict\",alpha=0.5)\n",
    "\n",
    "# plot data points and support vectors\n",
    "disp.ax_.scatter(X[:, 0], X[:, 1], c=y,label=\"points\")\n",
    "disp.ax_.scatter(support_vectors[:, 0], support_vectors[:, 1], s=100, c='g', marker='x',label=\"support vector\")\n",
    "disp.ax_.scatter(outlier[:, 0], outlier[:, 1], s=100, c='g', marker='o',label=\"outlier\")\n",
    "plt.legend()\n",
    "plt.show()"
   ],
   "metadata": {
    "collapsed": false,
    "pycharm": {
     "name": "#%%\n"
    }
   }
  },
  {
   "cell_type": "code",
   "execution_count": 83,
   "outputs": [
    {
     "data": {
      "text/plain": "<Figure size 640x480 with 1 Axes>",
      "image/png": "[encoded data removed]"
     },
     "metadata": {},
     "output_type": "display_data"
    }
   ],
   "source": [
    "from sklearn.datasets import make_blobs\n",
    "X_train, y_train = make_blobs(n_samples=100, centers=2, random_state=0)\n",
    "\n",
    "outlier = np.array([[10, 10], [15, 15], [20, 20]])\n",
    "\n",
    "# add a few outliers to the dataset\n",
    "X = np.concatenate((X_train, outlier), axis=0)\n",
    "y = np.concatenate((y_train, np.array([0, 0, 0])), axis=0)\n",
    "\n",
    "clf = SVC()\n",
    "\n",
    "# fit model on training data\n",
    "clf.fit(X_train, y_train)\n",
    "\n",
    "# access support vectors\n",
    "support_vectors = clf.support_vectors_\n",
    "\n",
    "disp = DecisionBoundaryDisplay.from_estimator(clf,X,response_method=\"predict\",alpha=0.5)\n",
    "\n",
    "# plot data points and support vectors\n",
    "disp.ax_.scatter(X[:, 0], X[:, 1], c=y,label=\"points\")\n",
    "disp.ax_.scatter(support_vectors[:, 0], support_vectors[:, 1], s=100, c='g', marker='x',label=\"support vector\")\n",
    "disp.ax_.scatter(outlier[:, 0], outlier[:, 1], s=100, c='r', marker='o',label=\"outlier\")\n",
    "plt.legend()\n",
    "plt.show()"
   ],
   "metadata": {
    "collapsed": false,
    "pycharm": {
     "name": "#%%\n"
    }
   }
  },
  {
   "cell_type": "markdown",
   "source": [
    "# Q15 How do you handle imbalanced data when using a support vector machine for classification?\n",
    "1. When using a support vector machine (SVM) for classification, imbalanced data can be a challenge because the SVM algorithm is designed to maximize the margin between the classes. This can lead to poor performance on the minority class, which can be problematic if the minority class is the one that we are interested in predicting.\n",
    "2. To handle imbalanced data when using an SVM, there are several approaches that can be tried. One approach is to use weighting to give more importance to the minority class. This can be done by setting the parameter class_weight=\"balanced\" when fitting the SVM model in scikit-learn. This will automatically weight the classes so that the SVM is more sensitive to the minority class.\n",
    "3. Another approach is to use stratified sampling to create a more balanced dataset. This involves sampling the data so that the ratio of the classes is the same in the training and test sets. This can help to ensure that the SVM model is trained and evaluated on a balanced dataset, which can improve its performance on the minority class.\n",
    "4. Finally, you can try using different kernel functions or changing the values of the hyperparameters in the SVM model. For example, using a non-linear kernel or increasing the value of the hyperparameter C (which controls the penalty for misclassification) can sometimes improve the performance of the SVM model on imbalanced data. It is worth trying a few different approaches and seeing which one produces the best results for your specific dataset and problem.\n"
   ],
   "metadata": {
    "collapsed": false,
    "pycharm": {
     "name": "#%% md\n"
    }
   }
  },
  {
   "cell_type": "code",
   "execution_count": 71,
   "outputs": [],
   "source": [
    "from sklearn.datasets import make_classification\n",
    "from sklearn.metrics import f1_score\n",
    "# Generate synthetic data with 2 features and 2 classes\n",
    "X, y = make_classification(n_samples=200, n_features=2, n_classes=2,\n",
    "                           n_clusters_per_class=1, random_state=0,\n",
    "                           weights=[0.9],n_redundant=0)\n"
   ],
   "metadata": {
    "collapsed": false,
    "pycharm": {
     "name": "#%%\n"
    }
   }
  },
  {
   "cell_type": "markdown",
   "source": [
    "## With imbalance data"
   ],
   "metadata": {
    "collapsed": false,
    "pycharm": {
     "name": "#%% md\n"
    }
   }
  },
  {
   "cell_type": "code",
   "execution_count": 72,
   "outputs": [
    {
     "name": "stdout",
     "output_type": "stream",
     "text": [
      "shape (160, 2) (160,) (40, 2) (40,)\n",
      "[145  15]\n",
      "[35  5]\n",
      "Accuracy: 0.9\n",
      "f1 score : 0.33333333333333337\n",
      "shape (160, 2) (160,) (40, 2) (40,)\n",
      "[145  15]\n",
      "[35  5]\n",
      "Accuracy: 0.9\n",
      "f1 score : 0.33333333333333337\n"
     ]
    }
   ],
   "source": [
    "# Split the data into training and test sets\n",
    "X_train, X_test, y_train, y_test = train_test_split(X, y, test_size=0.2,random_state=555)\n",
    "print(\"shape\",X_train.shape,y_train.shape,X_test.shape,y_test.shape)\n",
    "print(np.bincount(y_train))\n",
    "print(np.bincount(y_test))\n",
    "# Create an SVM model with class weighting to handle imbalanced data\n",
    "clf = SVC()\n",
    "\n",
    "# Train the SVM model on the training data\n",
    "clf.fit(X_train, y_train)\n",
    "\n",
    "# Evaluate the SVM model on the test data\n",
    "score = clf.score(X_test, y_test)\n",
    "print(\"Accuracy:\", score)\n",
    "\n",
    "print(\"f1 score :\",f1_score(y_test,clf.predict(X_test)))"
   ],
   "metadata": {
    "collapsed": false,
    "pycharm": {
     "name": "#%%\n"
    }
   }
  },
  {
   "cell_type": "markdown",
   "source": [
    "## Stratified split"
   ],
   "metadata": {
    "collapsed": false,
    "pycharm": {
     "name": "#%% md\n"
    }
   }
  },
  {
   "cell_type": "code",
   "execution_count": 73,
   "outputs": [
    {
     "name": "stdout",
     "output_type": "stream",
     "text": [
      "shape (160, 2) (160,) (40, 2) (40,)\n",
      "[144  16]\n",
      "[36  4]\n",
      "Accuracy: 0.975\n",
      "f1 score : 0.8571428571428571\n",
      "shape (160, 2) (160,) (40, 2) (40,)\n",
      "[144  16]\n",
      "[36  4]\n",
      "Accuracy: 0.975\n",
      "f1 score : 0.8571428571428571\n"
     ]
    }
   ],
   "source": [
    "# Split the data into training and test sets\n",
    "X_train, X_test, y_train, y_test = train_test_split(X, y, test_size=0.2, stratify=y,random_state=555)\n",
    "print(\"shape\",X_train.shape,y_train.shape,X_test.shape,y_test.shape)\n",
    "print(np.bincount(y_train))\n",
    "print(np.bincount(y_test))\n",
    "# Create an SVM model with class weighting to handle imbalanced data\n",
    "clf = SVC()\n",
    "\n",
    "# Train the SVM model on the training data\n",
    "clf.fit(X_train, y_train)\n",
    "\n",
    "# Evaluate the SVM model on the test data\n",
    "score = clf.score(X_test, y_test)\n",
    "print(\"Accuracy:\", score)\n",
    "\n",
    "print(\"f1 score :\",f1_score(y_test,clf.predict(X_test)))"
   ],
   "metadata": {
    "collapsed": false,
    "pycharm": {
     "name": "#%%\n"
    }
   }
  },
  {
   "cell_type": "code",
   "execution_count": 74,
   "outputs": [
    {
     "name": "stdout",
     "output_type": "stream",
     "text": [
      "[1. 1.]\n",
      "[1. 1.]\n"
     ]
    }
   ],
   "source": [
    "print(clf.class_weight_)"
   ],
   "metadata": {
    "collapsed": false,
    "pycharm": {
     "name": "#%%\n"
    }
   }
  },
  {
   "cell_type": "markdown",
   "source": [
    "## Using the class weight"
   ],
   "metadata": {
    "collapsed": false,
    "pycharm": {
     "name": "#%% md\n"
    }
   }
  },
  {
   "cell_type": "code",
   "execution_count": 75,
   "outputs": [
    {
     "name": "stdout",
     "output_type": "stream",
     "text": [
      "shape (160, 2) (160,) (40, 2) (40,)\n",
      "[145  15]\n",
      "[35  5]\n",
      "Accuracy: 0.975\n",
      "f1 score : 0.9090909090909091\n",
      "shape (160, 2) (160,) (40, 2) (40,)\n",
      "[145  15]\n",
      "[35  5]\n",
      "Accuracy: 0.975\n",
      "f1 score : 0.9090909090909091\n"
     ]
    }
   ],
   "source": [
    "# Split the data into training and test sets\n",
    "X_train, X_test, y_train, y_test = train_test_split(X, y, test_size=0.2, random_state=555)\n",
    "print(\"shape\",X_train.shape,y_train.shape,X_test.shape,y_test.shape)\n",
    "print(np.bincount(y_train))\n",
    "print(np.bincount(y_test))\n",
    "# Create an SVM model with class weighting to handle imbalanced data\n",
    "clf = SVC(class_weight=\"balanced\")\n",
    "\n",
    "# Train the SVM model on the training data\n",
    "clf.fit(X_train, y_train)\n",
    "\n",
    "# Evaluate the SVM model on the test data\n",
    "score = clf.score(X_test, y_test)\n",
    "print(\"Accuracy:\", score)\n",
    "\n",
    "print(\"f1 score :\",f1_score(y_test,clf.predict(X_test)))"
   ],
   "metadata": {
    "collapsed": false,
    "pycharm": {
     "name": "#%%\n"
    }
   }
  },
  {
   "cell_type": "code",
   "execution_count": 76,
   "outputs": [
    {
     "name": "stdout",
     "output_type": "stream",
     "text": [
      "[0.55172414 5.33333333]\n",
      "[0.55172414 5.33333333]\n"
     ]
    }
   ],
   "source": [
    "print(clf.class_weight_)"
   ],
   "metadata": {
    "collapsed": false,
    "pycharm": {
     "name": "#%%\n"
    }
   }
  },
  {
   "cell_type": "markdown",
   "source": [
    "## Controlling the C"
   ],
   "metadata": {
    "collapsed": false,
    "pycharm": {
     "name": "#%% md\n"
    }
   }
  },
  {
   "cell_type": "code",
   "execution_count": 77,
   "outputs": [
    {
     "name": "stdout",
     "output_type": "stream",
     "text": [
      "shape (160, 2) (160,) (40, 2) (40,)\n",
      "[145  15]\n",
      "[35  5]\n",
      "Accuracy: 0.925\n",
      "f1 score : 0.6666666666666665\n",
      "shape (160, 2) (160,) (40, 2) (40,)\n",
      "[145  15]\n",
      "[35  5]\n",
      "Accuracy: 0.925\n",
      "f1 score : 0.6666666666666665\n"
     ]
    }
   ],
   "source": [
    "# Split the data into training and test sets\n",
    "X_train, X_test, y_train, y_test = train_test_split(X, y, test_size=0.2, random_state=555)\n",
    "print(\"shape\",X_train.shape,y_train.shape,X_test.shape,y_test.shape)\n",
    "print(np.bincount(y_train))\n",
    "print(np.bincount(y_test))\n",
    "# Create an SVM model with class weighting to handle imbalanced data\n",
    "clf = SVC(C=100)\n",
    "\n",
    "# Train the SVM model on the training data\n",
    "clf.fit(X_train, y_train)\n",
    "\n",
    "# Evaluate the SVM model on the test data\n",
    "score = clf.score(X_test, y_test)\n",
    "print(\"Accuracy:\", score)\n",
    "\n",
    "print(\"f1 score :\",f1_score(y_test,clf.predict(X_test)))"
   ],
   "metadata": {
    "collapsed": false,
    "pycharm": {
     "name": "#%%\n"
    }
   }
  },
  {
   "cell_type": "markdown",
   "source": [
    "# Q18 Can you describe the process of using a support vector machine for feature selection?\n",
    "1. Support vector machines (SVMs) can be used for feature selection in a supervised learning setting. Feature selection is the process of selecting a subset of relevant features from a larger set of features for use in model training. The goal of feature selection is to improve the performance of the model by reducing the complexity and noise in the data, and by eliminating irrelevant features that do not contribute to the predictive power of the model.\n",
    "2. One way to use SVMs for feature selection is by training an SVM classifier on the training data, with the goal of maximizing the margin between the decision boundary and the data points. This process of maximizing the margin can be thought of as selecting the most relevant features in the data, since these are the features that contribute most to the decision boundary.\n",
    "3. Once the SVM has been trained, the weights of the features can be used to rank the importance of each feature. The features with the highest weights are the most relevant and should be included in the final model.\n",
    "4. Alternatively, the SVM can be trained using a greedy search algorithm, such as recursive feature elimination (RFE), to iteratively remove the least important features from the model. This can be done by training the SVM on the training data using a subset of the features, and then removing the least important feature from the subset and retraining the SVM on the reduced set of features. This process is repeated until the desired number of features is selected.\n",
    "5. Overall, the use of SVMs for feature selection can be an effective way to improve the performance of a supervised learning model by identifying and selecting the most relevant features in the data\n"
   ],
   "metadata": {
    "collapsed": false,
    "pycharm": {
     "name": "#%% md\n"
    }
   }
  },
  {
   "cell_type": "code",
   "execution_count": 78,
   "outputs": [
    {
     "name": "stdout",
     "output_type": "stream",
     "text": [
      "Accuracy:  0.956140350877193\n",
      "Top 10 most important features:\n",
      "worst concavity\n",
      "texture error\n",
      "mean radius\n",
      "worst symmetry\n",
      "worst compactness\n",
      "mean concavity\n",
      "worst concave points\n",
      "worst smoothness\n",
      "mean concave points\n",
      "mean symmetry\n",
      "Accuracy:  0.956140350877193\n",
      "Top 10 most important features:\n",
      "worst concavity\n",
      "texture error\n",
      "mean radius\n",
      "worst symmetry\n",
      "worst compactness\n",
      "mean concavity\n",
      "worst concave points\n",
      "worst smoothness\n",
      "mean concave points\n",
      "mean symmetry\n"
     ]
    }
   ],
   "source": [
    "# Import required libraries\n",
    "from sklearn.svm import SVC\n",
    "from sklearn.model_selection import train_test_split\n",
    "from sklearn.datasets import load_breast_cancer\n",
    "\n",
    "# Load the breast cancer dataset\n",
    "data = load_breast_cancer()\n",
    "X = data.data\n",
    "y = data.target\n",
    "\n",
    "# Split the data into training and test sets\n",
    "X_train, X_test, y_train, y_test = train_test_split(X, y, test_size=0.2, random_state=42)\n",
    "\n",
    "# Train an SVM classifier on the training data\n",
    "svm = SVC(kernel=\"linear\")\n",
    "svm.fit(X_train, y_train)\n",
    "\n",
    "# Evaluate the model on the test set\n",
    "accuracy = svm.score(X_test, y_test)\n",
    "print(\"Accuracy: \", accuracy)\n",
    "\n",
    "# Get the feature weights from the trained SVM\n",
    "weights = svm.coef_\n",
    "\n",
    "# Sort the features by their weights\n",
    "sorted_features = sorted(zip(weights.ravel(), data.feature_names), key=lambda x: abs(x[0]), reverse=True)\n",
    "\n",
    "# Print the top 10 most important features\n",
    "print(\"Top 10 most important features:\")\n",
    "for weight, feature in sorted_features[:10]:\n",
    "    print(feature)\n"
   ],
   "metadata": {
    "collapsed": false,
    "pycharm": {
     "name": "#%%\n"
    }
   }
  },
  {
   "cell_type": "code",
   "execution_count": 79,
   "outputs": [],
   "source": [
    "idx = np.argwhere(np.isin(data.feature_names,sorted_features[:20])).ravel()"
   ],
   "metadata": {
    "collapsed": false,
    "pycharm": {
     "name": "#%%\n"
    }
   }
  },
  {
   "cell_type": "code",
   "execution_count": 80,
   "outputs": [],
   "source": [
    "acc = []\n",
    "for stop in range(2,len(idx)):\n",
    "    X_sub = X[:,idx[:stop]]\n",
    "\n",
    "    # Split the data into training and test sets\n",
    "    X_train, X_test, y_train, y_test = train_test_split(X_sub, y, test_size=0.2, random_state=42)\n",
    "\n",
    "    # Train an SVM classifier on the training data\n",
    "    svm = SVC(kernel=\"linear\")\n",
    "    svm.fit(X_train, y_train)\n",
    "\n",
    "    # Evaluate the model on the test set\n",
    "    accuracy = svm.score(X_test, y_test)\n",
    "    acc.append(accuracy)\n"
   ],
   "metadata": {
    "collapsed": false,
    "pycharm": {
     "name": "#%%\n"
    }
   }
  },
  {
   "cell_type": "code",
   "execution_count": 84,
   "outputs": [
    {
     "data": {
      "text/plain": "[<matplotlib.lines.Line2D at 0x1efcfae5dd0>]"
     },
     "execution_count": 84,
     "metadata": {},
     "output_type": "execute_result"
    },
    {
     "data": {
      "text/plain": "<Figure size 640x480 with 1 Axes>",
      "image/png": "[encoded data removed]"
     },
     "metadata": {},
     "output_type": "display_data"
    }
   ],
   "source": [
    "plt.plot(acc)"
   ],
   "metadata": {
    "collapsed": false,
    "pycharm": {
     "name": "#%%\n"
    }
   }
  },
  {
   "cell_type": "markdown",
   "source": [],
   "metadata": {
    "collapsed": false,
    "pycharm": {
     "name": "#%% md\n"
    }
   }
  },
  {
   "cell_type": "code",
   "execution_count": 85,
   "outputs": [
    {
     "data": {
      "text/plain": "<Figure size 640x480 with 1 Axes>",
      "image/png": "[encoded data removed]"
     },
     "metadata": {},
     "output_type": "display_data"
    }
   ],
   "source": [
    "# Import required libraries\n",
    "from sklearn.svm import OneClassSVM\n",
    "from sklearn.datasets import load_iris\n",
    "\n",
    "# Load the breast cancer dataset\n",
    "data = load_iris()\n",
    "X = data.data[:,0:2]\n",
    "\n",
    "# Train an SVM model on the normal data points\n",
    "svm = OneClassSVM(kernel=\"rbf\",nu=0.03,gamma=0.001)\n",
    "svm.fit(X)\n",
    "\n",
    "# Evaluate new data points\n",
    "\n",
    "predictions = svm.predict(X)\n",
    "\n",
    "# Print the predicted class for each data point\n",
    "col = plt.scatter(X[:,0],X[:,1],c=predictions)\n"
   ],
   "metadata": {
    "collapsed": false,
    "pycharm": {
     "name": "#%%\n"
    }
   }
  },
  {
   "cell_type": "code",
   "execution_count": null,
   "outputs": [],
   "source": [],
   "metadata": {
    "collapsed": false,
    "pycharm": {
     "name": "#%%\n"
    }
   }
  }
 ],
 "metadata": {
  "kernelspec": {
   "display_name": "Python 3",
   "language": "python",
   "name": "python3"
  },
  "language_info": {
   "codemirror_mode": {
    "name": "ipython",
    "version": 2
   },
   "file_extension": ".py",
   "mimetype": "text/x-python",
   "name": "python",
   "nbconvert_exporter": "python",
   "pygments_lexer": "ipython2",
   "version": "2.7.6"
  }
 },
 "nbformat": 4,
 "nbformat_minor": 0
}