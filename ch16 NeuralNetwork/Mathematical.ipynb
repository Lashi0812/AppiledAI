{
  "nbformat": 4,
  "nbformat_minor": 0,
  "metadata": {
    "colab": {
      "provenance": [],
      "authorship_tag": "ABX9TyPJyj056+JQVMNtCS+K9GeY",
      "include_colab_link": true
    },
    "kernelspec": {
      "name": "python3",
      "display_name": "Python 3"
    },
    "language_info": {
      "name": "python"
    }
  },
  "cells": [
    {
      "cell_type": "markdown",
      "metadata": {
        "id": "view-in-github",
        "colab_type": "text"
      },
      "source": [
        "<a href=\"https://colab.research.google.com/github/Lashi0812/AppiledAI/blob/master/ch16%20NeuralNetwork/Mathematical.ipynb\" target=\"_parent\"><img src=\"https://colab.research.google.com/assets/colab-badge.svg\" alt=\"Open In Colab\"/></a>"
      ]
    },
    {
      "cell_type": "code",
      "execution_count": null,
      "metadata": {
        "id": "tyVLKDFRZIh-"
      },
      "outputs": [],
      "source": [
        "from tensorflow.keras.datasets import mnist\n",
        "import matplotlib.pyplot as plt\n",
        "from tensorflow import keras\n",
        "from tensorflow.keras import layers\n",
        "import numpy as np\n"
      ]
    },
    {
      "cell_type": "code",
      "source": [
        "(x_train, y_train), (x_test, y_test) = mnist.load_data()"
      ],
      "metadata": {
        "id": "2GS3YCSUZp-f"
      },
      "execution_count": null,
      "outputs": []
    },
    {
      "cell_type": "code",
      "source": [
        "x_train.shape"
      ],
      "metadata": {
        "colab": {
          "base_uri": "https://localhost:8080/"
        },
        "id": "pOAxJ6GoaAz2",
        "outputId": "0a4b3701-5e86-456e-bdf7-883266398393"
      },
      "execution_count": null,
      "outputs": [
        {
          "output_type": "execute_result",
          "data": {
            "text/plain": [
              "(60000, 28, 28)"
            ]
          },
          "metadata": {},
          "execution_count": 11
        }
      ]
    },
    {
      "cell_type": "code",
      "source": [
        "x_train[0].shape"
      ],
      "metadata": {
        "colab": {
          "base_uri": "https://localhost:8080/"
        },
        "id": "SCRqifHnaUvc",
        "outputId": "15283576-67a4-440d-e10e-60ddc00d61c2"
      },
      "execution_count": null,
      "outputs": [
        {
          "output_type": "execute_result",
          "data": {
            "text/plain": [
              "(28, 28)"
            ]
          },
          "metadata": {},
          "execution_count": 13
        }
      ]
    },
    {
      "cell_type": "code",
      "source": [
        "plt.imshow(x_train[0],cmap=plt.cm.binary)\n",
        "plt.title(f\"label = {y_train[0]}\")\n",
        "plt.show()\n"
      ],
      "metadata": {
        "colab": {
          "base_uri": "https://localhost:8080/",
          "height": 281
        },
        "id": "F8l3k_1HabEP",
        "outputId": "b2c4c6e6-f85b-4133-d551-6400ba55ed58"
      },
      "execution_count": null,
      "outputs": [
        {
          "output_type": "display_data",
          "data": {
            "text/plain": [
              "<Figure size 432x288 with 1 Axes>"
            ],
            "image/png": "[encoded data removed]"
          },
          "metadata": {
            "needs_background": "light"
          }
        }
      ]
    },
    {
      "cell_type": "code",
      "source": [
        "model = keras.Sequential([\n",
        "    layers.Dense(512,activation=\"relu\"),\n",
        "    layers.Dense(10,activation=\"softmax\")\n",
        "])"
      ],
      "metadata": {
        "id": "2811-9mybNov"
      },
      "execution_count": null,
      "outputs": []
    },
    {
      "cell_type": "code",
      "source": [
        "model.compile(metrics=[\"accuracy\"],\n",
        "              loss=\"sparse_categorical_crossentropy\",\n",
        "              optimizer=\"rmsprop\")"
      ],
      "metadata": {
        "id": "Y1qZ6jAdcI2j"
      },
      "execution_count": null,
      "outputs": []
    },
    {
      "cell_type": "code",
      "source": [
        "# preprocess\n",
        "train_images = x_train.reshape(60000,28*28)\n",
        "train_images = train_images.astype(\"float32\")/ 255\n",
        "test_images = x_test.reshape(10000,28*28)\n",
        "test_images = test_images.astype(\"float32\") /255"
      ],
      "metadata": {
        "id": "HseoeRsCczLb"
      },
      "execution_count": null,
      "outputs": []
    },
    {
      "cell_type": "code",
      "source": [
        "model.fit(train_images,y_train,epochs=5,batch_size=128)"
      ],
      "metadata": {
        "colab": {
          "base_uri": "https://localhost:8080/"
        },
        "id": "Y_cDASq-dlL-",
        "outputId": "b09cc411-5afc-454a-cc4a-5922ca44901b"
      },
      "execution_count": null,
      "outputs": [
        {
          "output_type": "stream",
          "name": "stdout",
          "text": [
            "Epoch 1/5\n",
            "469/469 [==============================] - 5s 10ms/step - loss: 0.0291 - accuracy: 0.9912\n",
            "Epoch 2/5\n",
            "469/469 [==============================] - 5s 10ms/step - loss: 0.0219 - accuracy: 0.9931\n",
            "Epoch 3/5\n",
            "469/469 [==============================] - 5s 10ms/step - loss: 0.0177 - accuracy: 0.9949\n",
            "Epoch 4/5\n",
            "469/469 [==============================] - 5s 10ms/step - loss: 0.0133 - accuracy: 0.9964\n",
            "Epoch 5/5\n",
            "469/469 [==============================] - 5s 10ms/step - loss: 0.0101 - accuracy: 0.9967\n"
          ]
        },
        {
          "output_type": "execute_result",
          "data": {
            "text/plain": [
              "<keras.callbacks.History at 0x7fe4b00b93a0>"
            ]
          },
          "metadata": {},
          "execution_count": 26
        }
      ]
    },
    {
      "cell_type": "code",
      "source": [
        "test_loss ,test_acc =  model.evaluate(test_images,y_test)\n",
        "test_loss ,test_acc"
      ],
      "metadata": {
        "colab": {
          "base_uri": "https://localhost:8080/"
        },
        "id": "Ybj1GtZTd3aM",
        "outputId": "0eb2c1b7-d9dc-48ba-ad69-50ff710b3182"
      },
      "execution_count": null,
      "outputs": [
        {
          "output_type": "stream",
          "name": "stdout",
          "text": [
            "313/313 [==============================] - 1s 4ms/step - loss: 0.0759 - accuracy: 0.9801\n"
          ]
        },
        {
          "output_type": "execute_result",
          "data": {
            "text/plain": [
              "(0.0759117528796196, 0.9800999760627747)"
            ]
          },
          "metadata": {},
          "execution_count": 27
        }
      ]
    },
    {
      "cell_type": "markdown",
      "source": [
        "# Data Representation\n",
        "\n",
        "Tensor are a generaliztion of matrices to arbiatray number of dimensions.\n",
        "\n",
        "* scalar = 0d tensor\n",
        "* vector = 1d tensor\n",
        "* matrices = 2d tensor\n",
        "\n",
        "In context of tensor the dimension means `axis`"
      ],
      "metadata": {
        "id": "g7cjbe9zewQ8"
      }
    },
    {
      "cell_type": "markdown",
      "source": [
        "## Scalar (rank-0 tensor)"
      ],
      "metadata": {
        "id": "fHxmix9LfyD6"
      }
    },
    {
      "cell_type": "code",
      "source": [
        "x = np.array(3)\n",
        "x.shape,x.ndim"
      ],
      "metadata": {
        "colab": {
          "base_uri": "https://localhost:8080/"
        },
        "id": "7WW2hNzmecPc",
        "outputId": "7dcbb800-62ff-4c52-8070-7510bb04679e"
      },
      "execution_count": null,
      "outputs": [
        {
          "output_type": "execute_result",
          "data": {
            "text/plain": [
              "((), 0)"
            ]
          },
          "metadata": {},
          "execution_count": 29
        }
      ]
    },
    {
      "cell_type": "markdown",
      "source": [
        "## Vector (rank 1 tensor)"
      ],
      "metadata": {
        "id": "B_2wtjaChVkZ"
      }
    },
    {
      "cell_type": "code",
      "source": [
        "x = np.array([11,2,4,3,4])\n",
        "x.shape,x.ndim\n",
        "\n",
        "\n",
        "# dont confuse with the dimension in the "
      ],
      "metadata": {
        "colab": {
          "base_uri": "https://localhost:8080/"
        },
        "id": "XXp-ENBFhR3t",
        "outputId": "48f482e0-f76e-4b81-f4e2-586379bca35d"
      },
      "execution_count": null,
      "outputs": [
        {
          "output_type": "execute_result",
          "data": {
            "text/plain": [
              "((5,), 1)"
            ]
          },
          "metadata": {},
          "execution_count": 30
        }
      ]
    },
    {
      "cell_type": "markdown",
      "source": [
        "## matrices (rank 2 tensor)"
      ],
      "metadata": {
        "id": "vochowivjme9"
      }
    },
    {
      "cell_type": "code",
      "source": [
        " x = np.array([[5, 78, 2, 34, 0],\n",
        "                  [6, 79, 3, 35, 1],\n",
        "                  [7, 80, 4, 36, 2]])\n",
        " x.shape,x.ndim"
      ],
      "metadata": {
        "colab": {
          "base_uri": "https://localhost:8080/"
        },
        "id": "TR4GHsDVi7Bt",
        "outputId": "9ba01d8f-c4e1-4823-912e-d22993ba6ca3"
      },
      "execution_count": null,
      "outputs": [
        {
          "output_type": "execute_result",
          "data": {
            "text/plain": [
              "((3, 5), 2)"
            ]
          },
          "metadata": {},
          "execution_count": 31
        }
      ]
    },
    {
      "cell_type": "code",
      "source": [
        " x = np.array([[[5, 78, 2, 34, 0],\n",
        "                   [6, 79, 3, 35, 1],\n",
        "                   [7, 80, 4, 36, 2]],\n",
        "                  [[5, 78, 2, 34, 0],\n",
        "                   [6, 79, 3, 35, 1],\n",
        "                   [7, 80, 4, 36, 2]],\n",
        "                  [[5, 78, 2, 34, 0],\n",
        "                   [6, 79, 3, 35, 1],\n",
        "                   [7, 80, 4, 36, 2]],\n",
        "              [[5, 78, 2, 34, 0],\n",
        "                   [6, 79, 3, 35, 1],\n",
        "                   [7, 80, 4, 36, 2]]])\n",
        " x.shape,x.ndim"
      ],
      "metadata": {
        "colab": {
          "base_uri": "https://localhost:8080/"
        },
        "id": "9MPUVccPnxmg",
        "outputId": "d7a901e3-1c80-4f56-ace9-9f5341e32214"
      },
      "execution_count": null,
      "outputs": [
        {
          "output_type": "execute_result",
          "data": {
            "text/plain": [
              "((4, 3, 5), 3)"
            ]
          },
          "metadata": {},
          "execution_count": 38
        }
      ]
    },
    {
      "cell_type": "code",
      "source": [
        "type(train_images)"
      ],
      "metadata": {
        "colab": {
          "base_uri": "https://localhost:8080/"
        },
        "id": "Qkjf6KM-n5bY",
        "outputId": "74a8db46-72b5-453a-ca90-2da87a13fd47"
      },
      "execution_count": null,
      "outputs": [
        {
          "output_type": "execute_result",
          "data": {
            "text/plain": [
              "numpy.ndarray"
            ]
          },
          "metadata": {},
          "execution_count": 34
        }
      ]
    },
    {
      "cell_type": "markdown",
      "source": [
        "# Tensor Operation"
      ],
      "metadata": {
        "id": "8LnfzUb0rW3-"
      }
    },
    {
      "cell_type": "markdown",
      "source": [
        "## Element wise Operation"
      ],
      "metadata": {
        "id": "YHhcci7araiV"
      }
    },
    {
      "cell_type": "code",
      "source": [
        "def navie_relu(x):\n",
        "    assert x.ndim == 2\n",
        "\n",
        "    x =x.copy()\n",
        "    for i in range(x.shape[0]):\n",
        "        for j in range(x.shape[1]):\n",
        "            x[i,j] = max(x[i,j],0)\n",
        "    return x"
      ],
      "metadata": {
        "id": "IXZfKQRSoMCS"
      },
      "execution_count": null,
      "outputs": []
    },
    {
      "cell_type": "code",
      "source": [
        "def navie_add(x,y):\n",
        "    assert x.ndim == 2\n",
        "    assert x.shape == y.shape\n",
        "\n",
        "    for i in range(x.shape[0]):\n",
        "        for j in range(y.shape[1]):\n",
        "            x[i,j] += y[i,j]\n",
        "    return x"
      ],
      "metadata": {
        "id": "PwzMj_z3shsk"
      },
      "execution_count": null,
      "outputs": []
    },
    {
      "cell_type": "code",
      "source": [
        "import time\n",
        "\n",
        "x= np.random.random((20,100))\n",
        "y =np.random.random((20,100))\n",
        "t0 = time.time() \n",
        "for _ in range(1000):\n",
        "    z = x+y\n",
        "    z = np.maximum(z,0.)\n",
        "print(f\"Took {time.time()-t0:.2f}\")"
      ],
      "metadata": {
        "colab": {
          "base_uri": "https://localhost:8080/"
        },
        "id": "7AmQK3HFs4Jb",
        "outputId": "7a937cd0-5521-4cdd-bd37-38caffe7a1c0"
      },
      "execution_count": null,
      "outputs": [
        {
          "output_type": "stream",
          "name": "stdout",
          "text": [
            "Took 0.01\n"
          ]
        }
      ]
    },
    {
      "cell_type": "code",
      "source": [
        "t0 = time.time() \n",
        "for _ in range(1000):\n",
        "    z = navie_add(x,y)\n",
        "    z = navie_relu(z)\n",
        "print(f\"Took {time.time()-t0:.2f}\")"
      ],
      "metadata": {
        "colab": {
          "base_uri": "https://localhost:8080/"
        },
        "id": "6wOw1x-stkJa",
        "outputId": "8d941329-5e03-4b43-975a-0dfdc02a9347"
      },
      "execution_count": null,
      "outputs": [
        {
          "output_type": "stream",
          "name": "stdout",
          "text": [
            "Took 2.60\n"
          ]
        }
      ]
    },
    {
      "cell_type": "markdown",
      "source": [
        "## Broadcasating\n",
        "\n",
        "when adding the two tensor with different size,smaller tensor is bradcast to macth the shape of the larger tensor.\n",
        "\n",
        "Broadcasting consists of two steps:\n",
        "1. new broadcast axes is added  to smaller tensor to match the ndim of the larger tensor.\n",
        "2. the smaller tensor is repeated alongside of the new axis"
      ],
      "metadata": {
        "id": "KpmgIEomt9ez"
      }
    },
    {
      "cell_type": "code",
      "source": [
        "x = np.random.random((32,10))\n",
        "y = np.random.random((10,))\n",
        "x.shape,y.shape"
      ],
      "metadata": {
        "colab": {
          "base_uri": "https://localhost:8080/"
        },
        "id": "VRZIg43ktrBK",
        "outputId": "c386379b-ecc0-4bd0-f686-13ce1dfcd2b9"
      },
      "execution_count": null,
      "outputs": [
        {
          "output_type": "execute_result",
          "data": {
            "text/plain": [
              "((32, 10), (10,))"
            ]
          },
          "metadata": {},
          "execution_count": 63
        }
      ]
    },
    {
      "cell_type": "code",
      "source": [
        "# both have two different shape\n",
        "# y is smaller tensor, so new dimension is created along the side of axis 0\n",
        "y = np.expand_dims(y,axis=0)\n",
        "y.shape"
      ],
      "metadata": {
        "colab": {
          "base_uri": "https://localhost:8080/"
        },
        "id": "mTuAts9bvVKj",
        "outputId": "33e094bd-8f38-494c-f9d6-341daf7ee22f"
      },
      "execution_count": null,
      "outputs": [
        {
          "output_type": "execute_result",
          "data": {
            "text/plain": [
              "(1, 10)"
            ]
          },
          "metadata": {},
          "execution_count": 64
        }
      ]
    },
    {
      "cell_type": "code",
      "source": [
        "y = np.concatenate([y]*32,axis=0)\n",
        "y.shape"
      ],
      "metadata": {
        "colab": {
          "base_uri": "https://localhost:8080/"
        },
        "id": "Mg-ynGo1vxTq",
        "outputId": "d7d613df-7089-4123-ecab-309490d38815"
      },
      "execution_count": null,
      "outputs": [
        {
          "output_type": "execute_result",
          "data": {
            "text/plain": [
              "(32, 10)"
            ]
          },
          "metadata": {},
          "execution_count": 65
        }
      ]
    },
    {
      "cell_type": "markdown",
      "source": [
        "This is not happening when we add the matrix and vector, but this happening in the algorithm level not in the memory level"
      ],
      "metadata": {
        "id": "jcjRWwCAxO2m"
      }
    },
    {
      "cell_type": "code",
      "source": [
        "def navie_add_matix_and_vector(x,y):\n",
        "    assert x.ndim == 2\n",
        "    assert y.ndim == 1\n",
        "    assert x.shape[1] == y.shape[0]\n",
        "    x = x.copy()\n",
        "    for i in range(x.shape[0]):\n",
        "        for j in range(x.shape[1]):\n",
        "            x[i,j] += y[j]\n",
        "    return x"
      ],
      "metadata": {
        "id": "duSb2Cw5wER5"
      },
      "execution_count": null,
      "outputs": []
    },
    {
      "cell_type": "code",
      "source": [
        "try:\n",
        "    x = np.random.random((64,2,3,5))\n",
        "    y = np.random.random((2,))\n",
        "    z = np.maximum(x,y)\n",
        "    print(z.shape)\n",
        "except ValueError as ex:\n",
        "    print(ex)"
      ],
      "metadata": {
        "colab": {
          "base_uri": "https://localhost:8080/"
        },
        "id": "oN4VqqgTzBrS",
        "outputId": "8e0e6adb-bd3a-478d-9af4-0bc725ca93d4"
      },
      "execution_count": null,
      "outputs": [
        {
          "output_type": "stream",
          "name": "stdout",
          "text": [
            "operands could not be broadcast together with shapes (64,2,3,5) (2,) \n"
          ]
        }
      ]
    },
    {
      "cell_type": "code",
      "source": [
        "x = np.random.random((64,2,3,5))\n",
        "y = np.random.random((5,))\n",
        "z = np.maximum(x,y)\n",
        "z.shape"
      ],
      "metadata": {
        "colab": {
          "base_uri": "https://localhost:8080/"
        },
        "id": "GExLUD1xx4YR",
        "outputId": "99f55609-6799-4407-fc6b-edab6138a30a"
      },
      "execution_count": null,
      "outputs": [
        {
          "output_type": "execute_result",
          "data": {
            "text/plain": [
              "(64, 2, 3, 5)"
            ]
          },
          "metadata": {},
          "execution_count": 76
        }
      ]
    },
    {
      "cell_type": "markdown",
      "source": [
        "## Tensor Product\n",
        "\n",
        "is same as the dot product."
      ],
      "metadata": {
        "id": "TVUTxNmfzqtT"
      }
    },
    {
      "cell_type": "code",
      "source": [
        "x = np.random.random((32,))\n",
        "y = np.random.random((32,))\n",
        "np.dot(x,y)"
      ],
      "metadata": {
        "colab": {
          "base_uri": "https://localhost:8080/"
        },
        "id": "qIiq-gufzqO3",
        "outputId": "587c7832-f09d-4de6-de8b-ae8fea477c43"
      },
      "execution_count": null,
      "outputs": [
        {
          "output_type": "execute_result",
          "data": {
            "text/plain": [
              "8.739196025483599"
            ]
          },
          "metadata": {},
          "execution_count": 77
        }
      ]
    },
    {
      "cell_type": "code",
      "source": [
        "def naive_vector_dot(x,y):\n",
        "    assert x.ndim ==1 \n",
        "    assert y.ndim ==1\n",
        "    assert x.shape == y.shape\n",
        "\n",
        "    z =0.0\n",
        "    for i in range(x.shape[0]):\n",
        "        z += x[i]*y[i]\n",
        "    return z "
      ],
      "metadata": {
        "id": "4dgWdthfzZAk"
      },
      "execution_count": null,
      "outputs": []
    },
    {
      "cell_type": "code",
      "source": [
        "naive_vector_dot(x,y)"
      ],
      "metadata": {
        "colab": {
          "base_uri": "https://localhost:8080/"
        },
        "id": "OcKH-NMK0m62",
        "outputId": "b6e1dc10-e0f5-46c6-fa9e-e1559feb40cd"
      },
      "execution_count": null,
      "outputs": [
        {
          "output_type": "execute_result",
          "data": {
            "text/plain": [
              "8.739196025483599"
            ]
          },
          "metadata": {},
          "execution_count": 80
        }
      ]
    },
    {
      "cell_type": "code",
      "source": [
        "x = np.random.random((15,5))\n",
        "y = np.random.random((5,))\n",
        "np_z = np.dot(x,y)\n",
        "np_z"
      ],
      "metadata": {
        "colab": {
          "base_uri": "https://localhost:8080/"
        },
        "id": "rjFlcv6l1jny",
        "outputId": "075a473e-e5ac-4155-fbb0-bec728d4c5e9"
      },
      "execution_count": null,
      "outputs": [
        {
          "output_type": "execute_result",
          "data": {
            "text/plain": [
              "array([1.19550131, 0.62706098, 0.77311557, 1.30736892, 0.99002461,\n",
              "       1.26427164, 0.44082128, 0.84735293, 1.42457992, 1.07900394,\n",
              "       1.08866825, 0.37240809, 0.66652085, 0.58518825, 0.83953446])"
            ]
          },
          "metadata": {},
          "execution_count": 94
        }
      ]
    },
    {
      "cell_type": "code",
      "source": [
        "def navie_matrix_vector_dot(x,y):\n",
        "    assert x.ndim ==2\n",
        "    assert y.ndim ==1\n",
        "    assert x.shape[1] == y.shape[0]\n",
        "\n",
        "    z = np.zeros(shape=x.shape[0])\n",
        "    for i in range(x.shape[0]):\n",
        "        for j in range(x.shape[1]):\n",
        "            z[i] += x[i,j] * y[j]\n",
        "    return z"
      ],
      "metadata": {
        "id": "wbYeSLdg0q-G"
      },
      "execution_count": null,
      "outputs": []
    },
    {
      "cell_type": "code",
      "source": [
        "navie_matrix_vector_dot(x,y)"
      ],
      "metadata": {
        "colab": {
          "base_uri": "https://localhost:8080/"
        },
        "id": "KujjJ6TM17uC",
        "outputId": "c09866d9-4af8-43d5-d04b-fdfe8936425d"
      },
      "execution_count": null,
      "outputs": [
        {
          "output_type": "execute_result",
          "data": {
            "text/plain": [
              "array([1.19550131, 0.62706098, 0.77311557, 1.30736892, 0.99002461,\n",
              "       1.26427164, 0.44082128, 0.84735293, 1.42457992, 1.07900394,\n",
              "       1.08866825, 0.37240809, 0.66652085, 0.58518825, 0.83953446])"
            ]
          },
          "metadata": {},
          "execution_count": 96
        }
      ]
    },
    {
      "cell_type": "code",
      "source": [
        "def navie_matrix_vector_dot(x,y):\n",
        "    assert x.ndim ==2\n",
        "    assert y.ndim ==1\n",
        "    assert x.shape[1] == y.shape[0]\n",
        "\n",
        "    z = np.zeros(x.shape[0])\n",
        "    for i in range(x.shape[0]):\n",
        "        z[i] = naive_vector_dot(x[i,:],y)\n",
        "    return z"
      ],
      "metadata": {
        "id": "KwepuCCt2DEw"
      },
      "execution_count": null,
      "outputs": []
    },
    {
      "cell_type": "code",
      "source": [
        "navie_matrix_vector_dot(x,y)"
      ],
      "metadata": {
        "colab": {
          "base_uri": "https://localhost:8080/"
        },
        "id": "OBeaIkwi2_RC",
        "outputId": "038bd3f8-b8b1-485b-ba25-fc0b9c016e3c"
      },
      "execution_count": null,
      "outputs": [
        {
          "output_type": "execute_result",
          "data": {
            "text/plain": [
              "array([1.19550131, 0.62706098, 0.77311557, 1.30736892, 0.99002461,\n",
              "       1.26427164, 0.44082128, 0.84735293, 1.42457992, 1.07900394,\n",
              "       1.08866825, 0.37240809, 0.66652085, 0.58518825, 0.83953446])"
            ]
          },
          "metadata": {},
          "execution_count": 105
        }
      ]
    },
    {
      "cell_type": "code",
      "source": [
        "x = np.random.random((3,2))\n",
        "y = np.random.random((2,3))\n",
        "np.dot(x,y) == x@y"
      ],
      "metadata": {
        "colab": {
          "base_uri": "https://localhost:8080/"
        },
        "id": "tvggSL5R5Sl8",
        "outputId": "3a4b0fc9-8c04-4098-e3c1-a9e0f5902595"
      },
      "execution_count": null,
      "outputs": [
        {
          "output_type": "execute_result",
          "data": {
            "text/plain": [
              "array([[ True,  True,  True],\n",
              "       [ True,  True,  True],\n",
              "       [ True,  True,  True]])"
            ]
          },
          "metadata": {},
          "execution_count": 107
        }
      ]
    },
    {
      "cell_type": "code",
      "source": [
        "np.dot(x,y)"
      ],
      "metadata": {
        "colab": {
          "base_uri": "https://localhost:8080/"
        },
        "id": "HLPAw8In5iSM",
        "outputId": "c858eddb-5f7e-451c-cd00-8b631455961d"
      },
      "execution_count": null,
      "outputs": [
        {
          "output_type": "execute_result",
          "data": {
            "text/plain": [
              "array([[0.49332982, 0.35095126, 1.07127578],\n",
              "       [0.40954736, 0.29457708, 0.74983346],\n",
              "       [0.2422446 , 0.17658729, 0.34209673]])"
            ]
          },
          "metadata": {},
          "execution_count": 108
        }
      ]
    },
    {
      "cell_type": "code",
      "source": [
        "def navie_matrix_dot(x,y):\n",
        "    assert x.ndim ==2\n",
        "    assert y.ndim ==2\n",
        "    assert x.shape[1] == y.shape[0]\n",
        "\n",
        "    z = np.zeros((x.shape[0],y.shape[1]))\n",
        "    for i in range(x.shape[0]):\n",
        "        for j in range(y.shape[1]):\n",
        "            row_x = x[i,:]\n",
        "            col_y = y[:,j]\n",
        "            z[i,j] = naive_vector_dot(row_x,col_y)\n",
        "    return z"
      ],
      "metadata": {
        "id": "o7zSAO-U3YZm"
      },
      "execution_count": null,
      "outputs": []
    },
    {
      "cell_type": "code",
      "source": [
        "navie_matrix_dot(x,y)"
      ],
      "metadata": {
        "colab": {
          "base_uri": "https://localhost:8080/"
        },
        "id": "bwp_oPa65LcW",
        "outputId": "673e54b6-cf59-4757-bf87-ac07bb92354d"
      },
      "execution_count": null,
      "outputs": [
        {
          "output_type": "execute_result",
          "data": {
            "text/plain": [
              "array([[0.49332982, 0.35095126, 1.07127578],\n",
              "       [0.40954736, 0.29457708, 0.74983346],\n",
              "       [0.2422446 , 0.17658729, 0.34209673]])"
            ]
          },
          "metadata": {},
          "execution_count": 111
        }
      ]
    },
    {
      "cell_type": "markdown",
      "source": [
        "## Geometric Interpectation of tensor operation"
      ],
      "metadata": {
        "id": "MlMaeiKK9AYU"
      }
    },
    {
      "cell_type": "code",
      "source": [
        "square = np.r_[np.array(list(zip(np.linspace(0,1,10),np.full(shape=(10,),fill_value=0)))),\n",
        "               np.array(list(zip(np.full(shape=(10,),fill_value=1),np.linspace(0,1,10)))),\n",
        "               np.array(list(zip(np.full(shape=(10,),fill_value=0),np.linspace(0,1,10)))),\n",
        "               np.array(list(zip(np.linspace(0,1,10),np.full(shape=(10,),fill_value=1)))),\n",
        "               ]\n",
        "plt.scatter(square[:,0],square[:,1])"
      ],
      "metadata": {
        "colab": {
          "base_uri": "https://localhost:8080/",
          "height": 282
        },
        "id": "WDfrCcu55m5T",
        "outputId": "0c384a27-b91c-42c6-fb5d-f9268e894d0c"
      },
      "execution_count": null,
      "outputs": [
        {
          "output_type": "execute_result",
          "data": {
            "text/plain": [
              "<matplotlib.collections.PathCollection at 0x7fe4ae2aa670>"
            ]
          },
          "metadata": {},
          "execution_count": 152
        },
        {
          "output_type": "display_data",
          "data": {
            "text/plain": [
              "<Figure size 432x288 with 1 Axes>"
            ],
            "image/png": "[encoded data removed]"
          },
          "metadata": {
            "needs_background": "light"
          }
        }
      ]
    },
    {
      "cell_type": "code",
      "source": [
        "translation = square + np.array([2,2])\n",
        "plt.scatter(square[:,0],square[:,1],c='b')\n",
        "plt.scatter(translation[:,0],translation[:,1],c=\"r\")\n",
        "plt.title(\"Translation\")"
      ],
      "metadata": {
        "colab": {
          "base_uri": "https://localhost:8080/",
          "height": 298
        },
        "id": "J8jsprLCAOok",
        "outputId": "86816674-7733-486c-c48b-7a581afcd1ce"
      },
      "execution_count": null,
      "outputs": [
        {
          "output_type": "execute_result",
          "data": {
            "text/plain": [
              "Text(0.5, 1.0, 'Translation')"
            ]
          },
          "metadata": {},
          "execution_count": 153
        },
        {
          "output_type": "display_data",
          "data": {
            "text/plain": [
              "<Figure size 432x288 with 1 Axes>"
            ],
            "image/png": "[encoded data removed]"
          },
          "metadata": {
            "needs_background": "light"
          }
        }
      ]
    },
    {
      "cell_type": "code",
      "source": [
        "theta = np.radians(45)\n",
        "rotation_matrix = np.array([[np.cos(theta),-np.sin(theta)],\n",
        "                            [np.sin(theta),np.cos(theta)]])\n",
        "rotation = (rotation_matrix@square.T).T\n",
        "plt.scatter(square[:,0],square[:,1],c='b')\n",
        "plt.scatter(rotation[:,0],rotation[:,1],c='r')\n",
        "plt.title(\"Rotation\")"
      ],
      "metadata": {
        "colab": {
          "base_uri": "https://localhost:8080/",
          "height": 298
        },
        "id": "Kp_wKqK5BHrQ",
        "outputId": "8a51d725-7569-4f9f-8ce3-23d753bef772"
      },
      "execution_count": null,
      "outputs": [
        {
          "output_type": "execute_result",
          "data": {
            "text/plain": [
              "Text(0.5, 1.0, 'Rotation')"
            ]
          },
          "metadata": {},
          "execution_count": 165
        },
        {
          "output_type": "display_data",
          "data": {
            "text/plain": [
              "<Figure size 432x288 with 1 Axes>"
            ],
            "image/png": "[encoded data removed]"
          },
          "metadata": {
            "needs_background": "light"
          }
        }
      ]
    },
    {
      "cell_type": "code",
      "source": [
        "scaling_matrix = np.array([[1,0],\n",
        "                           [0,-.5]])\n",
        "scaling = (scaling_matrix@square.T).T\n",
        "plt.scatter(square[:,0],square[:,1],c='b')\n",
        "plt.scatter(scaling[:,0],scaling[:,1],c='r')\n",
        "plt.title(\"Scaling\")"
      ],
      "metadata": {
        "id": "enhvhphcFTrU",
        "colab": {
          "base_uri": "https://localhost:8080/",
          "height": 298
        },
        "outputId": "810d89b5-b760-4e99-e8b3-860e8875b945"
      },
      "execution_count": null,
      "outputs": [
        {
          "output_type": "execute_result",
          "data": {
            "text/plain": [
              "Text(0.5, 1.0, 'Scaling')"
            ]
          },
          "metadata": {},
          "execution_count": 166
        },
        {
          "output_type": "display_data",
          "data": {
            "text/plain": [
              "<Figure size 432x288 with 1 Axes>"
            ],
            "image/png": "[encoded data removed]"
          },
          "metadata": {
            "needs_background": "light"
          }
        }
      ]
    },
    {
      "cell_type": "markdown",
      "source": [
        "# Grdient Descent\n",
        "\n",
        "W and b are tnesor that are attribute of the layer. Thery are called weights or trainabel paramater ot the layer . These weights contain the information learned by the model form th exposure to training data.\n",
        "\n",
        "These weight are gradually adjust on the feedback signal. These adjement are called trianing/ Learning."
      ],
      "metadata": {
        "id": "mKU-CBoyTfhj"
      }
    },
    {
      "cell_type": "code",
      "source": [
        "import tensorflow as tf\n",
        "x = tf.Variable(0.)\n",
        "with tf.GradientTape() as tape:\n",
        "    y = 2 * x+3\n",
        "    print(y)\n",
        "grad_of_y_wrt_x = tape.gradient(y,x)"
      ],
      "metadata": {
        "id": "5G7SejlVQrMf",
        "colab": {
          "base_uri": "https://localhost:8080/"
        },
        "outputId": "8d1b4fa6-359c-4630-a73f-4ad02eeab7d0"
      },
      "execution_count": 9,
      "outputs": [
        {
          "output_type": "stream",
          "name": "stdout",
          "text": [
            "tf.Tensor(3.0, shape=(), dtype=float32)\n"
          ]
        }
      ]
    },
    {
      "cell_type": "code",
      "source": [
        "grad_of_y_wrt_x"
      ],
      "metadata": {
        "colab": {
          "base_uri": "https://localhost:8080/"
        },
        "id": "Nxv43ZW2bzLs",
        "outputId": "21f85329-6e1d-42e2-e212-9b9aa03c3540"
      },
      "execution_count": 2,
      "outputs": [
        {
          "output_type": "execute_result",
          "data": {
            "text/plain": [
              "<tf.Tensor: shape=(), dtype=float32, numpy=2.0>"
            ]
          },
          "metadata": {},
          "execution_count": 2
        }
      ]
    },
    {
      "cell_type": "code",
      "source": [
        "x = tf.Variable(tf.random.uniform((2,2)))\n",
        "print(x)\n",
        "with tf.GradientTape() as tape:\n",
        "    y = 2 * x +3 \n",
        "    print(y)\n",
        "grad_of_y_wrt_x = tape.gradient(y,x)"
      ],
      "metadata": {
        "colab": {
          "base_uri": "https://localhost:8080/"
        },
        "id": "IRm0lGBkb6zq",
        "outputId": "3e2ebc5a-fa80-49e7-d05d-7f089b5636d5"
      },
      "execution_count": 10,
      "outputs": [
        {
          "output_type": "stream",
          "name": "stdout",
          "text": [
            "<tf.Variable 'Variable:0' shape=(2, 2) dtype=float32, numpy=\n",
            "array([[0.7912705 , 0.68004227],\n",
            "       [0.00173187, 0.6726295 ]], dtype=float32)>\n",
            "tf.Tensor(\n",
            "[[4.582541  4.3600845]\n",
            " [3.0034637 4.3452587]], shape=(2, 2), dtype=float32)\n"
          ]
        }
      ]
    },
    {
      "cell_type": "code",
      "source": [
        "grad_of_y_wrt_x"
      ],
      "metadata": {
        "colab": {
          "base_uri": "https://localhost:8080/"
        },
        "id": "pldCgeL5cWbg",
        "outputId": "309396d1-0ce8-4543-ae70-d17f593d1b4a"
      },
      "execution_count": 7,
      "outputs": [
        {
          "output_type": "execute_result",
          "data": {
            "text/plain": [
              "<tf.Tensor: shape=(2, 2), dtype=float32, numpy=\n",
              "array([[2., 2.],\n",
              "       [2., 2.]], dtype=float32)>"
            ]
          },
          "metadata": {},
          "execution_count": 7
        }
      ]
    },
    {
      "cell_type": "markdown",
      "source": [
        "# Implemention in tensorflow"
      ],
      "metadata": {
        "id": "KMcIUgxpeiNB"
      }
    },
    {
      "cell_type": "code",
      "source": [
        "import tensorflow as tf\n",
        "import numpy as np"
      ],
      "metadata": {
        "id": "UfsEUFVlcdIA"
      },
      "execution_count": 37,
      "outputs": []
    },
    {
      "cell_type": "code",
      "source": [
        "class NaiveDense:\n",
        "    def __init__(self,input_size,output_size,activation):\n",
        "        self.activation = activation\n",
        "        w_shape = (input_size,output_size)\n",
        "        b_shape = (output_size,)\n",
        "        w_initial = tf.random.uniform(w_shape,minval=0,maxval=1e-1)\n",
        "        b_initial = tf.zeros(b_shape)\n",
        "        self.w = tf.Variable(w_initial)\n",
        "        self.b = tf.Variable(b_initial)\n",
        "    \n",
        "    def __call__(self,inputs):\n",
        "        return self.activation(tf.matmul(inputs,self.w)+self.b)\n",
        "\n",
        "    @property\n",
        "    def weights(self):\n",
        "        return [self.w,self.b]"
      ],
      "metadata": {
        "id": "Gu632-vze0Jh"
      },
      "execution_count": 107,
      "outputs": []
    },
    {
      "cell_type": "code",
      "source": [
        "class NaiveSequential:\n",
        "    def __init__(self,layers):\n",
        "        self.layers = layers\n",
        "    \n",
        "    def __call__(self,inputs):\n",
        "        x = inputs\n",
        "        for layer in self.layers:\n",
        "            x = layer(x)\n",
        "        return x\n",
        "\n",
        "    @property\n",
        "    def weights(self):\n",
        "        weights =[]\n",
        "        for layer in self.layers:\n",
        "            weights += layer.weights\n",
        "        return weights"
      ],
      "metadata": {
        "id": "qWd4eq0ze9eY"
      },
      "execution_count": 108,
      "outputs": []
    },
    {
      "cell_type": "code",
      "source": [
        "model = NaiveSequential([\n",
        "    NaiveDense(input_size=28*28,output_size=512,activation=tf.nn.relu),\n",
        "    NaiveDense(input_size=512,output_size=10,activation=tf.nn.softmax)\n",
        "])"
      ],
      "metadata": {
        "id": "im25yEYE_Hx1"
      },
      "execution_count": 109,
      "outputs": []
    },
    {
      "cell_type": "code",
      "source": [
        "len(model.weights)"
      ],
      "metadata": {
        "colab": {
          "base_uri": "https://localhost:8080/"
        },
        "id": "6iY-eyYu_2nK",
        "outputId": "10c4a46c-5551-4168-915a-da4742b3bd1a"
      },
      "execution_count": 110,
      "outputs": [
        {
          "output_type": "execute_result",
          "data": {
            "text/plain": [
              "4"
            ]
          },
          "metadata": {},
          "execution_count": 110
        }
      ]
    },
    {
      "cell_type": "code",
      "source": [
        "for w in model.weights:\n",
        "    print(w.shape)"
      ],
      "metadata": {
        "colab": {
          "base_uri": "https://localhost:8080/"
        },
        "id": "KG0UP68wALyw",
        "outputId": "26a80683-8cfb-4572-ae1d-712a0c766f80"
      },
      "execution_count": 111,
      "outputs": [
        {
          "output_type": "stream",
          "name": "stdout",
          "text": [
            "(784, 512)\n",
            "(512,)\n",
            "(512, 10)\n",
            "(10,)\n"
          ]
        }
      ]
    },
    {
      "cell_type": "code",
      "source": [
        "class BatchGenerator:\n",
        "\n",
        "    def __init__(self,images,labels,batch_size=128):\n",
        "        assert len(images) == len(labels)\n",
        "        self.index =0 \n",
        "        self.images = images\n",
        "        self.labels = labels\n",
        "        self.batch_size = batch_size\n",
        "        self.num_batches = int(np.ceil(len(images)/batch_size))\n",
        "    \n",
        "    def next(self):\n",
        "        images = self.images[self.index:self.index+self.batch_size]\n",
        "        labels = self.labels[self.index:self.index+self.batch_size]\n",
        "        self.index += self.batch_size\n",
        "        return images,labels\n"
      ],
      "metadata": {
        "id": "BRsYcZNEASGo"
      },
      "execution_count": 112,
      "outputs": []
    },
    {
      "cell_type": "code",
      "source": [
        "def one_training_step(model,images_batch,labels_batch):\n",
        "    with tf.GradientTape() as tape:\n",
        "        # feed forward\n",
        "        predictions = model(images_batch)\n",
        "        # compute loss per sample\n",
        "        per_sample_losses = tf.keras.losses.sparse_categorical_crossentropy(\n",
        "            labels_batch,predictions\n",
        "        )\n",
        "        # average the loss\n",
        "        average_loss = tf.reduce_mean(per_sample_losses)\n",
        "\n",
        "    gradients = tape.gradient(average_loss,model.weights)\n",
        "    #upadate weights\n",
        "    update_weights(gradients,model.weights)\n",
        "    return average_loss"
      ],
      "metadata": {
        "id": "DKGJDESqCME6"
      },
      "execution_count": 113,
      "outputs": []
    },
    {
      "cell_type": "code",
      "source": [
        "learning_rate = 1e-3\n",
        "def update_weights(gradients,weights):\n",
        "    for g,w in zip(gradients,weights):\n",
        "        w.assign_sub(g*learning_rate)"
      ],
      "metadata": {
        "id": "hCPNXFyaEwgC"
      },
      "execution_count": 114,
      "outputs": []
    },
    {
      "cell_type": "code",
      "source": [
        "# another way to update weights\n",
        "\n",
        "from tensorflow.keras import optimizers\n",
        "\n",
        "optimizer = optimizers.SGD(learning_rate=1e-3)\n",
        "def update_weights(gradients,weights):\n",
        "    optimizer.apply_gradients(zip(gradients,weights))"
      ],
      "metadata": {
        "id": "tmVlohz7FRaB"
      },
      "execution_count": 115,
      "outputs": []
    },
    {
      "cell_type": "code",
      "source": [
        "def fit(model,images,labels,epochs,batch_size=128):\n",
        "    for epoch_conunter in range(epochs):\n",
        "        print(f\"Epoch {epoch_conunter}\")\n",
        "        batch_generator = BatchGenerator(images,labels,batch_size)\n",
        "        for batch_counter in range(batch_generator.num_batches):\n",
        "            images_batch,labels_batch = batch_generator.next()\n",
        "            loss = one_training_step(model,images_batch,labels_batch)\n",
        "            if batch_counter%100 == 0:\n",
        "                print(f\"loss at batch {batch_counter} : {loss:.2f}\")"
      ],
      "metadata": {
        "id": "fzLeWe5kFtAJ"
      },
      "execution_count": 116,
      "outputs": []
    },
    {
      "cell_type": "code",
      "source": [
        "from tensorflow.keras.datasets import mnist\n",
        "\n",
        "(train_images,train_labels),(test_images,test_labels) = mnist.load_data()\n",
        "\n",
        "train_images.shape,train_labels.shape,test_images.shape,test_labels.shape"
      ],
      "metadata": {
        "colab": {
          "base_uri": "https://localhost:8080/"
        },
        "id": "mE7QIIbCHr5U",
        "outputId": "4fbfc726-257b-428c-9d3d-075d2441ef1d"
      },
      "execution_count": 117,
      "outputs": [
        {
          "output_type": "execute_result",
          "data": {
            "text/plain": [
              "((60000, 28, 28), (60000,), (10000, 28, 28), (10000,))"
            ]
          },
          "metadata": {},
          "execution_count": 117
        }
      ]
    },
    {
      "cell_type": "code",
      "source": [
        "# convert to grey scale\n",
        "train_images = train_images.reshape((60000,28*28))\n",
        "train_images = train_images.astype(\"float32\") /255\n",
        "test_images = test_images.reshape((10000,28*28))\n",
        "test_images = test_images.astype(\"float32\")/255"
      ],
      "metadata": {
        "id": "LLubUBa3IKWy"
      },
      "execution_count": 118,
      "outputs": []
    },
    {
      "cell_type": "code",
      "source": [
        "fit(model,train_images,train_labels,epochs=10,batch_size=128)"
      ],
      "metadata": {
        "colab": {
          "base_uri": "https://localhost:8080/"
        },
        "id": "etH95M_TIuoQ",
        "outputId": "92f6c850-5b5b-44c4-c201-fd30399a7dde"
      },
      "execution_count": 119,
      "outputs": [
        {
          "output_type": "stream",
          "name": "stdout",
          "text": [
            "Epoch 0\n",
            "loss at batch 0 : 4.86\n",
            "loss at batch 100 : 2.24\n",
            "loss at batch 200 : 2.20\n",
            "loss at batch 300 : 2.08\n",
            "loss at batch 400 : 2.25\n",
            "Epoch 1\n",
            "loss at batch 0 : 1.93\n",
            "loss at batch 100 : 1.89\n",
            "loss at batch 200 : 1.83\n",
            "loss at batch 300 : 1.71\n",
            "loss at batch 400 : 1.86\n",
            "Epoch 2\n",
            "loss at batch 0 : 1.61\n",
            "loss at batch 100 : 1.59\n",
            "loss at batch 200 : 1.51\n",
            "loss at batch 300 : 1.43\n",
            "loss at batch 400 : 1.54\n",
            "Epoch 3\n",
            "loss at batch 0 : 1.35\n",
            "loss at batch 100 : 1.35\n",
            "loss at batch 200 : 1.25\n",
            "loss at batch 300 : 1.21\n",
            "loss at batch 400 : 1.30\n",
            "Epoch 4\n",
            "loss at batch 0 : 1.15\n",
            "loss at batch 100 : 1.17\n",
            "loss at batch 200 : 1.05\n",
            "loss at batch 300 : 1.04\n",
            "loss at batch 400 : 1.13\n",
            "Epoch 5\n",
            "loss at batch 0 : 1.00\n",
            "loss at batch 100 : 1.03\n",
            "loss at batch 200 : 0.91\n",
            "loss at batch 300 : 0.92\n",
            "loss at batch 400 : 1.00\n",
            "Epoch 6\n",
            "loss at batch 0 : 0.89\n",
            "loss at batch 100 : 0.92\n",
            "loss at batch 200 : 0.80\n",
            "loss at batch 300 : 0.83\n",
            "loss at batch 400 : 0.91\n",
            "Epoch 7\n",
            "loss at batch 0 : 0.81\n",
            "loss at batch 100 : 0.83\n",
            "loss at batch 200 : 0.72\n",
            "loss at batch 300 : 0.76\n",
            "loss at batch 400 : 0.84\n",
            "Epoch 8\n",
            "loss at batch 0 : 0.74\n",
            "loss at batch 100 : 0.76\n",
            "loss at batch 200 : 0.66\n",
            "loss at batch 300 : 0.70\n",
            "loss at batch 400 : 0.79\n",
            "Epoch 9\n",
            "loss at batch 0 : 0.69\n",
            "loss at batch 100 : 0.71\n",
            "loss at batch 200 : 0.61\n",
            "loss at batch 300 : 0.66\n",
            "loss at batch 400 : 0.74\n"
          ]
        }
      ]
    },
    {
      "cell_type": "code",
      "source": [
        "predictions = model(test_images)\n",
        "predictions = predictions.numpy()\n",
        "predicted_labels = np.argmax(predictions,axis=1)\n",
        "matches = predicted_labels == test_labels\n",
        "print(f\"accuracy : {matches.mean() :.2f}\")"
      ],
      "metadata": {
        "colab": {
          "base_uri": "https://localhost:8080/"
        },
        "id": "kjKOROl9I95x",
        "outputId": "114e00c7-6478-4c1f-ec49-1f5de0a1e42c"
      },
      "execution_count": 123,
      "outputs": [
        {
          "output_type": "stream",
          "name": "stdout",
          "text": [
            "accuracy : 0.82\n"
          ]
        }
      ]
    }
  ]
}