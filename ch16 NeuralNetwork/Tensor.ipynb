{
  "nbformat": 4,
  "nbformat_minor": 0,
  "metadata": {
    "colab": {
      "provenance": [],
      "authorship_tag": "ABX9TyNWRjB7gBe3Q6+nydvfjgMy",
      "include_colab_link": true
    },
    "kernelspec": {
      "name": "python3",
      "display_name": "Python 3"
    },
    "language_info": {
      "name": "python"
    },
    "gpuClass": "standard"
  },
  "cells": [
    {
      "cell_type": "markdown",
      "metadata": {
        "id": "view-in-github",
        "colab_type": "text"
      },
      "source": [
        "<a href=\"https://colab.research.google.com/github/Lashi0812/AppiledAI/blob/master/ch16%20NeuralNetwork/Tensor.ipynb\" target=\"_parent\"><img src=\"https://colab.research.google.com/assets/colab-badge.svg\" alt=\"Open In Colab\"/></a>"
      ]
    },
    {
      "cell_type": "code",
      "execution_count": 1,
      "metadata": {
        "id": "fBOM7gxfRQ3Q"
      },
      "outputs": [],
      "source": [
        "import tensorflow as tf\n",
        "import numpy as np"
      ]
    },
    {
      "cell_type": "code",
      "source": [
        "x = tf.ones(shape=(2,1))\n",
        "print(x)"
      ],
      "metadata": {
        "colab": {
          "base_uri": "https://localhost:8080/"
        },
        "id": "rd8HrOt3VO50",
        "outputId": "417de7a9-72ba-4cf5-b3f1-761f657c8f1c"
      },
      "execution_count": 3,
      "outputs": [
        {
          "output_type": "stream",
          "name": "stdout",
          "text": [
            "tf.Tensor(\n",
            "[[1.]\n",
            " [1.]], shape=(2, 1), dtype=float32)\n"
          ]
        }
      ]
    },
    {
      "cell_type": "code",
      "source": [
        "type(x)"
      ],
      "metadata": {
        "colab": {
          "base_uri": "https://localhost:8080/"
        },
        "id": "T6vh3_V6ViWR",
        "outputId": "86c31f1c-33b5-4fb3-96c2-f6b1ec34bf32"
      },
      "execution_count": 5,
      "outputs": [
        {
          "output_type": "execute_result",
          "data": {
            "text/plain": [
              "tensorflow.python.framework.ops.EagerTensor"
            ]
          },
          "metadata": {},
          "execution_count": 5
        }
      ]
    },
    {
      "cell_type": "code",
      "source": [
        "x = tf.zeros(shape=(2,1))\n",
        "print(x)"
      ],
      "metadata": {
        "colab": {
          "base_uri": "https://localhost:8080/"
        },
        "id": "KXflPG25VmEZ",
        "outputId": "998050ee-232d-4ada-de7b-ec49554d0aed"
      },
      "execution_count": 7,
      "outputs": [
        {
          "output_type": "stream",
          "name": "stdout",
          "text": [
            "tf.Tensor(\n",
            "[[0.]\n",
            " [0.]], shape=(2, 1), dtype=float32)\n"
          ]
        }
      ]
    },
    {
      "cell_type": "code",
      "source": [
        "x =  tf.random.normal(shape=(3,1),mean=0.,stddev=1.)\n",
        "print(x)"
      ],
      "metadata": {
        "colab": {
          "base_uri": "https://localhost:8080/"
        },
        "id": "Ctn1mw9ZVvZ4",
        "outputId": "3117ca2d-4fb0-4678-e2c3-b1d4038152ea"
      },
      "execution_count": 9,
      "outputs": [
        {
          "output_type": "stream",
          "name": "stdout",
          "text": [
            "tf.Tensor(\n",
            "[[ 0.33491892]\n",
            " [-1.5929288 ]\n",
            " [ 1.3859259 ]], shape=(3, 1), dtype=float32)\n"
          ]
        }
      ]
    },
    {
      "cell_type": "code",
      "source": [
        "x = tf.random.uniform(shape=(3,1),minval=0.,maxval=1.)\n",
        "print(x)"
      ],
      "metadata": {
        "colab": {
          "base_uri": "https://localhost:8080/"
        },
        "id": "uR_E6v8FV8k9",
        "outputId": "9c7f07ca-7808-46dd-b440-ab0d66e7612e"
      },
      "execution_count": 11,
      "outputs": [
        {
          "output_type": "stream",
          "name": "stdout",
          "text": [
            "tf.Tensor(\n",
            "[[0.5404153]\n",
            " [0.5229608]\n",
            " [0.6160319]], shape=(3, 1), dtype=float32)\n"
          ]
        }
      ]
    },
    {
      "cell_type": "markdown",
      "source": [
        "Tensors are constant that you cant modify the value ,in numpy you cna modify the value."
      ],
      "metadata": {
        "id": "zaJjwvKSWzbg"
      }
    },
    {
      "cell_type": "code",
      "source": [
        "x = np.ones(shape=(2,1))\n",
        "x"
      ],
      "metadata": {
        "colab": {
          "base_uri": "https://localhost:8080/"
        },
        "id": "AUS9Z0r_WQqp",
        "outputId": "703a014c-6993-4ca8-9300-80212b500366"
      },
      "execution_count": 14,
      "outputs": [
        {
          "output_type": "execute_result",
          "data": {
            "text/plain": [
              "array([[1.],\n",
              "       [1.]])"
            ]
          },
          "metadata": {},
          "execution_count": 14
        }
      ]
    },
    {
      "cell_type": "code",
      "source": [
        "x[1,0] = 0\n",
        "x"
      ],
      "metadata": {
        "colab": {
          "base_uri": "https://localhost:8080/"
        },
        "id": "uQ2VnUEgXHbj",
        "outputId": "8bdd6b9b-e78b-4b0c-897f-c3983af2a826"
      },
      "execution_count": 15,
      "outputs": [
        {
          "output_type": "execute_result",
          "data": {
            "text/plain": [
              "array([[1.],\n",
              "       [0.]])"
            ]
          },
          "metadata": {},
          "execution_count": 15
        }
      ]
    },
    {
      "cell_type": "code",
      "source": [
        "# in tensor you cnat chnage it\n",
        "x =  tf.ones(shape=(2,3))\n",
        "x"
      ],
      "metadata": {
        "colab": {
          "base_uri": "https://localhost:8080/"
        },
        "id": "ACrUgeZoXNV4",
        "outputId": "1d080e9c-fed0-482e-cf17-673728d6253f"
      },
      "execution_count": 16,
      "outputs": [
        {
          "output_type": "execute_result",
          "data": {
            "text/plain": [
              "<tf.Tensor: shape=(2, 3), dtype=float32, numpy=\n",
              "array([[1., 1., 1.],\n",
              "       [1., 1., 1.]], dtype=float32)>"
            ]
          },
          "metadata": {},
          "execution_count": 16
        }
      ]
    },
    {
      "cell_type": "code",
      "source": [
        "x[1,1]"
      ],
      "metadata": {
        "colab": {
          "base_uri": "https://localhost:8080/"
        },
        "id": "W7bft5C8XWOA",
        "outputId": "420b0a8f-c09c-438a-d8fc-f3e8f91f7a22"
      },
      "execution_count": 23,
      "outputs": [
        {
          "output_type": "execute_result",
          "data": {
            "text/plain": [
              "<tf.Tensor: shape=(), dtype=float32, numpy=1.0>"
            ]
          },
          "metadata": {},
          "execution_count": 23
        }
      ]
    },
    {
      "cell_type": "code",
      "source": [
        "try:\n",
        "    x[1,1] = 0\n",
        "except TypeError as er:\n",
        "    print(er)"
      ],
      "metadata": {
        "colab": {
          "base_uri": "https://localhost:8080/"
        },
        "id": "QOYkaiUoXYQg",
        "outputId": "146464b5-8223-460b-b959-3651bdc64aa2"
      },
      "execution_count": 26,
      "outputs": [
        {
          "output_type": "stream",
          "name": "stdout",
          "text": [
            "'tensorflow.python.framework.ops.EagerTensor' object does not support item assignment\n"
          ]
        }
      ]
    },
    {
      "cell_type": "markdown",
      "source": [
        "To modify the state of tensor,we have tensor variables"
      ],
      "metadata": {
        "id": "CtDFAMayYjJo"
      }
    },
    {
      "cell_type": "code",
      "source": [
        "v = tf.Variable(initial_value=tf.random.normal(shape=(3,1)),\n",
        "                name=\"first variable\")\n",
        "type(v)"
      ],
      "metadata": {
        "colab": {
          "base_uri": "https://localhost:8080/"
        },
        "id": "tzj7fJ6MXuyt",
        "outputId": "d6acbe45-7677-4109-ce08-9079a771e756"
      },
      "execution_count": 31,
      "outputs": [
        {
          "output_type": "execute_result",
          "data": {
            "text/plain": [
              "tensorflow.python.ops.resource_variable_ops.ResourceVariable"
            ]
          },
          "metadata": {},
          "execution_count": 31
        }
      ]
    },
    {
      "cell_type": "code",
      "source": [
        "v"
      ],
      "metadata": {
        "colab": {
          "base_uri": "https://localhost:8080/"
        },
        "id": "_BeVhMKUZTba",
        "outputId": "ead168c9-0aa2-4458-bd76-8fc9cdbb0728"
      },
      "execution_count": 32,
      "outputs": [
        {
          "output_type": "execute_result",
          "data": {
            "text/plain": [
              "<tf.Variable 'first variable:0' shape=(3, 1) dtype=float32, numpy=\n",
              "array([[-0.8969163 ],\n",
              "       [-0.37422216],\n",
              "       [-0.13398656]], dtype=float32)>"
            ]
          },
          "metadata": {},
          "execution_count": 32
        }
      ]
    },
    {
      "cell_type": "code",
      "source": [
        "v.assign(tf.ones(shape=(3,1)))\n",
        "v"
      ],
      "metadata": {
        "colab": {
          "base_uri": "https://localhost:8080/"
        },
        "id": "TA0YGRfOZW-N",
        "outputId": "4db2382d-2192-4c58-8143-52863b6c09a6"
      },
      "execution_count": 33,
      "outputs": [
        {
          "output_type": "execute_result",
          "data": {
            "text/plain": [
              "<tf.Variable 'first variable:0' shape=(3, 1) dtype=float32, numpy=\n",
              "array([[1.],\n",
              "       [1.],\n",
              "       [1.]], dtype=float32)>"
            ]
          },
          "metadata": {},
          "execution_count": 33
        }
      ]
    },
    {
      "cell_type": "code",
      "source": [
        "v[0,0].assign(10.)"
      ],
      "metadata": {
        "colab": {
          "base_uri": "https://localhost:8080/"
        },
        "id": "nmuCwR0AZnYO",
        "outputId": "6ecadfe7-9af7-4476-c626-25cdbfc0bd1b"
      },
      "execution_count": 35,
      "outputs": [
        {
          "output_type": "execute_result",
          "data": {
            "text/plain": [
              "<tf.Variable 'UnreadVariable' shape=(3, 1) dtype=float32, numpy=\n",
              "array([[10.],\n",
              "       [ 1.],\n",
              "       [ 1.]], dtype=float32)>"
            ]
          },
          "metadata": {},
          "execution_count": 35
        }
      ]
    },
    {
      "cell_type": "code",
      "source": [
        "v.assign_add(tf.ones(shape=(3,1)))\n",
        "v"
      ],
      "metadata": {
        "colab": {
          "base_uri": "https://localhost:8080/"
        },
        "id": "iIb2LluWaHBu",
        "outputId": "ae30311f-aace-4c11-fdd0-019e6c552945"
      },
      "execution_count": 37,
      "outputs": [
        {
          "output_type": "execute_result",
          "data": {
            "text/plain": [
              "<tf.Variable 'first variable:0' shape=(3, 1) dtype=float32, numpy=\n",
              "array([[11.],\n",
              "       [ 2.],\n",
              "       [ 2.]], dtype=float32)>"
            ]
          },
          "metadata": {},
          "execution_count": 37
        }
      ]
    },
    {
      "cell_type": "code",
      "source": [
        "v.assign_sub(tf.ones(shape=(3,1)))"
      ],
      "metadata": {
        "colab": {
          "base_uri": "https://localhost:8080/"
        },
        "id": "Q4FlJDcPaSIS",
        "outputId": "02478621-1bb5-4903-e58a-88495dd21931"
      },
      "execution_count": 38,
      "outputs": [
        {
          "output_type": "execute_result",
          "data": {
            "text/plain": [
              "<tf.Variable 'UnreadVariable' shape=(3, 1) dtype=float32, numpy=\n",
              "array([[10.],\n",
              "       [ 1.],\n",
              "       [ 1.]], dtype=float32)>"
            ]
          },
          "metadata": {},
          "execution_count": 38
        }
      ]
    },
    {
      "cell_type": "code",
      "source": [
        "a = tf.ones(shape=(2,2))\n",
        "b = tf.square(a)\n",
        "c = tf.sqrt(a)\n",
        "d = b + c\n",
        "e = tf.matmul(a,b)\n",
        "e *= d"
      ],
      "metadata": {
        "id": "oYQwYxIuaZYK"
      },
      "execution_count": 40,
      "outputs": []
    },
    {
      "cell_type": "code",
      "source": [
        "input_var = tf.Variable(initial_value=3.)\n",
        "with tf.GradientTape() as tape:\n",
        "    result = tf.square(input_var)\n",
        "gradient = tape.gradient(result,input_var)"
      ],
      "metadata": {
        "id": "tzdBuZLmai08"
      },
      "execution_count": 41,
      "outputs": []
    },
    {
      "cell_type": "code",
      "source": [
        "gradient"
      ],
      "metadata": {
        "colab": {
          "base_uri": "https://localhost:8080/"
        },
        "id": "TilPyIThcp9L",
        "outputId": "389d8f67-263f-463a-c768-8fbb76d388e4"
      },
      "execution_count": 42,
      "outputs": [
        {
          "output_type": "execute_result",
          "data": {
            "text/plain": [
              "<tf.Tensor: shape=(), dtype=float32, numpy=6.0>"
            ]
          },
          "metadata": {},
          "execution_count": 42
        }
      ]
    },
    {
      "cell_type": "code",
      "source": [
        "# Uisng GradientTape with Constant tensor input\n",
        "input_const = tf.constant(3.0)\n",
        "with tf.GradientTape() as tape:\n",
        "    result = tf.square(input_const)\n",
        "gradient = tape.gradient(result,input_const)"
      ],
      "metadata": {
        "id": "NDRSKlm_crWA"
      },
      "execution_count": 49,
      "outputs": []
    },
    {
      "cell_type": "code",
      "source": [
        "type(gradient)"
      ],
      "metadata": {
        "colab": {
          "base_uri": "https://localhost:8080/"
        },
        "id": "z1MpObjzebDF",
        "outputId": "f174f2b8-0b60-49f9-9e1c-359c94c89058"
      },
      "execution_count": 50,
      "outputs": [
        {
          "output_type": "execute_result",
          "data": {
            "text/plain": [
              "NoneType"
            ]
          },
          "metadata": {},
          "execution_count": 50
        }
      ]
    },
    {
      "cell_type": "code",
      "source": [
        "input_const = tf.constant(3.0)\n",
        "with tf.GradientTape() as tape:\n",
        "    tape.watch(input_const)\n",
        "    result = tf.square(input_const)\n",
        "gradient = tape.gradient(result,input_const)"
      ],
      "metadata": {
        "id": "JKhjySLzecXE"
      },
      "execution_count": 51,
      "outputs": []
    },
    {
      "cell_type": "code",
      "source": [
        "gradient"
      ],
      "metadata": {
        "colab": {
          "base_uri": "https://localhost:8080/"
        },
        "id": "jXA_iHFRenJn",
        "outputId": "5eada3d4-f6c2-4f63-fecb-a59a6bc2d060"
      },
      "execution_count": 52,
      "outputs": [
        {
          "output_type": "execute_result",
          "data": {
            "text/plain": [
              "<tf.Tensor: shape=(), dtype=float32, numpy=6.0>"
            ]
          },
          "metadata": {},
          "execution_count": 52
        }
      ]
    },
    {
      "cell_type": "markdown",
      "source": [
        "# A linear classifier in pure TensorFlow"
      ],
      "metadata": {
        "id": "_HnKKusvgIT6"
      }
    },
    {
      "cell_type": "code",
      "source": [
        "num_sample_per_class = 1000\n",
        "negative_samples = np.random.multivariate_normal(\n",
        "    mean=[0,3],\n",
        "    cov=[[1,0.5],[0.5,1]],\n",
        "    size=num_sample_per_class\n",
        ")\n",
        "positive_samples = np.random.multivariate_normal(\n",
        "    mean=[3,0],\n",
        "    cov=[[1,0.5],[0.5,1]],\n",
        "    size=num_sample_per_class\n",
        ")\n",
        "print(negative_samples.shape,positive_samples.shape)\n",
        "inputs = np.r_[negative_samples,\n",
        "               positive_samples].astype(np.float32)\n",
        "inputs.shape"
      ],
      "metadata": {
        "colab": {
          "base_uri": "https://localhost:8080/"
        },
        "id": "doO8RnopfAk6",
        "outputId": "7bf4ef97-345f-4d52-9cb0-8f6d0efca811"
      },
      "execution_count": 110,
      "outputs": [
        {
          "output_type": "stream",
          "name": "stdout",
          "text": [
            "(1000, 2) (1000, 2)\n"
          ]
        },
        {
          "output_type": "execute_result",
          "data": {
            "text/plain": [
              "(2000, 2)"
            ]
          },
          "metadata": {},
          "execution_count": 110
        }
      ]
    },
    {
      "cell_type": "code",
      "source": [
        "inputs.dtype"
      ],
      "metadata": {
        "colab": {
          "base_uri": "https://localhost:8080/"
        },
        "id": "w9BhRZpEnYMN",
        "outputId": "d742592e-e2b4-4aae-f9a4-f024bb49c65b"
      },
      "execution_count": 111,
      "outputs": [
        {
          "output_type": "execute_result",
          "data": {
            "text/plain": [
              "dtype('float32')"
            ]
          },
          "metadata": {},
          "execution_count": 111
        }
      ]
    },
    {
      "cell_type": "code",
      "source": [
        "targets = np.r_[np.zeros(shape=(num_sample_per_class,1)),\n",
        "                np.ones(shape=(num_sample_per_class,1))].astype(np.float32)\n",
        "targets.shape"
      ],
      "metadata": {
        "colab": {
          "base_uri": "https://localhost:8080/"
        },
        "id": "YUBi0nNbhhyL",
        "outputId": "5bd59004-4204-4a83-93ba-5face230db6f"
      },
      "execution_count": 112,
      "outputs": [
        {
          "output_type": "execute_result",
          "data": {
            "text/plain": [
              "(2000, 1)"
            ]
          },
          "metadata": {},
          "execution_count": 112
        }
      ]
    },
    {
      "cell_type": "code",
      "source": [
        "import matplotlib.pyplot as plt\n",
        "plt.scatter(inputs[:,0],inputs[:,1],c=targets)"
      ],
      "metadata": {
        "colab": {
          "base_uri": "https://localhost:8080/",
          "height": 282
        },
        "id": "NhFYp8H1iHvm",
        "outputId": "eacce0ee-da83-4bae-d7f7-9ca43e879fa5"
      },
      "execution_count": 113,
      "outputs": [
        {
          "output_type": "execute_result",
          "data": {
            "text/plain": [
              "<matplotlib.collections.PathCollection at 0x7f20bc064580>"
            ]
          },
          "metadata": {},
          "execution_count": 113
        },
        {
          "output_type": "display_data",
          "data": {
            "text/plain": [
              "<Figure size 432x288 with 1 Axes>"
            ],
            "image/png": "[encoded data removed]"
          },
          "metadata": {
            "needs_background": "light"
          }
        }
      ]
    },
    {
      "cell_type": "code",
      "source": [
        "input_dim = 2\n",
        "output_dim = 1\n",
        "W = tf.Variable(initial_value=tf.random.uniform(shape=(input_dim,output_dim)))\n",
        "b = tf.Variable(initial_value=tf.zeros(shape=(output_dim,)))"
      ],
      "metadata": {
        "id": "pPiBdFp3iUaX"
      },
      "execution_count": 114,
      "outputs": []
    },
    {
      "cell_type": "code",
      "source": [
        "tf.matmul(inputs,W)"
      ],
      "metadata": {
        "colab": {
          "base_uri": "https://localhost:8080/"
        },
        "id": "W-CANWr8m6rh",
        "outputId": "f4c6fd77-e643-478f-fa91-eded67b67b7c"
      },
      "execution_count": 115,
      "outputs": [
        {
          "output_type": "execute_result",
          "data": {
            "text/plain": [
              "<tf.Tensor: shape=(2000, 1), dtype=float32, numpy=\n",
              "array([[ 1.3623483 ],\n",
              "       [ 1.6325974 ],\n",
              "       [ 1.3616269 ],\n",
              "       ...,\n",
              "       [ 1.7268729 ],\n",
              "       [ 1.9163978 ],\n",
              "       [-0.17369187]], dtype=float32)>"
            ]
          },
          "metadata": {},
          "execution_count": 115
        }
      ]
    },
    {
      "cell_type": "code",
      "source": [
        "def model(inputs):\n",
        "    return tf.matmul(inputs,W)+b"
      ],
      "metadata": {
        "id": "gatQoLdLkr_S"
      },
      "execution_count": 116,
      "outputs": []
    },
    {
      "cell_type": "code",
      "source": [
        "def square_loss(targets,predictions):\n",
        "    per_sample_losses = tf.square(targets-predictions)\n",
        "    return tf.reduce_mean(per_sample_losses)"
      ],
      "metadata": {
        "id": "zWz4RWFDkzyI"
      },
      "execution_count": 117,
      "outputs": []
    },
    {
      "cell_type": "code",
      "source": [
        "learning_rate =0.1\n",
        "def training_step(inputs,targets):\n",
        "    with tf.GradientTape() as tape:\n",
        "        predictions = model(inputs)\n",
        "        loss = square_loss(targets,predictions)\n",
        "    grad_loss_wrt_w,grad_loss_wrt_b = tape.gradient(loss,[W,b])\n",
        "    W.assign_sub(grad_loss_wrt_w*learning_rate)\n",
        "    b.assign_sub(grad_loss_wrt_b*learning_rate)\n",
        "    return loss"
      ],
      "metadata": {
        "id": "Oe8NqE8olMx-"
      },
      "execution_count": 118,
      "outputs": []
    },
    {
      "cell_type": "code",
      "source": [
        "for step in range(40):\n",
        "    loss = training_step(inputs,targets)\n",
        "    if step%5==0:\n",
        "        print(f\"Loss at step {step} : {loss:.1f}\")"
      ],
      "metadata": {
        "colab": {
          "base_uri": "https://localhost:8080/"
        },
        "id": "LJnoAptTmAYy",
        "outputId": "e2ddee16-f064-427e-a51e-07b748de0e1e"
      },
      "execution_count": 119,
      "outputs": [
        {
          "output_type": "stream",
          "name": "stdout",
          "text": [
            "Loss at step 0 : 1.7\n",
            "Loss at step 5 : 0.1\n",
            "Loss at step 10 : 0.1\n",
            "Loss at step 15 : 0.1\n",
            "Loss at step 20 : 0.0\n",
            "Loss at step 25 : 0.0\n",
            "Loss at step 30 : 0.0\n",
            "Loss at step 35 : 0.0\n"
          ]
        }
      ]
    },
    {
      "cell_type": "code",
      "source": [
        "predicitions = model(inputs)\n",
        "plt.scatter(inputs[:,0],inputs[:,1],c=predicitions[:,0]>0.5)\n",
        "plt.show()"
      ],
      "metadata": {
        "colab": {
          "base_uri": "https://localhost:8080/",
          "height": 265
        },
        "id": "e32jgPy1mN6E",
        "outputId": "bbf12402-9be7-4222-8779-fd363429c800"
      },
      "execution_count": 120,
      "outputs": [
        {
          "output_type": "display_data",
          "data": {
            "text/plain": [
              "<Figure size 432x288 with 1 Axes>"
            ],
            "image/png": "[encoded data removed]"
          },
          "metadata": {
            "needs_background": "light"
          }
        }
      ]
    },
    {
      "cell_type": "code",
      "source": [
        "W,b"
      ],
      "metadata": {
        "colab": {
          "base_uri": "https://localhost:8080/"
        },
        "id": "CpRn8RgUpq3r",
        "outputId": "86c42774-8e32-4982-decb-87491d26f56a"
      },
      "execution_count": 122,
      "outputs": [
        {
          "output_type": "execute_result",
          "data": {
            "text/plain": [
              "(<tf.Variable 'Variable:0' shape=(2, 1) dtype=float32, numpy=\n",
              " array([[ 0.17718157],\n",
              "        [-0.12055275]], dtype=float32)>,\n",
              " <tf.Variable 'Variable:0' shape=(1,) dtype=float32, numpy=array([0.3937666], dtype=float32)>)"
            ]
          },
          "metadata": {},
          "execution_count": 122
        }
      ]
    },
    {
      "cell_type": "code",
      "source": [
        "x = np.linspace(-2,5,100)\n",
        "y = -W[0]/W[1] * x + (0.5-b)/W[1]\n",
        "plt.scatter(inputs[:,0],inputs[:,1],c=predicitions[:,0]>0.5)\n",
        "plt.plot(x,y,\"-r\")\n",
        "plt.show()\n"
      ],
      "metadata": {
        "colab": {
          "base_uri": "https://localhost:8080/",
          "height": 265
        },
        "id": "_rn_Mg_1pvs6",
        "outputId": "3d2e4291-a970-4a2b-fb75-ebb659505482"
      },
      "execution_count": 124,
      "outputs": [
        {
          "output_type": "display_data",
          "data": {
            "text/plain": [
              "<Figure size 432x288 with 1 Axes>"
            ],
            "image/png": "[encoded data removed]"
          },
          "metadata": {
            "needs_background": "light"
          }
        }
      ]
    },
    {
      "cell_type": "markdown",
      "source": [
        "# Anatomy of a neural network"
      ],
      "metadata": {
        "id": "W4VB-mCx00s7"
      }
    },
    {
      "cell_type": "markdown",
      "source": [
        "## Layers"
      ],
      "metadata": {
        "id": "jhFW4CYr1B7I"
      }
    },
    {
      "cell_type": "markdown",
      "source": [
        "1. units - number of neuron in the layer.\n",
        "1. build method is used to create the weights\n",
        "2. call method is used feed forword the inputs in the layer."
      ],
      "metadata": {
        "id": "M5orXE584d_W"
      }
    },
    {
      "cell_type": "code",
      "source": [
        "from tensorflow import keras\n",
        "\n",
        "class SimpleDense(keras.layers.Layer):\n",
        "    def __init__(self,units,activation=None):\n",
        "        super().__init__()\n",
        "        self.units =units\n",
        "        self.activation = activation\n",
        "    \n",
        "    def build(self,input_shape):\n",
        "        print(\"Calling the build method\")\n",
        "        input_dim = input_shape[-1]\n",
        "        self.W = self.add_weight(shape=(input_dim,self.units),\n",
        "                                 initializer=\"random_normal\")\n",
        "        self.b = self.add_weight(shape=(self.units,),\n",
        "                                 initializer=\"zeros\")\n",
        "        \n",
        "    def call(self,inputs):\n",
        "        print(\"Calling the Call method\")\n",
        "        y = tf.matmul(inputs,self.W) + self.b\n",
        "        if self.activation is not None:\n",
        "            y = self.activation(y)\n",
        "        return y\n"
      ],
      "metadata": {
        "id": "SnPlgFKJtOiL"
      },
      "execution_count": 126,
      "outputs": []
    },
    {
      "cell_type": "code",
      "source": [
        "my_dense = SimpleDense(units=32,activation=tf.nn.relu)"
      ],
      "metadata": {
        "id": "0591Cptm4cGR"
      },
      "execution_count": 128,
      "outputs": []
    },
    {
      "cell_type": "code",
      "source": [
        "input_tensor = tf.ones(shape=(2,784))\n",
        "output_tensor = my_dense(input_tensor)"
      ],
      "metadata": {
        "colab": {
          "base_uri": "https://localhost:8080/"
        },
        "id": "UstfPMmD5oGI",
        "outputId": "0686a170-25de-4d13-9579-1dfeca185c90"
      },
      "execution_count": 129,
      "outputs": [
        {
          "output_type": "stream",
          "name": "stdout",
          "text": [
            "Calling the build method\n",
            "Calling the Call method\n"
          ]
        }
      ]
    },
    {
      "cell_type": "code",
      "source": [
        "output_tensor.shape"
      ],
      "metadata": {
        "colab": {
          "base_uri": "https://localhost:8080/"
        },
        "id": "Zsf4GspT5sXA",
        "outputId": "757669f9-2966-48ae-d498-b398d3568922"
      },
      "execution_count": 130,
      "outputs": [
        {
          "output_type": "execute_result",
          "data": {
            "text/plain": [
              "TensorShape([2, 32])"
            ]
          },
          "metadata": {},
          "execution_count": 130
        }
      ]
    },
    {
      "cell_type": "code",
      "source": [
        "from tensorflow.keras import layers\n",
        "layer = layers.Dense(32,activation=\"relu\")"
      ],
      "metadata": {
        "id": "GchS0JTABHqS"
      },
      "execution_count": 140,
      "outputs": []
    },
    {
      "cell_type": "code",
      "source": [
        "from tensorflow.keras import models\n",
        "from tensorflow.keras import layers\n",
        "model = models.Sequential([\n",
        "    layers.Dense(32,activation=\"relu\"),\n",
        "    layers.Dense(32)\n",
        "])"
      ],
      "metadata": {
        "id": "3TKrAFCDChDr"
      },
      "execution_count": 141,
      "outputs": []
    },
    {
      "cell_type": "code",
      "source": [
        "model = keras.Sequential([\n",
        "    SimpleDense(32,activation=\"relu\"),\n",
        "    SimpleDense(64,activation=\"relu\"),\n",
        "    SimpleDense(32,activation=\"relu\"),\n",
        "    SimpleDense(10,activation=\"softmax\")\n",
        "])"
      ],
      "metadata": {
        "id": "ueIJIISuPI_A"
      },
      "execution_count": 152,
      "outputs": []
    },
    {
      "cell_type": "markdown",
      "source": [
        "after creating the network topology we need to complie the model\n",
        "1. Optimiser\n",
        "2. loss\n",
        "3. metrices"
      ],
      "metadata": {
        "id": "w0C_RYKzGXmy"
      }
    },
    {
      "cell_type": "code",
      "source": [
        "model = keras.Sequential([keras.layers.Dense(1)])\n",
        "# we can complie using string \n",
        "model.compile(optimizer=\"rmsprop\",\n",
        "              loss=\"mean_squared_error\",\n",
        "              metrics=[\"accuracy\"])"
      ],
      "metadata": {
        "id": "jB0X79EuD5g1"
      },
      "execution_count": 153,
      "outputs": []
    },
    {
      "cell_type": "code",
      "source": [
        "# we can also complie the model direct using the python object\n",
        "model.compile(optimizer =keras.optimizers.RMSprop(),\n",
        "              loss=keras.losses.MeanSquaredError(),\n",
        "              metrics=keras.metrics.BinaryAccuracy())"
      ],
      "metadata": {
        "id": "w7tquLQJG3Fz"
      },
      "execution_count": 147,
      "outputs": []
    },
    {
      "cell_type": "markdown",
      "source": [
        "# Understanding the fit() method:\n",
        "\n",
        "model----->Compile ----> Fit\n",
        "\n",
        "Some key arguments\n",
        "1. data (inputs, targets)\n",
        "2. epochs\n",
        "3. batch_size\n",
        "\n",
        "\n",
        "fit method return the `history` objects."
      ],
      "metadata": {
        "id": "IIG0R--KOD4p"
      }
    },
    {
      "cell_type": "code",
      "source": [
        "history = model.fit(inputs,targets,epochs=5,batch_size=128)\n",
        "type(history)"
      ],
      "metadata": {
        "colab": {
          "base_uri": "https://localhost:8080/"
        },
        "id": "efLcNfW4He5l",
        "outputId": "f7830f6a-d6ff-4fe8-850e-7d7e57db1fa8"
      },
      "execution_count": 149,
      "outputs": [
        {
          "output_type": "stream",
          "name": "stdout",
          "text": [
            "Epoch 1/5\n",
            "16/16 [==============================] - 0s 2ms/step - loss: 7.0123 - binary_accuracy: 0.6155\n",
            "Epoch 2/5\n",
            "16/16 [==============================] - 0s 2ms/step - loss: 6.6857 - binary_accuracy: 0.6195\n",
            "Epoch 3/5\n",
            "16/16 [==============================] - 0s 3ms/step - loss: 6.3695 - binary_accuracy: 0.6250\n",
            "Epoch 4/5\n",
            "16/16 [==============================] - 0s 5ms/step - loss: 6.0601 - binary_accuracy: 0.6310\n",
            "Epoch 5/5\n",
            "16/16 [==============================] - 0s 2ms/step - loss: 5.7601 - binary_accuracy: 0.6350\n"
          ]
        },
        {
          "output_type": "execute_result",
          "data": {
            "text/plain": [
              "keras.callbacks.History"
            ]
          },
          "metadata": {},
          "execution_count": 149
        }
      ]
    },
    {
      "cell_type": "code",
      "source": [
        "history.history"
      ],
      "metadata": {
        "colab": {
          "base_uri": "https://localhost:8080/"
        },
        "id": "mJg0XbByO1k-",
        "outputId": "4819a8cc-24fe-4e48-d95b-bf50bdc52647"
      },
      "execution_count": 151,
      "outputs": [
        {
          "output_type": "execute_result",
          "data": {
            "text/plain": [
              "{'loss': [7.012332916259766,\n",
              "  6.685675144195557,\n",
              "  6.36945104598999,\n",
              "  6.06012487411499,\n",
              "  5.760125637054443],\n",
              " 'binary_accuracy': [0.6154999732971191,\n",
              "  0.6194999814033508,\n",
              "  0.625,\n",
              "  0.6309999823570251,\n",
              "  0.6349999904632568]}"
            ]
          },
          "metadata": {},
          "execution_count": 151
        }
      ]
    },
    {
      "cell_type": "markdown",
      "source": [
        "## Monitoring Loss and Metrics on Validation Data"
      ],
      "metadata": {
        "id": "nXAZ5DlBP4ID"
      }
    },
    {
      "cell_type": "code",
      "source": [
        "model = keras.Sequential([keras.layers.Dense(1)])\n",
        "model.compile(optimizer=keras.optimizers.RMSprop(learning_rate=0.1),\n",
        "              loss=keras.losses.MeanSquaredError(),\n",
        "              metrics=keras.metrics.BinaryAccuracy())"
      ],
      "metadata": {
        "id": "p8pxCfBcO7NG"
      },
      "execution_count": 156,
      "outputs": []
    },
    {
      "cell_type": "code",
      "source": [
        "indices_permutation = np.random.permutation(len(inputs))\n",
        "shuffled_inputs = inputs[indices_permutation]\n",
        "shuffled_targets = targets[indices_permutation]\n",
        "\n",
        "num_validation_samples = int(0.3 * len(inputs))\n",
        "val_inputs = shuffled_inputs[:num_validation_samples]\n",
        "val_targets = shuffled_targets[:num_validation_samples]\n",
        "training_inputs = shuffled_inputs[num_validation_samples:]\n",
        "training_targets = shuffled_targets[num_validation_samples:]\n",
        "\n",
        "history = model.fit(x=training_inputs,\n",
        "          y=training_targets,\n",
        "          epochs=5,\n",
        "          batch_size=128,\n",
        "          validation_data =(val_inputs,val_targets))"
      ],
      "metadata": {
        "colab": {
          "base_uri": "https://localhost:8080/"
        },
        "id": "9S6-3LClQksn",
        "outputId": "b6814460-3c42-48a8-fba3-de302d106ddb"
      },
      "execution_count": 162,
      "outputs": [
        {
          "output_type": "stream",
          "name": "stdout",
          "text": [
            "Epoch 1/5\n",
            "11/11 [==============================] - 0s 13ms/step - loss: 0.0606 - binary_accuracy: 0.9693 - val_loss: 0.0602 - val_binary_accuracy: 0.9683\n",
            "Epoch 2/5\n",
            "11/11 [==============================] - 0s 6ms/step - loss: 0.0818 - binary_accuracy: 0.9514 - val_loss: 0.0688 - val_binary_accuracy: 0.9533\n",
            "Epoch 3/5\n",
            "11/11 [==============================] - 0s 8ms/step - loss: 0.0675 - binary_accuracy: 0.9671 - val_loss: 0.0538 - val_binary_accuracy: 0.9767\n",
            "Epoch 4/5\n",
            "11/11 [==============================] - 0s 7ms/step - loss: 0.0676 - binary_accuracy: 0.9636 - val_loss: 0.0579 - val_binary_accuracy: 0.9817\n",
            "Epoch 5/5\n",
            "11/11 [==============================] - 0s 9ms/step - loss: 0.0621 - binary_accuracy: 0.9686 - val_loss: 0.0245 - val_binary_accuracy: 0.9983\n"
          ]
        }
      ]
    },
    {
      "cell_type": "code",
      "source": [
        "history.history"
      ],
      "metadata": {
        "colab": {
          "base_uri": "https://localhost:8080/"
        },
        "id": "6HWXq2QpRRwI",
        "outputId": "1e2c99c6-d004-4f63-a8c6-d58628a5ff1e"
      },
      "execution_count": 164,
      "outputs": [
        {
          "output_type": "execute_result",
          "data": {
            "text/plain": [
              "{'loss': [0.060615990310907364,\n",
              "  0.08179737627506256,\n",
              "  0.06753044575452805,\n",
              "  0.06758499890565872,\n",
              "  0.06209738180041313],\n",
              " 'binary_accuracy': [0.9692857265472412,\n",
              "  0.9514285922050476,\n",
              "  0.9671428799629211,\n",
              "  0.9635714292526245,\n",
              "  0.9685714244842529],\n",
              " 'val_loss': [0.06015975773334503,\n",
              "  0.0688355565071106,\n",
              "  0.05376467481255531,\n",
              "  0.05787220597267151,\n",
              "  0.024479812011122704],\n",
              " 'val_binary_accuracy': [0.9683333039283752,\n",
              "  0.95333331823349,\n",
              "  0.9766666889190674,\n",
              "  0.9816666841506958,\n",
              "  0.9983333349227905]}"
            ]
          },
          "metadata": {},
          "execution_count": 164
        }
      ]
    },
    {
      "cell_type": "code",
      "source": [
        "# you can also perform the validation after the model fit\n",
        "loss_and_metrics = model.evaluate(val_inputs,val_targets,batch_size=128)"
      ],
      "metadata": {
        "colab": {
          "base_uri": "https://localhost:8080/"
        },
        "id": "OJss1_zOS1IE",
        "outputId": "428089dc-8c86-45a4-fdbd-247e0d35f9dd"
      },
      "execution_count": 165,
      "outputs": [
        {
          "output_type": "stream",
          "name": "stdout",
          "text": [
            "5/5 [==============================] - 0s 5ms/step - loss: 0.0245 - binary_accuracy: 0.9983\n"
          ]
        }
      ]
    },
    {
      "cell_type": "code",
      "source": [
        "loss_and_metrics"
      ],
      "metadata": {
        "colab": {
          "base_uri": "https://localhost:8080/"
        },
        "id": "l2I4C5ECTSZF",
        "outputId": "6ef85a2d-d506-4568-b8e5-257de9fc22d1"
      },
      "execution_count": 166,
      "outputs": [
        {
          "output_type": "execute_result",
          "data": {
            "text/plain": [
              "[0.024479812011122704, 0.9983333349227905]"
            ]
          },
          "metadata": {},
          "execution_count": 166
        }
      ]
    },
    {
      "cell_type": "markdown",
      "source": [
        "# Inference"
      ],
      "metadata": {
        "id": "I-8PgfyITZW-"
      }
    },
    {
      "cell_type": "code",
      "source": [
        "# we directly use the model.__call__ method ,but if the prediction datset is large then there,\n",
        "# because theres is no bacth size\n",
        "predictions = model(val_inputs)"
      ],
      "metadata": {
        "id": "bXvyz0SzTUfr"
      },
      "execution_count": 167,
      "outputs": []
    },
    {
      "cell_type": "code",
      "source": [
        "# we can use the predict method\n",
        "predictions = model.predict(val_inputs,batch_size=128)"
      ],
      "metadata": {
        "colab": {
          "base_uri": "https://localhost:8080/"
        },
        "id": "V43NP2e7T__W",
        "outputId": "c1e13ca0-f88c-418d-8981-c781ff74c03c"
      },
      "execution_count": 168,
      "outputs": [
        {
          "output_type": "stream",
          "name": "stdout",
          "text": [
            "5/5 [==============================] - 0s 3ms/step\n"
          ]
        }
      ]
    },
    {
      "cell_type": "code",
      "source": [],
      "metadata": {
        "id": "GU2owxgxURxf"
      },
      "execution_count": null,
      "outputs": []
    }
  ]
}