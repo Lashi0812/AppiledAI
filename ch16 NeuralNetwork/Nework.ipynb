{
 "cells": [
  {
   "cell_type": "code",
   "execution_count": 1,
   "metadata": {
    "collapsed": true,
    "pycharm": {
     "name": "#%%\n"
    }
   },
   "outputs": [],
   "source": [
    "import numpy as np\n",
    "import random\n",
    "import pickle\n",
    "import gzip\n",
    "from scipy.special import expit"
   ]
  },
  {
   "cell_type": "code",
   "execution_count": 2,
   "outputs": [
    {
     "name": "stdout",
     "output_type": "stream",
     "text": [
      "Help on ufunc:\n",
      "\n",
      "expit = <ufunc 'expit'>\n",
      "    expit(x, /, out=None, *, where=True, casting='same_kind', order='K', dtype=None, subok=True[, signature, extobj])\n",
      "    \n",
      "    expit(x, out=None)\n",
      "    \n",
      "    Expit (a.k.a. logistic sigmoid) ufunc for ndarrays.\n",
      "    \n",
      "    The expit function, also known as the logistic sigmoid function, is\n",
      "    defined as ``expit(x) = 1/(1+exp(-x))``.  It is the inverse of the\n",
      "    logit function.\n",
      "    \n",
      "    Parameters\n",
      "    ----------\n",
      "    x : ndarray\n",
      "        The ndarray to apply expit to element-wise.\n",
      "    out : ndarray, optional\n",
      "        Optional output array for the function values\n",
      "    \n",
      "    Returns\n",
      "    -------\n",
      "    scalar or ndarray\n",
      "        An ndarray of the same shape as x. Its entries\n",
      "        are `expit` of the corresponding entry of x.\n",
      "    \n",
      "    See Also\n",
      "    --------\n",
      "    logit\n",
      "    \n",
      "    Notes\n",
      "    -----\n",
      "    As a ufunc expit takes a number of optional\n",
      "    keyword arguments. For more information\n",
      "    see `ufuncs <https://docs.scipy.org/doc/numpy/reference/ufuncs.html>`_\n",
      "    \n",
      "    .. versionadded:: 0.10.0\n",
      "    \n",
      "    Examples\n",
      "    --------\n",
      "    >>> from scipy.special import expit, logit\n",
      "    \n",
      "    >>> expit([-np.inf, -1.5, 0, 1.5, np.inf])\n",
      "    array([ 0.        ,  0.18242552,  0.5       ,  0.81757448,  1.        ])\n",
      "    \n",
      "    `logit` is the inverse of `expit`:\n",
      "    \n",
      "    >>> logit(expit([-2.5, 0, 3.1, 5.0]))\n",
      "    array([-2.5,  0. ,  3.1,  5. ])\n",
      "    \n",
      "    Plot expit(x) for x in [-6, 6]:\n",
      "    \n",
      "    >>> import matplotlib.pyplot as plt\n",
      "    >>> x = np.linspace(-6, 6, 121)\n",
      "    >>> y = expit(x)\n",
      "    >>> plt.plot(x, y)\n",
      "    >>> plt.grid()\n",
      "    >>> plt.xlim(-6, 6)\n",
      "    >>> plt.xlabel('x')\n",
      "    >>> plt.title('expit(x)')\n",
      "    >>> plt.show()\n",
      "\n"
     ]
    }
   ],
   "source": [
    "help(expit)"
   ],
   "metadata": {
    "collapsed": false,
    "pycharm": {
     "name": "#%%\n"
    }
   }
  },
  {
   "cell_type": "code",
   "execution_count": 3,
   "outputs": [],
   "source": [
    "def sigmoid_prime(z):\n",
    "    return expit(z)*(1-expit(z))"
   ],
   "metadata": {
    "collapsed": false,
    "pycharm": {
     "name": "#%%\n"
    }
   }
  },
  {
   "cell_type": "code",
   "execution_count": 4,
   "outputs": [
    {
     "data": {
      "text/plain": "<matplotlib.legend.Legend at 0x2507fe05090>"
     },
     "execution_count": 4,
     "metadata": {},
     "output_type": "execute_result"
    },
    {
     "data": {
      "text/plain": "<Figure size 640x480 with 1 Axes>",
      "image/png": "[encoded data removed]"
     },
     "metadata": {},
     "output_type": "display_data"
    }
   ],
   "source": [
    "import matplotlib.pyplot as plt\n",
    "z = np.linspace(-10,10,100)\n",
    "plt.plot(z,expit(z),label=\"Sigmoid\")\n",
    "plt.plot(z,sigmoid_prime(z),label=\"Derivative\")\n",
    "plt.legend()\n"
   ],
   "metadata": {
    "collapsed": false,
    "pycharm": {
     "name": "#%%\n"
    }
   }
  },
  {
   "cell_type": "code",
   "execution_count": 5,
   "outputs": [],
   "source": [
    "class Network:\n",
    "    def __init__(self,sizes):\n",
    "        self.num_layers = len(sizes)\n",
    "        self.sizes = sizes\n",
    "        self.bias = [np.random.rand(y,1) for y in sizes[1:]]\n",
    "        self.weights =[np.random.randn(y,x) for x,y in zip(sizes[:-1],sizes[1:])]\n",
    "\n",
    "    def feedforward(self,a):\n",
    "        for b,w in zip(self.bias,self.weights):\n",
    "            a = expit(np.dot(w,a)+b)\n",
    "        return a\n",
    "\n",
    "    def SGD(self,training_data,epochs,mini_batch_size,eta,test_data=None):\n",
    "        if test_data:n_test = len(test_data)\n",
    "        n = len(training_data)\n",
    "        for j in range(epochs):\n",
    "            np.random.shuffle(training_data)\n",
    "            mini_batches = [training_data[k:k+mini_batch_size]\n",
    "                            for k in range(0,n,mini_batch_size)]\n",
    "            for mini_batch in mini_batches:\n",
    "                self.update_mini_batch(mini_batch,eta)\n",
    "            if test_data:\n",
    "                print(f\"Epoch {j} : {self.evaluate(test_data)} / {n_test}\")\n",
    "            else:\n",
    "                print(f\"Epoch {j} completed.\")\n",
    "\n",
    "    def update_mini_batch(self,mini_batch,eta):\n",
    "        new_b = [np.zeros_like(b) for b in self.bias]\n",
    "        new_w = [np.zeros_like(w) for w in self.weights]\n",
    "\n",
    "        for x,y in mini_batch:\n",
    "            delta_new_b,delta_new_w = self.backprop(x,y)\n",
    "            new_b = [nb+dnb for nb,dnb in zip(new_b,delta_new_b)]\n",
    "            new_w = [nw+dnw for nw,dnw in zip(new_w,delta_new_w)]\n",
    "\n",
    "        self.weights = [w -(eta/len(mini_batch))*nw\n",
    "                        for w,nw in zip(self.weights,new_w)]\n",
    "        self.bias = [b- (eta/len(mini_batch))*nb\n",
    "                     for b, nb in zip(self.bias,new_b)]\n",
    "\n",
    "    def backprop(self,x,y):\n",
    "        new_w = [np.zeros_like(w) for w in self.weights]\n",
    "        new_b = [np.zeros_like(b) for b in self.bias]\n",
    "        # feedforward\n",
    "        activation = x\n",
    "        activations = [x]\n",
    "        z_weighted_inputs = []\n",
    "        for b,w in zip(self.bias,self.weights):\n",
    "            z_weighted_input = np.dot(w,activation) + b\n",
    "            z_weighted_inputs.append(z_weighted_input)\n",
    "            activation = expit(z_weighted_input)\n",
    "            activations.append(activation)\n",
    "\n",
    "        # output error\n",
    "        delta =self.cost_derivative(activations[-1],y) * sigmoid_prime(z_weighted_inputs[-1])\n",
    "        new_b[-1] = delta\n",
    "        new_w[-1] = np.dot(delta , activations[-2].T)\n",
    "\n",
    "        for l in range(2,self.num_layers):\n",
    "            z_weighted_input = z_weighted_inputs[-l]\n",
    "            sp = sigmoid_prime(z_weighted_input)\n",
    "            delta = np.dot(self.weights[-l+1].T,delta) * sp\n",
    "            new_b[-l] = delta\n",
    "            new_w[-l] = np.dot(delta, activations[-l-1].T)\n",
    "\n",
    "        return new_b,new_w\n",
    "\n",
    "    def evaluate(self,test_data):\n",
    "        test_results = [(np.argmax(self.feedforward(x)),y)\n",
    "                        for (x,y) in test_data]\n",
    "        return sum(int(x==y) for (x,y) in test_results)\n",
    "\n",
    "    def cost_derivative(self,output_activations,y):\n",
    "        return output_activations -y"
   ],
   "metadata": {
    "collapsed": false,
    "pycharm": {
     "name": "#%%\n"
    }
   }
  },
  {
   "cell_type": "code",
   "execution_count": 6,
   "outputs": [],
   "source": [
    "class Network_copy(object):\n",
    "\n",
    "    def __init__(self, sizes):\n",
    "        \"\"\"The list ``sizes`` contains the number of neurons in the\n",
    "        respective layers of the network.  For example, if the list\n",
    "        was [2, 3, 1] then it would be a three-layer network, with the\n",
    "        first layer containing 2 neurons, the second layer 3 neurons,\n",
    "        and the third layer 1 neuron.  The biases and weights for the\n",
    "        network are initialized randomly, using a Gaussian\n",
    "        distribution with mean 0, and variance 1.  Note that the first\n",
    "        layer is assumed to be an input layer, and by convention we\n",
    "        won't set any biases for those neurons, since biases are only\n",
    "        ever used in computing the outputs from later layers.\"\"\"\n",
    "        self.num_layers = len(sizes)\n",
    "        self.sizes = sizes\n",
    "        self.biases = [np.random.randn(y, 1) for y in sizes[1:]]\n",
    "        self.weights = [np.random.randn(y, x)\n",
    "                        for x, y in zip(sizes[:-1], sizes[1:])]\n",
    "\n",
    "    def feedforward(self, a):\n",
    "        \"\"\"Return the output of the network if ``a`` is input.\"\"\"\n",
    "        for b, w in zip(self.biases, self.weights):\n",
    "            a = sigmoid(np.dot(w, a)+b)\n",
    "        return a\n",
    "\n",
    "    def SGD(self, training_data, epochs, mini_batch_size, eta,\n",
    "            test_data=None):\n",
    "        \"\"\"Train the neural network using mini-batch stochastic\n",
    "        gradient descent.  The ``training_data`` is a list of tuples\n",
    "        ``(x, y)`` representing the training inputs and the desired\n",
    "        outputs.  The other non-optional parameters are\n",
    "        self-explanatory.  If ``test_data`` is provided then the\n",
    "        network will be evaluated against the test data after each\n",
    "        epoch, and partial progress printed out.  This is useful for\n",
    "        tracking progress, but slows things down substantially.\"\"\"\n",
    "        if test_data: n_test = len(test_data)\n",
    "        n = len(training_data)\n",
    "        for j in range(epochs):\n",
    "            random.shuffle(training_data)\n",
    "            mini_batches = [\n",
    "                training_data[k:k+mini_batch_size]\n",
    "                for k in range(0, n, mini_batch_size)]\n",
    "            for mini_batch in mini_batches:\n",
    "                self.update_mini_batch(mini_batch, eta)\n",
    "            if test_data:\n",
    "                print (\"Epoch {0}: {1} / {2}\".format(\n",
    "                    j, self.evaluate(test_data), n_test))\n",
    "            else:\n",
    "                print (\"Epoch {0} complete\".format(j))\n",
    "\n",
    "    def update_mini_batch(self, mini_batch, eta):\n",
    "        \"\"\"Update the network's weights and biases by applying\n",
    "        gradient descent using backpropagation to a single mini batch.\n",
    "        The ``mini_batch`` is a list of tuples ``(x, y)``, and ``eta``\n",
    "        is the learning rate.\"\"\"\n",
    "        nabla_b = [np.zeros(b.shape) for b in self.biases]\n",
    "        nabla_w = [np.zeros(w.shape) for w in self.weights]\n",
    "        for x, y in mini_batch:\n",
    "            delta_nabla_b, delta_nabla_w = self.backprop(x, y)\n",
    "            nabla_b = [nb+dnb for nb, dnb in zip(nabla_b, delta_nabla_b)]\n",
    "            nabla_w = [nw+dnw for nw, dnw in zip(nabla_w, delta_nabla_w)]\n",
    "        self.weights = [w-(eta/len(mini_batch))*nw\n",
    "                        for w, nw in zip(self.weights, nabla_w)]\n",
    "        self.biases = [b-(eta/len(mini_batch))*nb\n",
    "                       for b, nb in zip(self.biases, nabla_b)]\n",
    "\n",
    "    def backprop(self, x, y):\n",
    "        \"\"\"Return a tuple ``(nabla_b, nabla_w)`` representing the\n",
    "        gradient for the cost function C_x.  ``nabla_b`` and\n",
    "        ``nabla_w`` are layer-by-layer lists of numpy arrays, similar\n",
    "        to ``self.biases`` and ``self.weights``.\"\"\"\n",
    "        nabla_b = [np.zeros(b.shape) for b in self.biases]\n",
    "        nabla_w = [np.zeros(w.shape) for w in self.weights]\n",
    "        # feedforward\n",
    "        activation = x\n",
    "        activations = [x] # list to store all the activations, layer by layer\n",
    "        zs = [] # list to store all the z vectors, layer by layer\n",
    "        for b, w in zip(self.biases, self.weights):\n",
    "            z = np.dot(w, activation)+b\n",
    "            zs.append(z)\n",
    "            activation = sigmoid(z)\n",
    "            activations.append(activation)\n",
    "        # backward pass\n",
    "        delta = self.cost_derivative(activations[-1], y) * \\\n",
    "            sigmoid_prime(zs[-1])\n",
    "        nabla_b[-1] = delta\n",
    "        nabla_w[-1] = np.dot(delta, activations[-2].transpose())\n",
    "        # Note that the variable l in the loop below is used a little\n",
    "        # differently to the notation in Chapter 2 of the book.  Here,\n",
    "        # l = 1 means the last layer of neurons, l = 2 is the\n",
    "        # second-last layer, and so on.  It's a renumbering of the\n",
    "        # scheme in the book, used here to take advantage of the fact\n",
    "        # that Python can use negative indices in lists.\n",
    "        for l in range(2, self.num_layers):\n",
    "            z = zs[-l]\n",
    "            sp = sigmoid_prime(z)\n",
    "            delta = np.dot(self.weights[-l+1].transpose(), delta) * sp\n",
    "            nabla_b[-l] = delta\n",
    "            nabla_w[-l] = np.dot(delta, activations[-l-1].transpose())\n",
    "        return (nabla_b, nabla_w)\n",
    "\n",
    "    def evaluate(self, test_data):\n",
    "        \"\"\"Return the number of test inputs for which the neural\n",
    "        network outputs the correct result. Note that the neural\n",
    "        network's output is assumed to be the index of whichever\n",
    "        neuron in the final layer has the highest activation.\"\"\"\n",
    "        test_results = [(np.argmax(self.feedforward(x)), y)\n",
    "                        for (x, y) in test_data]\n",
    "        return sum(int(x == y) for (x, y) in test_results)\n",
    "\n",
    "    def cost_derivative(self, output_activations, y):\n",
    "        \"\"\"Return the vector of partial derivatives \\partial C_x /\n",
    "        \\partial a for the output activations.\"\"\"\n",
    "        return (output_activations-y)\n",
    "\n",
    "#### Miscellaneous functions\n",
    "def sigmoid(z):\n",
    "    \"\"\"The sigmoid function.\"\"\"\n",
    "    return 1.0/(1.0+np.exp(-z))\n",
    "\n",
    "def sigmoid_prime(z):\n",
    "    \"\"\"Derivative of the sigmoid function.\"\"\"\n",
    "    return sigmoid(z)*(1-sigmoid(z))"
   ],
   "metadata": {
    "collapsed": false,
    "pycharm": {
     "name": "#%%\n"
    }
   }
  },
  {
   "cell_type": "code",
   "execution_count": 7,
   "outputs": [],
   "source": [
    "import numpy as np\n",
    "\n",
    "def load_data():\n",
    "    \"\"\"Return the MNIST data as a tuple containing the training data,\n",
    "    the validation data, and the test data.\n",
    "\n",
    "    The ``training_data`` is returned as a tuple with two entries.\n",
    "    The first entry contains the actual training images.  This is a\n",
    "    numpy ndarray with 50,000 entries.  Each entry is, in turn, a\n",
    "    numpy ndarray with 784 values, representing the 28 * 28 = 784\n",
    "    pixels in a single MNIST image.\n",
    "\n",
    "    The second entry in the ``training_data`` tuple is a numpy ndarray\n",
    "    containing 50,000 entries.  Those entries are just the digit\n",
    "    values (0...9) for the corresponding images contained in the first\n",
    "    entry of the tuple.\n",
    "\n",
    "    The ``validation_data`` and ``test_data`` are similar, except\n",
    "    each contains only 10,000 images.\n",
    "\n",
    "    This is a nice data format, but for use in neural networks it's\n",
    "    helpful to modify the format of the ``training_data`` a little.\n",
    "    That's done in the wrapper function ``load_data_wrapper()``, see\n",
    "    below.\n",
    "    \"\"\"\n",
    "    f = gzip.open('./data/mnist.pkl.gz', 'rb')\n",
    "    training_data, validation_data, test_data = pickle.load(f, encoding=\"latin1\")\n",
    "    f.close()\n",
    "    return (training_data, validation_data, test_data)\n",
    "\n",
    "def load_data_wrapper():\n",
    "    \"\"\"Return a tuple containing ``(training_data, validation_data,\n",
    "    test_data)``. Based on ``load_data``, but the format is more\n",
    "    convenient for use in our implementation of neural networks.\n",
    "\n",
    "    In particular, ``training_data`` is a list containing 50,000\n",
    "    2-tuples ``(x, y)``.  ``x`` is a 784-dimensional numpy.ndarray\n",
    "    containing the input image.  ``y`` is a 10-dimensional\n",
    "    numpy.ndarray representing the unit vector corresponding to the\n",
    "    correct digit for ``x``.\n",
    "\n",
    "    ``validation_data`` and ``test_data`` are lists containing 10,000\n",
    "    2-tuples ``(x, y)``.  In each case, ``x`` is a 784-dimensional\n",
    "    numpy.ndarry containing the input image, and ``y`` is the\n",
    "    corresponding classification, i.e., the digit values (integers)\n",
    "    corresponding to ``x``.\n",
    "\n",
    "    Obviously, this means we're using slightly different formats for\n",
    "    the training data and the validation / test data.  These formats\n",
    "    turn out to be the most convenient for use in our neural network\n",
    "    code.\"\"\"\n",
    "    tr_d, va_d, te_d = load_data()\n",
    "    training_inputs = [np.reshape(x, (784, 1)) for x in tr_d[0]]\n",
    "    training_results = [vectorized_result(y) for y in tr_d[1]]\n",
    "    training_data = list(zip(training_inputs, training_results))\n",
    "    validation_inputs = [np.reshape(x, (784, 1)) for x in va_d[0]]\n",
    "    validation_data = list(zip(validation_inputs, va_d[1]))\n",
    "    test_inputs = [np.reshape(x, (784, 1)) for x in te_d[0]]\n",
    "    test_data = list(zip(test_inputs, te_d[1]))\n",
    "    return (training_data, validation_data, test_data)\n",
    "\n",
    "def vectorized_result(j):\n",
    "    \"\"\"Return a 10-dimensional unit vector with a 1.0 in the jth\n",
    "    position and zeroes elsewhere.  This is used to convert a digit\n",
    "    (0...9) into a corresponding desired output from the neural\n",
    "    network.\"\"\"\n",
    "    e = np.zeros((10, 1))\n",
    "    e[j] = 1.0\n",
    "    return e"
   ],
   "metadata": {
    "collapsed": false,
    "pycharm": {
     "name": "#%%\n"
    }
   }
  },
  {
   "cell_type": "code",
   "execution_count": 8,
   "outputs": [],
   "source": [
    "training_data, validation_data, test_data  = load_data_wrapper()"
   ],
   "metadata": {
    "collapsed": false,
    "pycharm": {
     "name": "#%%\n"
    }
   }
  },
  {
   "cell_type": "code",
   "execution_count": 9,
   "outputs": [],
   "source": [
    "net = Network([784, 30, 10])"
   ],
   "metadata": {
    "collapsed": false,
    "pycharm": {
     "name": "#%%\n"
    }
   }
  },
  {
   "cell_type": "code",
   "execution_count": 10,
   "outputs": [
    {
     "ename": "KeyboardInterrupt",
     "evalue": "",
     "output_type": "error",
     "traceback": [
      "\u001B[1;31m---------------------------------------------------------------------------\u001B[0m",
      "\u001B[1;31mKeyboardInterrupt\u001B[0m                         Traceback (most recent call last)",
      "Cell \u001B[1;32mIn [10], line 1\u001B[0m\n\u001B[1;32m----> 1\u001B[0m \u001B[43mnet\u001B[49m\u001B[38;5;241;43m.\u001B[39;49m\u001B[43mSGD\u001B[49m\u001B[43m(\u001B[49m\u001B[43mtraining_data\u001B[49m\u001B[43m,\u001B[49m\u001B[43m \u001B[49m\u001B[38;5;241;43m10\u001B[39;49m\u001B[43m,\u001B[49m\u001B[43m \u001B[49m\u001B[38;5;241;43m10\u001B[39;49m\u001B[43m,\u001B[49m\u001B[43m \u001B[49m\u001B[38;5;241;43m3.0\u001B[39;49m\u001B[43m,\u001B[49m\u001B[43m \u001B[49m\u001B[43mtest_data\u001B[49m\u001B[38;5;241;43m=\u001B[39;49m\u001B[43mtest_data\u001B[49m\u001B[43m)\u001B[49m\n",
      "Cell \u001B[1;32mIn [5], line 21\u001B[0m, in \u001B[0;36mNetwork.SGD\u001B[1;34m(self, training_data, epochs, mini_batch_size, eta, test_data)\u001B[0m\n\u001B[0;32m     18\u001B[0m mini_batches \u001B[38;5;241m=\u001B[39m [training_data[k:k\u001B[38;5;241m+\u001B[39mmini_batch_size]\n\u001B[0;32m     19\u001B[0m                 \u001B[38;5;28;01mfor\u001B[39;00m k \u001B[38;5;129;01min\u001B[39;00m \u001B[38;5;28mrange\u001B[39m(\u001B[38;5;241m0\u001B[39m,n,mini_batch_size)]\n\u001B[0;32m     20\u001B[0m \u001B[38;5;28;01mfor\u001B[39;00m mini_batch \u001B[38;5;129;01min\u001B[39;00m mini_batches:\n\u001B[1;32m---> 21\u001B[0m     \u001B[38;5;28;43mself\u001B[39;49m\u001B[38;5;241;43m.\u001B[39;49m\u001B[43mupdate_mini_batch\u001B[49m\u001B[43m(\u001B[49m\u001B[43mmini_batch\u001B[49m\u001B[43m,\u001B[49m\u001B[43meta\u001B[49m\u001B[43m)\u001B[49m\n\u001B[0;32m     22\u001B[0m \u001B[38;5;28;01mif\u001B[39;00m test_data:\n\u001B[0;32m     23\u001B[0m     \u001B[38;5;28mprint\u001B[39m(\u001B[38;5;124mf\u001B[39m\u001B[38;5;124m\"\u001B[39m\u001B[38;5;124mEpoch \u001B[39m\u001B[38;5;132;01m{\u001B[39;00mj\u001B[38;5;132;01m}\u001B[39;00m\u001B[38;5;124m : \u001B[39m\u001B[38;5;132;01m{\u001B[39;00m\u001B[38;5;28mself\u001B[39m\u001B[38;5;241m.\u001B[39mevaluate(test_data)\u001B[38;5;132;01m}\u001B[39;00m\u001B[38;5;124m / \u001B[39m\u001B[38;5;132;01m{\u001B[39;00mn_test\u001B[38;5;132;01m}\u001B[39;00m\u001B[38;5;124m\"\u001B[39m)\n",
      "Cell \u001B[1;32mIn [5], line 34\u001B[0m, in \u001B[0;36mNetwork.update_mini_batch\u001B[1;34m(self, mini_batch, eta)\u001B[0m\n\u001B[0;32m     32\u001B[0m     delta_new_b,delta_new_w \u001B[38;5;241m=\u001B[39m \u001B[38;5;28mself\u001B[39m\u001B[38;5;241m.\u001B[39mbackprop(x,y)\n\u001B[0;32m     33\u001B[0m     new_b \u001B[38;5;241m=\u001B[39m [nb\u001B[38;5;241m+\u001B[39mdnb \u001B[38;5;28;01mfor\u001B[39;00m nb,dnb \u001B[38;5;129;01min\u001B[39;00m \u001B[38;5;28mzip\u001B[39m(new_b,delta_new_b)]\n\u001B[1;32m---> 34\u001B[0m     new_w \u001B[38;5;241m=\u001B[39m \u001B[43m[\u001B[49m\u001B[43mnw\u001B[49m\u001B[38;5;241;43m+\u001B[39;49m\u001B[43mdnw\u001B[49m\u001B[43m \u001B[49m\u001B[38;5;28;43;01mfor\u001B[39;49;00m\u001B[43m \u001B[49m\u001B[43mnw\u001B[49m\u001B[43m,\u001B[49m\u001B[43mdnw\u001B[49m\u001B[43m \u001B[49m\u001B[38;5;129;43;01min\u001B[39;49;00m\u001B[43m \u001B[49m\u001B[38;5;28;43mzip\u001B[39;49m\u001B[43m(\u001B[49m\u001B[43mnew_w\u001B[49m\u001B[43m,\u001B[49m\u001B[43mdelta_new_w\u001B[49m\u001B[43m)\u001B[49m\u001B[43m]\u001B[49m\n\u001B[0;32m     36\u001B[0m \u001B[38;5;28mself\u001B[39m\u001B[38;5;241m.\u001B[39mweights \u001B[38;5;241m=\u001B[39m [w \u001B[38;5;241m-\u001B[39m(eta\u001B[38;5;241m/\u001B[39m\u001B[38;5;28mlen\u001B[39m(mini_batch))\u001B[38;5;241m*\u001B[39mnw\n\u001B[0;32m     37\u001B[0m                 \u001B[38;5;28;01mfor\u001B[39;00m w,nw \u001B[38;5;129;01min\u001B[39;00m \u001B[38;5;28mzip\u001B[39m(\u001B[38;5;28mself\u001B[39m\u001B[38;5;241m.\u001B[39mweights,new_w)]\n\u001B[0;32m     38\u001B[0m \u001B[38;5;28mself\u001B[39m\u001B[38;5;241m.\u001B[39mbias \u001B[38;5;241m=\u001B[39m [b\u001B[38;5;241m-\u001B[39m (eta\u001B[38;5;241m/\u001B[39m\u001B[38;5;28mlen\u001B[39m(mini_batch))\u001B[38;5;241m*\u001B[39mnb\n\u001B[0;32m     39\u001B[0m              \u001B[38;5;28;01mfor\u001B[39;00m b, nb \u001B[38;5;129;01min\u001B[39;00m \u001B[38;5;28mzip\u001B[39m(\u001B[38;5;28mself\u001B[39m\u001B[38;5;241m.\u001B[39mbias,new_b)]\n",
      "Cell \u001B[1;32mIn [5], line 34\u001B[0m, in \u001B[0;36m<listcomp>\u001B[1;34m(.0)\u001B[0m\n\u001B[0;32m     32\u001B[0m     delta_new_b,delta_new_w \u001B[38;5;241m=\u001B[39m \u001B[38;5;28mself\u001B[39m\u001B[38;5;241m.\u001B[39mbackprop(x,y)\n\u001B[0;32m     33\u001B[0m     new_b \u001B[38;5;241m=\u001B[39m [nb\u001B[38;5;241m+\u001B[39mdnb \u001B[38;5;28;01mfor\u001B[39;00m nb,dnb \u001B[38;5;129;01min\u001B[39;00m \u001B[38;5;28mzip\u001B[39m(new_b,delta_new_b)]\n\u001B[1;32m---> 34\u001B[0m     new_w \u001B[38;5;241m=\u001B[39m [nw\u001B[38;5;241m+\u001B[39mdnw \u001B[38;5;28;01mfor\u001B[39;00m nw,dnw \u001B[38;5;129;01min\u001B[39;00m \u001B[38;5;28mzip\u001B[39m(new_w,delta_new_w)]\n\u001B[0;32m     36\u001B[0m \u001B[38;5;28mself\u001B[39m\u001B[38;5;241m.\u001B[39mweights \u001B[38;5;241m=\u001B[39m [w \u001B[38;5;241m-\u001B[39m(eta\u001B[38;5;241m/\u001B[39m\u001B[38;5;28mlen\u001B[39m(mini_batch))\u001B[38;5;241m*\u001B[39mnw\n\u001B[0;32m     37\u001B[0m                 \u001B[38;5;28;01mfor\u001B[39;00m w,nw \u001B[38;5;129;01min\u001B[39;00m \u001B[38;5;28mzip\u001B[39m(\u001B[38;5;28mself\u001B[39m\u001B[38;5;241m.\u001B[39mweights,new_w)]\n\u001B[0;32m     38\u001B[0m \u001B[38;5;28mself\u001B[39m\u001B[38;5;241m.\u001B[39mbias \u001B[38;5;241m=\u001B[39m [b\u001B[38;5;241m-\u001B[39m (eta\u001B[38;5;241m/\u001B[39m\u001B[38;5;28mlen\u001B[39m(mini_batch))\u001B[38;5;241m*\u001B[39mnb\n\u001B[0;32m     39\u001B[0m              \u001B[38;5;28;01mfor\u001B[39;00m b, nb \u001B[38;5;129;01min\u001B[39;00m \u001B[38;5;28mzip\u001B[39m(\u001B[38;5;28mself\u001B[39m\u001B[38;5;241m.\u001B[39mbias,new_b)]\n",
      "\u001B[1;31mKeyboardInterrupt\u001B[0m: "
     ]
    }
   ],
   "source": [
    "net.SGD(training_data, 10, 10, 3.0, test_data=test_data)"
   ],
   "metadata": {
    "collapsed": false,
    "pycharm": {
     "name": "#%%\n"
    }
   }
  },
  {
   "cell_type": "code",
   "execution_count": 11,
   "outputs": [
    {
     "data": {
      "text/plain": "(y, a)"
     },
     "execution_count": 11,
     "metadata": {},
     "output_type": "execute_result"
    }
   ],
   "source": [
    "import sympy as sp\n",
    "y_sp,a_sp = sp.symbols(\"y a\")\n",
    "y_sp,a_sp"
   ],
   "metadata": {
    "collapsed": false,
    "pycharm": {
     "name": "#%%\n"
    }
   }
  },
  {
   "cell_type": "code",
   "execution_count": 12,
   "outputs": [
    {
     "data": {
      "text/plain": "(a - y)/(a*(1 - a))",
      "text/latex": "$\\displaystyle \\frac{a - y}{a \\left(1 - a\\right)}$"
     },
     "execution_count": 12,
     "metadata": {},
     "output_type": "execute_result"
    }
   ],
   "source": [
    "expr = (a_sp - y_sp) /( a_sp*(1-a_sp))\n",
    "expr"
   ],
   "metadata": {
    "collapsed": false,
    "pycharm": {
     "name": "#%%\n"
    }
   }
  },
  {
   "cell_type": "code",
   "execution_count": 16,
   "outputs": [
    {
     "data": {
      "text/plain": "-y*log(a) + (y - 1)*log(a - 1)",
      "text/latex": "$\\displaystyle - y \\log{\\left(a \\right)} + \\left(y - 1\\right) \\log{\\left(a - 1 \\right)}$"
     },
     "execution_count": 16,
     "metadata": {},
     "output_type": "execute_result"
    }
   ],
   "source": [
    "sp.simplify(sp.integrate(expr,a_sp))"
   ],
   "metadata": {
    "collapsed": false,
    "pycharm": {
     "name": "#%%\n"
    }
   }
  },
  {
   "cell_type": "code",
   "execution_count": null,
   "outputs": [],
   "source": [],
   "metadata": {
    "collapsed": false,
    "pycharm": {
     "name": "#%%\n"
    }
   }
  }
 ],
 "metadata": {
  "kernelspec": {
   "display_name": "Python 3",
   "language": "python",
   "name": "python3"
  },
  "language_info": {
   "codemirror_mode": {
    "name": "ipython",
    "version": 2
   },
   "file_extension": ".py",
   "mimetype": "text/x-python",
   "name": "python",
   "nbconvert_exporter": "python",
   "pygments_lexer": "ipython2",
   "version": "2.7.6"
  }
 },
 "nbformat": 4,
 "nbformat_minor": 0
}