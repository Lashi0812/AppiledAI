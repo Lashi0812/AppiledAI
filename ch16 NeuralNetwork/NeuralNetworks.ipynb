{
  "nbformat": 4,
  "nbformat_minor": 0,
  "metadata": {
    "colab": {
      "provenance": [],
      "authorship_tag": "ABX9TyON7IqiOe53i0VbavZHeg85",
      "include_colab_link": true
    },
    "kernelspec": {
      "name": "python3",
      "display_name": "Python 3"
    },
    "language_info": {
      "name": "python"
    }
  },
  "cells": [
    {
      "cell_type": "markdown",
      "metadata": {
        "id": "view-in-github",
        "colab_type": "text"
      },
      "source": [
        "<a href=\"https://colab.research.google.com/github/Lashi0812/AppiledAI/blob/master/ch16%20NeuralNetwork/NeuralNetworks.ipynb\" target=\"_parent\"><img src=\"https://colab.research.google.com/assets/colab-badge.svg\" alt=\"Open In Colab\"/></a>"
      ]
    },
    {
      "cell_type": "markdown",
      "source": [
        "# Classifying the Movie reviews"
      ],
      "metadata": {
        "id": "yW1OEutLeEqy"
      }
    },
    {
      "cell_type": "code",
      "execution_count": 50,
      "metadata": {
        "id": "GuPPL4cYdKhe"
      },
      "outputs": [],
      "source": [
        "from tensorflow.keras.datasets import imdb\n",
        "import tensorflow as tf\n",
        "import numpy as np\n",
        "\n",
        "import matplotlib.pyplot as plt\n"
      ]
    },
    {
      "cell_type": "code",
      "source": [
        "print(f\"Totol num of words : {len(imdb.get_word_index())}\")\n",
        "(train_data,train_labels),(test_data,test_labels) = imdb.load_data(num_words=10000)\n",
        "print(f\"Out of {len(imdb.get_word_index())} we are selecting top 10000 most frequents words\")"
      ],
      "metadata": {
        "colab": {
          "base_uri": "https://localhost:8080/"
        },
        "id": "hMa3PYSTg96R",
        "outputId": "9efcd08d-9266-4e2d-d7f4-294f2f4ef2a0"
      },
      "execution_count": 14,
      "outputs": [
        {
          "output_type": "stream",
          "name": "stdout",
          "text": [
            "Totol num of words : 88584\n",
            "Out of 88584 we are selecting top 10000 words\n"
          ]
        }
      ]
    },
    {
      "cell_type": "code",
      "source": [
        "tf.math.reduce_max([tf.math.reduce_max(sequence) for sequence in train_data])"
      ],
      "metadata": {
        "colab": {
          "base_uri": "https://localhost:8080/"
        },
        "id": "h91mPIvIh7R9",
        "outputId": "17b9b4f5-f2ab-47aa-fbad-93bfc5466cd6"
      },
      "execution_count": 18,
      "outputs": [
        {
          "output_type": "execute_result",
          "data": {
            "text/plain": [
              "<tf.Tensor: shape=(), dtype=int32, numpy=9999>"
            ]
          },
          "metadata": {},
          "execution_count": 18
        }
      ]
    },
    {
      "cell_type": "code",
      "source": [
        "help(tf.math.maximum)"
      ],
      "metadata": {
        "colab": {
          "base_uri": "https://localhost:8080/"
        },
        "id": "zjb9vNMNiZq_",
        "outputId": "959daa4f-d206-4a8a-aab3-8a6f0d02c280"
      },
      "execution_count": 17,
      "outputs": [
        {
          "output_type": "stream",
          "name": "stdout",
          "text": [
            "Help on function maximum in module tensorflow.python.ops.gen_math_ops:\n",
            "\n",
            "maximum(x, y, name=None)\n",
            "    Returns the max of x and y (i.e. x > y ? x : y) element-wise.\n",
            "    \n",
            "    Example:\n",
            "    \n",
            "    >>> x = tf.constant([0., 0., 0., 0.])\n",
            "    >>> y = tf.constant([-2., 0., 2., 5.])\n",
            "    >>> tf.math.maximum(x, y)\n",
            "    <tf.Tensor: shape=(4,), dtype=float32, numpy=array([0., 0., 2., 5.], dtype=float32)>\n",
            "    \n",
            "    Note that `maximum` supports [broadcast semantics](http://docs.scipy.org/doc/numpy/user/basics.broadcasting.html) for `x` and `y`.\n",
            "    \n",
            "    >>> x = tf.constant([-5., 0., 0., 0.])\n",
            "    >>> y = tf.constant([-3.])\n",
            "    >>> tf.math.maximum(x, y)\n",
            "    <tf.Tensor: shape=(4,), dtype=float32, numpy=array([-3., 0., 0., 0.], dtype=float32)>\n",
            "    \n",
            "    The reduction version of this elementwise operation is `tf.math.reduce_max`\n",
            "    \n",
            "    Args:\n",
            "      x: A `Tensor`. Must be one of the following types: `bfloat16`, `half`, `float32`, `float64`, `int8`, `uint8`, `int16`, `uint16`, `int32`, `uint32`, `int64`, `uint64`.\n",
            "      y: A `Tensor`. Must have the same type as `x`.\n",
            "      name: A name for the operation (optional).\n",
            "    \n",
            "    Returns:\n",
            "      A `Tensor`. Has the same type as `x`.\n",
            "\n"
          ]
        }
      ]
    },
    {
      "cell_type": "markdown",
      "source": [
        "1. maximum compare the two tensor\n",
        "2. reduce_max - element wise operation\n"
      ],
      "metadata": {
        "id": "BtH0vrzfi5hM"
      }
    },
    {
      "cell_type": "code",
      "source": [
        "train_data.shape,train_labels.shape,test_data.shape,test_labels.shape"
      ],
      "metadata": {
        "colab": {
          "base_uri": "https://localhost:8080/"
        },
        "id": "dI3yh8cpe8Wu",
        "outputId": "bea63a03-13dd-4bba-e7b7-6371b014cd7b"
      },
      "execution_count": 4,
      "outputs": [
        {
          "output_type": "execute_result",
          "data": {
            "text/plain": [
              "((25000,), (25000,), (25000,), (25000,))"
            ]
          },
          "metadata": {},
          "execution_count": 4
        }
      ]
    },
    {
      "cell_type": "code",
      "source": [
        "type(train_data[0]),len(train_data[0])\n",
        "# each review is the list of word indices \n",
        "# since each review contain different lenghts it store in list\n",
        "# that why there is axis 1 in the tensor."
      ],
      "metadata": {
        "colab": {
          "base_uri": "https://localhost:8080/"
        },
        "id": "G-gADP-Le_RU",
        "outputId": "7a9fe26b-0cc2-496b-9428-e27d471acf16"
      },
      "execution_count": 9,
      "outputs": [
        {
          "output_type": "execute_result",
          "data": {
            "text/plain": [
              "(list, 218)"
            ]
          },
          "metadata": {},
          "execution_count": 9
        }
      ]
    },
    {
      "cell_type": "code",
      "source": [
        "train_labels[0]"
      ],
      "metadata": {
        "colab": {
          "base_uri": "https://localhost:8080/"
        },
        "id": "K-pf2lSUfOFt",
        "outputId": "f27a77d4-4e6e-4241-c163-2ccd5a55c9c6"
      },
      "execution_count": 8,
      "outputs": [
        {
          "output_type": "execute_result",
          "data": {
            "text/plain": [
              "1"
            ]
          },
          "metadata": {},
          "execution_count": 8
        }
      ]
    },
    {
      "cell_type": "code",
      "source": [
        "# decoding review back to text\n",
        "word_index = imdb.get_word_index()\n",
        "type(word_index)"
      ],
      "metadata": {
        "colab": {
          "base_uri": "https://localhost:8080/"
        },
        "id": "iqvAEmwZgjxo",
        "outputId": "08bc3b19-bf08-44e2-a4b7-9056bfc9a060"
      },
      "execution_count": 19,
      "outputs": [
        {
          "output_type": "execute_result",
          "data": {
            "text/plain": [
              "dict"
            ]
          },
          "metadata": {},
          "execution_count": 19
        }
      ]
    },
    {
      "cell_type": "code",
      "source": [
        "dict(list(word_index.items())[:2])"
      ],
      "metadata": {
        "colab": {
          "base_uri": "https://localhost:8080/"
        },
        "id": "5afWbWVHknBJ",
        "outputId": "aa3cdc0b-4636-4ee2-f1df-9d0879b90a73"
      },
      "execution_count": 22,
      "outputs": [
        {
          "output_type": "execute_result",
          "data": {
            "text/plain": [
              "{'fawn': 34701, 'tsukino': 52006}"
            ]
          },
          "metadata": {},
          "execution_count": 22
        }
      ]
    },
    {
      "cell_type": "code",
      "source": [
        "reverse_word_index = {value:key for (key,value) in word_index.items()}\n",
        "dict(list(reverse_word_index.items())[:2])"
      ],
      "metadata": {
        "colab": {
          "base_uri": "https://localhost:8080/"
        },
        "id": "nwqQmrG3lHsd",
        "outputId": "6cdfa41f-5564-4554-b614-2f3221aa506c"
      },
      "execution_count": 25,
      "outputs": [
        {
          "output_type": "execute_result",
          "data": {
            "text/plain": [
              "{34701: 'fawn', 52006: 'tsukino'}"
            ]
          },
          "metadata": {},
          "execution_count": 25
        }
      ]
    },
    {
      "cell_type": "code",
      "source": [
        "decode_review = \" \".join([reverse_word_index.get(i-3,\"?\")for i in train_data[0]])\n",
        "decode_review\n",
        "# Decodes the review. Note that the indices are offset by 3 \n",
        "# because 0, 1, and 2 are reserved indices for “padding,” “start of sequence,” and “unknown.”"
      ],
      "metadata": {
        "colab": {
          "base_uri": "https://localhost:8080/",
          "height": 209
        },
        "id": "wazEQaLQlU-Z",
        "outputId": "bfd48c40-e560-4cab-cdc5-15c15f0b129c"
      },
      "execution_count": 27,
      "outputs": [
        {
          "output_type": "execute_result",
          "data": {
            "text/plain": [
              "\"? this film was just brilliant casting location scenery story direction everyone's really suited the part they played and you could just imagine being there robert ? is an amazing actor and now the same being director ? father came from the same scottish island as myself so i loved the fact there was a real connection with this film the witty remarks throughout the film were great it was just brilliant so much that i bought the film as soon as it was released for ? and would recommend it to everyone to watch and the fly fishing was amazing really cried at the end it was so sad and you know what they say if you cry at a film it must have been good and this definitely was also ? to the two little boy's that played the ? of norman and paul they were just brilliant children are often left out of the ? list i think because the stars that play them all grown up are such a big profile for the whole film but these children are amazing and should be praised for what they have done don't you think the whole story was so lovely because it was true and was someone's life after all that was shared with us all\""
            ],
            "application/vnd.google.colaboratory.intrinsic+json": {
              "type": "string"
            }
          },
          "metadata": {},
          "execution_count": 27
        }
      ]
    },
    {
      "cell_type": "markdown",
      "source": [
        "## Preparing the data\n",
        "\n",
        "* Since each review has the different lengths, we have to make them as tensor, two ways do this.\n",
        "    1. `Pad the each list` so that all the sample will the same lenght,then add the `Embedding layer` to handle the list of integers.\n",
        "    2. `Multi Hot Encoding` - turn the list into 0's and 1's .Now we will have the 10000 dimension vector."
      ],
      "metadata": {
        "id": "0fnuHOh2nYi0"
      }
    },
    {
      "cell_type": "code",
      "source": [
        "a = np.zeros(shape=(4,10))\n",
        "a[1,[1,2,5]] = 1.\n",
        "a"
      ],
      "metadata": {
        "colab": {
          "base_uri": "https://localhost:8080/"
        },
        "id": "K-aGUWKXpoLX",
        "outputId": "c9bea466-b71e-42b6-8868-cc30c16edb95"
      },
      "execution_count": 32,
      "outputs": [
        {
          "output_type": "execute_result",
          "data": {
            "text/plain": [
              "array([[0., 0., 0., 0., 0., 0., 0., 0., 0., 0.],\n",
              "       [0., 1., 1., 0., 0., 1., 0., 0., 0., 0.],\n",
              "       [0., 0., 0., 0., 0., 0., 0., 0., 0., 0.],\n",
              "       [0., 0., 0., 0., 0., 0., 0., 0., 0., 0.]])"
            ]
          },
          "metadata": {},
          "execution_count": 32
        }
      ]
    },
    {
      "cell_type": "code",
      "source": [
        "def vectorize_sequence(sequences,dimension=10000):\n",
        "    results = np.zeros(shape=(len(sequences),dimension))\n",
        "    for i,seq in enumerate(sequences):\n",
        "        results[i,seq] = 1.\n",
        "    return results"
      ],
      "metadata": {
        "id": "dlr4Ibnvo-IY"
      },
      "execution_count": 33,
      "outputs": []
    },
    {
      "cell_type": "code",
      "source": [
        "x_train = vectorize_sequence(train_data).astype(\"float32\")\n",
        "x_test = vectorize_sequence(test_data).astype(\"float32\")"
      ],
      "metadata": {
        "id": "C5B8MXLxqUoN"
      },
      "execution_count": 41,
      "outputs": []
    },
    {
      "cell_type": "code",
      "source": [
        "x_train[0],type(x_train[0]),x_train.shape,x_train.dtype"
      ],
      "metadata": {
        "colab": {
          "base_uri": "https://localhost:8080/"
        },
        "id": "G-dxfe7Xqhif",
        "outputId": "111ddfe0-0677-44e3-c132-c518161eaf87"
      },
      "execution_count": 42,
      "outputs": [
        {
          "output_type": "execute_result",
          "data": {
            "text/plain": [
              "(array([0., 1., 1., ..., 0., 0., 0.], dtype=float32),\n",
              " numpy.ndarray,\n",
              " (25000, 10000),\n",
              " dtype('float32'))"
            ]
          },
          "metadata": {},
          "execution_count": 42
        }
      ]
    },
    {
      "cell_type": "code",
      "source": [
        "type(train_labels),train_labels.dtype"
      ],
      "metadata": {
        "colab": {
          "base_uri": "https://localhost:8080/"
        },
        "id": "SOpMqSDHqk4W",
        "outputId": "fbb85418-aa91-4c24-a6e1-587b654787dc"
      },
      "execution_count": 38,
      "outputs": [
        {
          "output_type": "execute_result",
          "data": {
            "text/plain": [
              "(numpy.ndarray, dtype('int64'))"
            ]
          },
          "metadata": {},
          "execution_count": 38
        }
      ]
    },
    {
      "cell_type": "code",
      "source": [
        "y_train = train_labels.astype(\"float32\")\n",
        "y_test = test_labels.astype(\"float32\")"
      ],
      "metadata": {
        "id": "AJWQTKTUqs1H"
      },
      "execution_count": 43,
      "outputs": []
    },
    {
      "cell_type": "markdown",
      "source": [
        "# Building model\n",
        "1. input data --> vector of 10000-D\n",
        "2. output data --> scalar 0's or 1's\n",
        "\n",
        "A type of model that perform well on such problem is plian stack of densely connected layers with `relu activations`.\n",
        "\n",
        "\n",
        "Here we have to make to two key architecture decision.\n",
        "1. Number of layers needed.\n",
        "2. Number of units is needed in the each layer."
      ],
      "metadata": {
        "id": "xCl-8JKHrkfv"
      }
    },
    {
      "cell_type": "code",
      "source": [
        "from tensorflow import keras\n",
        "from tensorflow.keras import layers\n",
        "\n",
        "model = keras.Sequential([\n",
        "    layers.Dense(16,activation=\"relu\"),\n",
        "    layers.Dense(16,activation=\"relu\"),\n",
        "    layers.Dense(1,activation=\"sigmoid\")\n",
        "])"
      ],
      "metadata": {
        "id": "O01J75YirhnX"
      },
      "execution_count": 99,
      "outputs": []
    },
    {
      "cell_type": "markdown",
      "source": [
        "1. Having 16 units means --> shape of weight matrix is (input_dimension,16)\n",
        "2. dot product with input data will project the data into 16 dimensional `representation space`.\n",
        "3. You can intuitively understand the dimensionality of representation space as `to learn the complex relation of data.`"
      ],
      "metadata": {
        "id": "gPziRtksuOPJ"
      }
    },
    {
      "cell_type": "code",
      "source": [
        "# intermediate layer having the relu \"rectified linear unit\"\n",
        "x = np.linspace(-6,6,1000)\n",
        "y = np.maximum(x,[0.])\n",
        "plt.plot(x,y)\n",
        "plt.title(\"Rectified Linear Unit\")\n",
        "plt.show()"
      ],
      "metadata": {
        "colab": {
          "base_uri": "https://localhost:8080/",
          "height": 281
        },
        "id": "IbuUlUoHuNys",
        "outputId": "8989baa7-cf73-45dc-fbcf-b418fc66b9dd"
      },
      "execution_count": 84,
      "outputs": [
        {
          "output_type": "display_data",
          "data": {
            "text/plain": [
              "<Figure size 432x288 with 1 Axes>"
            ],
            "image/png": "[encoded data removed]"
          },
          "metadata": {
            "needs_background": "light"
          }
        }
      ]
    },
    {
      "cell_type": "code",
      "source": [
        "# output layer as the sigmoid \n",
        "# since it is two class classifcation we can iterpet as probablity\n",
        "from scipy.special import expit\n",
        "y = expit(x)\n",
        "plt.plot(x,y)\n",
        "plt.title(\"Sigmoid Functions\")\n",
        "plt.show()"
      ],
      "metadata": {
        "colab": {
          "base_uri": "https://localhost:8080/",
          "height": 281
        },
        "id": "D1fg4iZuwO9N",
        "outputId": "e5094c8b-7078-4d1a-aa27-12d7697b3c96"
      },
      "execution_count": 85,
      "outputs": [
        {
          "output_type": "display_data",
          "data": {
            "text/plain": [
              "<Figure size 432x288 with 1 Axes>"
            ],
            "image/png": "[encoded data removed]"
          },
          "metadata": {
            "needs_background": "light"
          }
        }
      ]
    },
    {
      "cell_type": "code",
      "source": [
        "# compile the model\n",
        "model.compile(optimizer=keras.optimizers.RMSprop(),\n",
        "              loss=keras.losses.BinaryCrossentropy(),\n",
        "              metrics=[\"accuracy\"])"
      ],
      "metadata": {
        "id": "qaNTg9KyxG8S"
      },
      "execution_count": 100,
      "outputs": []
    },
    {
      "cell_type": "code",
      "source": [
        "# split the dataset\n",
        "num_val_samples = 10000\n",
        "x_val = x_train[:num_val_samples]\n",
        "partial_x_train = x_train[num_val_samples:]\n",
        "y_val = y_train[:num_val_samples]\n",
        "partial_y_train = y_train[num_val_samples:]"
      ],
      "metadata": {
        "id": "iJ3-T4QK2b-7"
      },
      "execution_count": 101,
      "outputs": []
    },
    {
      "cell_type": "code",
      "source": [
        "# train the model\n",
        "history = model.fit(x=partial_x_train,\n",
        "                    y=partial_y_train,\n",
        "                    epochs=20,\n",
        "                    batch_size=512,\n",
        "                    validation_data=(x_val,y_val))\n"
      ],
      "metadata": {
        "colab": {
          "base_uri": "https://localhost:8080/"
        },
        "id": "F3gmdyV13NYI",
        "outputId": "8a1faea8-67f4-46b0-fb15-ad3863b5e3e2"
      },
      "execution_count": 102,
      "outputs": [
        {
          "output_type": "stream",
          "name": "stdout",
          "text": [
            "Epoch 1/20\n",
            "30/30 [==============================] - 2s 45ms/step - loss: 0.5053 - accuracy: 0.7965 - val_loss: 0.3978 - val_accuracy: 0.8539\n",
            "Epoch 2/20\n",
            "30/30 [==============================] - 1s 41ms/step - loss: 0.3100 - accuracy: 0.9017 - val_loss: 0.3133 - val_accuracy: 0.8838\n",
            "Epoch 3/20\n",
            "30/30 [==============================] - 1s 42ms/step - loss: 0.2283 - accuracy: 0.9267 - val_loss: 0.2804 - val_accuracy: 0.8892\n",
            "Epoch 4/20\n",
            "30/30 [==============================] - 1s 41ms/step - loss: 0.1794 - accuracy: 0.9406 - val_loss: 0.2735 - val_accuracy: 0.8906\n",
            "Epoch 5/20\n",
            "30/30 [==============================] - 1s 41ms/step - loss: 0.1469 - accuracy: 0.9522 - val_loss: 0.2768 - val_accuracy: 0.8887\n",
            "Epoch 6/20\n",
            "30/30 [==============================] - 1s 41ms/step - loss: 0.1223 - accuracy: 0.9610 - val_loss: 0.2893 - val_accuracy: 0.8865\n",
            "Epoch 7/20\n",
            "30/30 [==============================] - 1s 40ms/step - loss: 0.1034 - accuracy: 0.9683 - val_loss: 0.3262 - val_accuracy: 0.8770\n",
            "Epoch 8/20\n",
            "30/30 [==============================] - 1s 41ms/step - loss: 0.0873 - accuracy: 0.9739 - val_loss: 0.3237 - val_accuracy: 0.8825\n",
            "Epoch 9/20\n",
            "30/30 [==============================] - 1s 41ms/step - loss: 0.0711 - accuracy: 0.9814 - val_loss: 0.3495 - val_accuracy: 0.8785\n",
            "Epoch 10/20\n",
            "30/30 [==============================] - 1s 40ms/step - loss: 0.0601 - accuracy: 0.9850 - val_loss: 0.3905 - val_accuracy: 0.8711\n",
            "Epoch 11/20\n",
            "30/30 [==============================] - 1s 40ms/step - loss: 0.0498 - accuracy: 0.9884 - val_loss: 0.4250 - val_accuracy: 0.8729\n",
            "Epoch 12/20\n",
            "30/30 [==============================] - 1s 42ms/step - loss: 0.0392 - accuracy: 0.9919 - val_loss: 0.4802 - val_accuracy: 0.8622\n",
            "Epoch 13/20\n",
            "30/30 [==============================] - 1s 40ms/step - loss: 0.0358 - accuracy: 0.9917 - val_loss: 0.4891 - val_accuracy: 0.8653\n",
            "Epoch 14/20\n",
            "30/30 [==============================] - 1s 40ms/step - loss: 0.0265 - accuracy: 0.9955 - val_loss: 0.4924 - val_accuracy: 0.8701\n",
            "Epoch 15/20\n",
            "30/30 [==============================] - 1s 41ms/step - loss: 0.0223 - accuracy: 0.9965 - val_loss: 0.5354 - val_accuracy: 0.8669\n",
            "Epoch 16/20\n",
            "30/30 [==============================] - 1s 41ms/step - loss: 0.0186 - accuracy: 0.9971 - val_loss: 0.5610 - val_accuracy: 0.8692\n",
            "Epoch 17/20\n",
            "30/30 [==============================] - 1s 40ms/step - loss: 0.0180 - accuracy: 0.9960 - val_loss: 0.5940 - val_accuracy: 0.8680\n",
            "Epoch 18/20\n",
            "30/30 [==============================] - 1s 40ms/step - loss: 0.0091 - accuracy: 0.9996 - val_loss: 0.6223 - val_accuracy: 0.8654\n",
            "Epoch 19/20\n",
            "30/30 [==============================] - 1s 41ms/step - loss: 0.0113 - accuracy: 0.9979 - val_loss: 0.6624 - val_accuracy: 0.8639\n",
            "Epoch 20/20\n",
            "30/30 [==============================] - 1s 40ms/step - loss: 0.0077 - accuracy: 0.9991 - val_loss: 0.7142 - val_accuracy: 0.8628\n"
          ]
        }
      ]
    },
    {
      "cell_type": "code",
      "source": [
        "history_dict = history.history\n",
        "history_dict.keys()"
      ],
      "metadata": {
        "colab": {
          "base_uri": "https://localhost:8080/"
        },
        "id": "1Dqy5u8q3nE5",
        "outputId": "20beaf0f-f68b-491c-f9bb-c24c1d397b5a"
      },
      "execution_count": 103,
      "outputs": [
        {
          "output_type": "execute_result",
          "data": {
            "text/plain": [
              "dict_keys(['loss', 'accuracy', 'val_loss', 'val_accuracy'])"
            ]
          },
          "metadata": {},
          "execution_count": 103
        }
      ]
    },
    {
      "cell_type": "code",
      "source": [
        "plt.plot(np.arange(20),history_dict[\"loss\"],label=\"Training Loss\",marker=\"o\")\n",
        "plt.plot(np.arange(20),history_dict[\"val_loss\"],label=\"Validation Loss\",marker=\"o\")\n",
        "plt.xlabel(\"Epochs\")\n",
        "plt.ylabel(\"Loss\")\n",
        "plt.title(\"Loss\")\n",
        "plt.legend()\n",
        "plt.show()"
      ],
      "metadata": {
        "colab": {
          "base_uri": "https://localhost:8080/",
          "height": 295
        },
        "id": "zPENd77t4dre",
        "outputId": "32fa5fa2-faeb-4693-c10b-6ca687b4f1ed"
      },
      "execution_count": 104,
      "outputs": [
        {
          "output_type": "display_data",
          "data": {
            "text/plain": [
              "<Figure size 432x288 with 1 Axes>"
            ],
            "image/png": "[encoded data removed]"
          },
          "metadata": {
            "needs_background": "light"
          }
        }
      ]
    },
    {
      "cell_type": "code",
      "source": [
        "plt.plot(np.arange(20),history_dict[\"accuracy\"],label=\"Training Accuracy\",marker=\"o\")\n",
        "plt.plot(np.arange(20),history_dict[\"val_accuracy\"],label=\"Validation Accuracy\",marker=\"o\")\n",
        "plt.xlabel(\"Epochs\")\n",
        "plt.ylabel(\"Accuracy\")\n",
        "plt.title(\"Accuracy\")\n",
        "plt.legend()\n",
        "plt.show()"
      ],
      "metadata": {
        "colab": {
          "base_uri": "https://localhost:8080/",
          "height": 295
        },
        "id": "MBY7KI1X5Hbo",
        "outputId": "5eab4b66-14de-4396-d03a-7c4d6bf47ed6"
      },
      "execution_count": 105,
      "outputs": [
        {
          "output_type": "display_data",
          "data": {
            "text/plain": [
              "<Figure size 432x288 with 1 Axes>"
            ],
            "image/png": "[encoded data removed]"
          },
          "metadata": {
            "needs_background": "light"
          }
        }
      ]
    },
    {
      "cell_type": "markdown",
      "source": [
        "Model is overfitting."
      ],
      "metadata": {
        "id": "IYDlQB7w6SIw"
      }
    },
    {
      "cell_type": "code",
      "source": [
        "# retrain the model and stop in the training after fourth iteration.\n",
        "model = keras.Sequential([\n",
        "    layers.Dense(16,activation=\"relu\"),\n",
        "    layers.Dense(units=16, activation=\"relu\"),\n",
        "    layers.Dense(units=1,activation=\"sigmoid\")\n",
        "])\n",
        "\n",
        "model.compile(optimizer=keras.optimizers.RMSprop(),\n",
        "              loss=keras.losses.BinaryCrossentropy(),\n",
        "              metrics=[\"accuracy\"])\n",
        "\n",
        "model.fit(x=partial_x_train,\n",
        "        y=partial_y_train,\n",
        "        epochs=4,\n",
        "        batch_size=512\n",
        "        )\n",
        "\n",
        "results = model.evaluate(x_test,y_test)"
      ],
      "metadata": {
        "colab": {
          "base_uri": "https://localhost:8080/"
        },
        "id": "lL9QAIdP5hTA",
        "outputId": "816a06d6-77d1-47b8-8731-12ed4888eaf0"
      },
      "execution_count": 109,
      "outputs": [
        {
          "output_type": "stream",
          "name": "stdout",
          "text": [
            "Epoch 1/4\n",
            "30/30 [==============================] - 3s 44ms/step - loss: 0.5213 - accuracy: 0.7787\n",
            "Epoch 2/4\n",
            "30/30 [==============================] - 1s 32ms/step - loss: 0.3088 - accuracy: 0.9023\n",
            "Epoch 3/4\n",
            "30/30 [==============================] - 1s 32ms/step - loss: 0.2269 - accuracy: 0.9274\n",
            "Epoch 4/4\n",
            "30/30 [==============================] - 1s 31ms/step - loss: 0.1774 - accuracy: 0.9443\n",
            "782/782 [==============================] - 2s 2ms/step - loss: 0.3013 - accuracy: 0.8782\n"
          ]
        }
      ]
    },
    {
      "cell_type": "code",
      "source": [
        "results"
      ],
      "metadata": {
        "colab": {
          "base_uri": "https://localhost:8080/"
        },
        "id": "Z30sdH6e8K-z",
        "outputId": "29eab380-3cb1-47fa-ff25-1a9471a1270e"
      },
      "execution_count": 110,
      "outputs": [
        {
          "output_type": "execute_result",
          "data": {
            "text/plain": [
              "[0.301333487033844, 0.8781599998474121]"
            ]
          },
          "metadata": {},
          "execution_count": 110
        }
      ]
    },
    {
      "cell_type": "markdown",
      "source": [
        "# Future Experiments"
      ],
      "metadata": {
        "id": "8WopWJgZ-nU6"
      }
    },
    {
      "cell_type": "code",
      "source": [
        "def model_experiment(num_layers,units,activations,loss):\n",
        "    representation_layer = [layers.Dense(units=u,activation=a)\n",
        "      for u,a in zip(units,activations)]\n",
        "\n"
      ],
      "metadata": {
        "id": "akDdtA3b97fa"
      },
      "execution_count": null,
      "outputs": []
    }
  ]
}